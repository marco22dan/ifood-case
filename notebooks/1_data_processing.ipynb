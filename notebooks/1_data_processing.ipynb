{
 "cells": [
  {
   "cell_type": "code",
   "execution_count": null,
   "id": "00f428d6",
   "metadata": {},
   "outputs": [],
   "source": [
    "from pyspark.sql import SparkSession\n",
    "from pyspark.sql.window import Window\n",
    "\n",
    "import  pyspark.sql. functions as F\n",
    "import pyspark.sql.types as T\n",
    "\n",
    "spark = SparkSession.builder.appName(\"iFood Case\").master(\"local[*]\").getOrCreate()"
   ]
  },
  {
   "cell_type": "code",
   "execution_count": 31,
   "id": "905c0ee1",
   "metadata": {},
   "outputs": [],
   "source": [
    "BASE_PATH = '/home/marco/ifood-case'\n",
    "DATA_RAW_PATH = BASE_PATH + '/data/raw/'\n",
    "DATA_PROCESSED_PATH = BASE_PATH + '/data/processed/'"
   ]
  },
  {
   "cell_type": "markdown",
   "id": "fde1381d",
   "metadata": {},
   "source": [
    "## Profile Feature"
   ]
  },
  {
   "cell_type": "code",
   "execution_count": 32,
   "id": "70c36bfc",
   "metadata": {},
   "outputs": [],
   "source": [
    "df_profile = spark.read.json(DATA_RAW_PATH + 'profile.json')\n",
    "\n",
    "df_profile_s = (\n",
    "    df_profile\n",
    "    .filter(F.col('age') <= 101)\n",
    "    .withColumn('registered_on', F.to_date(F.col('registered_on'), 'yyyyMMdd'))\n",
    "    .withColumn('actual_date', F.lit('2019-01-01').cast('date'))\n",
    "    .fillna({'gender': 'O'})\n",
    "    .select([\n",
    "        F.col('id').alias('account_id'),\n",
    "        F.col('age'),\n",
    "        F.datediff(F.col('actual_date'), F.col('registered_on')).alias('registered_days'),\n",
    "        F.when(F.col('gender') == 'F', 1).otherwise(0).alias('gender_F'),\n",
    "        F.when(F.col('gender') == 'M', 1).otherwise(0).alias('gender_M'),\n",
    "        F.when(F.col('gender') == 'O', 1).otherwise(0).alias('gender_O'),\n",
    "    ])\n",
    ")"
   ]
  },
  {
   "cell_type": "code",
   "execution_count": 33,
   "id": "db0e03e0",
   "metadata": {},
   "outputs": [],
   "source": [
    "df_profile_s.toPandas().to_csv(DATA_PROCESSED_PATH + 'profile_features.csv', index=False)"
   ]
  },
  {
   "cell_type": "markdown",
   "id": "adac0f26",
   "metadata": {},
   "source": [
    "## Transaction Timeline Features"
   ]
  },
  {
   "cell_type": "code",
   "execution_count": 34,
   "id": "ffd8927a",
   "metadata": {},
   "outputs": [
    {
     "name": "stderr",
     "output_type": "stream",
     "text": [
      "                                                                                \r"
     ]
    }
   ],
   "source": [
    "df_transaction_events = spark.read.json(DATA_RAW_PATH + 'transactions.json')\n",
    "df_offers = spark.read.json(DATA_RAW_PATH + 'offers.json')"
   ]
  },
  {
   "cell_type": "code",
   "execution_count": 35,
   "id": "cb1e2450",
   "metadata": {},
   "outputs": [],
   "source": [
    "df_offers_s = df_offers.select([\n",
    "    F.col(\"id\").alias(\"offer_id\"),\n",
    "    F.col('offer_type')\n",
    "])"
   ]
  },
  {
   "cell_type": "code",
   "execution_count": 36,
   "id": "ef32e944",
   "metadata": {},
   "outputs": [],
   "source": [
    "df_transaction = (\n",
    "    df_transaction_events\n",
    "    .filter(F.col('event') == 'transaction')\n",
    "    .alias('transaction')\n",
    "    .select([\n",
    "        F.col('account_id'), \n",
    "        F.col('value.amount').alias('amount'), \n",
    "        F.col('time_since_test_start').alias('time')\n",
    "    ])\n",
    ")\n",
    "\n",
    "df_offer_completed = (\n",
    "    df_transaction_events\n",
    "    .filter(F.col('event') == 'offer completed')\n",
    "    .alias('offer_completed')\n",
    "    .select([\n",
    "        F.col('account_id'),\n",
    "        F.col('value.offer_id').alias('offer_id'),\n",
    "        F.col('value.reward').alias('reward'),\n",
    "        F.col('time_since_test_start').alias('time'),\n",
    "    ])\n",
    ")\n",
    "\n",
    "df_offer_transactions = (\n",
    "    df_transaction\n",
    "    .join(\n",
    "        df_offer_completed,\n",
    "        on=['account_id', 'time',],\n",
    "        how='left'\n",
    "    )\n",
    "    .withColumn('event', F.when(\n",
    "        F.col('offer_id').isNotNull(), F.lit('offer completed')).otherwise(F.lit('transaction'))\n",
    "    )\n",
    "    .select([\n",
    "        F.col('account_id'),\n",
    "        F.col('offer_id'),\n",
    "        F.col('time'),\n",
    "        F.col('event'),\n",
    "        F.col('amount'),\n",
    "        F.col('reward')\n",
    "    ])\n",
    "    .fillna(0, subset=['amount', 'reward'])\n",
    ")\n",
    "\n",
    "df_offer_received = (\n",
    "    df_transaction_events\n",
    "    .filter(F.col('event') == 'offer received')\n",
    "    .alias('offer_received')\n",
    "    .select([\n",
    "        F.col('account_id'),\n",
    "        F.col('value.offer id').alias('offer_id'),\n",
    "        F.col('time_since_test_start').alias('time'),\n",
    "        F.col('event'),\n",
    "        F.lit(0).alias('amount'),\n",
    "        F.lit(0).alias('reward')\n",
    "    ])\n",
    ")\n",
    "\n",
    "df_offer_viewed = (\n",
    "    df_transaction_events\n",
    "    .filter(F.col('event') == 'offer viewed')\n",
    "    .alias('offer_viewed')\n",
    "    .select([\n",
    "        F.col('account_id'),\n",
    "        F.col('value.offer id').alias('offer_id'),\n",
    "        F.col('time_since_test_start').alias('time'),\n",
    "        F.col('event'),\n",
    "        F.lit(0).alias('amount'),\n",
    "        F.lit(0).alias('reward')\n",
    "    ])\n",
    ")"
   ]
  },
  {
   "cell_type": "code",
   "execution_count": 37,
   "id": "a29508fd",
   "metadata": {},
   "outputs": [],
   "source": [
    "df_timeline = (\n",
    "    df_offer_transactions\n",
    "    .union(df_offer_received)\n",
    "    .union(df_offer_viewed)\n",
    "    .orderBy(['account_id', 'time'])\n",
    "    .join(\n",
    "        df_offers_s,\n",
    "        on='offer_id',\n",
    "        how='left'\n",
    "    )\n",
    "    .withColumn('transactions_count', \n",
    "        (F.col('event') == 'transaction').cast(T.IntegerType())\n",
    "    )\n",
    "    .withColumn('received_bogo_count', \n",
    "        ((F.col('event') == 'offer received') & \n",
    "         (F.col('offer_type') == 'bogo')).cast(T.IntegerType())\n",
    "    )\n",
    "    .withColumn('received_discount_count', \n",
    "        ((F.col('event') == 'offer received') & \n",
    "         (F.col('offer_type') == 'discount')).cast(T.IntegerType())\n",
    "    )\n",
    "    .withColumn('received_info_count', \n",
    "        ((F.col('event') == 'offer received') & \n",
    "         (F.col('offer_type') == 'informational')).cast(T.IntegerType())\n",
    "    )\n",
    "    .withColumn('viewed_bogo_count', \n",
    "        ((F.col('event') == 'offer viewed') & \n",
    "         (F.col('offer_type') == 'bogo')).cast(T.IntegerType())\n",
    "    )\n",
    "    .withColumn('viewed_discount_count', \n",
    "        ((F.col('event') == 'offer viewed') & \n",
    "         (F.col('offer_type') == 'discount')).cast(T.IntegerType())\n",
    "    )\n",
    "    .withColumn('viewed_info_count', \n",
    "        ((F.col('event') == 'offer viewed') & \n",
    "         (F.col('offer_type') == 'informational')).cast(T.IntegerType())\n",
    "    )\n",
    "    .withColumn('completed_bogo_count', \n",
    "        ((F.col('event') == 'offer completed') & \n",
    "         (F.col('offer_type') == 'bogo')).cast(T.IntegerType())\n",
    "    )\n",
    "    .withColumn('completed_discount_count', \n",
    "        ((F.col('event') == 'offer completed') & \n",
    "         (F.col('offer_type') == 'discount')).cast(T.IntegerType())\n",
    "    )\n",
    "    .withColumn('completed_info_count', \n",
    "        ((F.col('event') == 'offer completed') & \n",
    "         (F.col('offer_type') == 'informational')).cast(T.IntegerType())\n",
    "    )\n",
    ")"
   ]
  },
  {
   "cell_type": "code",
   "execution_count": 38,
   "id": "e2eb1cd1",
   "metadata": {},
   "outputs": [],
   "source": [
    "w = Window.partitionBy('account_id').orderBy('time').rowsBetween(Window.unboundedPreceding, Window.currentRow)\n",
    "\n",
    "df_timeline_g = (\n",
    "    df_timeline\n",
    "    .groupBy(['account_id', 'time']).sum()\n",
    "    .withColumn('total_amount', F.round(F.sum('sum(amount)').over(w), 2))\n",
    "    .withColumn('total_reward', F.round(F.sum('sum(reward)').over(w), 2))\n",
    "    .withColumn('total_transactions', F.sum('sum(transactions_count)').over(w))\n",
    "    .withColumn('total_received_bogo', F.sum('sum(received_bogo_count)').over(w))\n",
    "    .withColumn('total_received_discount', F.sum('sum(received_discount_count)').over(w))\n",
    "    .withColumn('total_received_info', F.sum('sum(received_info_count)').over(w))\n",
    "    .withColumn('total_viewed_bogo', F.sum('sum(viewed_bogo_count)').over(w))\n",
    "    .withColumn('total_viewed_discount', F.sum('sum(viewed_discount_count)').over(w))\n",
    "    .withColumn('total_viewed_info', F.sum('sum(viewed_info_count)').over(w))\n",
    "    .withColumn('total_completed_bogo', F.sum('sum(completed_bogo_count)').over(w))\n",
    "    .withColumn('total_completed_discount', F.sum('sum(completed_discount_count)').over(w))\n",
    "    .withColumn('total_completed_info', F.sum('sum(completed_info_count)').over(w))\n",
    ")\n",
    "\n",
    "drop_agg_cols = [col for col in df_timeline_g.columns if col.startswith('sum(')]\n",
    "df_timeline_g = df_timeline_g.drop(*drop_agg_cols)"
   ]
  },
  {
   "cell_type": "code",
   "execution_count": 39,
   "id": "cefb7082",
   "metadata": {},
   "outputs": [
    {
     "name": "stderr",
     "output_type": "stream",
     "text": [
      "                                                                                \r"
     ]
    }
   ],
   "source": [
    "df_timeline_g.toPandas().to_csv(DATA_PROCESSED_PATH + 'transaction_timeline.csv', index=False)"
   ]
  }
 ],
 "metadata": {
  "kernelspec": {
   "display_name": ".env",
   "language": "python",
   "name": "python3"
  },
  "language_info": {
   "codemirror_mode": {
    "name": "ipython",
    "version": 3
   },
   "file_extension": ".py",
   "mimetype": "text/x-python",
   "name": "python",
   "nbconvert_exporter": "python",
   "pygments_lexer": "ipython3",
   "version": "3.12.3"
  }
 },
 "nbformat": 4,
 "nbformat_minor": 5
}
