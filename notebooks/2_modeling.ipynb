{
 "cells": [
  {
   "cell_type": "code",
   "execution_count": 2,
   "id": "95a0ecb8",
   "metadata": {},
   "outputs": [
    {
     "name": "stderr",
     "output_type": "stream",
     "text": [
      "25/07/11 21:34:47 WARN Utils: Your hostname, MARCO-PC resolves to a loopback address: 127.0.1.1; using 10.255.255.254 instead (on interface lo)\n",
      "25/07/11 21:34:47 WARN Utils: Set SPARK_LOCAL_IP if you need to bind to another address\n",
      "Setting default log level to \"WARN\".\n",
      "To adjust logging level use sc.setLogLevel(newLevel). For SparkR, use setLogLevel(newLevel).\n",
      "25/07/11 21:34:48 WARN NativeCodeLoader: Unable to load native-hadoop library for your platform... using builtin-java classes where applicable\n"
     ]
    }
   ],
   "source": [
    "import pandas as pd\n",
    "import numpy as np\n",
    "import  pyspark.sql. functions as F\n",
    "import pyspark.sql.types as T\n",
    "\n",
    "from pyspark.sql import SparkSession\n",
    "from pyspark.sql.window import Window\n",
    "from sklearn.model_selection import train_test_split\n",
    "from xgboost import XGBClassifier\n",
    "from sklearn.model_selection import GridSearchCV\n",
    "from sklearn.metrics import accuracy_score, f1_score, roc_auc_score, classification_report\n",
    "\n",
    "import plotly.graph_objects as go\n",
    "from plotly.colors import DEFAULT_PLOTLY_COLORS\n",
    "\n",
    "import warnings\n",
    "warnings.filterwarnings('ignore')\n",
    "pd.set_option('display.max_columns', None)\n",
    "\n",
    "spark = SparkSession.builder.appName(\"iFood Case\").master(\"local[*]\").getOrCreate()"
   ]
  },
  {
   "cell_type": "code",
   "execution_count": 3,
   "id": "024c4fea",
   "metadata": {},
   "outputs": [],
   "source": [
    "BASE_PATH = '/home/marco/ifood-case'\n",
    "DATA_PROCESSED_PATH = BASE_PATH + '/data/processed/'"
   ]
  },
  {
   "cell_type": "markdown",
   "id": "889c9828",
   "metadata": {},
   "source": [
    "## Preprocessed Data Load"
   ]
  },
  {
   "cell_type": "code",
   "execution_count": 4,
   "id": "39dcefa7",
   "metadata": {},
   "outputs": [],
   "source": [
    "df_profile = spark.read.csv(DATA_PROCESSED_PATH + 'profile_processed.csv', header=True, inferSchema=True)\n",
    "df_offers = spark.read.csv(DATA_PROCESSED_PATH + 'offers_processed.csv', header=True, inferSchema=True)\n",
    "df_transactions = spark.read.csv(DATA_PROCESSED_PATH + 'event_transaction_processed.csv', header=True, inferSchema=True)\n",
    "df_offer_received = spark.read.csv(DATA_PROCESSED_PATH + 'event_offer_received_processed.csv', header=True, inferSchema=True)\n",
    "df_offer_viewed = spark.read.csv(DATA_PROCESSED_PATH + 'event_offer_viewed_processed.csv', header=True, inferSchema=True)\n",
    "df_offer_completed = spark.read.csv(DATA_PROCESSED_PATH + 'event_offer_completed_processed.csv', header=True, inferSchema=True)"
   ]
  },
  {
   "cell_type": "markdown",
   "id": "a079fbf7",
   "metadata": {},
   "source": [
    "## Feature Engineering"
   ]
  },
  {
   "cell_type": "markdown",
   "id": "4b96063a",
   "metadata": {},
   "source": [
    "### Timeline Features"
   ]
  },
  {
   "cell_type": "code",
   "execution_count": 5,
   "id": "a5940c8f",
   "metadata": {},
   "outputs": [],
   "source": [
    "df_offer_transactions_tl = (\n",
    "    df_transactions\n",
    "    .join(\n",
    "        df_offer_completed,\n",
    "        on=['account_id', 'transaction_time',],\n",
    "        how='left'\n",
    "    )\n",
    "    .withColumn('event', F.when(\n",
    "        F.col('offer_id').isNotNull(), F.lit('offer completed')).otherwise(F.lit('transaction'))\n",
    "    )\n",
    "    .select([\n",
    "        F.col('account_id'),\n",
    "        F.col('offer_id'),\n",
    "        F.col('transaction_time').alias('time'),\n",
    "        F.col('event'),\n",
    "        F.col('amount'),\n",
    "        F.col('reward')\n",
    "    ])\n",
    "    .fillna(0, subset=['amount', 'reward'])\n",
    ")\n",
    "\n",
    "df_offer_received_tl = (\n",
    "    df_offer_received\n",
    "    .select([\n",
    "        F.col('account_id'),\n",
    "        F.col('offer_id'),\n",
    "        F.col('received_time').alias('time'),\n",
    "        F.lit('offer received').alias('event'),\n",
    "        F.lit(0).alias('amount'),\n",
    "        F.lit(0).alias('reward')\n",
    "    ])\n",
    ")\n",
    "\n",
    "df_offer_viewed_tl = (\n",
    "    df_offer_viewed\n",
    "    .select([\n",
    "        F.col('account_id'),\n",
    "        F.col('offer_id'),\n",
    "        F.col('viewed_time').alias('time'),\n",
    "        F.lit('offer viewed').alias('event'),\n",
    "        F.lit(0).alias('amount'),\n",
    "        F.lit(0).alias('reward')\n",
    "    ])\n",
    ")"
   ]
  },
  {
   "cell_type": "code",
   "execution_count": 6,
   "id": "f87fa795",
   "metadata": {},
   "outputs": [],
   "source": [
    "df_timeline_features = (\n",
    "    df_offer_transactions_tl\n",
    "    .union(df_offer_received_tl)\n",
    "    .union(df_offer_viewed_tl)\n",
    "    .orderBy(['account_id', 'time'])\n",
    "    .join(\n",
    "        df_offers,\n",
    "        on='offer_id',\n",
    "        how='left'\n",
    "    )\n",
    "    .withColumn('transactions_count', \n",
    "        (F.col('event') == 'transaction').cast(T.IntegerType())\n",
    "    )\n",
    "    .withColumn('received_bogo_count', \n",
    "        ((F.col('event') == 'offer received') & \n",
    "         (F.col('offer_type') == 'bogo')).cast(T.IntegerType())\n",
    "    )\n",
    "    .withColumn('received_discount_count', \n",
    "        ((F.col('event') == 'offer received') & \n",
    "         (F.col('offer_type') == 'discount')).cast(T.IntegerType())\n",
    "    )\n",
    "    .withColumn('received_info_count', \n",
    "        ((F.col('event') == 'offer received') & \n",
    "         (F.col('offer_type') == 'informational')).cast(T.IntegerType())\n",
    "    )\n",
    "    .withColumn('viewed_bogo_count', \n",
    "        ((F.col('event') == 'offer viewed') & \n",
    "         (F.col('offer_type') == 'bogo')).cast(T.IntegerType())\n",
    "    )\n",
    "    .withColumn('viewed_discount_count', \n",
    "        ((F.col('event') == 'offer viewed') & \n",
    "         (F.col('offer_type') == 'discount')).cast(T.IntegerType())\n",
    "    )\n",
    "    .withColumn('viewed_info_count', \n",
    "        ((F.col('event') == 'offer viewed') & \n",
    "         (F.col('offer_type') == 'informational')).cast(T.IntegerType())\n",
    "    )\n",
    "    .withColumn('completed_bogo_count', \n",
    "        ((F.col('event') == 'offer completed') & \n",
    "         (F.col('offer_type') == 'bogo')).cast(T.IntegerType())\n",
    "    )\n",
    "    .withColumn('completed_discount_count', \n",
    "        ((F.col('event') == 'offer completed') & \n",
    "         (F.col('offer_type') == 'discount')).cast(T.IntegerType())\n",
    "    )\n",
    "    .withColumn('completed_info_count', \n",
    "        ((F.col('event') == 'offer completed') & \n",
    "         (F.col('offer_type') == 'informational')).cast(T.IntegerType())\n",
    "    )\n",
    ")\n",
    "\n",
    "w = Window.partitionBy('account_id').orderBy('time').rowsBetween(Window.unboundedPreceding, Window.currentRow)\n",
    "\n",
    "df_timeline_features = (\n",
    "    df_timeline_features\n",
    "    .groupBy(['account_id', 'time']).sum()\n",
    "    .withColumn('total_amount', F.round(F.sum('sum(amount)').over(w), 2))\n",
    "    .withColumn('total_reward', F.round(F.sum('sum(reward)').over(w), 2))\n",
    "    .withColumn('total_transactions', F.sum('sum(transactions_count)').over(w))\n",
    "    .withColumn('total_received_bogo', F.sum('sum(received_bogo_count)').over(w))\n",
    "    .withColumn('total_received_discount', F.sum('sum(received_discount_count)').over(w))\n",
    "    .withColumn('total_received_info', F.sum('sum(received_info_count)').over(w))\n",
    "    .withColumn('total_viewed_bogo', F.sum('sum(viewed_bogo_count)').over(w))\n",
    "    .withColumn('total_viewed_discount', F.sum('sum(viewed_discount_count)').over(w))\n",
    "    .withColumn('total_viewed_info', F.sum('sum(viewed_info_count)').over(w))\n",
    "    .withColumn('total_completed_bogo', F.sum('sum(completed_bogo_count)').over(w))\n",
    "    .withColumn('total_completed_discount', F.sum('sum(completed_discount_count)').over(w))\n",
    "    .withColumn('total_completed_info', F.sum('sum(completed_info_count)').over(w))\n",
    ")\n",
    "\n",
    "drop_agg_cols = [col for col in df_timeline_features.columns if col.startswith('sum(')]\n",
    "df_timeline_features = df_timeline_features.drop(*drop_agg_cols)"
   ]
  },
  {
   "cell_type": "markdown",
   "id": "15985238",
   "metadata": {},
   "source": [
    "### Offer Event Features"
   ]
  },
  {
   "cell_type": "code",
   "execution_count": 7,
   "id": "27c4dc57",
   "metadata": {},
   "outputs": [],
   "source": [
    "df_offers_scope = (\n",
    "    df_offers\n",
    "    .filter(F.col('offer_type').isin(['bogo', 'discount']))\n",
    "    .drop('channels')\n",
    "    .dropDuplicates()\n",
    ")\n",
    "\n",
    "df_offer_event_features = (\n",
    "    df_transactions\n",
    "    .join(\n",
    "        df_offer_completed, \n",
    "        on=['account_id', 'transaction_time'], \n",
    "        how='left'\n",
    "    )\n",
    "    .join(\n",
    "        df_offer_received.drop('amount', 'reward'), \n",
    "        on=['account_id', 'offer_id'], \n",
    "        how='outer'\n",
    "    )\n",
    "    .join(\n",
    "        df_offers_scope, \n",
    "        on=['offer_id'], \n",
    "        how='inner'\n",
    "    )\n",
    "    .withColumn('offer_consumed', F.col('transaction_time').isNotNull().cast(T.IntegerType()))\n",
    "    .drop('transaction_time', 'amount', 'reward')\n",
    "    .withColumnRenamed('received_time', 'time')\n",
    ")"
   ]
  },
  {
   "cell_type": "markdown",
   "id": "70273b2d",
   "metadata": {},
   "source": [
    "### Offer Types Datasets"
   ]
  },
  {
   "cell_type": "code",
   "execution_count": 8,
   "id": "b6044807",
   "metadata": {},
   "outputs": [],
   "source": [
    "df_bogo_features = (\n",
    "    df_offer_event_features\n",
    "    .filter(F.col('offer_type') == 'bogo')\n",
    "    .join(\n",
    "        df_profile, \n",
    "        on=['account_id'], \n",
    "        how='inner'\n",
    "    )\n",
    "    .join(\n",
    "        df_timeline_features, \n",
    "        on=['account_id', 'time'],\n",
    "        how='left'\n",
    "    )\n",
    "    .drop('offer_type')\n",
    "    .dropDuplicates()\n",
    ")\n",
    "\n",
    "df_discount_features = (\n",
    "    df_offer_event_features\n",
    "    .filter(F.col('offer_type') == 'discount')\n",
    "    .join(\n",
    "        df_profile, \n",
    "        on=['account_id'], \n",
    "        how='inner'\n",
    "    )\n",
    "    .join(\n",
    "        df_timeline_features, \n",
    "        on=['account_id', 'time'],\n",
    "        how='left'\n",
    "    )\n",
    "    .drop('offer_type')\n",
    "    .dropDuplicates()\n",
    ")"
   ]
  },
  {
   "cell_type": "markdown",
   "id": "3948c04c",
   "metadata": {},
   "source": [
    "## Modeling"
   ]
  },
  {
   "cell_type": "code",
   "execution_count": 9,
   "id": "5982b84a",
   "metadata": {},
   "outputs": [
    {
     "name": "stderr",
     "output_type": "stream",
     "text": [
      "25/07/11 21:34:54 WARN SparkStringUtils: Truncated the string representation of a plan since it was too large. This behavior can be adjusted by setting 'spark.sql.debug.maxToStringFields'.\n",
      "                                                                                \r"
     ]
    }
   ],
   "source": [
    "df_bogo = df_bogo_features.toPandas().set_index(['account_id', 'offer_id']).fillna(0)\n",
    "df_discount = df_discount_features.toPandas().set_index(['account_id', 'offer_id']).fillna(0)"
   ]
  },
  {
   "cell_type": "markdown",
   "id": "7f84e0b2",
   "metadata": {},
   "source": [
    "### Model for BOGO Offers"
   ]
  },
  {
   "cell_type": "code",
   "execution_count": 10,
   "id": "adcb29ea",
   "metadata": {},
   "outputs": [],
   "source": [
    "bogo_value_counts = df_bogo['offer_consumed'].value_counts()\n",
    "scale_pos_weight_b = bogo_value_counts[0] / bogo_value_counts[1]\n",
    "\n",
    "df_bogo['random_feature'] = np.random.rand(len(df_bogo))"
   ]
  },
  {
   "cell_type": "markdown",
   "id": "519efcf8",
   "metadata": {},
   "source": [
    "#### DAtaset Split"
   ]
  },
  {
   "cell_type": "code",
   "execution_count": 11,
   "id": "83c0652e",
   "metadata": {},
   "outputs": [],
   "source": [
    "X_b = df_bogo.drop(columns=['offer_consumed'])\n",
    "y_b = df_bogo['offer_consumed']\n",
    "\n",
    "X_train_b, X_test_b, y_train_b, y_test_b = train_test_split(\n",
    "    X_b, y_b, test_size=0.3, random_state=42, stratify=y_b\n",
    ")"
   ]
  },
  {
   "cell_type": "markdown",
   "id": "3a531990",
   "metadata": {},
   "source": [
    "#### GridSearch"
   ]
  },
  {
   "cell_type": "code",
   "execution_count": 12,
   "id": "5921ccde",
   "metadata": {},
   "outputs": [
    {
     "data": {
      "text/plain": [
       "{'gamma': 0,\n",
       " 'learning_rate': 0.01,\n",
       " 'max_depth': 4,\n",
       " 'min_child_weight': 5,\n",
       " 'n_estimators': 1000}"
      ]
     },
     "execution_count": 12,
     "metadata": {},
     "output_type": "execute_result"
    }
   ],
   "source": [
    "params = {\n",
    "    'n_estimators': [100, 1000],\n",
    "    'learning_rate': [0.01, 0.1],\n",
    "    'max_depth': [4, 6, 8],\n",
    "    'min_child_weight': [1, 5],\n",
    "    'gamma': [0, 0.2],\n",
    "}\n",
    "\n",
    "xgb = XGBClassifier(\n",
    "    objective='binary:logistic', \n",
    "    scale_pos_weight=scale_pos_weight_b, \n",
    "    use_label_encoder=False, \n",
    "    eval_metric='logloss'\n",
    ")\n",
    "\n",
    "grid = GridSearchCV(\n",
    "    estimator=xgb, \n",
    "    param_grid=params, \n",
    "    scoring='roc_auc', \n",
    "    cv=3, \n",
    ")\n",
    "\n",
    "grid.fit(X_train_b, y_train_b)\n",
    "grid.best_params_"
   ]
  },
  {
   "cell_type": "markdown",
   "id": "cce2f1d4",
   "metadata": {},
   "source": [
    "#### Model Training"
   ]
  },
  {
   "cell_type": "code",
   "execution_count": 13,
   "id": "0c6754cb",
   "metadata": {},
   "outputs": [
    {
     "name": "stdout",
     "output_type": "stream",
     "text": [
      "              precision    recall  f1-score   support\n",
      "\n",
      "           0       0.68      0.78      0.73      3035\n",
      "           1       0.85      0.78      0.81      4927\n",
      "\n",
      "    accuracy                           0.78      7962\n",
      "   macro avg       0.77      0.78      0.77      7962\n",
      "weighted avg       0.79      0.78      0.78      7962\n",
      "\n"
     ]
    }
   ],
   "source": [
    "model_b = XGBClassifier(\n",
    "    objective='binary:logistic', \n",
    "    scale_pos_weight=scale_pos_weight_b, \n",
    "    use_label_encoder=False, \n",
    "    eval_metric='logloss',\n",
    "    **grid.best_params_,\n",
    "    random_state=42\n",
    ")\n",
    "\n",
    "model_b.fit(X_train_b, y_train_b)\n",
    "y_pred_b = model_b.predict(X_test_b)\n",
    "\n",
    "print(classification_report(y_test_b, y_pred_b))"
   ]
  },
  {
   "cell_type": "markdown",
   "id": "5619bb60",
   "metadata": {},
   "source": [
    "#### Feature Importances"
   ]
  },
  {
   "cell_type": "code",
   "execution_count": 14,
   "id": "7d1613f2",
   "metadata": {},
   "outputs": [
    {
     "data": {
      "application/vnd.plotly.v1+json": {
       "config": {
        "plotlyServerURL": "https://plot.ly"
       },
       "data": [
        {
         "orientation": "h",
         "type": "bar",
         "x": {
          "bdata": "tolvPlMPAT7k9tw9hPq2PaBnjT2RSIQ9NGc7PQJZIz0z6B89nQC5PIgGrDyRUpk8cBiQPAqCdTzcqmg8+55GPHdbPDyqsDs8yfA4PGOVNTzcdRs89ggLPAAAAAAAAAAAAAAAAAAAAAA=",
          "dtype": "f4"
         },
         "y": [
          "total_amount",
          "total_transactions",
          "gender_M",
          "registered_days",
          "discount_value",
          "total_completed_bogo",
          "total_reward",
          "time",
          "total_received_bogo",
          "total_received_discount",
          "duration",
          "age",
          "gender_F",
          "total_viewed_discount",
          "channel_web",
          "total_completed_discount",
          "total_viewed_bogo",
          "channel_social",
          "total_viewed_info",
          "random_feature",
          "gender_O",
          "total_received_info",
          "channel_mobile",
          "channel_email",
          "min_value",
          "total_completed_info"
         ]
        }
       ],
       "layout": {
        "height": 600,
        "template": {
         "data": {
          "bar": [
           {
            "error_x": {
             "color": "#2a3f5f"
            },
            "error_y": {
             "color": "#2a3f5f"
            },
            "marker": {
             "line": {
              "color": "#E5ECF6",
              "width": 0.5
             },
             "pattern": {
              "fillmode": "overlay",
              "size": 10,
              "solidity": 0.2
             }
            },
            "type": "bar"
           }
          ],
          "barpolar": [
           {
            "marker": {
             "line": {
              "color": "#E5ECF6",
              "width": 0.5
             },
             "pattern": {
              "fillmode": "overlay",
              "size": 10,
              "solidity": 0.2
             }
            },
            "type": "barpolar"
           }
          ],
          "carpet": [
           {
            "aaxis": {
             "endlinecolor": "#2a3f5f",
             "gridcolor": "white",
             "linecolor": "white",
             "minorgridcolor": "white",
             "startlinecolor": "#2a3f5f"
            },
            "baxis": {
             "endlinecolor": "#2a3f5f",
             "gridcolor": "white",
             "linecolor": "white",
             "minorgridcolor": "white",
             "startlinecolor": "#2a3f5f"
            },
            "type": "carpet"
           }
          ],
          "choropleth": [
           {
            "colorbar": {
             "outlinewidth": 0,
             "ticks": ""
            },
            "type": "choropleth"
           }
          ],
          "contour": [
           {
            "colorbar": {
             "outlinewidth": 0,
             "ticks": ""
            },
            "colorscale": [
             [
              0,
              "#0d0887"
             ],
             [
              0.1111111111111111,
              "#46039f"
             ],
             [
              0.2222222222222222,
              "#7201a8"
             ],
             [
              0.3333333333333333,
              "#9c179e"
             ],
             [
              0.4444444444444444,
              "#bd3786"
             ],
             [
              0.5555555555555556,
              "#d8576b"
             ],
             [
              0.6666666666666666,
              "#ed7953"
             ],
             [
              0.7777777777777778,
              "#fb9f3a"
             ],
             [
              0.8888888888888888,
              "#fdca26"
             ],
             [
              1,
              "#f0f921"
             ]
            ],
            "type": "contour"
           }
          ],
          "contourcarpet": [
           {
            "colorbar": {
             "outlinewidth": 0,
             "ticks": ""
            },
            "type": "contourcarpet"
           }
          ],
          "heatmap": [
           {
            "colorbar": {
             "outlinewidth": 0,
             "ticks": ""
            },
            "colorscale": [
             [
              0,
              "#0d0887"
             ],
             [
              0.1111111111111111,
              "#46039f"
             ],
             [
              0.2222222222222222,
              "#7201a8"
             ],
             [
              0.3333333333333333,
              "#9c179e"
             ],
             [
              0.4444444444444444,
              "#bd3786"
             ],
             [
              0.5555555555555556,
              "#d8576b"
             ],
             [
              0.6666666666666666,
              "#ed7953"
             ],
             [
              0.7777777777777778,
              "#fb9f3a"
             ],
             [
              0.8888888888888888,
              "#fdca26"
             ],
             [
              1,
              "#f0f921"
             ]
            ],
            "type": "heatmap"
           }
          ],
          "histogram": [
           {
            "marker": {
             "pattern": {
              "fillmode": "overlay",
              "size": 10,
              "solidity": 0.2
             }
            },
            "type": "histogram"
           }
          ],
          "histogram2d": [
           {
            "colorbar": {
             "outlinewidth": 0,
             "ticks": ""
            },
            "colorscale": [
             [
              0,
              "#0d0887"
             ],
             [
              0.1111111111111111,
              "#46039f"
             ],
             [
              0.2222222222222222,
              "#7201a8"
             ],
             [
              0.3333333333333333,
              "#9c179e"
             ],
             [
              0.4444444444444444,
              "#bd3786"
             ],
             [
              0.5555555555555556,
              "#d8576b"
             ],
             [
              0.6666666666666666,
              "#ed7953"
             ],
             [
              0.7777777777777778,
              "#fb9f3a"
             ],
             [
              0.8888888888888888,
              "#fdca26"
             ],
             [
              1,
              "#f0f921"
             ]
            ],
            "type": "histogram2d"
           }
          ],
          "histogram2dcontour": [
           {
            "colorbar": {
             "outlinewidth": 0,
             "ticks": ""
            },
            "colorscale": [
             [
              0,
              "#0d0887"
             ],
             [
              0.1111111111111111,
              "#46039f"
             ],
             [
              0.2222222222222222,
              "#7201a8"
             ],
             [
              0.3333333333333333,
              "#9c179e"
             ],
             [
              0.4444444444444444,
              "#bd3786"
             ],
             [
              0.5555555555555556,
              "#d8576b"
             ],
             [
              0.6666666666666666,
              "#ed7953"
             ],
             [
              0.7777777777777778,
              "#fb9f3a"
             ],
             [
              0.8888888888888888,
              "#fdca26"
             ],
             [
              1,
              "#f0f921"
             ]
            ],
            "type": "histogram2dcontour"
           }
          ],
          "mesh3d": [
           {
            "colorbar": {
             "outlinewidth": 0,
             "ticks": ""
            },
            "type": "mesh3d"
           }
          ],
          "parcoords": [
           {
            "line": {
             "colorbar": {
              "outlinewidth": 0,
              "ticks": ""
             }
            },
            "type": "parcoords"
           }
          ],
          "pie": [
           {
            "automargin": true,
            "type": "pie"
           }
          ],
          "scatter": [
           {
            "fillpattern": {
             "fillmode": "overlay",
             "size": 10,
             "solidity": 0.2
            },
            "type": "scatter"
           }
          ],
          "scatter3d": [
           {
            "line": {
             "colorbar": {
              "outlinewidth": 0,
              "ticks": ""
             }
            },
            "marker": {
             "colorbar": {
              "outlinewidth": 0,
              "ticks": ""
             }
            },
            "type": "scatter3d"
           }
          ],
          "scattercarpet": [
           {
            "marker": {
             "colorbar": {
              "outlinewidth": 0,
              "ticks": ""
             }
            },
            "type": "scattercarpet"
           }
          ],
          "scattergeo": [
           {
            "marker": {
             "colorbar": {
              "outlinewidth": 0,
              "ticks": ""
             }
            },
            "type": "scattergeo"
           }
          ],
          "scattergl": [
           {
            "marker": {
             "colorbar": {
              "outlinewidth": 0,
              "ticks": ""
             }
            },
            "type": "scattergl"
           }
          ],
          "scattermap": [
           {
            "marker": {
             "colorbar": {
              "outlinewidth": 0,
              "ticks": ""
             }
            },
            "type": "scattermap"
           }
          ],
          "scattermapbox": [
           {
            "marker": {
             "colorbar": {
              "outlinewidth": 0,
              "ticks": ""
             }
            },
            "type": "scattermapbox"
           }
          ],
          "scatterpolar": [
           {
            "marker": {
             "colorbar": {
              "outlinewidth": 0,
              "ticks": ""
             }
            },
            "type": "scatterpolar"
           }
          ],
          "scatterpolargl": [
           {
            "marker": {
             "colorbar": {
              "outlinewidth": 0,
              "ticks": ""
             }
            },
            "type": "scatterpolargl"
           }
          ],
          "scatterternary": [
           {
            "marker": {
             "colorbar": {
              "outlinewidth": 0,
              "ticks": ""
             }
            },
            "type": "scatterternary"
           }
          ],
          "surface": [
           {
            "colorbar": {
             "outlinewidth": 0,
             "ticks": ""
            },
            "colorscale": [
             [
              0,
              "#0d0887"
             ],
             [
              0.1111111111111111,
              "#46039f"
             ],
             [
              0.2222222222222222,
              "#7201a8"
             ],
             [
              0.3333333333333333,
              "#9c179e"
             ],
             [
              0.4444444444444444,
              "#bd3786"
             ],
             [
              0.5555555555555556,
              "#d8576b"
             ],
             [
              0.6666666666666666,
              "#ed7953"
             ],
             [
              0.7777777777777778,
              "#fb9f3a"
             ],
             [
              0.8888888888888888,
              "#fdca26"
             ],
             [
              1,
              "#f0f921"
             ]
            ],
            "type": "surface"
           }
          ],
          "table": [
           {
            "cells": {
             "fill": {
              "color": "#EBF0F8"
             },
             "line": {
              "color": "white"
             }
            },
            "header": {
             "fill": {
              "color": "#C8D4E3"
             },
             "line": {
              "color": "white"
             }
            },
            "type": "table"
           }
          ]
         },
         "layout": {
          "annotationdefaults": {
           "arrowcolor": "#2a3f5f",
           "arrowhead": 0,
           "arrowwidth": 1
          },
          "autotypenumbers": "strict",
          "coloraxis": {
           "colorbar": {
            "outlinewidth": 0,
            "ticks": ""
           }
          },
          "colorscale": {
           "diverging": [
            [
             0,
             "#8e0152"
            ],
            [
             0.1,
             "#c51b7d"
            ],
            [
             0.2,
             "#de77ae"
            ],
            [
             0.3,
             "#f1b6da"
            ],
            [
             0.4,
             "#fde0ef"
            ],
            [
             0.5,
             "#f7f7f7"
            ],
            [
             0.6,
             "#e6f5d0"
            ],
            [
             0.7,
             "#b8e186"
            ],
            [
             0.8,
             "#7fbc41"
            ],
            [
             0.9,
             "#4d9221"
            ],
            [
             1,
             "#276419"
            ]
           ],
           "sequential": [
            [
             0,
             "#0d0887"
            ],
            [
             0.1111111111111111,
             "#46039f"
            ],
            [
             0.2222222222222222,
             "#7201a8"
            ],
            [
             0.3333333333333333,
             "#9c179e"
            ],
            [
             0.4444444444444444,
             "#bd3786"
            ],
            [
             0.5555555555555556,
             "#d8576b"
            ],
            [
             0.6666666666666666,
             "#ed7953"
            ],
            [
             0.7777777777777778,
             "#fb9f3a"
            ],
            [
             0.8888888888888888,
             "#fdca26"
            ],
            [
             1,
             "#f0f921"
            ]
           ],
           "sequentialminus": [
            [
             0,
             "#0d0887"
            ],
            [
             0.1111111111111111,
             "#46039f"
            ],
            [
             0.2222222222222222,
             "#7201a8"
            ],
            [
             0.3333333333333333,
             "#9c179e"
            ],
            [
             0.4444444444444444,
             "#bd3786"
            ],
            [
             0.5555555555555556,
             "#d8576b"
            ],
            [
             0.6666666666666666,
             "#ed7953"
            ],
            [
             0.7777777777777778,
             "#fb9f3a"
            ],
            [
             0.8888888888888888,
             "#fdca26"
            ],
            [
             1,
             "#f0f921"
            ]
           ]
          },
          "colorway": [
           "#636efa",
           "#EF553B",
           "#00cc96",
           "#ab63fa",
           "#FFA15A",
           "#19d3f3",
           "#FF6692",
           "#B6E880",
           "#FF97FF",
           "#FECB52"
          ],
          "font": {
           "color": "#2a3f5f"
          },
          "geo": {
           "bgcolor": "white",
           "lakecolor": "white",
           "landcolor": "#E5ECF6",
           "showlakes": true,
           "showland": true,
           "subunitcolor": "white"
          },
          "hoverlabel": {
           "align": "left"
          },
          "hovermode": "closest",
          "mapbox": {
           "style": "light"
          },
          "paper_bgcolor": "white",
          "plot_bgcolor": "#E5ECF6",
          "polar": {
           "angularaxis": {
            "gridcolor": "white",
            "linecolor": "white",
            "ticks": ""
           },
           "bgcolor": "#E5ECF6",
           "radialaxis": {
            "gridcolor": "white",
            "linecolor": "white",
            "ticks": ""
           }
          },
          "scene": {
           "xaxis": {
            "backgroundcolor": "#E5ECF6",
            "gridcolor": "white",
            "gridwidth": 2,
            "linecolor": "white",
            "showbackground": true,
            "ticks": "",
            "zerolinecolor": "white"
           },
           "yaxis": {
            "backgroundcolor": "#E5ECF6",
            "gridcolor": "white",
            "gridwidth": 2,
            "linecolor": "white",
            "showbackground": true,
            "ticks": "",
            "zerolinecolor": "white"
           },
           "zaxis": {
            "backgroundcolor": "#E5ECF6",
            "gridcolor": "white",
            "gridwidth": 2,
            "linecolor": "white",
            "showbackground": true,
            "ticks": "",
            "zerolinecolor": "white"
           }
          },
          "shapedefaults": {
           "line": {
            "color": "#2a3f5f"
           }
          },
          "ternary": {
           "aaxis": {
            "gridcolor": "white",
            "linecolor": "white",
            "ticks": ""
           },
           "baxis": {
            "gridcolor": "white",
            "linecolor": "white",
            "ticks": ""
           },
           "bgcolor": "#E5ECF6",
           "caxis": {
            "gridcolor": "white",
            "linecolor": "white",
            "ticks": ""
           }
          },
          "title": {
           "x": 0.05
          },
          "xaxis": {
           "automargin": true,
           "gridcolor": "white",
           "linecolor": "white",
           "ticks": "",
           "title": {
            "standoff": 15
           },
           "zerolinecolor": "white",
           "zerolinewidth": 2
          },
          "yaxis": {
           "automargin": true,
           "gridcolor": "white",
           "linecolor": "white",
           "ticks": "",
           "title": {
            "standoff": 15
           },
           "zerolinecolor": "white",
           "zerolinewidth": 2
          }
         }
        },
        "title": {
         "text": "Ofertas BOGO - Importância das Features"
        },
        "xaxis": {
         "title": {
          "text": "Importância"
         }
        },
        "yaxis": {
         "autorange": "reversed",
         "title": {
          "text": "Feature"
         }
        }
       }
      }
     },
     "metadata": {},
     "output_type": "display_data"
    }
   ],
   "source": [
    "importances_b = model_b.feature_importances_\n",
    "features_names_b = X_b.columns\n",
    "\n",
    "df_importances_b = pd.DataFrame({\n",
    "    \"Feature\": features_names_b,\n",
    "    \"Importância\": importances_b\n",
    "}).sort_values(by=\"Importância\", ascending=False)\n",
    "\n",
    "fig = go.Figure([\n",
    "    go.Bar(\n",
    "        x=df_importances_b[\"Importância\"],\n",
    "        y=df_importances_b[\"Feature\"],\n",
    "        orientation='h'\n",
    "    )\n",
    "])\n",
    "\n",
    "fig.update_layout(\n",
    "    title=\"Ofertas BOGO - Importância das Features\",\n",
    "    xaxis_title=\"Importância\",\n",
    "    yaxis_title=\"Feature\",\n",
    "    yaxis=dict(autorange=\"reversed\"),\n",
    "    height=600,\n",
    ")\n",
    "\n",
    "fig.show()"
   ]
  },
  {
   "cell_type": "markdown",
   "id": "1fdd4856",
   "metadata": {},
   "source": [
    "### Model for Discount Offers"
   ]
  },
  {
   "cell_type": "code",
   "execution_count": 15,
   "id": "f821af53",
   "metadata": {},
   "outputs": [],
   "source": [
    "discount_value_counts = df_discount['offer_consumed'].value_counts()\n",
    "scale_pos_weight_d = discount_value_counts[0] / bogo_value_counts[1]\n",
    "\n",
    "df_discount['random_feature'] = np.random.rand(len(df_discount))"
   ]
  },
  {
   "cell_type": "markdown",
   "id": "2ae4ec70",
   "metadata": {},
   "source": [
    "#### DAtaset Split"
   ]
  },
  {
   "cell_type": "code",
   "execution_count": 16,
   "id": "1fb33318",
   "metadata": {},
   "outputs": [],
   "source": [
    "X_d = df_discount.drop(columns=['offer_consumed'])\n",
    "y_d = df_discount['offer_consumed']\n",
    "\n",
    "X_train_d, X_test_d, y_train_d, y_test_d = train_test_split(\n",
    "    X_d, y_d, test_size=0.3, random_state=42, stratify=y_d\n",
    ")"
   ]
  },
  {
   "cell_type": "markdown",
   "id": "dfd32fea",
   "metadata": {},
   "source": [
    "#### GridSearch"
   ]
  },
  {
   "cell_type": "code",
   "execution_count": 17,
   "id": "7764ce8d",
   "metadata": {},
   "outputs": [
    {
     "data": {
      "text/plain": [
       "{'gamma': 0.2,\n",
       " 'learning_rate': 0.1,\n",
       " 'max_depth': 4,\n",
       " 'min_child_weight': 5,\n",
       " 'n_estimators': 100}"
      ]
     },
     "execution_count": 17,
     "metadata": {},
     "output_type": "execute_result"
    }
   ],
   "source": [
    "params = {\n",
    "    'n_estimators': [100, 1000],\n",
    "    'learning_rate': [0.01, 0.1],\n",
    "    'max_depth': [4, 6, 8],\n",
    "    'min_child_weight': [1, 5],\n",
    "    'gamma': [0, 0.2],\n",
    "}\n",
    "\n",
    "xgb = XGBClassifier(\n",
    "    objective='binary:logistic', \n",
    "    scale_pos_weight=scale_pos_weight_d,\n",
    "    use_label_encoder=False, \n",
    "    eval_metric='logloss'\n",
    ")\n",
    "\n",
    "grid = GridSearchCV(\n",
    "    estimator=xgb, \n",
    "    param_grid=params, \n",
    "    scoring='roc_auc', \n",
    "    cv=3, \n",
    ")\n",
    "\n",
    "grid.fit(X_train_d, y_train_d)\n",
    "grid.best_params_"
   ]
  },
  {
   "cell_type": "markdown",
   "id": "9353592a",
   "metadata": {},
   "source": [
    "#### Model Training"
   ]
  },
  {
   "cell_type": "code",
   "execution_count": 18,
   "id": "83864c46",
   "metadata": {},
   "outputs": [
    {
     "name": "stdout",
     "output_type": "stream",
     "text": [
      "              precision    recall  f1-score   support\n",
      "\n",
      "           0       0.63      0.77      0.69      2541\n",
      "           1       0.88      0.79      0.83      5459\n",
      "\n",
      "    accuracy                           0.78      8000\n",
      "   macro avg       0.75      0.78      0.76      8000\n",
      "weighted avg       0.80      0.78      0.79      8000\n",
      "\n"
     ]
    }
   ],
   "source": [
    "model_d = XGBClassifier(\n",
    "    objective='binary:logistic', \n",
    "    scale_pos_weight=scale_pos_weight_d, \n",
    "    use_label_encoder=False, \n",
    "    eval_metric='logloss',\n",
    "    **grid.best_params_,\n",
    "    random_state=42\n",
    ")\n",
    "\n",
    "model_d.fit(X_train_d, y_train_d)\n",
    "y_pred_d = model_d.predict(X_test_d)\n",
    "\n",
    "print(classification_report(y_test_d, y_pred_d))"
   ]
  },
  {
   "cell_type": "markdown",
   "id": "4f7c2a9c",
   "metadata": {},
   "source": [
    "#### Feature Importances"
   ]
  },
  {
   "cell_type": "code",
   "execution_count": 19,
   "id": "605a6297",
   "metadata": {},
   "outputs": [
    {
     "data": {
      "application/vnd.plotly.v1+json": {
       "config": {
        "plotlyServerURL": "https://plot.ly"
       },
       "data": [
        {
         "orientation": "h",
         "type": "bar",
         "x": {
          "bdata": "mL1KPmBDHj5wUvs9qs2DPa4ygz11MWo94qNMPUdIRT0MUQw9+WfXPJm6yzxx0aY8S6WfPJSWnzySE4s8rQeFPHTZfjznnH08zbY7PJTTNTydCBs8AAAAAAAAAAAAAAAAAAAAAAAAAAA=",
          "dtype": "f4"
         },
         "y": [
          "total_amount",
          "channel_social",
          "registered_days",
          "discount_value",
          "time",
          "total_completed_discount",
          "gender_M",
          "total_transactions",
          "total_reward",
          "total_received_discount",
          "total_completed_bogo",
          "gender_F",
          "total_viewed_discount",
          "total_received_bogo",
          "total_viewed_info",
          "total_viewed_bogo",
          "age",
          "duration",
          "total_received_info",
          "random_feature",
          "gender_O",
          "channel_email",
          "channel_mobile",
          "min_value",
          "channel_web",
          "total_completed_info"
         ]
        }
       ],
       "layout": {
        "height": 600,
        "template": {
         "data": {
          "bar": [
           {
            "error_x": {
             "color": "#2a3f5f"
            },
            "error_y": {
             "color": "#2a3f5f"
            },
            "marker": {
             "line": {
              "color": "#E5ECF6",
              "width": 0.5
             },
             "pattern": {
              "fillmode": "overlay",
              "size": 10,
              "solidity": 0.2
             }
            },
            "type": "bar"
           }
          ],
          "barpolar": [
           {
            "marker": {
             "line": {
              "color": "#E5ECF6",
              "width": 0.5
             },
             "pattern": {
              "fillmode": "overlay",
              "size": 10,
              "solidity": 0.2
             }
            },
            "type": "barpolar"
           }
          ],
          "carpet": [
           {
            "aaxis": {
             "endlinecolor": "#2a3f5f",
             "gridcolor": "white",
             "linecolor": "white",
             "minorgridcolor": "white",
             "startlinecolor": "#2a3f5f"
            },
            "baxis": {
             "endlinecolor": "#2a3f5f",
             "gridcolor": "white",
             "linecolor": "white",
             "minorgridcolor": "white",
             "startlinecolor": "#2a3f5f"
            },
            "type": "carpet"
           }
          ],
          "choropleth": [
           {
            "colorbar": {
             "outlinewidth": 0,
             "ticks": ""
            },
            "type": "choropleth"
           }
          ],
          "contour": [
           {
            "colorbar": {
             "outlinewidth": 0,
             "ticks": ""
            },
            "colorscale": [
             [
              0,
              "#0d0887"
             ],
             [
              0.1111111111111111,
              "#46039f"
             ],
             [
              0.2222222222222222,
              "#7201a8"
             ],
             [
              0.3333333333333333,
              "#9c179e"
             ],
             [
              0.4444444444444444,
              "#bd3786"
             ],
             [
              0.5555555555555556,
              "#d8576b"
             ],
             [
              0.6666666666666666,
              "#ed7953"
             ],
             [
              0.7777777777777778,
              "#fb9f3a"
             ],
             [
              0.8888888888888888,
              "#fdca26"
             ],
             [
              1,
              "#f0f921"
             ]
            ],
            "type": "contour"
           }
          ],
          "contourcarpet": [
           {
            "colorbar": {
             "outlinewidth": 0,
             "ticks": ""
            },
            "type": "contourcarpet"
           }
          ],
          "heatmap": [
           {
            "colorbar": {
             "outlinewidth": 0,
             "ticks": ""
            },
            "colorscale": [
             [
              0,
              "#0d0887"
             ],
             [
              0.1111111111111111,
              "#46039f"
             ],
             [
              0.2222222222222222,
              "#7201a8"
             ],
             [
              0.3333333333333333,
              "#9c179e"
             ],
             [
              0.4444444444444444,
              "#bd3786"
             ],
             [
              0.5555555555555556,
              "#d8576b"
             ],
             [
              0.6666666666666666,
              "#ed7953"
             ],
             [
              0.7777777777777778,
              "#fb9f3a"
             ],
             [
              0.8888888888888888,
              "#fdca26"
             ],
             [
              1,
              "#f0f921"
             ]
            ],
            "type": "heatmap"
           }
          ],
          "histogram": [
           {
            "marker": {
             "pattern": {
              "fillmode": "overlay",
              "size": 10,
              "solidity": 0.2
             }
            },
            "type": "histogram"
           }
          ],
          "histogram2d": [
           {
            "colorbar": {
             "outlinewidth": 0,
             "ticks": ""
            },
            "colorscale": [
             [
              0,
              "#0d0887"
             ],
             [
              0.1111111111111111,
              "#46039f"
             ],
             [
              0.2222222222222222,
              "#7201a8"
             ],
             [
              0.3333333333333333,
              "#9c179e"
             ],
             [
              0.4444444444444444,
              "#bd3786"
             ],
             [
              0.5555555555555556,
              "#d8576b"
             ],
             [
              0.6666666666666666,
              "#ed7953"
             ],
             [
              0.7777777777777778,
              "#fb9f3a"
             ],
             [
              0.8888888888888888,
              "#fdca26"
             ],
             [
              1,
              "#f0f921"
             ]
            ],
            "type": "histogram2d"
           }
          ],
          "histogram2dcontour": [
           {
            "colorbar": {
             "outlinewidth": 0,
             "ticks": ""
            },
            "colorscale": [
             [
              0,
              "#0d0887"
             ],
             [
              0.1111111111111111,
              "#46039f"
             ],
             [
              0.2222222222222222,
              "#7201a8"
             ],
             [
              0.3333333333333333,
              "#9c179e"
             ],
             [
              0.4444444444444444,
              "#bd3786"
             ],
             [
              0.5555555555555556,
              "#d8576b"
             ],
             [
              0.6666666666666666,
              "#ed7953"
             ],
             [
              0.7777777777777778,
              "#fb9f3a"
             ],
             [
              0.8888888888888888,
              "#fdca26"
             ],
             [
              1,
              "#f0f921"
             ]
            ],
            "type": "histogram2dcontour"
           }
          ],
          "mesh3d": [
           {
            "colorbar": {
             "outlinewidth": 0,
             "ticks": ""
            },
            "type": "mesh3d"
           }
          ],
          "parcoords": [
           {
            "line": {
             "colorbar": {
              "outlinewidth": 0,
              "ticks": ""
             }
            },
            "type": "parcoords"
           }
          ],
          "pie": [
           {
            "automargin": true,
            "type": "pie"
           }
          ],
          "scatter": [
           {
            "fillpattern": {
             "fillmode": "overlay",
             "size": 10,
             "solidity": 0.2
            },
            "type": "scatter"
           }
          ],
          "scatter3d": [
           {
            "line": {
             "colorbar": {
              "outlinewidth": 0,
              "ticks": ""
             }
            },
            "marker": {
             "colorbar": {
              "outlinewidth": 0,
              "ticks": ""
             }
            },
            "type": "scatter3d"
           }
          ],
          "scattercarpet": [
           {
            "marker": {
             "colorbar": {
              "outlinewidth": 0,
              "ticks": ""
             }
            },
            "type": "scattercarpet"
           }
          ],
          "scattergeo": [
           {
            "marker": {
             "colorbar": {
              "outlinewidth": 0,
              "ticks": ""
             }
            },
            "type": "scattergeo"
           }
          ],
          "scattergl": [
           {
            "marker": {
             "colorbar": {
              "outlinewidth": 0,
              "ticks": ""
             }
            },
            "type": "scattergl"
           }
          ],
          "scattermap": [
           {
            "marker": {
             "colorbar": {
              "outlinewidth": 0,
              "ticks": ""
             }
            },
            "type": "scattermap"
           }
          ],
          "scattermapbox": [
           {
            "marker": {
             "colorbar": {
              "outlinewidth": 0,
              "ticks": ""
             }
            },
            "type": "scattermapbox"
           }
          ],
          "scatterpolar": [
           {
            "marker": {
             "colorbar": {
              "outlinewidth": 0,
              "ticks": ""
             }
            },
            "type": "scatterpolar"
           }
          ],
          "scatterpolargl": [
           {
            "marker": {
             "colorbar": {
              "outlinewidth": 0,
              "ticks": ""
             }
            },
            "type": "scatterpolargl"
           }
          ],
          "scatterternary": [
           {
            "marker": {
             "colorbar": {
              "outlinewidth": 0,
              "ticks": ""
             }
            },
            "type": "scatterternary"
           }
          ],
          "surface": [
           {
            "colorbar": {
             "outlinewidth": 0,
             "ticks": ""
            },
            "colorscale": [
             [
              0,
              "#0d0887"
             ],
             [
              0.1111111111111111,
              "#46039f"
             ],
             [
              0.2222222222222222,
              "#7201a8"
             ],
             [
              0.3333333333333333,
              "#9c179e"
             ],
             [
              0.4444444444444444,
              "#bd3786"
             ],
             [
              0.5555555555555556,
              "#d8576b"
             ],
             [
              0.6666666666666666,
              "#ed7953"
             ],
             [
              0.7777777777777778,
              "#fb9f3a"
             ],
             [
              0.8888888888888888,
              "#fdca26"
             ],
             [
              1,
              "#f0f921"
             ]
            ],
            "type": "surface"
           }
          ],
          "table": [
           {
            "cells": {
             "fill": {
              "color": "#EBF0F8"
             },
             "line": {
              "color": "white"
             }
            },
            "header": {
             "fill": {
              "color": "#C8D4E3"
             },
             "line": {
              "color": "white"
             }
            },
            "type": "table"
           }
          ]
         },
         "layout": {
          "annotationdefaults": {
           "arrowcolor": "#2a3f5f",
           "arrowhead": 0,
           "arrowwidth": 1
          },
          "autotypenumbers": "strict",
          "coloraxis": {
           "colorbar": {
            "outlinewidth": 0,
            "ticks": ""
           }
          },
          "colorscale": {
           "diverging": [
            [
             0,
             "#8e0152"
            ],
            [
             0.1,
             "#c51b7d"
            ],
            [
             0.2,
             "#de77ae"
            ],
            [
             0.3,
             "#f1b6da"
            ],
            [
             0.4,
             "#fde0ef"
            ],
            [
             0.5,
             "#f7f7f7"
            ],
            [
             0.6,
             "#e6f5d0"
            ],
            [
             0.7,
             "#b8e186"
            ],
            [
             0.8,
             "#7fbc41"
            ],
            [
             0.9,
             "#4d9221"
            ],
            [
             1,
             "#276419"
            ]
           ],
           "sequential": [
            [
             0,
             "#0d0887"
            ],
            [
             0.1111111111111111,
             "#46039f"
            ],
            [
             0.2222222222222222,
             "#7201a8"
            ],
            [
             0.3333333333333333,
             "#9c179e"
            ],
            [
             0.4444444444444444,
             "#bd3786"
            ],
            [
             0.5555555555555556,
             "#d8576b"
            ],
            [
             0.6666666666666666,
             "#ed7953"
            ],
            [
             0.7777777777777778,
             "#fb9f3a"
            ],
            [
             0.8888888888888888,
             "#fdca26"
            ],
            [
             1,
             "#f0f921"
            ]
           ],
           "sequentialminus": [
            [
             0,
             "#0d0887"
            ],
            [
             0.1111111111111111,
             "#46039f"
            ],
            [
             0.2222222222222222,
             "#7201a8"
            ],
            [
             0.3333333333333333,
             "#9c179e"
            ],
            [
             0.4444444444444444,
             "#bd3786"
            ],
            [
             0.5555555555555556,
             "#d8576b"
            ],
            [
             0.6666666666666666,
             "#ed7953"
            ],
            [
             0.7777777777777778,
             "#fb9f3a"
            ],
            [
             0.8888888888888888,
             "#fdca26"
            ],
            [
             1,
             "#f0f921"
            ]
           ]
          },
          "colorway": [
           "#636efa",
           "#EF553B",
           "#00cc96",
           "#ab63fa",
           "#FFA15A",
           "#19d3f3",
           "#FF6692",
           "#B6E880",
           "#FF97FF",
           "#FECB52"
          ],
          "font": {
           "color": "#2a3f5f"
          },
          "geo": {
           "bgcolor": "white",
           "lakecolor": "white",
           "landcolor": "#E5ECF6",
           "showlakes": true,
           "showland": true,
           "subunitcolor": "white"
          },
          "hoverlabel": {
           "align": "left"
          },
          "hovermode": "closest",
          "mapbox": {
           "style": "light"
          },
          "paper_bgcolor": "white",
          "plot_bgcolor": "#E5ECF6",
          "polar": {
           "angularaxis": {
            "gridcolor": "white",
            "linecolor": "white",
            "ticks": ""
           },
           "bgcolor": "#E5ECF6",
           "radialaxis": {
            "gridcolor": "white",
            "linecolor": "white",
            "ticks": ""
           }
          },
          "scene": {
           "xaxis": {
            "backgroundcolor": "#E5ECF6",
            "gridcolor": "white",
            "gridwidth": 2,
            "linecolor": "white",
            "showbackground": true,
            "ticks": "",
            "zerolinecolor": "white"
           },
           "yaxis": {
            "backgroundcolor": "#E5ECF6",
            "gridcolor": "white",
            "gridwidth": 2,
            "linecolor": "white",
            "showbackground": true,
            "ticks": "",
            "zerolinecolor": "white"
           },
           "zaxis": {
            "backgroundcolor": "#E5ECF6",
            "gridcolor": "white",
            "gridwidth": 2,
            "linecolor": "white",
            "showbackground": true,
            "ticks": "",
            "zerolinecolor": "white"
           }
          },
          "shapedefaults": {
           "line": {
            "color": "#2a3f5f"
           }
          },
          "ternary": {
           "aaxis": {
            "gridcolor": "white",
            "linecolor": "white",
            "ticks": ""
           },
           "baxis": {
            "gridcolor": "white",
            "linecolor": "white",
            "ticks": ""
           },
           "bgcolor": "#E5ECF6",
           "caxis": {
            "gridcolor": "white",
            "linecolor": "white",
            "ticks": ""
           }
          },
          "title": {
           "x": 0.05
          },
          "xaxis": {
           "automargin": true,
           "gridcolor": "white",
           "linecolor": "white",
           "ticks": "",
           "title": {
            "standoff": 15
           },
           "zerolinecolor": "white",
           "zerolinewidth": 2
          },
          "yaxis": {
           "automargin": true,
           "gridcolor": "white",
           "linecolor": "white",
           "ticks": "",
           "title": {
            "standoff": 15
           },
           "zerolinecolor": "white",
           "zerolinewidth": 2
          }
         }
        },
        "title": {
         "text": "Ofertas BOGO - Importância das Features"
        },
        "xaxis": {
         "title": {
          "text": "Importância"
         }
        },
        "yaxis": {
         "autorange": "reversed",
         "title": {
          "text": "Feature"
         }
        }
       }
      }
     },
     "metadata": {},
     "output_type": "display_data"
    }
   ],
   "source": [
    "importances_d = model_d.feature_importances_\n",
    "features_names_d = X_d.columns\n",
    "\n",
    "df_importances_d = pd.DataFrame({\n",
    "    \"Feature\": features_names_d,\n",
    "    \"Importância\": importances_d\n",
    "}).sort_values(by=\"Importância\", ascending=False)\n",
    "\n",
    "fig = go.Figure([\n",
    "    go.Bar(\n",
    "        x=df_importances_d[\"Importância\"],\n",
    "        y=df_importances_d[\"Feature\"],\n",
    "        orientation='h'\n",
    "    )\n",
    "])\n",
    "\n",
    "fig.update_layout(\n",
    "    title=\"Ofertas BOGO - Importância das Features\",\n",
    "    xaxis_title=\"Importância\",\n",
    "    yaxis_title=\"Feature\",\n",
    "    yaxis=dict(autorange=\"reversed\"),\n",
    "    height=600,\n",
    ")\n",
    "\n",
    "fig.show()"
   ]
  }
 ],
 "metadata": {
  "kernelspec": {
   "display_name": ".env",
   "language": "python",
   "name": "python3"
  },
  "language_info": {
   "codemirror_mode": {
    "name": "ipython",
    "version": 3
   },
   "file_extension": ".py",
   "mimetype": "text/x-python",
   "name": "python",
   "nbconvert_exporter": "python",
   "pygments_lexer": "ipython3",
   "version": "3.12.3"
  }
 },
 "nbformat": 4,
 "nbformat_minor": 5
}
