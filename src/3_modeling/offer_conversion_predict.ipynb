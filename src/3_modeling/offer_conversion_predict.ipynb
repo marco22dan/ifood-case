{
 "cells": [
  {
   "cell_type": "code",
   "execution_count": 48,
   "id": "45ee841d",
   "metadata": {},
   "outputs": [],
   "source": [
    "import pandas as pd\n",
    "import numpy as np\n",
    "\n",
    "from sklearn.model_selection import train_test_split\n",
    "from sklearn.linear_model import LogisticRegression\n",
    "from sklearn.ensemble import RandomForestClassifier\n",
    "from xgboost import XGBClassifier\n",
    "from sklearn.metrics import accuracy_score, f1_score, roc_auc_score, classification_report\n",
    "\n",
    "import plotly.graph_objects as go\n",
    "\n",
    "import warnings\n",
    "warnings.filterwarnings('ignore')\n",
    "pd.set_option('display.max_columns', None)"
   ]
  },
  {
   "cell_type": "code",
   "execution_count": 3,
   "id": "9ce07f3b",
   "metadata": {},
   "outputs": [],
   "source": [
    "# BASE_PATH = '/Workspace/Users/marcodaniel.ml@hotmail.com/ifood-case'\n",
    "BASE_PATH = 'D:/Downloads/IFood/ifood-case/'\n",
    "DATA_RAW_PATH = BASE_PATH + '/data/raw/'\n",
    "DATA_TEMP_PATH = BASE_PATH + '/data/temp/'"
   ]
  },
  {
   "cell_type": "markdown",
   "id": "4b9373ba",
   "metadata": {},
   "source": [
    "# profile"
   ]
  },
  {
   "cell_type": "code",
   "execution_count": 13,
   "id": "a274cc04",
   "metadata": {},
   "outputs": [],
   "source": [
    "df_profile = pd.read_json(DATA_RAW_PATH + 'profile.json')\n",
    "\n",
    "df_profile['age'] = df_profile['age'].astype(int)\n",
    "df_profile = df_profile[df_profile['age'] <= 101]\n",
    "df_profile['registered_on'] = pd.to_datetime(df_profile['registered_on'], format='%Y%m%d')\n",
    "df_profile['gender'] = df_profile['gender'].str.upper().fillna('O')\n",
    "df_profile['id'] = df_profile['id'].str.strip()\n",
    "df_profile['credit_card_limit'] = df_profile['credit_card_limit'].astype(float)\n",
    "df_profile = df_profile.rename(columns={'id': 'account_id'})\n",
    "\n",
    "df_profile['actual_date'] = pd.to_datetime('2019-01-01')\n",
    "df_profile['registered_days'] = (df_profile['actual_date'] - df_profile['registered_on']).dt.days\n",
    "df_profile = df_profile.drop(['registered_on', 'actual_date'], axis=1)\n",
    "\n",
    "df_profile = pd.get_dummies(df_profile, columns=['gender'])\n",
    "df_profile['gender_F'] = df_profile['gender_F'].astype(int)\n",
    "df_profile['gender_M'] = df_profile['gender_M'].astype(int)\n",
    "df_profile['gender_O'] = df_profile['gender_O'].astype(int)"
   ]
  },
  {
   "cell_type": "markdown",
   "id": "b4d7cc10",
   "metadata": {},
   "source": [
    "# offers"
   ]
  },
  {
   "cell_type": "code",
   "execution_count": 6,
   "id": "fa57d2c3",
   "metadata": {},
   "outputs": [],
   "source": [
    "df_offers = pd.read_json(DATA_RAW_PATH + 'offers.json')\n",
    "\n",
    "df_offers['min_value'] = df_offers['min_value'].astype(float)\n",
    "df_offers['duration'] = df_offers['duration'].astype(int)\n",
    "df_offers['id'] = df_offers['id'].str.strip()\n",
    "df_offers['discount_value'] = df_offers['discount_value'].astype(float)\n",
    "\n",
    "df_offers = df_offers.rename(columns={'id': 'offer_id'})"
   ]
  },
  {
   "cell_type": "markdown",
   "id": "84abec34",
   "metadata": {},
   "source": [
    "# transactions"
   ]
  },
  {
   "cell_type": "code",
   "execution_count": 7,
   "id": "ad4de5eb",
   "metadata": {},
   "outputs": [],
   "source": [
    "df_transactions = pd.read_json(DATA_RAW_PATH + 'transactions.json')\n",
    "\n",
    "df_transactions['account_id'] = df_transactions['account_id'].str.strip()\n",
    "df_transactions['time_since_test_start'] = df_transactions['time_since_test_start'].astype(float)\n",
    "\n",
    "value_expanded = df_transactions['value'].apply(pd.Series)\n",
    "df_transactions_s = pd.concat([df_transactions.drop(columns='value'), value_expanded], axis=1)"
   ]
  },
  {
   "cell_type": "code",
   "execution_count": 8,
   "id": "b8a8e1d1",
   "metadata": {},
   "outputs": [],
   "source": [
    "df_transaction = df_transactions_s[df_transactions_s['event'] == 'transaction']\n",
    "df_offer_received = df_transactions_s[df_transactions_s['event'] == 'offer received']\n",
    "df_offer_completed = df_transactions_s[df_transactions_s['event'] == 'offer completed']\n",
    "\n",
    "df_transaction = df_transaction[['account_id', 'amount', 'time_since_test_start']]\n",
    "df_offer_received = df_offer_received[['account_id', 'offer id', 'time_since_test_start']]\n",
    "df_offer_completed = df_offer_completed[['account_id', 'offer_id', 'reward', 'time_since_test_start']]\n",
    "\n",
    "df_transaction = df_transaction.rename(columns={\n",
    "    'time_since_test_start': 'transaction_time',\n",
    "})\n",
    "df_offer_received = df_offer_received.rename(columns={\n",
    "    'offer id': 'offer_id',\n",
    "    'time_since_test_start': 'received_time',\n",
    "})\n",
    "df_offer_completed = df_offer_completed.rename(columns={\n",
    "    'time_since_test_start': 'transaction_time',\n",
    "})"
   ]
  },
  {
   "cell_type": "markdown",
   "id": "6d9590f5",
   "metadata": {},
   "source": [
    "## Timeline"
   ]
  },
  {
   "cell_type": "code",
   "execution_count": 23,
   "id": "f25df0e2",
   "metadata": {},
   "outputs": [],
   "source": [
    "df_timeline = pd.read_csv(DATA_TEMP_PATH + 'transaction_timeline.csv')"
   ]
  },
  {
   "cell_type": "markdown",
   "id": "59365e7d",
   "metadata": {},
   "source": [
    "## Merge"
   ]
  },
  {
   "cell_type": "code",
   "execution_count": 42,
   "id": "0721c442",
   "metadata": {},
   "outputs": [],
   "source": [
    "df_transaction_m = (\n",
    "    df_transaction\n",
    "    .merge(\n",
    "        df_offer_completed, \n",
    "        on=['account_id', 'transaction_time'], \n",
    "        how='left'\n",
    "    )\n",
    "    .merge(\n",
    "        df_offer_received, \n",
    "        on=['account_id', 'offer_id'], \n",
    "        how='outer'\n",
    "    )\n",
    "    .merge(\n",
    "        df_profile,\n",
    "        on='account_id',\n",
    "        how='inner'\n",
    "    )\n",
    "    .merge(\n",
    "        df_offers,\n",
    "        on='offer_id',\n",
    "        how='inner'\n",
    "    )\n",
    "    .merge(\n",
    "        df_timeline,\n",
    "        left_on=['account_id', 'received_time'],\n",
    "        right_on=['account_id', 'time'],\n",
    "        how='left'\n",
    "    )\n",
    ")\n",
    "\n",
    "df_transaction_m = df_transaction_m[df_transaction_m['offer_type'].isin(['discount', 'bogo'])]\n",
    "df_transaction_m['offer_type'] = df_transaction_m['offer_type'].fillna('no_offer')\n",
    "\n",
    "df_transaction_m['random_feature'] = np.random.rand(len(df_transaction_m))\n",
    "\n",
    "df_transaction_m['converted'] = df_transaction_m['transaction_time'].notnull().astype(int)\n",
    "# df_transaction_m['target'] = np.where(\n",
    "#     df_transaction_m['converted'] == 0, 0,\n",
    "#     np.where(\n",
    "#         df_transaction_m['offer_type'] == 'bogo', 1, 2\n",
    "#     )\n",
    "# )\n",
    "\n",
    "df_transaction_bogo = df_transaction_m[df_transaction_m['offer_type'] == 'bogo']\n",
    "df_transaction_discount = df_transaction_m[df_transaction_m['offer_type'] == 'discount']\n",
    "\n",
    "drop_cols = [\n",
    "    'amount',\n",
    "    'transaction_time',\n",
    "    'received_time',\n",
    "    'time',\n",
    "    'channels',\n",
    "    'reward',\n",
    "    'offer_type',\n",
    "]\n",
    "\n",
    "df_transaction_bogo = df_transaction_bogo.drop(columns=drop_cols)\n",
    "df_transaction_discount = df_transaction_discount.drop(columns=drop_cols)"
   ]
  },
  {
   "cell_type": "markdown",
   "id": "5a50299e",
   "metadata": {},
   "source": [
    "# Test Classification"
   ]
  },
  {
   "cell_type": "code",
   "execution_count": 44,
   "id": "fe0f9475",
   "metadata": {},
   "outputs": [
    {
     "data": {
      "text/plain": [
       "converted\n",
       "1    0.674842\n",
       "0    0.325158\n",
       "Name: proportion, dtype: float64"
      ]
     },
     "execution_count": 44,
     "metadata": {},
     "output_type": "execute_result"
    }
   ],
   "source": [
    "df_transaction_bogo['converted'].value_counts(normalize=True)"
   ]
  },
  {
   "cell_type": "markdown",
   "id": "fed7608f",
   "metadata": {},
   "source": [
    "## BOGO Model"
   ]
  },
  {
   "cell_type": "code",
   "execution_count": 60,
   "id": "0ccf5be3",
   "metadata": {},
   "outputs": [
    {
     "data": {
      "text/html": [
       "<div>\n",
       "<style scoped>\n",
       "    .dataframe tbody tr th:only-of-type {\n",
       "        vertical-align: middle;\n",
       "    }\n",
       "\n",
       "    .dataframe tbody tr th {\n",
       "        vertical-align: top;\n",
       "    }\n",
       "\n",
       "    .dataframe thead th {\n",
       "        text-align: right;\n",
       "    }\n",
       "</style>\n",
       "<table border=\"1\" class=\"dataframe\">\n",
       "  <thead>\n",
       "    <tr style=\"text-align: right;\">\n",
       "      <th></th>\n",
       "      <th>Modelo</th>\n",
       "      <th>AUC</th>\n",
       "      <th>Acurácia</th>\n",
       "    </tr>\n",
       "  </thead>\n",
       "  <tbody>\n",
       "    <tr>\n",
       "      <th>0</th>\n",
       "      <td>LogisticRegression</td>\n",
       "      <td>0.734358</td>\n",
       "      <td>0.790444</td>\n",
       "    </tr>\n",
       "    <tr>\n",
       "      <th>1</th>\n",
       "      <td>RandomForest</td>\n",
       "      <td>0.773796</td>\n",
       "      <td>0.819477</td>\n",
       "    </tr>\n",
       "    <tr>\n",
       "      <th>2</th>\n",
       "      <td>XGBoost</td>\n",
       "      <td>0.779077</td>\n",
       "      <td>0.819691</td>\n",
       "    </tr>\n",
       "  </tbody>\n",
       "</table>\n",
       "</div>"
      ],
      "text/plain": [
       "               Modelo       AUC  Acurácia\n",
       "0  LogisticRegression  0.734358  0.790444\n",
       "1        RandomForest  0.773796  0.819477\n",
       "2             XGBoost  0.779077  0.819691"
      ]
     },
     "execution_count": 60,
     "metadata": {},
     "output_type": "execute_result"
    }
   ],
   "source": [
    "df_features_bogo = df_transaction_bogo.set_index(['account_id', 'offer_id']).fillna(0)\n",
    "\n",
    "X_b = df_features_bogo.drop(columns=['converted'])\n",
    "y_b = df_features_bogo['converted']\n",
    "\n",
    "X_train_b, X_test_b, y_train_b, y_test_b = train_test_split(\n",
    "    X_b, y_b, test_size=0.3, random_state=42, stratify=y_b\n",
    ")\n",
    "\n",
    "bogo_models = {\n",
    "    \"LogisticRegression\": LogisticRegression(max_iter=1000),\n",
    "    \"RandomForest\": RandomForestClassifier(n_estimators=100, random_state=42),\n",
    "    \"XGBoost\": XGBClassifier(use_label_encoder=False, eval_metric='logloss', random_state=42)\n",
    "}\n",
    "\n",
    "bogo_results = []\n",
    "# Treinar e avaliar cada modelo\n",
    "for nome, modelo in bogo_models.items():\n",
    "    modelo.fit(X_train_b, y_train_b)\n",
    "    y_pred_b = modelo.predict(X_test_b)\n",
    "    \n",
    "    bogo_results.append({\n",
    "        'Modelo': nome,\n",
    "        'AUC': roc_auc_score(y_test_b, y_pred_b),\n",
    "        'Acurácia': accuracy_score(y_test_b, y_pred_b),\n",
    "    })\n",
    "\n",
    "df_bogo_results = pd.DataFrame(bogo_results)\n",
    "df_bogo_results"
   ]
  },
  {
   "cell_type": "code",
   "execution_count": 61,
   "id": "2ad1b8dc",
   "metadata": {},
   "outputs": [
    {
     "data": {
      "application/vnd.plotly.v1+json": {
       "config": {
        "plotlyServerURL": "https://plot.ly"
       },
       "data": [
        {
         "orientation": "h",
         "type": "bar",
         "x": {
          "bdata": "yhkaPvJhAT6Slfw9vxzBPVbUuj2aWVA9Eow1PTwXHj1iIwI9bqHxPDwg1zxwhs48vGbNPFlAuTxcV7Q8hkCnPDbLozwMhaA8FCqdPJ7FmjwAAAAAAAAAAA==",
          "dtype": "f4"
         },
         "y": [
          "gender_M",
          "completed_bogo_sum",
          "amount_sum",
          "min_value",
          "transactions_sum",
          "registered_days",
          "received_bogo_sum",
          "reward_sum",
          "credit_card_limit",
          "received_discount_sum",
          "duration",
          "viewed_info_sum",
          "received_info_sum",
          "viewed_discount_sum",
          "viewed_bogo_sum",
          "completed_discount_sum",
          "gender_F",
          "age",
          "gender_O",
          "random_feature",
          "discount_value",
          "completed_info_sum"
         ]
        }
       ],
       "layout": {
        "height": 600,
        "template": {
         "data": {
          "bar": [
           {
            "error_x": {
             "color": "#2a3f5f"
            },
            "error_y": {
             "color": "#2a3f5f"
            },
            "marker": {
             "line": {
              "color": "#E5ECF6",
              "width": 0.5
             },
             "pattern": {
              "fillmode": "overlay",
              "size": 10,
              "solidity": 0.2
             }
            },
            "type": "bar"
           }
          ],
          "barpolar": [
           {
            "marker": {
             "line": {
              "color": "#E5ECF6",
              "width": 0.5
             },
             "pattern": {
              "fillmode": "overlay",
              "size": 10,
              "solidity": 0.2
             }
            },
            "type": "barpolar"
           }
          ],
          "carpet": [
           {
            "aaxis": {
             "endlinecolor": "#2a3f5f",
             "gridcolor": "white",
             "linecolor": "white",
             "minorgridcolor": "white",
             "startlinecolor": "#2a3f5f"
            },
            "baxis": {
             "endlinecolor": "#2a3f5f",
             "gridcolor": "white",
             "linecolor": "white",
             "minorgridcolor": "white",
             "startlinecolor": "#2a3f5f"
            },
            "type": "carpet"
           }
          ],
          "choropleth": [
           {
            "colorbar": {
             "outlinewidth": 0,
             "ticks": ""
            },
            "type": "choropleth"
           }
          ],
          "contour": [
           {
            "colorbar": {
             "outlinewidth": 0,
             "ticks": ""
            },
            "colorscale": [
             [
              0,
              "#0d0887"
             ],
             [
              0.1111111111111111,
              "#46039f"
             ],
             [
              0.2222222222222222,
              "#7201a8"
             ],
             [
              0.3333333333333333,
              "#9c179e"
             ],
             [
              0.4444444444444444,
              "#bd3786"
             ],
             [
              0.5555555555555556,
              "#d8576b"
             ],
             [
              0.6666666666666666,
              "#ed7953"
             ],
             [
              0.7777777777777778,
              "#fb9f3a"
             ],
             [
              0.8888888888888888,
              "#fdca26"
             ],
             [
              1,
              "#f0f921"
             ]
            ],
            "type": "contour"
           }
          ],
          "contourcarpet": [
           {
            "colorbar": {
             "outlinewidth": 0,
             "ticks": ""
            },
            "type": "contourcarpet"
           }
          ],
          "heatmap": [
           {
            "colorbar": {
             "outlinewidth": 0,
             "ticks": ""
            },
            "colorscale": [
             [
              0,
              "#0d0887"
             ],
             [
              0.1111111111111111,
              "#46039f"
             ],
             [
              0.2222222222222222,
              "#7201a8"
             ],
             [
              0.3333333333333333,
              "#9c179e"
             ],
             [
              0.4444444444444444,
              "#bd3786"
             ],
             [
              0.5555555555555556,
              "#d8576b"
             ],
             [
              0.6666666666666666,
              "#ed7953"
             ],
             [
              0.7777777777777778,
              "#fb9f3a"
             ],
             [
              0.8888888888888888,
              "#fdca26"
             ],
             [
              1,
              "#f0f921"
             ]
            ],
            "type": "heatmap"
           }
          ],
          "histogram": [
           {
            "marker": {
             "pattern": {
              "fillmode": "overlay",
              "size": 10,
              "solidity": 0.2
             }
            },
            "type": "histogram"
           }
          ],
          "histogram2d": [
           {
            "colorbar": {
             "outlinewidth": 0,
             "ticks": ""
            },
            "colorscale": [
             [
              0,
              "#0d0887"
             ],
             [
              0.1111111111111111,
              "#46039f"
             ],
             [
              0.2222222222222222,
              "#7201a8"
             ],
             [
              0.3333333333333333,
              "#9c179e"
             ],
             [
              0.4444444444444444,
              "#bd3786"
             ],
             [
              0.5555555555555556,
              "#d8576b"
             ],
             [
              0.6666666666666666,
              "#ed7953"
             ],
             [
              0.7777777777777778,
              "#fb9f3a"
             ],
             [
              0.8888888888888888,
              "#fdca26"
             ],
             [
              1,
              "#f0f921"
             ]
            ],
            "type": "histogram2d"
           }
          ],
          "histogram2dcontour": [
           {
            "colorbar": {
             "outlinewidth": 0,
             "ticks": ""
            },
            "colorscale": [
             [
              0,
              "#0d0887"
             ],
             [
              0.1111111111111111,
              "#46039f"
             ],
             [
              0.2222222222222222,
              "#7201a8"
             ],
             [
              0.3333333333333333,
              "#9c179e"
             ],
             [
              0.4444444444444444,
              "#bd3786"
             ],
             [
              0.5555555555555556,
              "#d8576b"
             ],
             [
              0.6666666666666666,
              "#ed7953"
             ],
             [
              0.7777777777777778,
              "#fb9f3a"
             ],
             [
              0.8888888888888888,
              "#fdca26"
             ],
             [
              1,
              "#f0f921"
             ]
            ],
            "type": "histogram2dcontour"
           }
          ],
          "mesh3d": [
           {
            "colorbar": {
             "outlinewidth": 0,
             "ticks": ""
            },
            "type": "mesh3d"
           }
          ],
          "parcoords": [
           {
            "line": {
             "colorbar": {
              "outlinewidth": 0,
              "ticks": ""
             }
            },
            "type": "parcoords"
           }
          ],
          "pie": [
           {
            "automargin": true,
            "type": "pie"
           }
          ],
          "scatter": [
           {
            "fillpattern": {
             "fillmode": "overlay",
             "size": 10,
             "solidity": 0.2
            },
            "type": "scatter"
           }
          ],
          "scatter3d": [
           {
            "line": {
             "colorbar": {
              "outlinewidth": 0,
              "ticks": ""
             }
            },
            "marker": {
             "colorbar": {
              "outlinewidth": 0,
              "ticks": ""
             }
            },
            "type": "scatter3d"
           }
          ],
          "scattercarpet": [
           {
            "marker": {
             "colorbar": {
              "outlinewidth": 0,
              "ticks": ""
             }
            },
            "type": "scattercarpet"
           }
          ],
          "scattergeo": [
           {
            "marker": {
             "colorbar": {
              "outlinewidth": 0,
              "ticks": ""
             }
            },
            "type": "scattergeo"
           }
          ],
          "scattergl": [
           {
            "marker": {
             "colorbar": {
              "outlinewidth": 0,
              "ticks": ""
             }
            },
            "type": "scattergl"
           }
          ],
          "scattermap": [
           {
            "marker": {
             "colorbar": {
              "outlinewidth": 0,
              "ticks": ""
             }
            },
            "type": "scattermap"
           }
          ],
          "scattermapbox": [
           {
            "marker": {
             "colorbar": {
              "outlinewidth": 0,
              "ticks": ""
             }
            },
            "type": "scattermapbox"
           }
          ],
          "scatterpolar": [
           {
            "marker": {
             "colorbar": {
              "outlinewidth": 0,
              "ticks": ""
             }
            },
            "type": "scatterpolar"
           }
          ],
          "scatterpolargl": [
           {
            "marker": {
             "colorbar": {
              "outlinewidth": 0,
              "ticks": ""
             }
            },
            "type": "scatterpolargl"
           }
          ],
          "scatterternary": [
           {
            "marker": {
             "colorbar": {
              "outlinewidth": 0,
              "ticks": ""
             }
            },
            "type": "scatterternary"
           }
          ],
          "surface": [
           {
            "colorbar": {
             "outlinewidth": 0,
             "ticks": ""
            },
            "colorscale": [
             [
              0,
              "#0d0887"
             ],
             [
              0.1111111111111111,
              "#46039f"
             ],
             [
              0.2222222222222222,
              "#7201a8"
             ],
             [
              0.3333333333333333,
              "#9c179e"
             ],
             [
              0.4444444444444444,
              "#bd3786"
             ],
             [
              0.5555555555555556,
              "#d8576b"
             ],
             [
              0.6666666666666666,
              "#ed7953"
             ],
             [
              0.7777777777777778,
              "#fb9f3a"
             ],
             [
              0.8888888888888888,
              "#fdca26"
             ],
             [
              1,
              "#f0f921"
             ]
            ],
            "type": "surface"
           }
          ],
          "table": [
           {
            "cells": {
             "fill": {
              "color": "#EBF0F8"
             },
             "line": {
              "color": "white"
             }
            },
            "header": {
             "fill": {
              "color": "#C8D4E3"
             },
             "line": {
              "color": "white"
             }
            },
            "type": "table"
           }
          ]
         },
         "layout": {
          "annotationdefaults": {
           "arrowcolor": "#2a3f5f",
           "arrowhead": 0,
           "arrowwidth": 1
          },
          "autotypenumbers": "strict",
          "coloraxis": {
           "colorbar": {
            "outlinewidth": 0,
            "ticks": ""
           }
          },
          "colorscale": {
           "diverging": [
            [
             0,
             "#8e0152"
            ],
            [
             0.1,
             "#c51b7d"
            ],
            [
             0.2,
             "#de77ae"
            ],
            [
             0.3,
             "#f1b6da"
            ],
            [
             0.4,
             "#fde0ef"
            ],
            [
             0.5,
             "#f7f7f7"
            ],
            [
             0.6,
             "#e6f5d0"
            ],
            [
             0.7,
             "#b8e186"
            ],
            [
             0.8,
             "#7fbc41"
            ],
            [
             0.9,
             "#4d9221"
            ],
            [
             1,
             "#276419"
            ]
           ],
           "sequential": [
            [
             0,
             "#0d0887"
            ],
            [
             0.1111111111111111,
             "#46039f"
            ],
            [
             0.2222222222222222,
             "#7201a8"
            ],
            [
             0.3333333333333333,
             "#9c179e"
            ],
            [
             0.4444444444444444,
             "#bd3786"
            ],
            [
             0.5555555555555556,
             "#d8576b"
            ],
            [
             0.6666666666666666,
             "#ed7953"
            ],
            [
             0.7777777777777778,
             "#fb9f3a"
            ],
            [
             0.8888888888888888,
             "#fdca26"
            ],
            [
             1,
             "#f0f921"
            ]
           ],
           "sequentialminus": [
            [
             0,
             "#0d0887"
            ],
            [
             0.1111111111111111,
             "#46039f"
            ],
            [
             0.2222222222222222,
             "#7201a8"
            ],
            [
             0.3333333333333333,
             "#9c179e"
            ],
            [
             0.4444444444444444,
             "#bd3786"
            ],
            [
             0.5555555555555556,
             "#d8576b"
            ],
            [
             0.6666666666666666,
             "#ed7953"
            ],
            [
             0.7777777777777778,
             "#fb9f3a"
            ],
            [
             0.8888888888888888,
             "#fdca26"
            ],
            [
             1,
             "#f0f921"
            ]
           ]
          },
          "colorway": [
           "#636efa",
           "#EF553B",
           "#00cc96",
           "#ab63fa",
           "#FFA15A",
           "#19d3f3",
           "#FF6692",
           "#B6E880",
           "#FF97FF",
           "#FECB52"
          ],
          "font": {
           "color": "#2a3f5f"
          },
          "geo": {
           "bgcolor": "white",
           "lakecolor": "white",
           "landcolor": "#E5ECF6",
           "showlakes": true,
           "showland": true,
           "subunitcolor": "white"
          },
          "hoverlabel": {
           "align": "left"
          },
          "hovermode": "closest",
          "mapbox": {
           "style": "light"
          },
          "paper_bgcolor": "white",
          "plot_bgcolor": "#E5ECF6",
          "polar": {
           "angularaxis": {
            "gridcolor": "white",
            "linecolor": "white",
            "ticks": ""
           },
           "bgcolor": "#E5ECF6",
           "radialaxis": {
            "gridcolor": "white",
            "linecolor": "white",
            "ticks": ""
           }
          },
          "scene": {
           "xaxis": {
            "backgroundcolor": "#E5ECF6",
            "gridcolor": "white",
            "gridwidth": 2,
            "linecolor": "white",
            "showbackground": true,
            "ticks": "",
            "zerolinecolor": "white"
           },
           "yaxis": {
            "backgroundcolor": "#E5ECF6",
            "gridcolor": "white",
            "gridwidth": 2,
            "linecolor": "white",
            "showbackground": true,
            "ticks": "",
            "zerolinecolor": "white"
           },
           "zaxis": {
            "backgroundcolor": "#E5ECF6",
            "gridcolor": "white",
            "gridwidth": 2,
            "linecolor": "white",
            "showbackground": true,
            "ticks": "",
            "zerolinecolor": "white"
           }
          },
          "shapedefaults": {
           "line": {
            "color": "#2a3f5f"
           }
          },
          "ternary": {
           "aaxis": {
            "gridcolor": "white",
            "linecolor": "white",
            "ticks": ""
           },
           "baxis": {
            "gridcolor": "white",
            "linecolor": "white",
            "ticks": ""
           },
           "bgcolor": "#E5ECF6",
           "caxis": {
            "gridcolor": "white",
            "linecolor": "white",
            "ticks": ""
           }
          },
          "title": {
           "x": 0.05
          },
          "xaxis": {
           "automargin": true,
           "gridcolor": "white",
           "linecolor": "white",
           "ticks": "",
           "title": {
            "standoff": 15
           },
           "zerolinecolor": "white",
           "zerolinewidth": 2
          },
          "yaxis": {
           "automargin": true,
           "gridcolor": "white",
           "linecolor": "white",
           "ticks": "",
           "title": {
            "standoff": 15
           },
           "zerolinecolor": "white",
           "zerolinewidth": 2
          }
         }
        },
        "title": {
         "text": "Importância das Features - XGBoost - Ofertas BOGO"
        },
        "xaxis": {
         "title": {
          "text": "Importância"
         }
        },
        "yaxis": {
         "autorange": "reversed",
         "title": {
          "text": "Feature"
         }
        }
       }
      }
     },
     "metadata": {},
     "output_type": "display_data"
    }
   ],
   "source": [
    "xgb_model = bogo_models[\"XGBoost\"]\n",
    "importancias = xgb_model.feature_importances_\n",
    "nomes_features = X_b.columns\n",
    "\n",
    "# Criar DataFrame ordenado\n",
    "importancia_df = pd.DataFrame({\n",
    "    \"Feature\": nomes_features,\n",
    "    \"Importância\": importancias\n",
    "}).sort_values(by=\"Importância\", ascending=False)\n",
    "\n",
    "# Plot com plotly.graph_objects\n",
    "fig = go.Figure([\n",
    "    go.Bar(\n",
    "        x=importancia_df[\"Importância\"],\n",
    "        y=importancia_df[\"Feature\"],\n",
    "        orientation='h'\n",
    "    )\n",
    "])\n",
    "\n",
    "fig.update_layout(\n",
    "    title=\"Importância das Features - XGBoost - Ofertas BOGO\",\n",
    "    xaxis_title=\"Importância\",\n",
    "    yaxis_title=\"Feature\",\n",
    "    yaxis=dict(autorange=\"reversed\"),\n",
    "    height=600,\n",
    ")\n",
    "\n",
    "fig.show()"
   ]
  },
  {
   "cell_type": "code",
   "execution_count": 64,
   "id": "5d22aa85",
   "metadata": {},
   "outputs": [
    {
     "name": "stdout",
     "output_type": "stream",
     "text": [
      "              precision    recall  f1-score   support\n",
      "\n",
      "           0       0.75      0.66      0.71      3035\n",
      "           1       0.85      0.90      0.87      6299\n",
      "\n",
      "    accuracy                           0.82      9334\n",
      "   macro avg       0.80      0.78      0.79      9334\n",
      "weighted avg       0.82      0.82      0.82      9334\n",
      "\n"
     ]
    }
   ],
   "source": [
    "xgb_model = bogo_models[\"XGBoost\"]\n",
    "y_pred_b = xgb_model.predict(X_test_b)\n",
    "\n",
    "X_test_result = X_test_b.copy()\n",
    "X_test_result['target_true'] = y_test_b\n",
    "X_test_result['target_pred'] = y_pred_b\n",
    "X_test_result['not_converted_prob'] = xgb_model.predict_proba(X_test_b)[:, 0].round(3)\n",
    "X_test_result['converted_prob'] = xgb_model.predict_proba(X_test_b)[:, 1].round(3)\n",
    "\n",
    "print(classification_report(y_test_b, y_pred_b))"
   ]
  },
  {
   "cell_type": "code",
   "execution_count": 66,
   "id": "f644decf",
   "metadata": {},
   "outputs": [
    {
     "data": {
      "text/html": [
       "<div>\n",
       "<style scoped>\n",
       "    .dataframe tbody tr th:only-of-type {\n",
       "        vertical-align: middle;\n",
       "    }\n",
       "\n",
       "    .dataframe tbody tr th {\n",
       "        vertical-align: top;\n",
       "    }\n",
       "\n",
       "    .dataframe thead th {\n",
       "        text-align: right;\n",
       "    }\n",
       "</style>\n",
       "<table border=\"1\" class=\"dataframe\">\n",
       "  <thead>\n",
       "    <tr style=\"text-align: right;\">\n",
       "      <th></th>\n",
       "      <th></th>\n",
       "      <th>target_true</th>\n",
       "      <th>target_pred</th>\n",
       "      <th>not_converted_prob</th>\n",
       "      <th>converted_prob</th>\n",
       "    </tr>\n",
       "    <tr>\n",
       "      <th>account_id</th>\n",
       "      <th>offer_id</th>\n",
       "      <th></th>\n",
       "      <th></th>\n",
       "      <th></th>\n",
       "      <th></th>\n",
       "    </tr>\n",
       "  </thead>\n",
       "  <tbody>\n",
       "    <tr>\n",
       "      <th>0d1f4bc41883493ba6f72af2485bab65</th>\n",
       "      <th>ae264e3637204a6fb9bb56bc8210ddfd</th>\n",
       "      <td>1</td>\n",
       "      <td>1</td>\n",
       "      <td>0.036</td>\n",
       "      <td>0.964</td>\n",
       "    </tr>\n",
       "    <tr>\n",
       "      <th>db71cc5c39584742b495139b180daa20</th>\n",
       "      <th>ae264e3637204a6fb9bb56bc8210ddfd</th>\n",
       "      <td>0</td>\n",
       "      <td>0</td>\n",
       "      <td>0.917</td>\n",
       "      <td>0.083</td>\n",
       "    </tr>\n",
       "    <tr>\n",
       "      <th>095bc1a9b5f64d0f88ed616df292a3ec</th>\n",
       "      <th>f19421c1d4aa40978ebb69ca19b0e20d</th>\n",
       "      <td>1</td>\n",
       "      <td>1</td>\n",
       "      <td>0.347</td>\n",
       "      <td>0.653</td>\n",
       "    </tr>\n",
       "    <tr>\n",
       "      <th>16fb582d943d42c4a8a9865aaacf51d6</th>\n",
       "      <th>9b98b8c7a33c4b65b9aebfe6a799e6d9</th>\n",
       "      <td>1</td>\n",
       "      <td>0</td>\n",
       "      <td>0.602</td>\n",
       "      <td>0.398</td>\n",
       "    </tr>\n",
       "    <tr>\n",
       "      <th>3dfc442e93894be19a3f5e8cf7e9c779</th>\n",
       "      <th>9b98b8c7a33c4b65b9aebfe6a799e6d9</th>\n",
       "      <td>0</td>\n",
       "      <td>0</td>\n",
       "      <td>0.724</td>\n",
       "      <td>0.276</td>\n",
       "    </tr>\n",
       "    <tr>\n",
       "      <th>...</th>\n",
       "      <th>...</th>\n",
       "      <td>...</td>\n",
       "      <td>...</td>\n",
       "      <td>...</td>\n",
       "      <td>...</td>\n",
       "    </tr>\n",
       "    <tr>\n",
       "      <th>2d567d7e1ca546c69208142a66ae2c2c</th>\n",
       "      <th>f19421c1d4aa40978ebb69ca19b0e20d</th>\n",
       "      <td>0</td>\n",
       "      <td>1</td>\n",
       "      <td>0.377</td>\n",
       "      <td>0.623</td>\n",
       "    </tr>\n",
       "    <tr>\n",
       "      <th>d88cdfa2c2784945a1716ea39c03e6ae</th>\n",
       "      <th>9b98b8c7a33c4b65b9aebfe6a799e6d9</th>\n",
       "      <td>1</td>\n",
       "      <td>1</td>\n",
       "      <td>0.353</td>\n",
       "      <td>0.647</td>\n",
       "    </tr>\n",
       "    <tr>\n",
       "      <th>ccdf319d46c4438880b52e240c1a4397</th>\n",
       "      <th>9b98b8c7a33c4b65b9aebfe6a799e6d9</th>\n",
       "      <td>0</td>\n",
       "      <td>0</td>\n",
       "      <td>0.860</td>\n",
       "      <td>0.140</td>\n",
       "    </tr>\n",
       "    <tr>\n",
       "      <th>316ff0fdde4547b68c6aefe8d362f4f6</th>\n",
       "      <th>9b98b8c7a33c4b65b9aebfe6a799e6d9</th>\n",
       "      <td>1</td>\n",
       "      <td>1</td>\n",
       "      <td>0.143</td>\n",
       "      <td>0.857</td>\n",
       "    </tr>\n",
       "    <tr>\n",
       "      <th>cec1cdc6b77e41abbdce8903c5522e7e</th>\n",
       "      <th>f19421c1d4aa40978ebb69ca19b0e20d</th>\n",
       "      <td>1</td>\n",
       "      <td>1</td>\n",
       "      <td>0.413</td>\n",
       "      <td>0.587</td>\n",
       "    </tr>\n",
       "  </tbody>\n",
       "</table>\n",
       "<p>9334 rows × 4 columns</p>\n",
       "</div>"
      ],
      "text/plain": [
       "                                                                   target_true  \\\n",
       "account_id                       offer_id                                        \n",
       "0d1f4bc41883493ba6f72af2485bab65 ae264e3637204a6fb9bb56bc8210ddfd            1   \n",
       "db71cc5c39584742b495139b180daa20 ae264e3637204a6fb9bb56bc8210ddfd            0   \n",
       "095bc1a9b5f64d0f88ed616df292a3ec f19421c1d4aa40978ebb69ca19b0e20d            1   \n",
       "16fb582d943d42c4a8a9865aaacf51d6 9b98b8c7a33c4b65b9aebfe6a799e6d9            1   \n",
       "3dfc442e93894be19a3f5e8cf7e9c779 9b98b8c7a33c4b65b9aebfe6a799e6d9            0   \n",
       "...                                                                        ...   \n",
       "2d567d7e1ca546c69208142a66ae2c2c f19421c1d4aa40978ebb69ca19b0e20d            0   \n",
       "d88cdfa2c2784945a1716ea39c03e6ae 9b98b8c7a33c4b65b9aebfe6a799e6d9            1   \n",
       "ccdf319d46c4438880b52e240c1a4397 9b98b8c7a33c4b65b9aebfe6a799e6d9            0   \n",
       "316ff0fdde4547b68c6aefe8d362f4f6 9b98b8c7a33c4b65b9aebfe6a799e6d9            1   \n",
       "cec1cdc6b77e41abbdce8903c5522e7e f19421c1d4aa40978ebb69ca19b0e20d            1   \n",
       "\n",
       "                                                                   target_pred  \\\n",
       "account_id                       offer_id                                        \n",
       "0d1f4bc41883493ba6f72af2485bab65 ae264e3637204a6fb9bb56bc8210ddfd            1   \n",
       "db71cc5c39584742b495139b180daa20 ae264e3637204a6fb9bb56bc8210ddfd            0   \n",
       "095bc1a9b5f64d0f88ed616df292a3ec f19421c1d4aa40978ebb69ca19b0e20d            1   \n",
       "16fb582d943d42c4a8a9865aaacf51d6 9b98b8c7a33c4b65b9aebfe6a799e6d9            0   \n",
       "3dfc442e93894be19a3f5e8cf7e9c779 9b98b8c7a33c4b65b9aebfe6a799e6d9            0   \n",
       "...                                                                        ...   \n",
       "2d567d7e1ca546c69208142a66ae2c2c f19421c1d4aa40978ebb69ca19b0e20d            1   \n",
       "d88cdfa2c2784945a1716ea39c03e6ae 9b98b8c7a33c4b65b9aebfe6a799e6d9            1   \n",
       "ccdf319d46c4438880b52e240c1a4397 9b98b8c7a33c4b65b9aebfe6a799e6d9            0   \n",
       "316ff0fdde4547b68c6aefe8d362f4f6 9b98b8c7a33c4b65b9aebfe6a799e6d9            1   \n",
       "cec1cdc6b77e41abbdce8903c5522e7e f19421c1d4aa40978ebb69ca19b0e20d            1   \n",
       "\n",
       "                                                                   not_converted_prob  \\\n",
       "account_id                       offer_id                                               \n",
       "0d1f4bc41883493ba6f72af2485bab65 ae264e3637204a6fb9bb56bc8210ddfd               0.036   \n",
       "db71cc5c39584742b495139b180daa20 ae264e3637204a6fb9bb56bc8210ddfd               0.917   \n",
       "095bc1a9b5f64d0f88ed616df292a3ec f19421c1d4aa40978ebb69ca19b0e20d               0.347   \n",
       "16fb582d943d42c4a8a9865aaacf51d6 9b98b8c7a33c4b65b9aebfe6a799e6d9               0.602   \n",
       "3dfc442e93894be19a3f5e8cf7e9c779 9b98b8c7a33c4b65b9aebfe6a799e6d9               0.724   \n",
       "...                                                                               ...   \n",
       "2d567d7e1ca546c69208142a66ae2c2c f19421c1d4aa40978ebb69ca19b0e20d               0.377   \n",
       "d88cdfa2c2784945a1716ea39c03e6ae 9b98b8c7a33c4b65b9aebfe6a799e6d9               0.353   \n",
       "ccdf319d46c4438880b52e240c1a4397 9b98b8c7a33c4b65b9aebfe6a799e6d9               0.860   \n",
       "316ff0fdde4547b68c6aefe8d362f4f6 9b98b8c7a33c4b65b9aebfe6a799e6d9               0.143   \n",
       "cec1cdc6b77e41abbdce8903c5522e7e f19421c1d4aa40978ebb69ca19b0e20d               0.413   \n",
       "\n",
       "                                                                   converted_prob  \n",
       "account_id                       offer_id                                          \n",
       "0d1f4bc41883493ba6f72af2485bab65 ae264e3637204a6fb9bb56bc8210ddfd           0.964  \n",
       "db71cc5c39584742b495139b180daa20 ae264e3637204a6fb9bb56bc8210ddfd           0.083  \n",
       "095bc1a9b5f64d0f88ed616df292a3ec f19421c1d4aa40978ebb69ca19b0e20d           0.653  \n",
       "16fb582d943d42c4a8a9865aaacf51d6 9b98b8c7a33c4b65b9aebfe6a799e6d9           0.398  \n",
       "3dfc442e93894be19a3f5e8cf7e9c779 9b98b8c7a33c4b65b9aebfe6a799e6d9           0.276  \n",
       "...                                                                           ...  \n",
       "2d567d7e1ca546c69208142a66ae2c2c f19421c1d4aa40978ebb69ca19b0e20d           0.623  \n",
       "d88cdfa2c2784945a1716ea39c03e6ae 9b98b8c7a33c4b65b9aebfe6a799e6d9           0.647  \n",
       "ccdf319d46c4438880b52e240c1a4397 9b98b8c7a33c4b65b9aebfe6a799e6d9           0.140  \n",
       "316ff0fdde4547b68c6aefe8d362f4f6 9b98b8c7a33c4b65b9aebfe6a799e6d9           0.857  \n",
       "cec1cdc6b77e41abbdce8903c5522e7e f19421c1d4aa40978ebb69ca19b0e20d           0.587  \n",
       "\n",
       "[9334 rows x 4 columns]"
      ]
     },
     "execution_count": 66,
     "metadata": {},
     "output_type": "execute_result"
    }
   ],
   "source": [
    "X_test_result.drop(columns=X_test_b)"
   ]
  },
  {
   "cell_type": "markdown",
   "id": "dc584fa4",
   "metadata": {},
   "source": [
    "## Discount Model"
   ]
  },
  {
   "cell_type": "code",
   "execution_count": 62,
   "id": "0bba61da",
   "metadata": {},
   "outputs": [
    {
     "data": {
      "text/html": [
       "<div>\n",
       "<style scoped>\n",
       "    .dataframe tbody tr th:only-of-type {\n",
       "        vertical-align: middle;\n",
       "    }\n",
       "\n",
       "    .dataframe tbody tr th {\n",
       "        vertical-align: top;\n",
       "    }\n",
       "\n",
       "    .dataframe thead th {\n",
       "        text-align: right;\n",
       "    }\n",
       "</style>\n",
       "<table border=\"1\" class=\"dataframe\">\n",
       "  <thead>\n",
       "    <tr style=\"text-align: right;\">\n",
       "      <th></th>\n",
       "      <th>Modelo</th>\n",
       "      <th>AUC</th>\n",
       "      <th>Acurácia</th>\n",
       "    </tr>\n",
       "  </thead>\n",
       "  <tbody>\n",
       "    <tr>\n",
       "      <th>0</th>\n",
       "      <td>LogisticRegression</td>\n",
       "      <td>0.691175</td>\n",
       "      <td>0.803701</td>\n",
       "    </tr>\n",
       "    <tr>\n",
       "      <th>1</th>\n",
       "      <td>RandomForest</td>\n",
       "      <td>0.757795</td>\n",
       "      <td>0.836037</td>\n",
       "    </tr>\n",
       "    <tr>\n",
       "      <th>2</th>\n",
       "      <td>XGBoost</td>\n",
       "      <td>0.758656</td>\n",
       "      <td>0.829694</td>\n",
       "    </tr>\n",
       "  </tbody>\n",
       "</table>\n",
       "</div>"
      ],
      "text/plain": [
       "               Modelo       AUC  Acurácia\n",
       "0  LogisticRegression  0.691175  0.803701\n",
       "1        RandomForest  0.757795  0.836037\n",
       "2             XGBoost  0.758656  0.829694"
      ]
     },
     "execution_count": 62,
     "metadata": {},
     "output_type": "execute_result"
    }
   ],
   "source": [
    "df_features_discount = df_transaction_discount.set_index(['account_id', 'offer_id']).fillna(0)\n",
    "\n",
    "X_d = df_features_discount.drop(columns=['converted'])\n",
    "y_d = df_features_discount['converted']\n",
    "\n",
    "X_train_d, X_test_d, y_train_d, y_test_d = train_test_split(\n",
    "    X_d, y_d, test_size=0.3, random_state=42, stratify=y_d\n",
    ")\n",
    "\n",
    "discount_models = {\n",
    "    \"LogisticRegression\": LogisticRegression(max_iter=1000),\n",
    "    \"RandomForest\": RandomForestClassifier(n_estimators=100, random_state=42),\n",
    "    \"XGBoost\": XGBClassifier(use_label_encoder=False, eval_metric='logloss', random_state=42)\n",
    "}\n",
    "\n",
    "discount_results = []\n",
    "# Treinar e avaliar cada modelo\n",
    "for nome, modelo in discount_models.items():\n",
    "    modelo.fit(X_train_d, y_train_d)\n",
    "    y_pred_d = modelo.predict(X_test_d)\n",
    "    \n",
    "    discount_results.append({\n",
    "        'Modelo': nome,\n",
    "        'AUC': roc_auc_score(y_test_d, y_pred_d),\n",
    "        'Acurácia': accuracy_score(y_test_d, y_pred_d),\n",
    "    })\n",
    "\n",
    "df_discount_results = pd.DataFrame(discount_results)\n",
    "df_discount_results"
   ]
  },
  {
   "cell_type": "code",
   "execution_count": 63,
   "id": "7a6fb30c",
   "metadata": {},
   "outputs": [
    {
     "data": {
      "application/vnd.plotly.v1+json": {
       "config": {
        "plotlyServerURL": "https://plot.ly"
       },
       "data": [
        {
         "orientation": "h",
         "type": "bar",
         "x": {
          "bdata": "0EcDPvNa5D0jMqU9ChGgPaJLmj3dHoA9ItxLPeWHOT17aTc9CrUuPRkJDT0qTQQ9JyH4POq66TwC08w8DhTHPJwdxTwUk6w8qkmpPMqopTz4hqU8AAAAAA==",
          "dtype": "f4"
         },
         "y": [
          "min_value",
          "amount_sum",
          "completed_discount_sum",
          "duration",
          "registered_days",
          "gender_M",
          "transactions_sum",
          "received_discount_sum",
          "received_bogo_sum",
          "reward_sum",
          "credit_card_limit",
          "viewed_discount_sum",
          "completed_bogo_sum",
          "received_info_sum",
          "age",
          "gender_O",
          "viewed_bogo_sum",
          "viewed_info_sum",
          "gender_F",
          "discount_value",
          "random_feature",
          "completed_info_sum"
         ]
        }
       ],
       "layout": {
        "height": 600,
        "template": {
         "data": {
          "bar": [
           {
            "error_x": {
             "color": "#2a3f5f"
            },
            "error_y": {
             "color": "#2a3f5f"
            },
            "marker": {
             "line": {
              "color": "#E5ECF6",
              "width": 0.5
             },
             "pattern": {
              "fillmode": "overlay",
              "size": 10,
              "solidity": 0.2
             }
            },
            "type": "bar"
           }
          ],
          "barpolar": [
           {
            "marker": {
             "line": {
              "color": "#E5ECF6",
              "width": 0.5
             },
             "pattern": {
              "fillmode": "overlay",
              "size": 10,
              "solidity": 0.2
             }
            },
            "type": "barpolar"
           }
          ],
          "carpet": [
           {
            "aaxis": {
             "endlinecolor": "#2a3f5f",
             "gridcolor": "white",
             "linecolor": "white",
             "minorgridcolor": "white",
             "startlinecolor": "#2a3f5f"
            },
            "baxis": {
             "endlinecolor": "#2a3f5f",
             "gridcolor": "white",
             "linecolor": "white",
             "minorgridcolor": "white",
             "startlinecolor": "#2a3f5f"
            },
            "type": "carpet"
           }
          ],
          "choropleth": [
           {
            "colorbar": {
             "outlinewidth": 0,
             "ticks": ""
            },
            "type": "choropleth"
           }
          ],
          "contour": [
           {
            "colorbar": {
             "outlinewidth": 0,
             "ticks": ""
            },
            "colorscale": [
             [
              0,
              "#0d0887"
             ],
             [
              0.1111111111111111,
              "#46039f"
             ],
             [
              0.2222222222222222,
              "#7201a8"
             ],
             [
              0.3333333333333333,
              "#9c179e"
             ],
             [
              0.4444444444444444,
              "#bd3786"
             ],
             [
              0.5555555555555556,
              "#d8576b"
             ],
             [
              0.6666666666666666,
              "#ed7953"
             ],
             [
              0.7777777777777778,
              "#fb9f3a"
             ],
             [
              0.8888888888888888,
              "#fdca26"
             ],
             [
              1,
              "#f0f921"
             ]
            ],
            "type": "contour"
           }
          ],
          "contourcarpet": [
           {
            "colorbar": {
             "outlinewidth": 0,
             "ticks": ""
            },
            "type": "contourcarpet"
           }
          ],
          "heatmap": [
           {
            "colorbar": {
             "outlinewidth": 0,
             "ticks": ""
            },
            "colorscale": [
             [
              0,
              "#0d0887"
             ],
             [
              0.1111111111111111,
              "#46039f"
             ],
             [
              0.2222222222222222,
              "#7201a8"
             ],
             [
              0.3333333333333333,
              "#9c179e"
             ],
             [
              0.4444444444444444,
              "#bd3786"
             ],
             [
              0.5555555555555556,
              "#d8576b"
             ],
             [
              0.6666666666666666,
              "#ed7953"
             ],
             [
              0.7777777777777778,
              "#fb9f3a"
             ],
             [
              0.8888888888888888,
              "#fdca26"
             ],
             [
              1,
              "#f0f921"
             ]
            ],
            "type": "heatmap"
           }
          ],
          "histogram": [
           {
            "marker": {
             "pattern": {
              "fillmode": "overlay",
              "size": 10,
              "solidity": 0.2
             }
            },
            "type": "histogram"
           }
          ],
          "histogram2d": [
           {
            "colorbar": {
             "outlinewidth": 0,
             "ticks": ""
            },
            "colorscale": [
             [
              0,
              "#0d0887"
             ],
             [
              0.1111111111111111,
              "#46039f"
             ],
             [
              0.2222222222222222,
              "#7201a8"
             ],
             [
              0.3333333333333333,
              "#9c179e"
             ],
             [
              0.4444444444444444,
              "#bd3786"
             ],
             [
              0.5555555555555556,
              "#d8576b"
             ],
             [
              0.6666666666666666,
              "#ed7953"
             ],
             [
              0.7777777777777778,
              "#fb9f3a"
             ],
             [
              0.8888888888888888,
              "#fdca26"
             ],
             [
              1,
              "#f0f921"
             ]
            ],
            "type": "histogram2d"
           }
          ],
          "histogram2dcontour": [
           {
            "colorbar": {
             "outlinewidth": 0,
             "ticks": ""
            },
            "colorscale": [
             [
              0,
              "#0d0887"
             ],
             [
              0.1111111111111111,
              "#46039f"
             ],
             [
              0.2222222222222222,
              "#7201a8"
             ],
             [
              0.3333333333333333,
              "#9c179e"
             ],
             [
              0.4444444444444444,
              "#bd3786"
             ],
             [
              0.5555555555555556,
              "#d8576b"
             ],
             [
              0.6666666666666666,
              "#ed7953"
             ],
             [
              0.7777777777777778,
              "#fb9f3a"
             ],
             [
              0.8888888888888888,
              "#fdca26"
             ],
             [
              1,
              "#f0f921"
             ]
            ],
            "type": "histogram2dcontour"
           }
          ],
          "mesh3d": [
           {
            "colorbar": {
             "outlinewidth": 0,
             "ticks": ""
            },
            "type": "mesh3d"
           }
          ],
          "parcoords": [
           {
            "line": {
             "colorbar": {
              "outlinewidth": 0,
              "ticks": ""
             }
            },
            "type": "parcoords"
           }
          ],
          "pie": [
           {
            "automargin": true,
            "type": "pie"
           }
          ],
          "scatter": [
           {
            "fillpattern": {
             "fillmode": "overlay",
             "size": 10,
             "solidity": 0.2
            },
            "type": "scatter"
           }
          ],
          "scatter3d": [
           {
            "line": {
             "colorbar": {
              "outlinewidth": 0,
              "ticks": ""
             }
            },
            "marker": {
             "colorbar": {
              "outlinewidth": 0,
              "ticks": ""
             }
            },
            "type": "scatter3d"
           }
          ],
          "scattercarpet": [
           {
            "marker": {
             "colorbar": {
              "outlinewidth": 0,
              "ticks": ""
             }
            },
            "type": "scattercarpet"
           }
          ],
          "scattergeo": [
           {
            "marker": {
             "colorbar": {
              "outlinewidth": 0,
              "ticks": ""
             }
            },
            "type": "scattergeo"
           }
          ],
          "scattergl": [
           {
            "marker": {
             "colorbar": {
              "outlinewidth": 0,
              "ticks": ""
             }
            },
            "type": "scattergl"
           }
          ],
          "scattermap": [
           {
            "marker": {
             "colorbar": {
              "outlinewidth": 0,
              "ticks": ""
             }
            },
            "type": "scattermap"
           }
          ],
          "scattermapbox": [
           {
            "marker": {
             "colorbar": {
              "outlinewidth": 0,
              "ticks": ""
             }
            },
            "type": "scattermapbox"
           }
          ],
          "scatterpolar": [
           {
            "marker": {
             "colorbar": {
              "outlinewidth": 0,
              "ticks": ""
             }
            },
            "type": "scatterpolar"
           }
          ],
          "scatterpolargl": [
           {
            "marker": {
             "colorbar": {
              "outlinewidth": 0,
              "ticks": ""
             }
            },
            "type": "scatterpolargl"
           }
          ],
          "scatterternary": [
           {
            "marker": {
             "colorbar": {
              "outlinewidth": 0,
              "ticks": ""
             }
            },
            "type": "scatterternary"
           }
          ],
          "surface": [
           {
            "colorbar": {
             "outlinewidth": 0,
             "ticks": ""
            },
            "colorscale": [
             [
              0,
              "#0d0887"
             ],
             [
              0.1111111111111111,
              "#46039f"
             ],
             [
              0.2222222222222222,
              "#7201a8"
             ],
             [
              0.3333333333333333,
              "#9c179e"
             ],
             [
              0.4444444444444444,
              "#bd3786"
             ],
             [
              0.5555555555555556,
              "#d8576b"
             ],
             [
              0.6666666666666666,
              "#ed7953"
             ],
             [
              0.7777777777777778,
              "#fb9f3a"
             ],
             [
              0.8888888888888888,
              "#fdca26"
             ],
             [
              1,
              "#f0f921"
             ]
            ],
            "type": "surface"
           }
          ],
          "table": [
           {
            "cells": {
             "fill": {
              "color": "#EBF0F8"
             },
             "line": {
              "color": "white"
             }
            },
            "header": {
             "fill": {
              "color": "#C8D4E3"
             },
             "line": {
              "color": "white"
             }
            },
            "type": "table"
           }
          ]
         },
         "layout": {
          "annotationdefaults": {
           "arrowcolor": "#2a3f5f",
           "arrowhead": 0,
           "arrowwidth": 1
          },
          "autotypenumbers": "strict",
          "coloraxis": {
           "colorbar": {
            "outlinewidth": 0,
            "ticks": ""
           }
          },
          "colorscale": {
           "diverging": [
            [
             0,
             "#8e0152"
            ],
            [
             0.1,
             "#c51b7d"
            ],
            [
             0.2,
             "#de77ae"
            ],
            [
             0.3,
             "#f1b6da"
            ],
            [
             0.4,
             "#fde0ef"
            ],
            [
             0.5,
             "#f7f7f7"
            ],
            [
             0.6,
             "#e6f5d0"
            ],
            [
             0.7,
             "#b8e186"
            ],
            [
             0.8,
             "#7fbc41"
            ],
            [
             0.9,
             "#4d9221"
            ],
            [
             1,
             "#276419"
            ]
           ],
           "sequential": [
            [
             0,
             "#0d0887"
            ],
            [
             0.1111111111111111,
             "#46039f"
            ],
            [
             0.2222222222222222,
             "#7201a8"
            ],
            [
             0.3333333333333333,
             "#9c179e"
            ],
            [
             0.4444444444444444,
             "#bd3786"
            ],
            [
             0.5555555555555556,
             "#d8576b"
            ],
            [
             0.6666666666666666,
             "#ed7953"
            ],
            [
             0.7777777777777778,
             "#fb9f3a"
            ],
            [
             0.8888888888888888,
             "#fdca26"
            ],
            [
             1,
             "#f0f921"
            ]
           ],
           "sequentialminus": [
            [
             0,
             "#0d0887"
            ],
            [
             0.1111111111111111,
             "#46039f"
            ],
            [
             0.2222222222222222,
             "#7201a8"
            ],
            [
             0.3333333333333333,
             "#9c179e"
            ],
            [
             0.4444444444444444,
             "#bd3786"
            ],
            [
             0.5555555555555556,
             "#d8576b"
            ],
            [
             0.6666666666666666,
             "#ed7953"
            ],
            [
             0.7777777777777778,
             "#fb9f3a"
            ],
            [
             0.8888888888888888,
             "#fdca26"
            ],
            [
             1,
             "#f0f921"
            ]
           ]
          },
          "colorway": [
           "#636efa",
           "#EF553B",
           "#00cc96",
           "#ab63fa",
           "#FFA15A",
           "#19d3f3",
           "#FF6692",
           "#B6E880",
           "#FF97FF",
           "#FECB52"
          ],
          "font": {
           "color": "#2a3f5f"
          },
          "geo": {
           "bgcolor": "white",
           "lakecolor": "white",
           "landcolor": "#E5ECF6",
           "showlakes": true,
           "showland": true,
           "subunitcolor": "white"
          },
          "hoverlabel": {
           "align": "left"
          },
          "hovermode": "closest",
          "mapbox": {
           "style": "light"
          },
          "paper_bgcolor": "white",
          "plot_bgcolor": "#E5ECF6",
          "polar": {
           "angularaxis": {
            "gridcolor": "white",
            "linecolor": "white",
            "ticks": ""
           },
           "bgcolor": "#E5ECF6",
           "radialaxis": {
            "gridcolor": "white",
            "linecolor": "white",
            "ticks": ""
           }
          },
          "scene": {
           "xaxis": {
            "backgroundcolor": "#E5ECF6",
            "gridcolor": "white",
            "gridwidth": 2,
            "linecolor": "white",
            "showbackground": true,
            "ticks": "",
            "zerolinecolor": "white"
           },
           "yaxis": {
            "backgroundcolor": "#E5ECF6",
            "gridcolor": "white",
            "gridwidth": 2,
            "linecolor": "white",
            "showbackground": true,
            "ticks": "",
            "zerolinecolor": "white"
           },
           "zaxis": {
            "backgroundcolor": "#E5ECF6",
            "gridcolor": "white",
            "gridwidth": 2,
            "linecolor": "white",
            "showbackground": true,
            "ticks": "",
            "zerolinecolor": "white"
           }
          },
          "shapedefaults": {
           "line": {
            "color": "#2a3f5f"
           }
          },
          "ternary": {
           "aaxis": {
            "gridcolor": "white",
            "linecolor": "white",
            "ticks": ""
           },
           "baxis": {
            "gridcolor": "white",
            "linecolor": "white",
            "ticks": ""
           },
           "bgcolor": "#E5ECF6",
           "caxis": {
            "gridcolor": "white",
            "linecolor": "white",
            "ticks": ""
           }
          },
          "title": {
           "x": 0.05
          },
          "xaxis": {
           "automargin": true,
           "gridcolor": "white",
           "linecolor": "white",
           "ticks": "",
           "title": {
            "standoff": 15
           },
           "zerolinecolor": "white",
           "zerolinewidth": 2
          },
          "yaxis": {
           "automargin": true,
           "gridcolor": "white",
           "linecolor": "white",
           "ticks": "",
           "title": {
            "standoff": 15
           },
           "zerolinecolor": "white",
           "zerolinewidth": 2
          }
         }
        },
        "title": {
         "text": "Importância das Features - XGBoost - Ofertas Desconto"
        },
        "xaxis": {
         "title": {
          "text": "Importância"
         }
        },
        "yaxis": {
         "autorange": "reversed",
         "title": {
          "text": "Feature"
         }
        }
       }
      }
     },
     "metadata": {},
     "output_type": "display_data"
    }
   ],
   "source": [
    "xgb_model = discount_models[\"XGBoost\"]\n",
    "importancias = xgb_model.feature_importances_\n",
    "nomes_features = X_d.columns\n",
    "\n",
    "# Criar DataFrame ordenado\n",
    "importancia_df = pd.DataFrame({\n",
    "    \"Feature\": nomes_features,\n",
    "    \"Importância\": importancias\n",
    "}).sort_values(by=\"Importância\", ascending=False)\n",
    "\n",
    "# Plot com plotly.graph_objects\n",
    "fig = go.Figure([\n",
    "    go.Bar(\n",
    "        x=importancia_df[\"Importância\"],\n",
    "        y=importancia_df[\"Feature\"],\n",
    "        orientation='h'\n",
    "    )\n",
    "])\n",
    "\n",
    "fig.update_layout(\n",
    "    title=\"Importância das Features - XGBoost - Ofertas Desconto\",\n",
    "    xaxis_title=\"Importância\",\n",
    "    yaxis_title=\"Feature\",\n",
    "    yaxis=dict(autorange=\"reversed\"),\n",
    "    height=600,\n",
    ")\n",
    "\n",
    "fig.show()"
   ]
  },
  {
   "cell_type": "code",
   "execution_count": 67,
   "id": "e9c3d5a8",
   "metadata": {},
   "outputs": [
    {
     "name": "stdout",
     "output_type": "stream",
     "text": [
      "              precision    recall  f1-score   support\n",
      "\n",
      "           0       0.71      0.61      0.65      2541\n",
      "           1       0.87      0.91      0.89      7077\n",
      "\n",
      "    accuracy                           0.83      9618\n",
      "   macro avg       0.79      0.76      0.77      9618\n",
      "weighted avg       0.82      0.83      0.83      9618\n",
      "\n"
     ]
    }
   ],
   "source": [
    "xgb_model = discount_models[\"XGBoost\"]\n",
    "y_pred_d = xgb_model.predict(X_test_d)\n",
    "\n",
    "X_test_result = X_test_d.copy()\n",
    "X_test_result['target_true'] = y_test_d\n",
    "X_test_result['target_pred'] = y_pred_d\n",
    "X_test_result['not_converted_prob'] = xgb_model.predict_proba(X_test_d)[:, 0].round(3)\n",
    "X_test_result['converted_prob'] = xgb_model.predict_proba(X_test_d)[:, 1].round(3)\n",
    "\n",
    "print(classification_report(y_test_d, y_pred_d))"
   ]
  },
  {
   "cell_type": "code",
   "execution_count": 68,
   "id": "0020f7c7",
   "metadata": {},
   "outputs": [
    {
     "data": {
      "text/html": [
       "<div>\n",
       "<style scoped>\n",
       "    .dataframe tbody tr th:only-of-type {\n",
       "        vertical-align: middle;\n",
       "    }\n",
       "\n",
       "    .dataframe tbody tr th {\n",
       "        vertical-align: top;\n",
       "    }\n",
       "\n",
       "    .dataframe thead th {\n",
       "        text-align: right;\n",
       "    }\n",
       "</style>\n",
       "<table border=\"1\" class=\"dataframe\">\n",
       "  <thead>\n",
       "    <tr style=\"text-align: right;\">\n",
       "      <th></th>\n",
       "      <th></th>\n",
       "      <th>target_true</th>\n",
       "      <th>target_pred</th>\n",
       "      <th>not_converted_prob</th>\n",
       "      <th>converted_prob</th>\n",
       "    </tr>\n",
       "    <tr>\n",
       "      <th>account_id</th>\n",
       "      <th>offer_id</th>\n",
       "      <th></th>\n",
       "      <th></th>\n",
       "      <th></th>\n",
       "      <th></th>\n",
       "    </tr>\n",
       "  </thead>\n",
       "  <tbody>\n",
       "    <tr>\n",
       "      <th>93893ec00b5346228088f867e6164b1e</th>\n",
       "      <th>fafdcd668e3743c1bb461111dcafc2a4</th>\n",
       "      <td>1</td>\n",
       "      <td>1</td>\n",
       "      <td>0.005</td>\n",
       "      <td>0.995</td>\n",
       "    </tr>\n",
       "    <tr>\n",
       "      <th>9f9651ad180f4b6291a58455eee9f2ff</th>\n",
       "      <th>fafdcd668e3743c1bb461111dcafc2a4</th>\n",
       "      <td>0</td>\n",
       "      <td>1</td>\n",
       "      <td>0.044</td>\n",
       "      <td>0.956</td>\n",
       "    </tr>\n",
       "    <tr>\n",
       "      <th>397e33ebb12e4a3aa1e8ec840c84d104</th>\n",
       "      <th>2298d6c36e964ae4a3e7e9706d1fb8c2</th>\n",
       "      <td>1</td>\n",
       "      <td>1</td>\n",
       "      <td>0.004</td>\n",
       "      <td>0.996</td>\n",
       "    </tr>\n",
       "    <tr>\n",
       "      <th>91b4ec7019ad47538ba7a3b82f1119af</th>\n",
       "      <th>2298d6c36e964ae4a3e7e9706d1fb8c2</th>\n",
       "      <td>1</td>\n",
       "      <td>1</td>\n",
       "      <td>0.022</td>\n",
       "      <td>0.978</td>\n",
       "    </tr>\n",
       "    <tr>\n",
       "      <th>8d30c524932649a5b4021e56f6ad9580</th>\n",
       "      <th>2906b810c7d4411798c6938adc9daaa5</th>\n",
       "      <td>0</td>\n",
       "      <td>1</td>\n",
       "      <td>0.046</td>\n",
       "      <td>0.954</td>\n",
       "    </tr>\n",
       "    <tr>\n",
       "      <th>...</th>\n",
       "      <th>...</th>\n",
       "      <td>...</td>\n",
       "      <td>...</td>\n",
       "      <td>...</td>\n",
       "      <td>...</td>\n",
       "    </tr>\n",
       "    <tr>\n",
       "      <th>6fb5a191d0d6459fbfb659bb14a3101e</th>\n",
       "      <th>0b1e1539f2cc45b7b9fa7c272da2e1d7</th>\n",
       "      <td>1</td>\n",
       "      <td>1</td>\n",
       "      <td>0.043</td>\n",
       "      <td>0.957</td>\n",
       "    </tr>\n",
       "    <tr>\n",
       "      <th>8fc40f08bcc7442796802b19ffcc9e04</th>\n",
       "      <th>0b1e1539f2cc45b7b9fa7c272da2e1d7</th>\n",
       "      <td>1</td>\n",
       "      <td>1</td>\n",
       "      <td>0.130</td>\n",
       "      <td>0.870</td>\n",
       "    </tr>\n",
       "    <tr>\n",
       "      <th>b5b515ff26234d548bad3558992d1389</th>\n",
       "      <th>fafdcd668e3743c1bb461111dcafc2a4</th>\n",
       "      <td>0</td>\n",
       "      <td>1</td>\n",
       "      <td>0.198</td>\n",
       "      <td>0.802</td>\n",
       "    </tr>\n",
       "    <tr>\n",
       "      <th>bfdf513e4761437a920fe955751069d4</th>\n",
       "      <th>2906b810c7d4411798c6938adc9daaa5</th>\n",
       "      <td>1</td>\n",
       "      <td>1</td>\n",
       "      <td>0.148</td>\n",
       "      <td>0.852</td>\n",
       "    </tr>\n",
       "    <tr>\n",
       "      <th>95b1980ece724d3e819c9aa7617ee3e1</th>\n",
       "      <th>2298d6c36e964ae4a3e7e9706d1fb8c2</th>\n",
       "      <td>1</td>\n",
       "      <td>1</td>\n",
       "      <td>0.063</td>\n",
       "      <td>0.937</td>\n",
       "    </tr>\n",
       "  </tbody>\n",
       "</table>\n",
       "<p>9618 rows × 4 columns</p>\n",
       "</div>"
      ],
      "text/plain": [
       "                                                                   target_true  \\\n",
       "account_id                       offer_id                                        \n",
       "93893ec00b5346228088f867e6164b1e fafdcd668e3743c1bb461111dcafc2a4            1   \n",
       "9f9651ad180f4b6291a58455eee9f2ff fafdcd668e3743c1bb461111dcafc2a4            0   \n",
       "397e33ebb12e4a3aa1e8ec840c84d104 2298d6c36e964ae4a3e7e9706d1fb8c2            1   \n",
       "91b4ec7019ad47538ba7a3b82f1119af 2298d6c36e964ae4a3e7e9706d1fb8c2            1   \n",
       "8d30c524932649a5b4021e56f6ad9580 2906b810c7d4411798c6938adc9daaa5            0   \n",
       "...                                                                        ...   \n",
       "6fb5a191d0d6459fbfb659bb14a3101e 0b1e1539f2cc45b7b9fa7c272da2e1d7            1   \n",
       "8fc40f08bcc7442796802b19ffcc9e04 0b1e1539f2cc45b7b9fa7c272da2e1d7            1   \n",
       "b5b515ff26234d548bad3558992d1389 fafdcd668e3743c1bb461111dcafc2a4            0   \n",
       "bfdf513e4761437a920fe955751069d4 2906b810c7d4411798c6938adc9daaa5            1   \n",
       "95b1980ece724d3e819c9aa7617ee3e1 2298d6c36e964ae4a3e7e9706d1fb8c2            1   \n",
       "\n",
       "                                                                   target_pred  \\\n",
       "account_id                       offer_id                                        \n",
       "93893ec00b5346228088f867e6164b1e fafdcd668e3743c1bb461111dcafc2a4            1   \n",
       "9f9651ad180f4b6291a58455eee9f2ff fafdcd668e3743c1bb461111dcafc2a4            1   \n",
       "397e33ebb12e4a3aa1e8ec840c84d104 2298d6c36e964ae4a3e7e9706d1fb8c2            1   \n",
       "91b4ec7019ad47538ba7a3b82f1119af 2298d6c36e964ae4a3e7e9706d1fb8c2            1   \n",
       "8d30c524932649a5b4021e56f6ad9580 2906b810c7d4411798c6938adc9daaa5            1   \n",
       "...                                                                        ...   \n",
       "6fb5a191d0d6459fbfb659bb14a3101e 0b1e1539f2cc45b7b9fa7c272da2e1d7            1   \n",
       "8fc40f08bcc7442796802b19ffcc9e04 0b1e1539f2cc45b7b9fa7c272da2e1d7            1   \n",
       "b5b515ff26234d548bad3558992d1389 fafdcd668e3743c1bb461111dcafc2a4            1   \n",
       "bfdf513e4761437a920fe955751069d4 2906b810c7d4411798c6938adc9daaa5            1   \n",
       "95b1980ece724d3e819c9aa7617ee3e1 2298d6c36e964ae4a3e7e9706d1fb8c2            1   \n",
       "\n",
       "                                                                   not_converted_prob  \\\n",
       "account_id                       offer_id                                               \n",
       "93893ec00b5346228088f867e6164b1e fafdcd668e3743c1bb461111dcafc2a4               0.005   \n",
       "9f9651ad180f4b6291a58455eee9f2ff fafdcd668e3743c1bb461111dcafc2a4               0.044   \n",
       "397e33ebb12e4a3aa1e8ec840c84d104 2298d6c36e964ae4a3e7e9706d1fb8c2               0.004   \n",
       "91b4ec7019ad47538ba7a3b82f1119af 2298d6c36e964ae4a3e7e9706d1fb8c2               0.022   \n",
       "8d30c524932649a5b4021e56f6ad9580 2906b810c7d4411798c6938adc9daaa5               0.046   \n",
       "...                                                                               ...   \n",
       "6fb5a191d0d6459fbfb659bb14a3101e 0b1e1539f2cc45b7b9fa7c272da2e1d7               0.043   \n",
       "8fc40f08bcc7442796802b19ffcc9e04 0b1e1539f2cc45b7b9fa7c272da2e1d7               0.130   \n",
       "b5b515ff26234d548bad3558992d1389 fafdcd668e3743c1bb461111dcafc2a4               0.198   \n",
       "bfdf513e4761437a920fe955751069d4 2906b810c7d4411798c6938adc9daaa5               0.148   \n",
       "95b1980ece724d3e819c9aa7617ee3e1 2298d6c36e964ae4a3e7e9706d1fb8c2               0.063   \n",
       "\n",
       "                                                                   converted_prob  \n",
       "account_id                       offer_id                                          \n",
       "93893ec00b5346228088f867e6164b1e fafdcd668e3743c1bb461111dcafc2a4           0.995  \n",
       "9f9651ad180f4b6291a58455eee9f2ff fafdcd668e3743c1bb461111dcafc2a4           0.956  \n",
       "397e33ebb12e4a3aa1e8ec840c84d104 2298d6c36e964ae4a3e7e9706d1fb8c2           0.996  \n",
       "91b4ec7019ad47538ba7a3b82f1119af 2298d6c36e964ae4a3e7e9706d1fb8c2           0.978  \n",
       "8d30c524932649a5b4021e56f6ad9580 2906b810c7d4411798c6938adc9daaa5           0.954  \n",
       "...                                                                           ...  \n",
       "6fb5a191d0d6459fbfb659bb14a3101e 0b1e1539f2cc45b7b9fa7c272da2e1d7           0.957  \n",
       "8fc40f08bcc7442796802b19ffcc9e04 0b1e1539f2cc45b7b9fa7c272da2e1d7           0.870  \n",
       "b5b515ff26234d548bad3558992d1389 fafdcd668e3743c1bb461111dcafc2a4           0.802  \n",
       "bfdf513e4761437a920fe955751069d4 2906b810c7d4411798c6938adc9daaa5           0.852  \n",
       "95b1980ece724d3e819c9aa7617ee3e1 2298d6c36e964ae4a3e7e9706d1fb8c2           0.937  \n",
       "\n",
       "[9618 rows x 4 columns]"
      ]
     },
     "execution_count": 68,
     "metadata": {},
     "output_type": "execute_result"
    }
   ],
   "source": [
    "X_test_result.drop(columns=X_test_b)"
   ]
  }
 ],
 "metadata": {
  "kernelspec": {
   "display_name": ".env",
   "language": "python",
   "name": "python3"
  },
  "language_info": {
   "codemirror_mode": {
    "name": "ipython",
    "version": 3
   },
   "file_extension": ".py",
   "mimetype": "text/x-python",
   "name": "python",
   "nbconvert_exporter": "python",
   "pygments_lexer": "ipython3",
   "version": "3.12.8"
  }
 },
 "nbformat": 4,
 "nbformat_minor": 5
}
