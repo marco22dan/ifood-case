{
 "cells": [
  {
   "cell_type": "code",
   "execution_count": 41,
   "id": "45ee841d",
   "metadata": {},
   "outputs": [],
   "source": [
    "import pandas as pd\n",
    "import numpy as np\n",
    "\n",
    "import  pyspark.sql. functions as F\n",
    "import pyspark.sql.types as T\n",
    "\n",
    "from pyspark.sql import SparkSession\n",
    "from pyspark.sql.window import Window\n",
    "from sklearn.model_selection import train_test_split\n",
    "from sklearn.linear_model import LogisticRegression\n",
    "from sklearn.ensemble import RandomForestClassifier\n",
    "from xgboost import XGBClassifier\n",
    "from sklearn.metrics import accuracy_score, f1_score, roc_auc_score, classification_report\n",
    "\n",
    "import plotly.graph_objects as go\n",
    "\n",
    "import warnings\n",
    "warnings.filterwarnings('ignore')\n",
    "pd.set_option('display.max_columns', None)\n",
    "\n",
    "spark = SparkSession.builder.appName(\"iFood Case\").master(\"local[*]\").getOrCreate()"
   ]
  },
  {
   "cell_type": "code",
   "execution_count": 36,
   "id": "9ce07f3b",
   "metadata": {},
   "outputs": [],
   "source": [
    "BASE_PATH = '/home/marco/ifood-case'\n",
    "DATA_PROCESSED_PATH = BASE_PATH + '/data/processed/'"
   ]
  },
  {
   "cell_type": "code",
   "execution_count": 42,
   "id": "c21aae71",
   "metadata": {},
   "outputs": [],
   "source": [
    "df_profile = spark.read.csv(DATA_PROCESSED_PATH + 'profile_processed.csv', header=True, inferSchema=True)\n",
    "df_offers = spark.read.csv(DATA_PROCESSED_PATH + 'offers_processed.csv', header=True, inferSchema=True)\n",
    "df_transactions = spark.read.csv(DATA_PROCESSED_PATH + 'event_transaction_processed.csv', header=True, inferSchema=True)\n",
    "df_offer_received = spark.read.csv(DATA_PROCESSED_PATH + 'event_offer_received_processed.csv', header=True, inferSchema=True)\n",
    "df_offer_viewed = spark.read.csv(DATA_PROCESSED_PATH + 'event_offer_viewed_processed.csv', header=True, inferSchema=True)\n",
    "df_offer_completed = spark.read.csv(DATA_PROCESSED_PATH + 'event_offer_completed_processed.csv', header=True, inferSchema=True)"
   ]
  },
  {
   "cell_type": "markdown",
   "id": "10bb7b11",
   "metadata": {},
   "source": [
    "## Feature Engineering"
   ]
  },
  {
   "cell_type": "code",
   "execution_count": 43,
   "id": "df2ce781",
   "metadata": {},
   "outputs": [],
   "source": [
    "df_offer_transactions_tl = (\n",
    "    df_transactions\n",
    "    .join(\n",
    "        df_offer_completed,\n",
    "        on=['account_id', 'transaction_time',],\n",
    "        how='left'\n",
    "    )\n",
    "    .withColumn('event', F.when(\n",
    "        F.col('offer_id').isNotNull(), F.lit('offer completed')).otherwise(F.lit('transaction'))\n",
    "    )\n",
    "    .select([\n",
    "        F.col('account_id'),\n",
    "        F.col('offer_id'),\n",
    "        F.col('transaction_time').alias('time'),\n",
    "        F.col('event'),\n",
    "        F.col('amount'),\n",
    "        F.col('reward')\n",
    "    ])\n",
    "    .fillna(0, subset=['amount', 'reward'])\n",
    ")\n",
    "\n",
    "df_offer_received_tl = (\n",
    "    df_offer_received\n",
    "    .select([\n",
    "        F.col('account_id'),\n",
    "        F.col('offer_id'),\n",
    "        F.col('received_time').alias('time'),\n",
    "        F.lit('offer received').alias('event'),\n",
    "        F.lit(0).alias('amount'),\n",
    "        F.lit(0).alias('reward')\n",
    "    ])\n",
    ")\n",
    "\n",
    "df_offer_viewed_tl = (\n",
    "    df_offer_viewed\n",
    "    .select([\n",
    "        F.col('account_id'),\n",
    "        F.col('offer_id'),\n",
    "        F.col('viewed_time').alias('time'),\n",
    "        F.lit('offer viewed').alias('event'),\n",
    "        F.lit(0).alias('amount'),\n",
    "        F.lit(0).alias('reward')\n",
    "    ])\n",
    ")"
   ]
  },
  {
   "cell_type": "code",
   "execution_count": 44,
   "id": "0aebf563",
   "metadata": {},
   "outputs": [],
   "source": [
    "df_timeline_features = (\n",
    "    df_offer_transactions_tl\n",
    "    .union(df_offer_received_tl)\n",
    "    .union(df_offer_viewed_tl)\n",
    "    .orderBy(['account_id', 'time'])\n",
    "    .join(\n",
    "        df_offers,\n",
    "        on='offer_id',\n",
    "        how='left'\n",
    "    )\n",
    "    .withColumn('transactions_count', \n",
    "        (F.col('event') == 'transaction').cast(T.IntegerType())\n",
    "    )\n",
    "    .withColumn('received_bogo_count', \n",
    "        ((F.col('event') == 'offer received') & \n",
    "         (F.col('offer_type') == 'bogo')).cast(T.IntegerType())\n",
    "    )\n",
    "    .withColumn('received_discount_count', \n",
    "        ((F.col('event') == 'offer received') & \n",
    "         (F.col('offer_type') == 'discount')).cast(T.IntegerType())\n",
    "    )\n",
    "    .withColumn('received_info_count', \n",
    "        ((F.col('event') == 'offer received') & \n",
    "         (F.col('offer_type') == 'informational')).cast(T.IntegerType())\n",
    "    )\n",
    "    .withColumn('viewed_bogo_count', \n",
    "        ((F.col('event') == 'offer viewed') & \n",
    "         (F.col('offer_type') == 'bogo')).cast(T.IntegerType())\n",
    "    )\n",
    "    .withColumn('viewed_discount_count', \n",
    "        ((F.col('event') == 'offer viewed') & \n",
    "         (F.col('offer_type') == 'discount')).cast(T.IntegerType())\n",
    "    )\n",
    "    .withColumn('viewed_info_count', \n",
    "        ((F.col('event') == 'offer viewed') & \n",
    "         (F.col('offer_type') == 'informational')).cast(T.IntegerType())\n",
    "    )\n",
    "    .withColumn('completed_bogo_count', \n",
    "        ((F.col('event') == 'offer completed') & \n",
    "         (F.col('offer_type') == 'bogo')).cast(T.IntegerType())\n",
    "    )\n",
    "    .withColumn('completed_discount_count', \n",
    "        ((F.col('event') == 'offer completed') & \n",
    "         (F.col('offer_type') == 'discount')).cast(T.IntegerType())\n",
    "    )\n",
    "    .withColumn('completed_info_count', \n",
    "        ((F.col('event') == 'offer completed') & \n",
    "         (F.col('offer_type') == 'informational')).cast(T.IntegerType())\n",
    "    )\n",
    ")\n",
    "\n",
    "w = Window.partitionBy('account_id').orderBy('time').rowsBetween(Window.unboundedPreceding, Window.currentRow)\n",
    "\n",
    "df_timeline_features = (\n",
    "    df_timeline_features\n",
    "    .groupBy(['account_id', 'time']).sum()\n",
    "    .withColumn('total_amount', F.round(F.sum('sum(amount)').over(w), 2))\n",
    "    .withColumn('total_reward', F.round(F.sum('sum(reward)').over(w), 2))\n",
    "    .withColumn('total_transactions', F.sum('sum(transactions_count)').over(w))\n",
    "    .withColumn('total_received_bogo', F.sum('sum(received_bogo_count)').over(w))\n",
    "    .withColumn('total_received_discount', F.sum('sum(received_discount_count)').over(w))\n",
    "    .withColumn('total_received_info', F.sum('sum(received_info_count)').over(w))\n",
    "    .withColumn('total_viewed_bogo', F.sum('sum(viewed_bogo_count)').over(w))\n",
    "    .withColumn('total_viewed_discount', F.sum('sum(viewed_discount_count)').over(w))\n",
    "    .withColumn('total_viewed_info', F.sum('sum(viewed_info_count)').over(w))\n",
    "    .withColumn('total_completed_bogo', F.sum('sum(completed_bogo_count)').over(w))\n",
    "    .withColumn('total_completed_discount', F.sum('sum(completed_discount_count)').over(w))\n",
    "    .withColumn('total_completed_info', F.sum('sum(completed_info_count)').over(w))\n",
    ")\n",
    "\n",
    "drop_agg_cols = [col for col in df_timeline_features.columns if col.startswith('sum(')]\n",
    "df_timeline_features = df_timeline_features.drop(*drop_agg_cols)"
   ]
  },
  {
   "cell_type": "code",
   "execution_count": 65,
   "id": "705fb50c",
   "metadata": {},
   "outputs": [],
   "source": [
    "df_offers_scope = (\n",
    "    df_offers\n",
    "    .filter(F.col('offer_type').isin(['bogo', 'discount']))\n",
    "    .drop('channels')\n",
    "    .dropDuplicates()\n",
    ")\n",
    "\n",
    "df_offer_event_features = (\n",
    "    df_transactions\n",
    "    .join(\n",
    "        df_offer_completed, \n",
    "        on=['account_id', 'transaction_time'], \n",
    "        how='left'\n",
    "    )\n",
    "    .join(\n",
    "        df_offer_received.drop('amount', 'reward'), \n",
    "        on=['account_id', 'offer_id'], \n",
    "        how='outer'\n",
    "    )\n",
    "    .join(\n",
    "        df_offers_scope, \n",
    "        on=['offer_id'], \n",
    "        how='inner'\n",
    "    )\n",
    "    .withColumn('offer_consumed', F.col('transaction_time').isNotNull().cast(T.IntegerType()))\n",
    "    .drop('transaction_time', 'amount', 'reward')\n",
    "    .withColumnRenamed('received_time', 'time')\n",
    ")"
   ]
  },
  {
   "cell_type": "code",
   "execution_count": 66,
   "id": "b5d293be",
   "metadata": {},
   "outputs": [],
   "source": [
    "df_bogo_features = (\n",
    "    df_offer_event_features\n",
    "    .filter(F.col('offer_type') == 'bogo')\n",
    "    .join(\n",
    "        df_profile, \n",
    "        on=['account_id'], \n",
    "        how='inner'\n",
    "    )\n",
    "    .join(\n",
    "        df_timeline_features, \n",
    "        on=['account_id', 'time'],\n",
    "        how='left'\n",
    "    )\n",
    "    .drop('offer_type')\n",
    "    .dropDuplicates()\n",
    ")\n",
    "\n",
    "df_discount_features = (\n",
    "    df_offer_event_features\n",
    "    .filter(F.col('offer_type') == 'discount')\n",
    "    .join(\n",
    "        df_profile, \n",
    "        on=['account_id'], \n",
    "        how='inner'\n",
    "    )\n",
    "    .join(\n",
    "        df_timeline_features, \n",
    "        on=['account_id', 'time'],\n",
    "        how='left'\n",
    "    )\n",
    "    .drop('offer_type')\n",
    "    .dropDuplicates()\n",
    ")"
   ]
  },
  {
   "cell_type": "markdown",
   "id": "5a50299e",
   "metadata": {},
   "source": [
    "# Test Classification"
   ]
  },
  {
   "cell_type": "code",
   "execution_count": 67,
   "id": "1aaa8f4a",
   "metadata": {},
   "outputs": [],
   "source": [
    "df_transaction_bogo = df_bogo_features.toPandas()\n",
    "df_transaction_discount = df_discount_features.toPandas()"
   ]
  },
  {
   "cell_type": "code",
   "execution_count": 70,
   "id": "fe0f9475",
   "metadata": {},
   "outputs": [
    {
     "data": {
      "text/plain": [
       "offer_consumed\n",
       "1    0.618796\n",
       "0    0.381204\n",
       "Name: proportion, dtype: float64"
      ]
     },
     "execution_count": 70,
     "metadata": {},
     "output_type": "execute_result"
    }
   ],
   "source": [
    "df_transaction_bogo['offer_consumed'].value_counts(normalize=True)"
   ]
  },
  {
   "cell_type": "markdown",
   "id": "fed7608f",
   "metadata": {},
   "source": [
    "## BOGO Model"
   ]
  },
  {
   "cell_type": "code",
   "execution_count": 71,
   "id": "0ccf5be3",
   "metadata": {},
   "outputs": [
    {
     "data": {
      "text/html": [
       "<div>\n",
       "<style scoped>\n",
       "    .dataframe tbody tr th:only-of-type {\n",
       "        vertical-align: middle;\n",
       "    }\n",
       "\n",
       "    .dataframe tbody tr th {\n",
       "        vertical-align: top;\n",
       "    }\n",
       "\n",
       "    .dataframe thead th {\n",
       "        text-align: right;\n",
       "    }\n",
       "</style>\n",
       "<table border=\"1\" class=\"dataframe\">\n",
       "  <thead>\n",
       "    <tr style=\"text-align: right;\">\n",
       "      <th></th>\n",
       "      <th>Modelo</th>\n",
       "      <th>AUC</th>\n",
       "      <th>Acurácia</th>\n",
       "    </tr>\n",
       "  </thead>\n",
       "  <tbody>\n",
       "    <tr>\n",
       "      <th>0</th>\n",
       "      <td>LogisticRegression</td>\n",
       "      <td>0.724048</td>\n",
       "      <td>0.750942</td>\n",
       "    </tr>\n",
       "    <tr>\n",
       "      <th>1</th>\n",
       "      <td>RandomForest</td>\n",
       "      <td>0.748015</td>\n",
       "      <td>0.770661</td>\n",
       "    </tr>\n",
       "    <tr>\n",
       "      <th>2</th>\n",
       "      <td>XGBoost</td>\n",
       "      <td>0.758380</td>\n",
       "      <td>0.777694</td>\n",
       "    </tr>\n",
       "  </tbody>\n",
       "</table>\n",
       "</div>"
      ],
      "text/plain": [
       "               Modelo       AUC  Acurácia\n",
       "0  LogisticRegression  0.724048  0.750942\n",
       "1        RandomForest  0.748015  0.770661\n",
       "2             XGBoost  0.758380  0.777694"
      ]
     },
     "execution_count": 71,
     "metadata": {},
     "output_type": "execute_result"
    }
   ],
   "source": [
    "df_features_bogo = df_transaction_bogo.set_index(['account_id', 'offer_id']).fillna(0)\n",
    "\n",
    "X_b = df_features_bogo.drop(columns=['offer_consumed'])\n",
    "y_b = df_features_bogo['offer_consumed']\n",
    "\n",
    "X_train_b, X_test_b, y_train_b, y_test_b = train_test_split(\n",
    "    X_b, y_b, test_size=0.3, random_state=42, stratify=y_b\n",
    ")\n",
    "\n",
    "bogo_models = {\n",
    "    \"LogisticRegression\": LogisticRegression(max_iter=1000),\n",
    "    \"RandomForest\": RandomForestClassifier(n_estimators=100, random_state=42),\n",
    "    \"XGBoost\": XGBClassifier(use_label_encoder=False, eval_metric='logloss', random_state=42)\n",
    "}\n",
    "\n",
    "bogo_results = []\n",
    "for nome, modelo in bogo_models.items():\n",
    "    modelo.fit(X_train_b, y_train_b)\n",
    "    y_pred_b = modelo.predict(X_test_b)\n",
    "    \n",
    "    bogo_results.append({\n",
    "        'Modelo': nome,\n",
    "        'AUC': roc_auc_score(y_test_b, y_pred_b),\n",
    "        'Acurácia': accuracy_score(y_test_b, y_pred_b),\n",
    "    })\n",
    "\n",
    "df_bogo_results = pd.DataFrame(bogo_results)\n",
    "df_bogo_results"
   ]
  },
  {
   "cell_type": "code",
   "execution_count": 72,
   "id": "2ad1b8dc",
   "metadata": {},
   "outputs": [
    {
     "data": {
      "application/vnd.plotly.v1+json": {
       "config": {
        "plotlyServerURL": "https://plot.ly"
       },
       "data": [
        {
         "orientation": "h",
         "type": "bar",
         "x": {
          "bdata": "5vkaPoQqBz43GtQ9STvLPewApD2EcnA9wKA2PSyjKz09zyo9ms4BPZlR6Dxo/9k8lp7TPBHGzDwoSMk8YnLEPLcruDxe17M8WmeGPAAAAAAAAAAA",
          "dtype": "f4"
         },
         "y": [
          "gender_M",
          "total_amount",
          "discount_value",
          "total_transactions",
          "total_completed_bogo",
          "registered_days",
          "total_reward",
          "time",
          "total_received_bogo",
          "duration",
          "age",
          "total_received_discount",
          "total_viewed_discount",
          "total_viewed_bogo",
          "total_viewed_info",
          "gender_F",
          "total_received_info",
          "total_completed_discount",
          "gender_O",
          "min_value",
          "total_completed_info"
         ]
        }
       ],
       "layout": {
        "height": 600,
        "template": {
         "data": {
          "bar": [
           {
            "error_x": {
             "color": "#2a3f5f"
            },
            "error_y": {
             "color": "#2a3f5f"
            },
            "marker": {
             "line": {
              "color": "#E5ECF6",
              "width": 0.5
             },
             "pattern": {
              "fillmode": "overlay",
              "size": 10,
              "solidity": 0.2
             }
            },
            "type": "bar"
           }
          ],
          "barpolar": [
           {
            "marker": {
             "line": {
              "color": "#E5ECF6",
              "width": 0.5
             },
             "pattern": {
              "fillmode": "overlay",
              "size": 10,
              "solidity": 0.2
             }
            },
            "type": "barpolar"
           }
          ],
          "carpet": [
           {
            "aaxis": {
             "endlinecolor": "#2a3f5f",
             "gridcolor": "white",
             "linecolor": "white",
             "minorgridcolor": "white",
             "startlinecolor": "#2a3f5f"
            },
            "baxis": {
             "endlinecolor": "#2a3f5f",
             "gridcolor": "white",
             "linecolor": "white",
             "minorgridcolor": "white",
             "startlinecolor": "#2a3f5f"
            },
            "type": "carpet"
           }
          ],
          "choropleth": [
           {
            "colorbar": {
             "outlinewidth": 0,
             "ticks": ""
            },
            "type": "choropleth"
           }
          ],
          "contour": [
           {
            "colorbar": {
             "outlinewidth": 0,
             "ticks": ""
            },
            "colorscale": [
             [
              0,
              "#0d0887"
             ],
             [
              0.1111111111111111,
              "#46039f"
             ],
             [
              0.2222222222222222,
              "#7201a8"
             ],
             [
              0.3333333333333333,
              "#9c179e"
             ],
             [
              0.4444444444444444,
              "#bd3786"
             ],
             [
              0.5555555555555556,
              "#d8576b"
             ],
             [
              0.6666666666666666,
              "#ed7953"
             ],
             [
              0.7777777777777778,
              "#fb9f3a"
             ],
             [
              0.8888888888888888,
              "#fdca26"
             ],
             [
              1,
              "#f0f921"
             ]
            ],
            "type": "contour"
           }
          ],
          "contourcarpet": [
           {
            "colorbar": {
             "outlinewidth": 0,
             "ticks": ""
            },
            "type": "contourcarpet"
           }
          ],
          "heatmap": [
           {
            "colorbar": {
             "outlinewidth": 0,
             "ticks": ""
            },
            "colorscale": [
             [
              0,
              "#0d0887"
             ],
             [
              0.1111111111111111,
              "#46039f"
             ],
             [
              0.2222222222222222,
              "#7201a8"
             ],
             [
              0.3333333333333333,
              "#9c179e"
             ],
             [
              0.4444444444444444,
              "#bd3786"
             ],
             [
              0.5555555555555556,
              "#d8576b"
             ],
             [
              0.6666666666666666,
              "#ed7953"
             ],
             [
              0.7777777777777778,
              "#fb9f3a"
             ],
             [
              0.8888888888888888,
              "#fdca26"
             ],
             [
              1,
              "#f0f921"
             ]
            ],
            "type": "heatmap"
           }
          ],
          "histogram": [
           {
            "marker": {
             "pattern": {
              "fillmode": "overlay",
              "size": 10,
              "solidity": 0.2
             }
            },
            "type": "histogram"
           }
          ],
          "histogram2d": [
           {
            "colorbar": {
             "outlinewidth": 0,
             "ticks": ""
            },
            "colorscale": [
             [
              0,
              "#0d0887"
             ],
             [
              0.1111111111111111,
              "#46039f"
             ],
             [
              0.2222222222222222,
              "#7201a8"
             ],
             [
              0.3333333333333333,
              "#9c179e"
             ],
             [
              0.4444444444444444,
              "#bd3786"
             ],
             [
              0.5555555555555556,
              "#d8576b"
             ],
             [
              0.6666666666666666,
              "#ed7953"
             ],
             [
              0.7777777777777778,
              "#fb9f3a"
             ],
             [
              0.8888888888888888,
              "#fdca26"
             ],
             [
              1,
              "#f0f921"
             ]
            ],
            "type": "histogram2d"
           }
          ],
          "histogram2dcontour": [
           {
            "colorbar": {
             "outlinewidth": 0,
             "ticks": ""
            },
            "colorscale": [
             [
              0,
              "#0d0887"
             ],
             [
              0.1111111111111111,
              "#46039f"
             ],
             [
              0.2222222222222222,
              "#7201a8"
             ],
             [
              0.3333333333333333,
              "#9c179e"
             ],
             [
              0.4444444444444444,
              "#bd3786"
             ],
             [
              0.5555555555555556,
              "#d8576b"
             ],
             [
              0.6666666666666666,
              "#ed7953"
             ],
             [
              0.7777777777777778,
              "#fb9f3a"
             ],
             [
              0.8888888888888888,
              "#fdca26"
             ],
             [
              1,
              "#f0f921"
             ]
            ],
            "type": "histogram2dcontour"
           }
          ],
          "mesh3d": [
           {
            "colorbar": {
             "outlinewidth": 0,
             "ticks": ""
            },
            "type": "mesh3d"
           }
          ],
          "parcoords": [
           {
            "line": {
             "colorbar": {
              "outlinewidth": 0,
              "ticks": ""
             }
            },
            "type": "parcoords"
           }
          ],
          "pie": [
           {
            "automargin": true,
            "type": "pie"
           }
          ],
          "scatter": [
           {
            "fillpattern": {
             "fillmode": "overlay",
             "size": 10,
             "solidity": 0.2
            },
            "type": "scatter"
           }
          ],
          "scatter3d": [
           {
            "line": {
             "colorbar": {
              "outlinewidth": 0,
              "ticks": ""
             }
            },
            "marker": {
             "colorbar": {
              "outlinewidth": 0,
              "ticks": ""
             }
            },
            "type": "scatter3d"
           }
          ],
          "scattercarpet": [
           {
            "marker": {
             "colorbar": {
              "outlinewidth": 0,
              "ticks": ""
             }
            },
            "type": "scattercarpet"
           }
          ],
          "scattergeo": [
           {
            "marker": {
             "colorbar": {
              "outlinewidth": 0,
              "ticks": ""
             }
            },
            "type": "scattergeo"
           }
          ],
          "scattergl": [
           {
            "marker": {
             "colorbar": {
              "outlinewidth": 0,
              "ticks": ""
             }
            },
            "type": "scattergl"
           }
          ],
          "scattermap": [
           {
            "marker": {
             "colorbar": {
              "outlinewidth": 0,
              "ticks": ""
             }
            },
            "type": "scattermap"
           }
          ],
          "scattermapbox": [
           {
            "marker": {
             "colorbar": {
              "outlinewidth": 0,
              "ticks": ""
             }
            },
            "type": "scattermapbox"
           }
          ],
          "scatterpolar": [
           {
            "marker": {
             "colorbar": {
              "outlinewidth": 0,
              "ticks": ""
             }
            },
            "type": "scatterpolar"
           }
          ],
          "scatterpolargl": [
           {
            "marker": {
             "colorbar": {
              "outlinewidth": 0,
              "ticks": ""
             }
            },
            "type": "scatterpolargl"
           }
          ],
          "scatterternary": [
           {
            "marker": {
             "colorbar": {
              "outlinewidth": 0,
              "ticks": ""
             }
            },
            "type": "scatterternary"
           }
          ],
          "surface": [
           {
            "colorbar": {
             "outlinewidth": 0,
             "ticks": ""
            },
            "colorscale": [
             [
              0,
              "#0d0887"
             ],
             [
              0.1111111111111111,
              "#46039f"
             ],
             [
              0.2222222222222222,
              "#7201a8"
             ],
             [
              0.3333333333333333,
              "#9c179e"
             ],
             [
              0.4444444444444444,
              "#bd3786"
             ],
             [
              0.5555555555555556,
              "#d8576b"
             ],
             [
              0.6666666666666666,
              "#ed7953"
             ],
             [
              0.7777777777777778,
              "#fb9f3a"
             ],
             [
              0.8888888888888888,
              "#fdca26"
             ],
             [
              1,
              "#f0f921"
             ]
            ],
            "type": "surface"
           }
          ],
          "table": [
           {
            "cells": {
             "fill": {
              "color": "#EBF0F8"
             },
             "line": {
              "color": "white"
             }
            },
            "header": {
             "fill": {
              "color": "#C8D4E3"
             },
             "line": {
              "color": "white"
             }
            },
            "type": "table"
           }
          ]
         },
         "layout": {
          "annotationdefaults": {
           "arrowcolor": "#2a3f5f",
           "arrowhead": 0,
           "arrowwidth": 1
          },
          "autotypenumbers": "strict",
          "coloraxis": {
           "colorbar": {
            "outlinewidth": 0,
            "ticks": ""
           }
          },
          "colorscale": {
           "diverging": [
            [
             0,
             "#8e0152"
            ],
            [
             0.1,
             "#c51b7d"
            ],
            [
             0.2,
             "#de77ae"
            ],
            [
             0.3,
             "#f1b6da"
            ],
            [
             0.4,
             "#fde0ef"
            ],
            [
             0.5,
             "#f7f7f7"
            ],
            [
             0.6,
             "#e6f5d0"
            ],
            [
             0.7,
             "#b8e186"
            ],
            [
             0.8,
             "#7fbc41"
            ],
            [
             0.9,
             "#4d9221"
            ],
            [
             1,
             "#276419"
            ]
           ],
           "sequential": [
            [
             0,
             "#0d0887"
            ],
            [
             0.1111111111111111,
             "#46039f"
            ],
            [
             0.2222222222222222,
             "#7201a8"
            ],
            [
             0.3333333333333333,
             "#9c179e"
            ],
            [
             0.4444444444444444,
             "#bd3786"
            ],
            [
             0.5555555555555556,
             "#d8576b"
            ],
            [
             0.6666666666666666,
             "#ed7953"
            ],
            [
             0.7777777777777778,
             "#fb9f3a"
            ],
            [
             0.8888888888888888,
             "#fdca26"
            ],
            [
             1,
             "#f0f921"
            ]
           ],
           "sequentialminus": [
            [
             0,
             "#0d0887"
            ],
            [
             0.1111111111111111,
             "#46039f"
            ],
            [
             0.2222222222222222,
             "#7201a8"
            ],
            [
             0.3333333333333333,
             "#9c179e"
            ],
            [
             0.4444444444444444,
             "#bd3786"
            ],
            [
             0.5555555555555556,
             "#d8576b"
            ],
            [
             0.6666666666666666,
             "#ed7953"
            ],
            [
             0.7777777777777778,
             "#fb9f3a"
            ],
            [
             0.8888888888888888,
             "#fdca26"
            ],
            [
             1,
             "#f0f921"
            ]
           ]
          },
          "colorway": [
           "#636efa",
           "#EF553B",
           "#00cc96",
           "#ab63fa",
           "#FFA15A",
           "#19d3f3",
           "#FF6692",
           "#B6E880",
           "#FF97FF",
           "#FECB52"
          ],
          "font": {
           "color": "#2a3f5f"
          },
          "geo": {
           "bgcolor": "white",
           "lakecolor": "white",
           "landcolor": "#E5ECF6",
           "showlakes": true,
           "showland": true,
           "subunitcolor": "white"
          },
          "hoverlabel": {
           "align": "left"
          },
          "hovermode": "closest",
          "mapbox": {
           "style": "light"
          },
          "paper_bgcolor": "white",
          "plot_bgcolor": "#E5ECF6",
          "polar": {
           "angularaxis": {
            "gridcolor": "white",
            "linecolor": "white",
            "ticks": ""
           },
           "bgcolor": "#E5ECF6",
           "radialaxis": {
            "gridcolor": "white",
            "linecolor": "white",
            "ticks": ""
           }
          },
          "scene": {
           "xaxis": {
            "backgroundcolor": "#E5ECF6",
            "gridcolor": "white",
            "gridwidth": 2,
            "linecolor": "white",
            "showbackground": true,
            "ticks": "",
            "zerolinecolor": "white"
           },
           "yaxis": {
            "backgroundcolor": "#E5ECF6",
            "gridcolor": "white",
            "gridwidth": 2,
            "linecolor": "white",
            "showbackground": true,
            "ticks": "",
            "zerolinecolor": "white"
           },
           "zaxis": {
            "backgroundcolor": "#E5ECF6",
            "gridcolor": "white",
            "gridwidth": 2,
            "linecolor": "white",
            "showbackground": true,
            "ticks": "",
            "zerolinecolor": "white"
           }
          },
          "shapedefaults": {
           "line": {
            "color": "#2a3f5f"
           }
          },
          "ternary": {
           "aaxis": {
            "gridcolor": "white",
            "linecolor": "white",
            "ticks": ""
           },
           "baxis": {
            "gridcolor": "white",
            "linecolor": "white",
            "ticks": ""
           },
           "bgcolor": "#E5ECF6",
           "caxis": {
            "gridcolor": "white",
            "linecolor": "white",
            "ticks": ""
           }
          },
          "title": {
           "x": 0.05
          },
          "xaxis": {
           "automargin": true,
           "gridcolor": "white",
           "linecolor": "white",
           "ticks": "",
           "title": {
            "standoff": 15
           },
           "zerolinecolor": "white",
           "zerolinewidth": 2
          },
          "yaxis": {
           "automargin": true,
           "gridcolor": "white",
           "linecolor": "white",
           "ticks": "",
           "title": {
            "standoff": 15
           },
           "zerolinecolor": "white",
           "zerolinewidth": 2
          }
         }
        },
        "title": {
         "text": "Importância das Features - XGBoost - Ofertas BOGO"
        },
        "xaxis": {
         "title": {
          "text": "Importância"
         }
        },
        "yaxis": {
         "autorange": "reversed",
         "title": {
          "text": "Feature"
         }
        }
       }
      }
     },
     "metadata": {},
     "output_type": "display_data"
    }
   ],
   "source": [
    "xgb_model = bogo_models[\"XGBoost\"]\n",
    "importancias = xgb_model.feature_importances_\n",
    "nomes_features = X_b.columns\n",
    "\n",
    "importancia_df = pd.DataFrame({\n",
    "    \"Feature\": nomes_features,\n",
    "    \"Importância\": importancias\n",
    "}).sort_values(by=\"Importância\", ascending=False)\n",
    "\n",
    "fig = go.Figure([\n",
    "    go.Bar(\n",
    "        x=importancia_df[\"Importância\"],\n",
    "        y=importancia_df[\"Feature\"],\n",
    "        orientation='h'\n",
    "    )\n",
    "])\n",
    "\n",
    "fig.update_layout(\n",
    "    title=\"Importância das Features - XGBoost - Ofertas BOGO\",\n",
    "    xaxis_title=\"Importância\",\n",
    "    yaxis_title=\"Feature\",\n",
    "    yaxis=dict(autorange=\"reversed\"),\n",
    "    height=600,\n",
    ")\n",
    "\n",
    "fig.show()"
   ]
  },
  {
   "cell_type": "code",
   "execution_count": 73,
   "id": "5d22aa85",
   "metadata": {},
   "outputs": [
    {
     "name": "stdout",
     "output_type": "stream",
     "text": [
      "              precision    recall  f1-score   support\n",
      "\n",
      "           0       0.72      0.68      0.70      3035\n",
      "           1       0.81      0.84      0.82      4927\n",
      "\n",
      "    accuracy                           0.78      7962\n",
      "   macro avg       0.77      0.76      0.76      7962\n",
      "weighted avg       0.78      0.78      0.78      7962\n",
      "\n"
     ]
    }
   ],
   "source": [
    "xgb_model = bogo_models[\"XGBoost\"]\n",
    "y_pred_b = xgb_model.predict(X_test_b)\n",
    "\n",
    "X_test_result = X_test_b.copy()\n",
    "X_test_result['target_true'] = y_test_b\n",
    "X_test_result['target_pred'] = y_pred_b\n",
    "X_test_result['not_converted_prob'] = xgb_model.predict_proba(X_test_b)[:, 0].round(3)\n",
    "X_test_result['converted_prob'] = xgb_model.predict_proba(X_test_b)[:, 1].round(3)\n",
    "\n",
    "print(classification_report(y_test_b, y_pred_b))"
   ]
  },
  {
   "cell_type": "code",
   "execution_count": 74,
   "id": "f644decf",
   "metadata": {},
   "outputs": [
    {
     "data": {
      "text/html": [
       "<div>\n",
       "<style scoped>\n",
       "    .dataframe tbody tr th:only-of-type {\n",
       "        vertical-align: middle;\n",
       "    }\n",
       "\n",
       "    .dataframe tbody tr th {\n",
       "        vertical-align: top;\n",
       "    }\n",
       "\n",
       "    .dataframe thead th {\n",
       "        text-align: right;\n",
       "    }\n",
       "</style>\n",
       "<table border=\"1\" class=\"dataframe\">\n",
       "  <thead>\n",
       "    <tr style=\"text-align: right;\">\n",
       "      <th></th>\n",
       "      <th></th>\n",
       "      <th>target_true</th>\n",
       "      <th>target_pred</th>\n",
       "      <th>not_converted_prob</th>\n",
       "      <th>converted_prob</th>\n",
       "    </tr>\n",
       "    <tr>\n",
       "      <th>account_id</th>\n",
       "      <th>offer_id</th>\n",
       "      <th></th>\n",
       "      <th></th>\n",
       "      <th></th>\n",
       "      <th></th>\n",
       "    </tr>\n",
       "  </thead>\n",
       "  <tbody>\n",
       "    <tr>\n",
       "      <th>671a142bc07e47389b920cb0c37793bd</th>\n",
       "      <th>4d5c57ea9a6940dd891ad53e9dbe8da0</th>\n",
       "      <td>0</td>\n",
       "      <td>0</td>\n",
       "      <td>0.985</td>\n",
       "      <td>0.015</td>\n",
       "    </tr>\n",
       "    <tr>\n",
       "      <th>386d9947e96a428b91132d3455d17976</th>\n",
       "      <th>4d5c57ea9a6940dd891ad53e9dbe8da0</th>\n",
       "      <td>0</td>\n",
       "      <td>0</td>\n",
       "      <td>0.633</td>\n",
       "      <td>0.367</td>\n",
       "    </tr>\n",
       "    <tr>\n",
       "      <th>35f39fb3476249988ddc964f24e41edc</th>\n",
       "      <th>9b98b8c7a33c4b65b9aebfe6a799e6d9</th>\n",
       "      <td>0</td>\n",
       "      <td>0</td>\n",
       "      <td>0.817</td>\n",
       "      <td>0.183</td>\n",
       "    </tr>\n",
       "    <tr>\n",
       "      <th>2dc57aa3c24c4468841be4b02ac54fe3</th>\n",
       "      <th>4d5c57ea9a6940dd891ad53e9dbe8da0</th>\n",
       "      <td>0</td>\n",
       "      <td>0</td>\n",
       "      <td>0.962</td>\n",
       "      <td>0.038</td>\n",
       "    </tr>\n",
       "    <tr>\n",
       "      <th>428111c5138a4a4c8131e5d2f258fa95</th>\n",
       "      <th>9b98b8c7a33c4b65b9aebfe6a799e6d9</th>\n",
       "      <td>0</td>\n",
       "      <td>1</td>\n",
       "      <td>0.052</td>\n",
       "      <td>0.948</td>\n",
       "    </tr>\n",
       "    <tr>\n",
       "      <th>...</th>\n",
       "      <th>...</th>\n",
       "      <td>...</td>\n",
       "      <td>...</td>\n",
       "      <td>...</td>\n",
       "      <td>...</td>\n",
       "    </tr>\n",
       "    <tr>\n",
       "      <th>9fa8ee92f21e425ca26519b84d513c70</th>\n",
       "      <th>4d5c57ea9a6940dd891ad53e9dbe8da0</th>\n",
       "      <td>1</td>\n",
       "      <td>1</td>\n",
       "      <td>0.406</td>\n",
       "      <td>0.594</td>\n",
       "    </tr>\n",
       "    <tr>\n",
       "      <th>efb2c8c6351b423b97bc5508ba62dfde</th>\n",
       "      <th>4d5c57ea9a6940dd891ad53e9dbe8da0</th>\n",
       "      <td>0</td>\n",
       "      <td>1</td>\n",
       "      <td>0.140</td>\n",
       "      <td>0.860</td>\n",
       "    </tr>\n",
       "    <tr>\n",
       "      <th>104a73b6d8f049f0bdc9388ef4998526</th>\n",
       "      <th>ae264e3637204a6fb9bb56bc8210ddfd</th>\n",
       "      <td>1</td>\n",
       "      <td>1</td>\n",
       "      <td>0.008</td>\n",
       "      <td>0.992</td>\n",
       "    </tr>\n",
       "    <tr>\n",
       "      <th>4a0b380c3fc14b30a8cc577eeeaa0c3c</th>\n",
       "      <th>f19421c1d4aa40978ebb69ca19b0e20d</th>\n",
       "      <td>1</td>\n",
       "      <td>1</td>\n",
       "      <td>0.276</td>\n",
       "      <td>0.724</td>\n",
       "    </tr>\n",
       "    <tr>\n",
       "      <th>e6cd4bec9abe432086770f43dd1918d0</th>\n",
       "      <th>9b98b8c7a33c4b65b9aebfe6a799e6d9</th>\n",
       "      <td>0</td>\n",
       "      <td>0</td>\n",
       "      <td>0.704</td>\n",
       "      <td>0.296</td>\n",
       "    </tr>\n",
       "  </tbody>\n",
       "</table>\n",
       "<p>7962 rows × 4 columns</p>\n",
       "</div>"
      ],
      "text/plain": [
       "                                                                   target_true  \\\n",
       "account_id                       offer_id                                        \n",
       "671a142bc07e47389b920cb0c37793bd 4d5c57ea9a6940dd891ad53e9dbe8da0            0   \n",
       "386d9947e96a428b91132d3455d17976 4d5c57ea9a6940dd891ad53e9dbe8da0            0   \n",
       "35f39fb3476249988ddc964f24e41edc 9b98b8c7a33c4b65b9aebfe6a799e6d9            0   \n",
       "2dc57aa3c24c4468841be4b02ac54fe3 4d5c57ea9a6940dd891ad53e9dbe8da0            0   \n",
       "428111c5138a4a4c8131e5d2f258fa95 9b98b8c7a33c4b65b9aebfe6a799e6d9            0   \n",
       "...                                                                        ...   \n",
       "9fa8ee92f21e425ca26519b84d513c70 4d5c57ea9a6940dd891ad53e9dbe8da0            1   \n",
       "efb2c8c6351b423b97bc5508ba62dfde 4d5c57ea9a6940dd891ad53e9dbe8da0            0   \n",
       "104a73b6d8f049f0bdc9388ef4998526 ae264e3637204a6fb9bb56bc8210ddfd            1   \n",
       "4a0b380c3fc14b30a8cc577eeeaa0c3c f19421c1d4aa40978ebb69ca19b0e20d            1   \n",
       "e6cd4bec9abe432086770f43dd1918d0 9b98b8c7a33c4b65b9aebfe6a799e6d9            0   \n",
       "\n",
       "                                                                   target_pred  \\\n",
       "account_id                       offer_id                                        \n",
       "671a142bc07e47389b920cb0c37793bd 4d5c57ea9a6940dd891ad53e9dbe8da0            0   \n",
       "386d9947e96a428b91132d3455d17976 4d5c57ea9a6940dd891ad53e9dbe8da0            0   \n",
       "35f39fb3476249988ddc964f24e41edc 9b98b8c7a33c4b65b9aebfe6a799e6d9            0   \n",
       "2dc57aa3c24c4468841be4b02ac54fe3 4d5c57ea9a6940dd891ad53e9dbe8da0            0   \n",
       "428111c5138a4a4c8131e5d2f258fa95 9b98b8c7a33c4b65b9aebfe6a799e6d9            1   \n",
       "...                                                                        ...   \n",
       "9fa8ee92f21e425ca26519b84d513c70 4d5c57ea9a6940dd891ad53e9dbe8da0            1   \n",
       "efb2c8c6351b423b97bc5508ba62dfde 4d5c57ea9a6940dd891ad53e9dbe8da0            1   \n",
       "104a73b6d8f049f0bdc9388ef4998526 ae264e3637204a6fb9bb56bc8210ddfd            1   \n",
       "4a0b380c3fc14b30a8cc577eeeaa0c3c f19421c1d4aa40978ebb69ca19b0e20d            1   \n",
       "e6cd4bec9abe432086770f43dd1918d0 9b98b8c7a33c4b65b9aebfe6a799e6d9            0   \n",
       "\n",
       "                                                                   not_converted_prob  \\\n",
       "account_id                       offer_id                                               \n",
       "671a142bc07e47389b920cb0c37793bd 4d5c57ea9a6940dd891ad53e9dbe8da0               0.985   \n",
       "386d9947e96a428b91132d3455d17976 4d5c57ea9a6940dd891ad53e9dbe8da0               0.633   \n",
       "35f39fb3476249988ddc964f24e41edc 9b98b8c7a33c4b65b9aebfe6a799e6d9               0.817   \n",
       "2dc57aa3c24c4468841be4b02ac54fe3 4d5c57ea9a6940dd891ad53e9dbe8da0               0.962   \n",
       "428111c5138a4a4c8131e5d2f258fa95 9b98b8c7a33c4b65b9aebfe6a799e6d9               0.052   \n",
       "...                                                                               ...   \n",
       "9fa8ee92f21e425ca26519b84d513c70 4d5c57ea9a6940dd891ad53e9dbe8da0               0.406   \n",
       "efb2c8c6351b423b97bc5508ba62dfde 4d5c57ea9a6940dd891ad53e9dbe8da0               0.140   \n",
       "104a73b6d8f049f0bdc9388ef4998526 ae264e3637204a6fb9bb56bc8210ddfd               0.008   \n",
       "4a0b380c3fc14b30a8cc577eeeaa0c3c f19421c1d4aa40978ebb69ca19b0e20d               0.276   \n",
       "e6cd4bec9abe432086770f43dd1918d0 9b98b8c7a33c4b65b9aebfe6a799e6d9               0.704   \n",
       "\n",
       "                                                                   converted_prob  \n",
       "account_id                       offer_id                                          \n",
       "671a142bc07e47389b920cb0c37793bd 4d5c57ea9a6940dd891ad53e9dbe8da0           0.015  \n",
       "386d9947e96a428b91132d3455d17976 4d5c57ea9a6940dd891ad53e9dbe8da0           0.367  \n",
       "35f39fb3476249988ddc964f24e41edc 9b98b8c7a33c4b65b9aebfe6a799e6d9           0.183  \n",
       "2dc57aa3c24c4468841be4b02ac54fe3 4d5c57ea9a6940dd891ad53e9dbe8da0           0.038  \n",
       "428111c5138a4a4c8131e5d2f258fa95 9b98b8c7a33c4b65b9aebfe6a799e6d9           0.948  \n",
       "...                                                                           ...  \n",
       "9fa8ee92f21e425ca26519b84d513c70 4d5c57ea9a6940dd891ad53e9dbe8da0           0.594  \n",
       "efb2c8c6351b423b97bc5508ba62dfde 4d5c57ea9a6940dd891ad53e9dbe8da0           0.860  \n",
       "104a73b6d8f049f0bdc9388ef4998526 ae264e3637204a6fb9bb56bc8210ddfd           0.992  \n",
       "4a0b380c3fc14b30a8cc577eeeaa0c3c f19421c1d4aa40978ebb69ca19b0e20d           0.724  \n",
       "e6cd4bec9abe432086770f43dd1918d0 9b98b8c7a33c4b65b9aebfe6a799e6d9           0.296  \n",
       "\n",
       "[7962 rows x 4 columns]"
      ]
     },
     "execution_count": 74,
     "metadata": {},
     "output_type": "execute_result"
    }
   ],
   "source": [
    "X_test_result.drop(columns=X_test_b)"
   ]
  },
  {
   "cell_type": "markdown",
   "id": "dc584fa4",
   "metadata": {},
   "source": [
    "## Discount Model"
   ]
  },
  {
   "cell_type": "code",
   "execution_count": 77,
   "id": "0bba61da",
   "metadata": {},
   "outputs": [
    {
     "data": {
      "text/html": [
       "<div>\n",
       "<style scoped>\n",
       "    .dataframe tbody tr th:only-of-type {\n",
       "        vertical-align: middle;\n",
       "    }\n",
       "\n",
       "    .dataframe tbody tr th {\n",
       "        vertical-align: top;\n",
       "    }\n",
       "\n",
       "    .dataframe thead th {\n",
       "        text-align: right;\n",
       "    }\n",
       "</style>\n",
       "<table border=\"1\" class=\"dataframe\">\n",
       "  <thead>\n",
       "    <tr style=\"text-align: right;\">\n",
       "      <th></th>\n",
       "      <th>Modelo</th>\n",
       "      <th>AUC</th>\n",
       "      <th>Acurácia</th>\n",
       "    </tr>\n",
       "  </thead>\n",
       "  <tbody>\n",
       "    <tr>\n",
       "      <th>0</th>\n",
       "      <td>LogisticRegression</td>\n",
       "      <td>0.700304</td>\n",
       "      <td>0.768125</td>\n",
       "    </tr>\n",
       "    <tr>\n",
       "      <th>1</th>\n",
       "      <td>RandomForest</td>\n",
       "      <td>0.737433</td>\n",
       "      <td>0.786500</td>\n",
       "    </tr>\n",
       "    <tr>\n",
       "      <th>2</th>\n",
       "      <td>XGBoost</td>\n",
       "      <td>0.746814</td>\n",
       "      <td>0.792125</td>\n",
       "    </tr>\n",
       "  </tbody>\n",
       "</table>\n",
       "</div>"
      ],
      "text/plain": [
       "               Modelo       AUC  Acurácia\n",
       "0  LogisticRegression  0.700304  0.768125\n",
       "1        RandomForest  0.737433  0.786500\n",
       "2             XGBoost  0.746814  0.792125"
      ]
     },
     "execution_count": 77,
     "metadata": {},
     "output_type": "execute_result"
    }
   ],
   "source": [
    "df_features_discount = df_transaction_discount.set_index(['account_id', 'offer_id']).fillna(0)\n",
    "\n",
    "X_d = df_features_discount.drop(columns=['offer_consumed'])\n",
    "y_d = df_features_discount['offer_consumed']\n",
    "\n",
    "X_train_d, X_test_d, y_train_d, y_test_d = train_test_split(\n",
    "    X_d, y_d, test_size=0.3, random_state=42, stratify=y_d\n",
    ")\n",
    "\n",
    "discount_models = {\n",
    "    \"LogisticRegression\": LogisticRegression(max_iter=1000),\n",
    "    \"RandomForest\": RandomForestClassifier(n_estimators=100, random_state=42),\n",
    "    \"XGBoost\": XGBClassifier(use_label_encoder=False, eval_metric='logloss', random_state=42)\n",
    "}\n",
    "\n",
    "discount_results = []\n",
    "for nome, modelo in discount_models.items():\n",
    "    modelo.fit(X_train_d, y_train_d)\n",
    "    y_pred_d = modelo.predict(X_test_d)\n",
    "    \n",
    "    discount_results.append({\n",
    "        'Modelo': nome,\n",
    "        'AUC': roc_auc_score(y_test_d, y_pred_d),\n",
    "        'Acurácia': accuracy_score(y_test_d, y_pred_d),\n",
    "    })\n",
    "\n",
    "df_discount_results = pd.DataFrame(discount_results)\n",
    "df_discount_results"
   ]
  },
  {
   "cell_type": "code",
   "execution_count": 78,
   "id": "7a6fb30c",
   "metadata": {},
   "outputs": [
    {
     "data": {
      "application/vnd.plotly.v1+json": {
       "config": {
        "plotlyServerURL": "https://plot.ly"
       },
       "data": [
        {
         "orientation": "h",
         "type": "bar",
         "x": {
          "bdata": "EG4EPhXZ1j3HL6k95yyXPQCFjj3zr4E94Fh0PRFDZz0DXWI9dfQJPbdkBz2FmgA9xJ3uPBGu5DzONuQ8TUTaPKdI2DyXydU8vl3OPHTUkDwAAAAA",
          "dtype": "f4"
         },
         "y": [
          "discount_value",
          "total_amount",
          "registered_days",
          "duration",
          "time",
          "gender_M",
          "total_completed_discount",
          "min_value",
          "total_transactions",
          "total_viewed_discount",
          "total_reward",
          "gender_F",
          "total_received_discount",
          "total_received_bogo",
          "total_completed_bogo",
          "total_received_info",
          "age",
          "total_viewed_bogo",
          "total_viewed_info",
          "gender_O",
          "total_completed_info"
         ]
        }
       ],
       "layout": {
        "height": 600,
        "template": {
         "data": {
          "bar": [
           {
            "error_x": {
             "color": "#2a3f5f"
            },
            "error_y": {
             "color": "#2a3f5f"
            },
            "marker": {
             "line": {
              "color": "#E5ECF6",
              "width": 0.5
             },
             "pattern": {
              "fillmode": "overlay",
              "size": 10,
              "solidity": 0.2
             }
            },
            "type": "bar"
           }
          ],
          "barpolar": [
           {
            "marker": {
             "line": {
              "color": "#E5ECF6",
              "width": 0.5
             },
             "pattern": {
              "fillmode": "overlay",
              "size": 10,
              "solidity": 0.2
             }
            },
            "type": "barpolar"
           }
          ],
          "carpet": [
           {
            "aaxis": {
             "endlinecolor": "#2a3f5f",
             "gridcolor": "white",
             "linecolor": "white",
             "minorgridcolor": "white",
             "startlinecolor": "#2a3f5f"
            },
            "baxis": {
             "endlinecolor": "#2a3f5f",
             "gridcolor": "white",
             "linecolor": "white",
             "minorgridcolor": "white",
             "startlinecolor": "#2a3f5f"
            },
            "type": "carpet"
           }
          ],
          "choropleth": [
           {
            "colorbar": {
             "outlinewidth": 0,
             "ticks": ""
            },
            "type": "choropleth"
           }
          ],
          "contour": [
           {
            "colorbar": {
             "outlinewidth": 0,
             "ticks": ""
            },
            "colorscale": [
             [
              0,
              "#0d0887"
             ],
             [
              0.1111111111111111,
              "#46039f"
             ],
             [
              0.2222222222222222,
              "#7201a8"
             ],
             [
              0.3333333333333333,
              "#9c179e"
             ],
             [
              0.4444444444444444,
              "#bd3786"
             ],
             [
              0.5555555555555556,
              "#d8576b"
             ],
             [
              0.6666666666666666,
              "#ed7953"
             ],
             [
              0.7777777777777778,
              "#fb9f3a"
             ],
             [
              0.8888888888888888,
              "#fdca26"
             ],
             [
              1,
              "#f0f921"
             ]
            ],
            "type": "contour"
           }
          ],
          "contourcarpet": [
           {
            "colorbar": {
             "outlinewidth": 0,
             "ticks": ""
            },
            "type": "contourcarpet"
           }
          ],
          "heatmap": [
           {
            "colorbar": {
             "outlinewidth": 0,
             "ticks": ""
            },
            "colorscale": [
             [
              0,
              "#0d0887"
             ],
             [
              0.1111111111111111,
              "#46039f"
             ],
             [
              0.2222222222222222,
              "#7201a8"
             ],
             [
              0.3333333333333333,
              "#9c179e"
             ],
             [
              0.4444444444444444,
              "#bd3786"
             ],
             [
              0.5555555555555556,
              "#d8576b"
             ],
             [
              0.6666666666666666,
              "#ed7953"
             ],
             [
              0.7777777777777778,
              "#fb9f3a"
             ],
             [
              0.8888888888888888,
              "#fdca26"
             ],
             [
              1,
              "#f0f921"
             ]
            ],
            "type": "heatmap"
           }
          ],
          "histogram": [
           {
            "marker": {
             "pattern": {
              "fillmode": "overlay",
              "size": 10,
              "solidity": 0.2
             }
            },
            "type": "histogram"
           }
          ],
          "histogram2d": [
           {
            "colorbar": {
             "outlinewidth": 0,
             "ticks": ""
            },
            "colorscale": [
             [
              0,
              "#0d0887"
             ],
             [
              0.1111111111111111,
              "#46039f"
             ],
             [
              0.2222222222222222,
              "#7201a8"
             ],
             [
              0.3333333333333333,
              "#9c179e"
             ],
             [
              0.4444444444444444,
              "#bd3786"
             ],
             [
              0.5555555555555556,
              "#d8576b"
             ],
             [
              0.6666666666666666,
              "#ed7953"
             ],
             [
              0.7777777777777778,
              "#fb9f3a"
             ],
             [
              0.8888888888888888,
              "#fdca26"
             ],
             [
              1,
              "#f0f921"
             ]
            ],
            "type": "histogram2d"
           }
          ],
          "histogram2dcontour": [
           {
            "colorbar": {
             "outlinewidth": 0,
             "ticks": ""
            },
            "colorscale": [
             [
              0,
              "#0d0887"
             ],
             [
              0.1111111111111111,
              "#46039f"
             ],
             [
              0.2222222222222222,
              "#7201a8"
             ],
             [
              0.3333333333333333,
              "#9c179e"
             ],
             [
              0.4444444444444444,
              "#bd3786"
             ],
             [
              0.5555555555555556,
              "#d8576b"
             ],
             [
              0.6666666666666666,
              "#ed7953"
             ],
             [
              0.7777777777777778,
              "#fb9f3a"
             ],
             [
              0.8888888888888888,
              "#fdca26"
             ],
             [
              1,
              "#f0f921"
             ]
            ],
            "type": "histogram2dcontour"
           }
          ],
          "mesh3d": [
           {
            "colorbar": {
             "outlinewidth": 0,
             "ticks": ""
            },
            "type": "mesh3d"
           }
          ],
          "parcoords": [
           {
            "line": {
             "colorbar": {
              "outlinewidth": 0,
              "ticks": ""
             }
            },
            "type": "parcoords"
           }
          ],
          "pie": [
           {
            "automargin": true,
            "type": "pie"
           }
          ],
          "scatter": [
           {
            "fillpattern": {
             "fillmode": "overlay",
             "size": 10,
             "solidity": 0.2
            },
            "type": "scatter"
           }
          ],
          "scatter3d": [
           {
            "line": {
             "colorbar": {
              "outlinewidth": 0,
              "ticks": ""
             }
            },
            "marker": {
             "colorbar": {
              "outlinewidth": 0,
              "ticks": ""
             }
            },
            "type": "scatter3d"
           }
          ],
          "scattercarpet": [
           {
            "marker": {
             "colorbar": {
              "outlinewidth": 0,
              "ticks": ""
             }
            },
            "type": "scattercarpet"
           }
          ],
          "scattergeo": [
           {
            "marker": {
             "colorbar": {
              "outlinewidth": 0,
              "ticks": ""
             }
            },
            "type": "scattergeo"
           }
          ],
          "scattergl": [
           {
            "marker": {
             "colorbar": {
              "outlinewidth": 0,
              "ticks": ""
             }
            },
            "type": "scattergl"
           }
          ],
          "scattermap": [
           {
            "marker": {
             "colorbar": {
              "outlinewidth": 0,
              "ticks": ""
             }
            },
            "type": "scattermap"
           }
          ],
          "scattermapbox": [
           {
            "marker": {
             "colorbar": {
              "outlinewidth": 0,
              "ticks": ""
             }
            },
            "type": "scattermapbox"
           }
          ],
          "scatterpolar": [
           {
            "marker": {
             "colorbar": {
              "outlinewidth": 0,
              "ticks": ""
             }
            },
            "type": "scatterpolar"
           }
          ],
          "scatterpolargl": [
           {
            "marker": {
             "colorbar": {
              "outlinewidth": 0,
              "ticks": ""
             }
            },
            "type": "scatterpolargl"
           }
          ],
          "scatterternary": [
           {
            "marker": {
             "colorbar": {
              "outlinewidth": 0,
              "ticks": ""
             }
            },
            "type": "scatterternary"
           }
          ],
          "surface": [
           {
            "colorbar": {
             "outlinewidth": 0,
             "ticks": ""
            },
            "colorscale": [
             [
              0,
              "#0d0887"
             ],
             [
              0.1111111111111111,
              "#46039f"
             ],
             [
              0.2222222222222222,
              "#7201a8"
             ],
             [
              0.3333333333333333,
              "#9c179e"
             ],
             [
              0.4444444444444444,
              "#bd3786"
             ],
             [
              0.5555555555555556,
              "#d8576b"
             ],
             [
              0.6666666666666666,
              "#ed7953"
             ],
             [
              0.7777777777777778,
              "#fb9f3a"
             ],
             [
              0.8888888888888888,
              "#fdca26"
             ],
             [
              1,
              "#f0f921"
             ]
            ],
            "type": "surface"
           }
          ],
          "table": [
           {
            "cells": {
             "fill": {
              "color": "#EBF0F8"
             },
             "line": {
              "color": "white"
             }
            },
            "header": {
             "fill": {
              "color": "#C8D4E3"
             },
             "line": {
              "color": "white"
             }
            },
            "type": "table"
           }
          ]
         },
         "layout": {
          "annotationdefaults": {
           "arrowcolor": "#2a3f5f",
           "arrowhead": 0,
           "arrowwidth": 1
          },
          "autotypenumbers": "strict",
          "coloraxis": {
           "colorbar": {
            "outlinewidth": 0,
            "ticks": ""
           }
          },
          "colorscale": {
           "diverging": [
            [
             0,
             "#8e0152"
            ],
            [
             0.1,
             "#c51b7d"
            ],
            [
             0.2,
             "#de77ae"
            ],
            [
             0.3,
             "#f1b6da"
            ],
            [
             0.4,
             "#fde0ef"
            ],
            [
             0.5,
             "#f7f7f7"
            ],
            [
             0.6,
             "#e6f5d0"
            ],
            [
             0.7,
             "#b8e186"
            ],
            [
             0.8,
             "#7fbc41"
            ],
            [
             0.9,
             "#4d9221"
            ],
            [
             1,
             "#276419"
            ]
           ],
           "sequential": [
            [
             0,
             "#0d0887"
            ],
            [
             0.1111111111111111,
             "#46039f"
            ],
            [
             0.2222222222222222,
             "#7201a8"
            ],
            [
             0.3333333333333333,
             "#9c179e"
            ],
            [
             0.4444444444444444,
             "#bd3786"
            ],
            [
             0.5555555555555556,
             "#d8576b"
            ],
            [
             0.6666666666666666,
             "#ed7953"
            ],
            [
             0.7777777777777778,
             "#fb9f3a"
            ],
            [
             0.8888888888888888,
             "#fdca26"
            ],
            [
             1,
             "#f0f921"
            ]
           ],
           "sequentialminus": [
            [
             0,
             "#0d0887"
            ],
            [
             0.1111111111111111,
             "#46039f"
            ],
            [
             0.2222222222222222,
             "#7201a8"
            ],
            [
             0.3333333333333333,
             "#9c179e"
            ],
            [
             0.4444444444444444,
             "#bd3786"
            ],
            [
             0.5555555555555556,
             "#d8576b"
            ],
            [
             0.6666666666666666,
             "#ed7953"
            ],
            [
             0.7777777777777778,
             "#fb9f3a"
            ],
            [
             0.8888888888888888,
             "#fdca26"
            ],
            [
             1,
             "#f0f921"
            ]
           ]
          },
          "colorway": [
           "#636efa",
           "#EF553B",
           "#00cc96",
           "#ab63fa",
           "#FFA15A",
           "#19d3f3",
           "#FF6692",
           "#B6E880",
           "#FF97FF",
           "#FECB52"
          ],
          "font": {
           "color": "#2a3f5f"
          },
          "geo": {
           "bgcolor": "white",
           "lakecolor": "white",
           "landcolor": "#E5ECF6",
           "showlakes": true,
           "showland": true,
           "subunitcolor": "white"
          },
          "hoverlabel": {
           "align": "left"
          },
          "hovermode": "closest",
          "mapbox": {
           "style": "light"
          },
          "paper_bgcolor": "white",
          "plot_bgcolor": "#E5ECF6",
          "polar": {
           "angularaxis": {
            "gridcolor": "white",
            "linecolor": "white",
            "ticks": ""
           },
           "bgcolor": "#E5ECF6",
           "radialaxis": {
            "gridcolor": "white",
            "linecolor": "white",
            "ticks": ""
           }
          },
          "scene": {
           "xaxis": {
            "backgroundcolor": "#E5ECF6",
            "gridcolor": "white",
            "gridwidth": 2,
            "linecolor": "white",
            "showbackground": true,
            "ticks": "",
            "zerolinecolor": "white"
           },
           "yaxis": {
            "backgroundcolor": "#E5ECF6",
            "gridcolor": "white",
            "gridwidth": 2,
            "linecolor": "white",
            "showbackground": true,
            "ticks": "",
            "zerolinecolor": "white"
           },
           "zaxis": {
            "backgroundcolor": "#E5ECF6",
            "gridcolor": "white",
            "gridwidth": 2,
            "linecolor": "white",
            "showbackground": true,
            "ticks": "",
            "zerolinecolor": "white"
           }
          },
          "shapedefaults": {
           "line": {
            "color": "#2a3f5f"
           }
          },
          "ternary": {
           "aaxis": {
            "gridcolor": "white",
            "linecolor": "white",
            "ticks": ""
           },
           "baxis": {
            "gridcolor": "white",
            "linecolor": "white",
            "ticks": ""
           },
           "bgcolor": "#E5ECF6",
           "caxis": {
            "gridcolor": "white",
            "linecolor": "white",
            "ticks": ""
           }
          },
          "title": {
           "x": 0.05
          },
          "xaxis": {
           "automargin": true,
           "gridcolor": "white",
           "linecolor": "white",
           "ticks": "",
           "title": {
            "standoff": 15
           },
           "zerolinecolor": "white",
           "zerolinewidth": 2
          },
          "yaxis": {
           "automargin": true,
           "gridcolor": "white",
           "linecolor": "white",
           "ticks": "",
           "title": {
            "standoff": 15
           },
           "zerolinecolor": "white",
           "zerolinewidth": 2
          }
         }
        },
        "title": {
         "text": "Importância das Features - XGBoost - Ofertas Desconto"
        },
        "xaxis": {
         "title": {
          "text": "Importância"
         }
        },
        "yaxis": {
         "autorange": "reversed",
         "title": {
          "text": "Feature"
         }
        }
       }
      }
     },
     "metadata": {},
     "output_type": "display_data"
    }
   ],
   "source": [
    "xgb_model = discount_models[\"XGBoost\"]\n",
    "importancias = xgb_model.feature_importances_\n",
    "nomes_features = X_d.columns\n",
    "\n",
    "importancia_df = pd.DataFrame({\n",
    "    \"Feature\": nomes_features,\n",
    "    \"Importância\": importancias\n",
    "}).sort_values(by=\"Importância\", ascending=False)\n",
    "\n",
    "fig = go.Figure([\n",
    "    go.Bar(\n",
    "        x=importancia_df[\"Importância\"],\n",
    "        y=importancia_df[\"Feature\"],\n",
    "        orientation='h'\n",
    "    )\n",
    "])\n",
    "\n",
    "fig.update_layout(\n",
    "    title=\"Importância das Features - XGBoost - Ofertas Desconto\",\n",
    "    xaxis_title=\"Importância\",\n",
    "    yaxis_title=\"Feature\",\n",
    "    yaxis=dict(autorange=\"reversed\"),\n",
    "    height=600,\n",
    ")\n",
    "\n",
    "fig.show()"
   ]
  },
  {
   "cell_type": "code",
   "execution_count": 79,
   "id": "e9c3d5a8",
   "metadata": {},
   "outputs": [
    {
     "name": "stdout",
     "output_type": "stream",
     "text": [
      "              precision    recall  f1-score   support\n",
      "\n",
      "           0       0.69      0.62      0.66      2541\n",
      "           1       0.83      0.87      0.85      5459\n",
      "\n",
      "    accuracy                           0.79      8000\n",
      "   macro avg       0.76      0.75      0.75      8000\n",
      "weighted avg       0.79      0.79      0.79      8000\n",
      "\n"
     ]
    }
   ],
   "source": [
    "xgb_model = discount_models[\"XGBoost\"]\n",
    "y_pred_d = xgb_model.predict(X_test_d)\n",
    "\n",
    "X_test_result = X_test_d.copy()\n",
    "X_test_result['target_true'] = y_test_d\n",
    "X_test_result['target_pred'] = y_pred_d\n",
    "X_test_result['not_converted_prob'] = xgb_model.predict_proba(X_test_d)[:, 0].round(3)\n",
    "X_test_result['converted_prob'] = xgb_model.predict_proba(X_test_d)[:, 1].round(3)\n",
    "\n",
    "print(classification_report(y_test_d, y_pred_d))"
   ]
  },
  {
   "cell_type": "code",
   "execution_count": 80,
   "id": "0020f7c7",
   "metadata": {},
   "outputs": [
    {
     "data": {
      "text/html": [
       "<div>\n",
       "<style scoped>\n",
       "    .dataframe tbody tr th:only-of-type {\n",
       "        vertical-align: middle;\n",
       "    }\n",
       "\n",
       "    .dataframe tbody tr th {\n",
       "        vertical-align: top;\n",
       "    }\n",
       "\n",
       "    .dataframe thead th {\n",
       "        text-align: right;\n",
       "    }\n",
       "</style>\n",
       "<table border=\"1\" class=\"dataframe\">\n",
       "  <thead>\n",
       "    <tr style=\"text-align: right;\">\n",
       "      <th></th>\n",
       "      <th></th>\n",
       "      <th>target_true</th>\n",
       "      <th>target_pred</th>\n",
       "      <th>not_converted_prob</th>\n",
       "      <th>converted_prob</th>\n",
       "    </tr>\n",
       "    <tr>\n",
       "      <th>account_id</th>\n",
       "      <th>offer_id</th>\n",
       "      <th></th>\n",
       "      <th></th>\n",
       "      <th></th>\n",
       "      <th></th>\n",
       "    </tr>\n",
       "  </thead>\n",
       "  <tbody>\n",
       "    <tr>\n",
       "      <th>36ccfdf3474f472484327c266ef4fa84</th>\n",
       "      <th>fafdcd668e3743c1bb461111dcafc2a4</th>\n",
       "      <td>1</td>\n",
       "      <td>1</td>\n",
       "      <td>0.054</td>\n",
       "      <td>0.946</td>\n",
       "    </tr>\n",
       "    <tr>\n",
       "      <th>07b78a8616714b58ad3a9ed94126c459</th>\n",
       "      <th>2906b810c7d4411798c6938adc9daaa5</th>\n",
       "      <td>1</td>\n",
       "      <td>1</td>\n",
       "      <td>0.413</td>\n",
       "      <td>0.587</td>\n",
       "    </tr>\n",
       "    <tr>\n",
       "      <th>65d4a94bef0841cc9b02753119742ccc</th>\n",
       "      <th>2906b810c7d4411798c6938adc9daaa5</th>\n",
       "      <td>1</td>\n",
       "      <td>0</td>\n",
       "      <td>0.741</td>\n",
       "      <td>0.259</td>\n",
       "    </tr>\n",
       "    <tr>\n",
       "      <th>f0469fdceb9244078e09592c3e7e4ce8</th>\n",
       "      <th>2298d6c36e964ae4a3e7e9706d1fb8c2</th>\n",
       "      <td>0</td>\n",
       "      <td>1</td>\n",
       "      <td>0.049</td>\n",
       "      <td>0.951</td>\n",
       "    </tr>\n",
       "    <tr>\n",
       "      <th>ea80e80e157a410d8fdfc6221f4a785a</th>\n",
       "      <th>0b1e1539f2cc45b7b9fa7c272da2e1d7</th>\n",
       "      <td>1</td>\n",
       "      <td>1</td>\n",
       "      <td>0.064</td>\n",
       "      <td>0.936</td>\n",
       "    </tr>\n",
       "    <tr>\n",
       "      <th>...</th>\n",
       "      <th>...</th>\n",
       "      <td>...</td>\n",
       "      <td>...</td>\n",
       "      <td>...</td>\n",
       "      <td>...</td>\n",
       "    </tr>\n",
       "    <tr>\n",
       "      <th>93a4aed8d91f4e128f38ba62e2b9d97c</th>\n",
       "      <th>0b1e1539f2cc45b7b9fa7c272da2e1d7</th>\n",
       "      <td>0</td>\n",
       "      <td>0</td>\n",
       "      <td>0.642</td>\n",
       "      <td>0.358</td>\n",
       "    </tr>\n",
       "    <tr>\n",
       "      <th>45da79fb1a6040c0864e788ddce7af10</th>\n",
       "      <th>fafdcd668e3743c1bb461111dcafc2a4</th>\n",
       "      <td>1</td>\n",
       "      <td>1</td>\n",
       "      <td>0.003</td>\n",
       "      <td>0.997</td>\n",
       "    </tr>\n",
       "    <tr>\n",
       "      <th>083d316ee57640689731e5e7be9d5c20</th>\n",
       "      <th>2298d6c36e964ae4a3e7e9706d1fb8c2</th>\n",
       "      <td>0</td>\n",
       "      <td>0</td>\n",
       "      <td>0.749</td>\n",
       "      <td>0.251</td>\n",
       "    </tr>\n",
       "    <tr>\n",
       "      <th>391d8ec364374b38b3b2573d9e6b7d07</th>\n",
       "      <th>fafdcd668e3743c1bb461111dcafc2a4</th>\n",
       "      <td>1</td>\n",
       "      <td>1</td>\n",
       "      <td>0.010</td>\n",
       "      <td>0.990</td>\n",
       "    </tr>\n",
       "    <tr>\n",
       "      <th>0d58682ece0e4b788eff41f6d805314e</th>\n",
       "      <th>0b1e1539f2cc45b7b9fa7c272da2e1d7</th>\n",
       "      <td>1</td>\n",
       "      <td>0</td>\n",
       "      <td>0.753</td>\n",
       "      <td>0.247</td>\n",
       "    </tr>\n",
       "  </tbody>\n",
       "</table>\n",
       "<p>8000 rows × 4 columns</p>\n",
       "</div>"
      ],
      "text/plain": [
       "                                                                   target_true  \\\n",
       "account_id                       offer_id                                        \n",
       "36ccfdf3474f472484327c266ef4fa84 fafdcd668e3743c1bb461111dcafc2a4            1   \n",
       "07b78a8616714b58ad3a9ed94126c459 2906b810c7d4411798c6938adc9daaa5            1   \n",
       "65d4a94bef0841cc9b02753119742ccc 2906b810c7d4411798c6938adc9daaa5            1   \n",
       "f0469fdceb9244078e09592c3e7e4ce8 2298d6c36e964ae4a3e7e9706d1fb8c2            0   \n",
       "ea80e80e157a410d8fdfc6221f4a785a 0b1e1539f2cc45b7b9fa7c272da2e1d7            1   \n",
       "...                                                                        ...   \n",
       "93a4aed8d91f4e128f38ba62e2b9d97c 0b1e1539f2cc45b7b9fa7c272da2e1d7            0   \n",
       "45da79fb1a6040c0864e788ddce7af10 fafdcd668e3743c1bb461111dcafc2a4            1   \n",
       "083d316ee57640689731e5e7be9d5c20 2298d6c36e964ae4a3e7e9706d1fb8c2            0   \n",
       "391d8ec364374b38b3b2573d9e6b7d07 fafdcd668e3743c1bb461111dcafc2a4            1   \n",
       "0d58682ece0e4b788eff41f6d805314e 0b1e1539f2cc45b7b9fa7c272da2e1d7            1   \n",
       "\n",
       "                                                                   target_pred  \\\n",
       "account_id                       offer_id                                        \n",
       "36ccfdf3474f472484327c266ef4fa84 fafdcd668e3743c1bb461111dcafc2a4            1   \n",
       "07b78a8616714b58ad3a9ed94126c459 2906b810c7d4411798c6938adc9daaa5            1   \n",
       "65d4a94bef0841cc9b02753119742ccc 2906b810c7d4411798c6938adc9daaa5            0   \n",
       "f0469fdceb9244078e09592c3e7e4ce8 2298d6c36e964ae4a3e7e9706d1fb8c2            1   \n",
       "ea80e80e157a410d8fdfc6221f4a785a 0b1e1539f2cc45b7b9fa7c272da2e1d7            1   \n",
       "...                                                                        ...   \n",
       "93a4aed8d91f4e128f38ba62e2b9d97c 0b1e1539f2cc45b7b9fa7c272da2e1d7            0   \n",
       "45da79fb1a6040c0864e788ddce7af10 fafdcd668e3743c1bb461111dcafc2a4            1   \n",
       "083d316ee57640689731e5e7be9d5c20 2298d6c36e964ae4a3e7e9706d1fb8c2            0   \n",
       "391d8ec364374b38b3b2573d9e6b7d07 fafdcd668e3743c1bb461111dcafc2a4            1   \n",
       "0d58682ece0e4b788eff41f6d805314e 0b1e1539f2cc45b7b9fa7c272da2e1d7            0   \n",
       "\n",
       "                                                                   not_converted_prob  \\\n",
       "account_id                       offer_id                                               \n",
       "36ccfdf3474f472484327c266ef4fa84 fafdcd668e3743c1bb461111dcafc2a4               0.054   \n",
       "07b78a8616714b58ad3a9ed94126c459 2906b810c7d4411798c6938adc9daaa5               0.413   \n",
       "65d4a94bef0841cc9b02753119742ccc 2906b810c7d4411798c6938adc9daaa5               0.741   \n",
       "f0469fdceb9244078e09592c3e7e4ce8 2298d6c36e964ae4a3e7e9706d1fb8c2               0.049   \n",
       "ea80e80e157a410d8fdfc6221f4a785a 0b1e1539f2cc45b7b9fa7c272da2e1d7               0.064   \n",
       "...                                                                               ...   \n",
       "93a4aed8d91f4e128f38ba62e2b9d97c 0b1e1539f2cc45b7b9fa7c272da2e1d7               0.642   \n",
       "45da79fb1a6040c0864e788ddce7af10 fafdcd668e3743c1bb461111dcafc2a4               0.003   \n",
       "083d316ee57640689731e5e7be9d5c20 2298d6c36e964ae4a3e7e9706d1fb8c2               0.749   \n",
       "391d8ec364374b38b3b2573d9e6b7d07 fafdcd668e3743c1bb461111dcafc2a4               0.010   \n",
       "0d58682ece0e4b788eff41f6d805314e 0b1e1539f2cc45b7b9fa7c272da2e1d7               0.753   \n",
       "\n",
       "                                                                   converted_prob  \n",
       "account_id                       offer_id                                          \n",
       "36ccfdf3474f472484327c266ef4fa84 fafdcd668e3743c1bb461111dcafc2a4           0.946  \n",
       "07b78a8616714b58ad3a9ed94126c459 2906b810c7d4411798c6938adc9daaa5           0.587  \n",
       "65d4a94bef0841cc9b02753119742ccc 2906b810c7d4411798c6938adc9daaa5           0.259  \n",
       "f0469fdceb9244078e09592c3e7e4ce8 2298d6c36e964ae4a3e7e9706d1fb8c2           0.951  \n",
       "ea80e80e157a410d8fdfc6221f4a785a 0b1e1539f2cc45b7b9fa7c272da2e1d7           0.936  \n",
       "...                                                                           ...  \n",
       "93a4aed8d91f4e128f38ba62e2b9d97c 0b1e1539f2cc45b7b9fa7c272da2e1d7           0.358  \n",
       "45da79fb1a6040c0864e788ddce7af10 fafdcd668e3743c1bb461111dcafc2a4           0.997  \n",
       "083d316ee57640689731e5e7be9d5c20 2298d6c36e964ae4a3e7e9706d1fb8c2           0.251  \n",
       "391d8ec364374b38b3b2573d9e6b7d07 fafdcd668e3743c1bb461111dcafc2a4           0.990  \n",
       "0d58682ece0e4b788eff41f6d805314e 0b1e1539f2cc45b7b9fa7c272da2e1d7           0.247  \n",
       "\n",
       "[8000 rows x 4 columns]"
      ]
     },
     "execution_count": 80,
     "metadata": {},
     "output_type": "execute_result"
    }
   ],
   "source": [
    "X_test_result.drop(columns=X_test_b)"
   ]
  }
 ],
 "metadata": {
  "kernelspec": {
   "display_name": ".env",
   "language": "python",
   "name": "python3"
  },
  "language_info": {
   "codemirror_mode": {
    "name": "ipython",
    "version": 3
   },
   "file_extension": ".py",
   "mimetype": "text/x-python",
   "name": "python",
   "nbconvert_exporter": "python",
   "pygments_lexer": "ipython3",
   "version": "3.12.3"
  }
 },
 "nbformat": 4,
 "nbformat_minor": 5
}
