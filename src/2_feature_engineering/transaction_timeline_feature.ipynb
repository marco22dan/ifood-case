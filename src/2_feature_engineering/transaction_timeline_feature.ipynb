{
 "cells": [
  {
   "cell_type": "code",
   "execution_count": 57,
   "id": "45ee841d",
   "metadata": {},
   "outputs": [],
   "source": [
    "import pandas as pd\n",
    "import numpy as np\n",
    "\n",
    "import warnings\n",
    "warnings.filterwarnings('ignore')\n",
    "pd.set_option('display.max_columns', None)"
   ]
  },
  {
   "cell_type": "code",
   "execution_count": 65,
   "id": "9ce07f3b",
   "metadata": {},
   "outputs": [],
   "source": [
    "# BASE_PATH = '/Workspace/Users/marcodaniel.ml@hotmail.com/ifood-case'\n",
    "BASE_PATH = 'D:/Downloads/IFood/ifood-case/'\n",
    "DATA_RAW_PATH = BASE_PATH + '/data/raw/'\n",
    "DATA_TEMP_PATH = BASE_PATH + '/data/temp/'"
   ]
  },
  {
   "cell_type": "markdown",
   "id": "4b9373ba",
   "metadata": {},
   "source": [
    "# profile"
   ]
  },
  {
   "cell_type": "code",
   "execution_count": 3,
   "id": "a274cc04",
   "metadata": {},
   "outputs": [],
   "source": [
    "df_profile = pd.read_json(DATA_RAW_PATH + 'profile.json')\n",
    "\n",
    "df_profile['age'] = df_profile['age'].astype(int)\n",
    "df_profile = df_profile[df_profile['age'] <= 101]\n",
    "df_profile['registered_on'] = pd.to_datetime(df_profile['registered_on'], format='%Y%m%d')\n",
    "df_profile['gender'] = df_profile['gender'].str.upper().fillna('O')\n",
    "df_profile['id'] = df_profile['id'].str.strip()\n",
    "df_profile['credit_card_limit'] = df_profile['credit_card_limit'].astype(float)\n",
    "df_profile = df_profile.rename(columns={'id': 'account_id'})"
   ]
  },
  {
   "cell_type": "markdown",
   "id": "b4d7cc10",
   "metadata": {},
   "source": [
    "# offers"
   ]
  },
  {
   "cell_type": "code",
   "execution_count": 4,
   "id": "fa57d2c3",
   "metadata": {},
   "outputs": [],
   "source": [
    "df_offers = pd.read_json(DATA_RAW_PATH + 'offers.json')\n",
    "\n",
    "df_offers['min_value'] = df_offers['min_value'].astype(float)\n",
    "df_offers['duration'] = df_offers['duration'].astype(int)\n",
    "df_offers['id'] = df_offers['id'].str.strip()\n",
    "df_offers['discount_value'] = df_offers['discount_value'].astype(float)\n",
    "\n",
    "df_offers = df_offers.rename(columns={'id': 'offer_id'})"
   ]
  },
  {
   "cell_type": "markdown",
   "id": "84abec34",
   "metadata": {},
   "source": [
    "# transactions"
   ]
  },
  {
   "cell_type": "code",
   "execution_count": 5,
   "id": "ad4de5eb",
   "metadata": {},
   "outputs": [],
   "source": [
    "df_transactions = pd.read_json(DATA_RAW_PATH + 'transactions.json')\n",
    "\n",
    "df_transactions['account_id'] = df_transactions['account_id'].str.strip()\n",
    "df_transactions['time_since_test_start'] = df_transactions['time_since_test_start'].astype(float)\n",
    "\n",
    "value_expanded = df_transactions['value'].apply(pd.Series)\n",
    "df_transactions_s = pd.concat([df_transactions.drop(columns='value'), value_expanded], axis=1)"
   ]
  },
  {
   "cell_type": "code",
   "execution_count": 15,
   "id": "b8a8e1d1",
   "metadata": {},
   "outputs": [],
   "source": [
    "df_transaction = df_transactions_s[df_transactions_s['event'] == 'transaction']\n",
    "df_offer_received = df_transactions_s[df_transactions_s['event'] == 'offer received']\n",
    "df_offer_viewed = df_transactions_s[df_transactions_s['event'] == 'offer viewed']\n",
    "df_offer_completed = df_transactions_s[df_transactions_s['event'] == 'offer completed']\n",
    "\n",
    "df_transaction = df_transaction[['account_id', 'amount', 'time_since_test_start']]\n",
    "df_offer_received = df_offer_received[['account_id', 'offer id', 'time_since_test_start']]\n",
    "df_offer_viewed = df_offer_viewed[['account_id', 'offer id', 'time_since_test_start']]\n",
    "df_offer_completed = df_offer_completed[['account_id', 'offer_id', 'reward', 'time_since_test_start']]\n",
    "\n",
    "df_transaction = df_transaction.rename(columns={\n",
    "    'time_since_test_start': 'transaction_time',\n",
    "})\n",
    "df_offer_received = df_offer_received.rename(columns={\n",
    "    'offer id': 'offer_id',\n",
    "    'time_since_test_start': 'received_time',\n",
    "})\n",
    "df_offer_viewed = df_offer_viewed.rename(columns={\n",
    "    'offer id': 'offer_id',\n",
    "    'time_since_test_start': 'viewed_time',\n",
    "})\n",
    "df_offer_completed = df_offer_completed.rename(columns={\n",
    "    'time_since_test_start': 'transaction_time',\n",
    "})"
   ]
  },
  {
   "cell_type": "markdown",
   "id": "daadd6d4",
   "metadata": {},
   "source": [
    "## TimeLine"
   ]
  },
  {
   "cell_type": "code",
   "execution_count": 77,
   "id": "df9ba0ae",
   "metadata": {},
   "outputs": [],
   "source": [
    "df_transaction_tl = (\n",
    "    df_transaction\n",
    "    .merge(\n",
    "        df_offer_completed,\n",
    "        on=['account_id', 'transaction_time',],\n",
    "        how='left'\n",
    "    )\n",
    ")\n",
    "\n",
    "df_transaction_tl = df_transaction_tl.rename(columns={\n",
    "    'transaction_time': 'time'\n",
    "})\n",
    "\n",
    "df_transaction_tl['event'] = np.where(\n",
    "    df_transaction_tl['offer_id'].notnull(),\n",
    "    'offer_completed', 'transaction'\n",
    ")\n",
    "\n",
    "df_offer_received_tl = df_offer_received.rename(columns={\n",
    "    'received_time': 'time'\n",
    "})\n",
    "df_offer_received_tl['event'] = 'offer_received'\n",
    "\n",
    "df_offer_viewed_tl = df_offer_viewed.rename(columns={\n",
    "    'viewed_time': 'time'\n",
    "})\n",
    "df_offer_viewed_tl['event'] = 'offer_viewed'\n",
    "\n",
    "df_timeline = pd.concat([df_transaction_tl, df_offer_received_tl, df_offer_viewed_tl])\n",
    "df_timeline = df_timeline.drop_duplicates()\n",
    "df_timeline = df_timeline.sort_values(['account_id', 'time'])\n",
    "\n",
    "df_offers_tl = df_offers[['offer_id', 'offer_type']]\n",
    "df_timeline = df_timeline.merge(df_offers_tl, on='offer_id', how='left')\n",
    "df_timeline['offer_type'] = df_timeline['offer_type'].fillna('no_offer')\n",
    "df_timeline = df_timeline.set_index(['account_id', 'offer_id', 'time']).reset_index()\n",
    "df_timeline[['amount', 'reward']] = df_timeline[['amount', 'reward']].fillna(0)\n",
    "\n",
    "df_timeline = df_timeline.sort_values(['account_id', 'time'])\n",
    "\n",
    "df_timeline['transactions'] = (df_timeline['event'] == 'transaction').astype(int)\n",
    "\n",
    "df_timeline['received_bogo'] = ((df_timeline['event'] == 'offer_received') &\n",
    "                                (df_timeline['offer_type'] == 'bogo')).astype(int)\n",
    "df_timeline['received_discount'] = ((df_timeline['event'] == 'offer_received') &\n",
    "                                    (df_timeline['offer_type'] == 'discount')).astype(int)\n",
    "df_timeline['received_info'] = ((df_timeline['event'] == 'offer_received') &\n",
    "                                (df_timeline['offer_type'] == 'informational')).astype(int)\n",
    "\n",
    "df_timeline['viewed_bogo'] = ((df_timeline['event'] == 'offer_viewed') &\n",
    "                              (df_timeline['offer_type'] == 'bogo')).astype(int)\n",
    "df_timeline['viewed_discount'] = ((df_timeline['event'] == 'offer_viewed') &\n",
    "                                  (df_timeline['offer_type'] == 'discount')).astype(int)\n",
    "df_timeline['viewed_info'] = ((df_timeline['event'] == 'offer_viewed') &\n",
    "                              (df_timeline['offer_type'] == 'informational')).astype(int)\n",
    "\n",
    "df_timeline['completed_bogo'] = ((df_timeline['event'] == 'offer_completed') &\n",
    "                                 (df_timeline['offer_type'] == 'bogo')).astype(int)\n",
    "df_timeline['completed_discount'] = ((df_timeline['event'] == 'offer_completed') &\n",
    "                                     (df_timeline['offer_type'] == 'discount')).astype(int)\n",
    "df_timeline['completed_info'] = ((df_timeline['event'] == 'offer_completed') &\n",
    "                                 (df_timeline['offer_type'] == 'informational')).astype(int)\n",
    "\n",
    "df_timeline_g = df_timeline.groupby(['account_id', 'time']).sum(numeric_only=True)\n",
    "\n",
    "df_timeline_g['amount_sum'] = df_timeline_g.groupby(['account_id'])['amount'].cumsum()\n",
    "df_timeline_g['reward_sum'] = df_timeline_g.groupby(['account_id'])['reward'].cumsum()\n",
    "df_timeline_g['transactions_sum'] = df_timeline_g.groupby(['account_id'])['transactions'].cumsum()\n",
    "df_timeline_g['received_bogo_sum'] = df_timeline_g.groupby(['account_id'])['received_bogo'].cumsum()\n",
    "df_timeline_g['received_discount_sum'] = df_timeline_g.groupby(['account_id'])['received_discount'].cumsum()\n",
    "df_timeline_g['received_info_sum'] = df_timeline_g.groupby(['account_id'])['received_info'].cumsum()\n",
    "df_timeline_g['viewed_bogo_sum'] = df_timeline_g.groupby(['account_id'])['viewed_bogo'].cumsum()\n",
    "df_timeline_g['viewed_discount_sum'] = df_timeline_g.groupby(['account_id'])['viewed_discount'].cumsum()\n",
    "df_timeline_g['viewed_info_sum'] = df_timeline_g.groupby(['account_id'])['viewed_info'].cumsum()\n",
    "df_timeline_g['completed_bogo_sum'] = df_timeline_g.groupby(['account_id'])['completed_bogo'].cumsum()\n",
    "df_timeline_g['completed_discount_sum'] = df_timeline_g.groupby(['account_id'])['completed_discount'].cumsum()\n",
    "df_timeline_g['completed_info_sum'] = df_timeline_g.groupby(['account_id'])['completed_info'].cumsum()\n",
    "\n",
    "df_timeline_g = df_timeline_g.drop(columns=[\n",
    "    'amount', \n",
    "    'reward',\n",
    "    'transactions',\n",
    "    'received_bogo',\n",
    "    'received_discount',\n",
    "    'received_info',\n",
    "    'viewed_bogo',\n",
    "    'viewed_discount',\n",
    "    'viewed_info',\n",
    "    'completed_bogo',\n",
    "    'completed_discount',\n",
    "    'completed_info',\n",
    "]).reset_index()"
   ]
  },
  {
   "cell_type": "code",
   "execution_count": null,
   "id": "f1d06143",
   "metadata": {},
   "outputs": [],
   "source": [
    "# df_timeline_g.to_csv(DATA_TEMP_PATH + '/transaction_timeline.csv', index=False)"
   ]
  }
 ],
 "metadata": {
  "kernelspec": {
   "display_name": ".env",
   "language": "python",
   "name": "python3"
  },
  "language_info": {
   "codemirror_mode": {
    "name": "ipython",
    "version": 3
   },
   "file_extension": ".py",
   "mimetype": "text/x-python",
   "name": "python",
   "nbconvert_exporter": "python",
   "pygments_lexer": "ipython3",
   "version": "3.12.8"
  }
 },
 "nbformat": 4,
 "nbformat_minor": 5
}
