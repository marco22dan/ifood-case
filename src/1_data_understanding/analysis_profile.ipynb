{
 "cells": [
  {
   "cell_type": "code",
   "execution_count": 1,
   "id": "f882c11d",
   "metadata": {},
   "outputs": [],
   "source": [
    "import pandas as pd\n",
    "import numpy as np\n",
    "\n",
    "import warnings\n",
    "warnings.filterwarnings('ignore')"
   ]
  },
  {
   "cell_type": "code",
   "execution_count": 2,
   "id": "edde6072",
   "metadata": {},
   "outputs": [],
   "source": [
    "BASE_PATH = '/home/marco/ifood-case'\n",
    "DATA_RAW_PATH = BASE_PATH + '/data/raw/'"
   ]
  },
  {
   "cell_type": "markdown",
   "id": "3fe6287d",
   "metadata": {},
   "source": [
    "# profile.json"
   ]
  },
  {
   "cell_type": "code",
   "execution_count": 3,
   "id": "88112d91",
   "metadata": {},
   "outputs": [
    {
     "data": {
      "text/html": [
       "<div>\n",
       "<style scoped>\n",
       "    .dataframe tbody tr th:only-of-type {\n",
       "        vertical-align: middle;\n",
       "    }\n",
       "\n",
       "    .dataframe tbody tr th {\n",
       "        vertical-align: top;\n",
       "    }\n",
       "\n",
       "    .dataframe thead th {\n",
       "        text-align: right;\n",
       "    }\n",
       "</style>\n",
       "<table border=\"1\" class=\"dataframe\">\n",
       "  <thead>\n",
       "    <tr style=\"text-align: right;\">\n",
       "      <th></th>\n",
       "      <th>age</th>\n",
       "      <th>registered_on</th>\n",
       "      <th>gender</th>\n",
       "      <th>id</th>\n",
       "      <th>credit_card_limit</th>\n",
       "    </tr>\n",
       "  </thead>\n",
       "  <tbody>\n",
       "    <tr>\n",
       "      <th>0</th>\n",
       "      <td>118</td>\n",
       "      <td>20170212</td>\n",
       "      <td>None</td>\n",
       "      <td>68be06ca386d4c31939f3a4f0e3dd783</td>\n",
       "      <td>NaN</td>\n",
       "    </tr>\n",
       "    <tr>\n",
       "      <th>1</th>\n",
       "      <td>55</td>\n",
       "      <td>20170715</td>\n",
       "      <td>F</td>\n",
       "      <td>0610b486422d4921ae7d2bf64640c50b</td>\n",
       "      <td>112000.0</td>\n",
       "    </tr>\n",
       "    <tr>\n",
       "      <th>2</th>\n",
       "      <td>118</td>\n",
       "      <td>20180712</td>\n",
       "      <td>None</td>\n",
       "      <td>38fe809add3b4fcf9315a9694bb96ff5</td>\n",
       "      <td>NaN</td>\n",
       "    </tr>\n",
       "    <tr>\n",
       "      <th>3</th>\n",
       "      <td>75</td>\n",
       "      <td>20170509</td>\n",
       "      <td>F</td>\n",
       "      <td>78afa995795e4d85b5d9ceeca43f5fef</td>\n",
       "      <td>100000.0</td>\n",
       "    </tr>\n",
       "    <tr>\n",
       "      <th>4</th>\n",
       "      <td>118</td>\n",
       "      <td>20170804</td>\n",
       "      <td>None</td>\n",
       "      <td>a03223e636434f42ac4c3df47e8bac43</td>\n",
       "      <td>NaN</td>\n",
       "    </tr>\n",
       "    <tr>\n",
       "      <th>...</th>\n",
       "      <td>...</td>\n",
       "      <td>...</td>\n",
       "      <td>...</td>\n",
       "      <td>...</td>\n",
       "      <td>...</td>\n",
       "    </tr>\n",
       "    <tr>\n",
       "      <th>16995</th>\n",
       "      <td>45</td>\n",
       "      <td>20180604</td>\n",
       "      <td>F</td>\n",
       "      <td>6d5f3a774f3d4714ab0c092238f3a1d7</td>\n",
       "      <td>54000.0</td>\n",
       "    </tr>\n",
       "    <tr>\n",
       "      <th>16996</th>\n",
       "      <td>61</td>\n",
       "      <td>20180713</td>\n",
       "      <td>M</td>\n",
       "      <td>2cb4f97358b841b9a9773a7aa05a9d77</td>\n",
       "      <td>72000.0</td>\n",
       "    </tr>\n",
       "    <tr>\n",
       "      <th>16997</th>\n",
       "      <td>49</td>\n",
       "      <td>20170126</td>\n",
       "      <td>M</td>\n",
       "      <td>01d26f638c274aa0b965d24cefe3183f</td>\n",
       "      <td>73000.0</td>\n",
       "    </tr>\n",
       "    <tr>\n",
       "      <th>16998</th>\n",
       "      <td>83</td>\n",
       "      <td>20160307</td>\n",
       "      <td>F</td>\n",
       "      <td>9dc1421481194dcd9400aec7c9ae6366</td>\n",
       "      <td>50000.0</td>\n",
       "    </tr>\n",
       "    <tr>\n",
       "      <th>16999</th>\n",
       "      <td>62</td>\n",
       "      <td>20170722</td>\n",
       "      <td>F</td>\n",
       "      <td>e4052622e5ba45a8b96b59aba68cf068</td>\n",
       "      <td>82000.0</td>\n",
       "    </tr>\n",
       "  </tbody>\n",
       "</table>\n",
       "<p>17000 rows × 5 columns</p>\n",
       "</div>"
      ],
      "text/plain": [
       "       age  registered_on gender                                id  \\\n",
       "0      118       20170212   None  68be06ca386d4c31939f3a4f0e3dd783   \n",
       "1       55       20170715      F  0610b486422d4921ae7d2bf64640c50b   \n",
       "2      118       20180712   None  38fe809add3b4fcf9315a9694bb96ff5   \n",
       "3       75       20170509      F  78afa995795e4d85b5d9ceeca43f5fef   \n",
       "4      118       20170804   None  a03223e636434f42ac4c3df47e8bac43   \n",
       "...    ...            ...    ...                               ...   \n",
       "16995   45       20180604      F  6d5f3a774f3d4714ab0c092238f3a1d7   \n",
       "16996   61       20180713      M  2cb4f97358b841b9a9773a7aa05a9d77   \n",
       "16997   49       20170126      M  01d26f638c274aa0b965d24cefe3183f   \n",
       "16998   83       20160307      F  9dc1421481194dcd9400aec7c9ae6366   \n",
       "16999   62       20170722      F  e4052622e5ba45a8b96b59aba68cf068   \n",
       "\n",
       "       credit_card_limit  \n",
       "0                    NaN  \n",
       "1               112000.0  \n",
       "2                    NaN  \n",
       "3               100000.0  \n",
       "4                    NaN  \n",
       "...                  ...  \n",
       "16995            54000.0  \n",
       "16996            72000.0  \n",
       "16997            73000.0  \n",
       "16998            50000.0  \n",
       "16999            82000.0  \n",
       "\n",
       "[17000 rows x 5 columns]"
      ]
     },
     "execution_count": 3,
     "metadata": {},
     "output_type": "execute_result"
    }
   ],
   "source": [
    "df_profile = pd.read_json(DATA_RAW_PATH + 'profile.json')\n",
    "df_profile"
   ]
  },
  {
   "cell_type": "markdown",
   "id": "9d971964",
   "metadata": {},
   "source": [
    "## age"
   ]
  },
  {
   "cell_type": "code",
   "execution_count": 4,
   "id": "07759a49",
   "metadata": {},
   "outputs": [
    {
     "data": {
      "text/plain": [
       "count    17000.000000\n",
       "mean        62.531412\n",
       "std         26.738580\n",
       "min         18.000000\n",
       "25%         45.000000\n",
       "50%         58.000000\n",
       "75%         73.000000\n",
       "max        118.000000\n",
       "Name: age, dtype: float64"
      ]
     },
     "execution_count": 4,
     "metadata": {},
     "output_type": "execute_result"
    }
   ],
   "source": [
    "df_profile['age'].describe()"
   ]
  },
  {
   "cell_type": "code",
   "execution_count": 5,
   "id": "d6e5f7e5",
   "metadata": {},
   "outputs": [
    {
     "data": {
      "text/html": [
       "<div>\n",
       "<style scoped>\n",
       "    .dataframe tbody tr th:only-of-type {\n",
       "        vertical-align: middle;\n",
       "    }\n",
       "\n",
       "    .dataframe tbody tr th {\n",
       "        vertical-align: top;\n",
       "    }\n",
       "\n",
       "    .dataframe thead th {\n",
       "        text-align: right;\n",
       "    }\n",
       "</style>\n",
       "<table border=\"1\" class=\"dataframe\">\n",
       "  <thead>\n",
       "    <tr style=\"text-align: right;\">\n",
       "      <th></th>\n",
       "      <th>age</th>\n",
       "      <th>registered_on</th>\n",
       "      <th>gender</th>\n",
       "      <th>id</th>\n",
       "      <th>credit_card_limit</th>\n",
       "    </tr>\n",
       "  </thead>\n",
       "  <tbody>\n",
       "    <tr>\n",
       "      <th>0</th>\n",
       "      <td>118</td>\n",
       "      <td>20170212</td>\n",
       "      <td>None</td>\n",
       "      <td>68be06ca386d4c31939f3a4f0e3dd783</td>\n",
       "      <td>NaN</td>\n",
       "    </tr>\n",
       "    <tr>\n",
       "      <th>2</th>\n",
       "      <td>118</td>\n",
       "      <td>20180712</td>\n",
       "      <td>None</td>\n",
       "      <td>38fe809add3b4fcf9315a9694bb96ff5</td>\n",
       "      <td>NaN</td>\n",
       "    </tr>\n",
       "    <tr>\n",
       "      <th>4</th>\n",
       "      <td>118</td>\n",
       "      <td>20170804</td>\n",
       "      <td>None</td>\n",
       "      <td>a03223e636434f42ac4c3df47e8bac43</td>\n",
       "      <td>NaN</td>\n",
       "    </tr>\n",
       "    <tr>\n",
       "      <th>6</th>\n",
       "      <td>118</td>\n",
       "      <td>20170925</td>\n",
       "      <td>None</td>\n",
       "      <td>8ec6ce2a7e7949b1bf142def7d0e0586</td>\n",
       "      <td>NaN</td>\n",
       "    </tr>\n",
       "    <tr>\n",
       "      <th>7</th>\n",
       "      <td>118</td>\n",
       "      <td>20171002</td>\n",
       "      <td>None</td>\n",
       "      <td>68617ca6246f4fbc85e91a2a49552598</td>\n",
       "      <td>NaN</td>\n",
       "    </tr>\n",
       "    <tr>\n",
       "      <th>...</th>\n",
       "      <td>...</td>\n",
       "      <td>...</td>\n",
       "      <td>...</td>\n",
       "      <td>...</td>\n",
       "      <td>...</td>\n",
       "    </tr>\n",
       "    <tr>\n",
       "      <th>16980</th>\n",
       "      <td>118</td>\n",
       "      <td>20160901</td>\n",
       "      <td>None</td>\n",
       "      <td>5c686d09ca4d475a8f750f2ba07e0440</td>\n",
       "      <td>NaN</td>\n",
       "    </tr>\n",
       "    <tr>\n",
       "      <th>16982</th>\n",
       "      <td>118</td>\n",
       "      <td>20160415</td>\n",
       "      <td>None</td>\n",
       "      <td>d9ca82f550ac4ee58b6299cf1e5c824a</td>\n",
       "      <td>NaN</td>\n",
       "    </tr>\n",
       "    <tr>\n",
       "      <th>16989</th>\n",
       "      <td>118</td>\n",
       "      <td>20180305</td>\n",
       "      <td>None</td>\n",
       "      <td>ca45ee1883624304bac1e4c8a114f045</td>\n",
       "      <td>NaN</td>\n",
       "    </tr>\n",
       "    <tr>\n",
       "      <th>16991</th>\n",
       "      <td>118</td>\n",
       "      <td>20160116</td>\n",
       "      <td>None</td>\n",
       "      <td>a9a20fa8b5504360beb4e7c8712f8306</td>\n",
       "      <td>NaN</td>\n",
       "    </tr>\n",
       "    <tr>\n",
       "      <th>16994</th>\n",
       "      <td>118</td>\n",
       "      <td>20151211</td>\n",
       "      <td>None</td>\n",
       "      <td>c02b10e8752c4d8e9b73f918558531f7</td>\n",
       "      <td>NaN</td>\n",
       "    </tr>\n",
       "  </tbody>\n",
       "</table>\n",
       "<p>2180 rows × 5 columns</p>\n",
       "</div>"
      ],
      "text/plain": [
       "       age  registered_on gender                                id  \\\n",
       "0      118       20170212   None  68be06ca386d4c31939f3a4f0e3dd783   \n",
       "2      118       20180712   None  38fe809add3b4fcf9315a9694bb96ff5   \n",
       "4      118       20170804   None  a03223e636434f42ac4c3df47e8bac43   \n",
       "6      118       20170925   None  8ec6ce2a7e7949b1bf142def7d0e0586   \n",
       "7      118       20171002   None  68617ca6246f4fbc85e91a2a49552598   \n",
       "...    ...            ...    ...                               ...   \n",
       "16980  118       20160901   None  5c686d09ca4d475a8f750f2ba07e0440   \n",
       "16982  118       20160415   None  d9ca82f550ac4ee58b6299cf1e5c824a   \n",
       "16989  118       20180305   None  ca45ee1883624304bac1e4c8a114f045   \n",
       "16991  118       20160116   None  a9a20fa8b5504360beb4e7c8712f8306   \n",
       "16994  118       20151211   None  c02b10e8752c4d8e9b73f918558531f7   \n",
       "\n",
       "       credit_card_limit  \n",
       "0                    NaN  \n",
       "2                    NaN  \n",
       "4                    NaN  \n",
       "6                    NaN  \n",
       "7                    NaN  \n",
       "...                  ...  \n",
       "16980                NaN  \n",
       "16982                NaN  \n",
       "16989                NaN  \n",
       "16991                NaN  \n",
       "16994                NaN  \n",
       "\n",
       "[2180 rows x 5 columns]"
      ]
     },
     "execution_count": 5,
     "metadata": {},
     "output_type": "execute_result"
    }
   ],
   "source": [
    "df_profile_100 = df_profile[df_profile['age'] > 100]\n",
    "df_profile_100"
   ]
  },
  {
   "cell_type": "code",
   "execution_count": 6,
   "id": "2effb65f",
   "metadata": {},
   "outputs": [
    {
     "data": {
      "text/html": [
       "<div>\n",
       "<style scoped>\n",
       "    .dataframe tbody tr th:only-of-type {\n",
       "        vertical-align: middle;\n",
       "    }\n",
       "\n",
       "    .dataframe tbody tr th {\n",
       "        vertical-align: top;\n",
       "    }\n",
       "\n",
       "    .dataframe thead th {\n",
       "        text-align: right;\n",
       "    }\n",
       "</style>\n",
       "<table border=\"1\" class=\"dataframe\">\n",
       "  <thead>\n",
       "    <tr style=\"text-align: right;\">\n",
       "      <th></th>\n",
       "      <th>age</th>\n",
       "      <th>registered_on</th>\n",
       "      <th>gender</th>\n",
       "      <th>id</th>\n",
       "      <th>credit_card_limit</th>\n",
       "    </tr>\n",
       "  </thead>\n",
       "  <tbody>\n",
       "    <tr>\n",
       "      <th>1556</th>\n",
       "      <td>101</td>\n",
       "      <td>20171004</td>\n",
       "      <td>F</td>\n",
       "      <td>4d2ccfcbbebf4bd9baf4b7e433d0e288</td>\n",
       "      <td>43000.0</td>\n",
       "    </tr>\n",
       "    <tr>\n",
       "      <th>4100</th>\n",
       "      <td>101</td>\n",
       "      <td>20150526</td>\n",
       "      <td>F</td>\n",
       "      <td>d2fdc2be8ab64e4ba04830d441e53fd5</td>\n",
       "      <td>99000.0</td>\n",
       "    </tr>\n",
       "    <tr>\n",
       "      <th>14846</th>\n",
       "      <td>101</td>\n",
       "      <td>20171109</td>\n",
       "      <td>F</td>\n",
       "      <td>e0ea90ddd2f147e082d21e97f51ec1b1</td>\n",
       "      <td>56000.0</td>\n",
       "    </tr>\n",
       "    <tr>\n",
       "      <th>15800</th>\n",
       "      <td>101</td>\n",
       "      <td>20170309</td>\n",
       "      <td>F</td>\n",
       "      <td>047ad0135cfe4c0ea5ba019da4de9c52</td>\n",
       "      <td>59000.0</td>\n",
       "    </tr>\n",
       "    <tr>\n",
       "      <th>16864</th>\n",
       "      <td>101</td>\n",
       "      <td>20171127</td>\n",
       "      <td>F</td>\n",
       "      <td>1593d617fac246ef8e50dbb0ffd77f5f</td>\n",
       "      <td>82000.0</td>\n",
       "    </tr>\n",
       "  </tbody>\n",
       "</table>\n",
       "</div>"
      ],
      "text/plain": [
       "       age  registered_on gender                                id  \\\n",
       "1556   101       20171004      F  4d2ccfcbbebf4bd9baf4b7e433d0e288   \n",
       "4100   101       20150526      F  d2fdc2be8ab64e4ba04830d441e53fd5   \n",
       "14846  101       20171109      F  e0ea90ddd2f147e082d21e97f51ec1b1   \n",
       "15800  101       20170309      F  047ad0135cfe4c0ea5ba019da4de9c52   \n",
       "16864  101       20171127      F  1593d617fac246ef8e50dbb0ffd77f5f   \n",
       "\n",
       "       credit_card_limit  \n",
       "1556             43000.0  \n",
       "4100             99000.0  \n",
       "14846            56000.0  \n",
       "15800            59000.0  \n",
       "16864            82000.0  "
      ]
     },
     "execution_count": 6,
     "metadata": {},
     "output_type": "execute_result"
    }
   ],
   "source": [
    "df_profile_100.dropna()"
   ]
  },
  {
   "cell_type": "code",
   "execution_count": 7,
   "id": "df3be68a",
   "metadata": {},
   "outputs": [
    {
     "data": {
      "text/plain": [
       "gender\n",
       "F    5\n",
       "Name: count, dtype: int64"
      ]
     },
     "execution_count": 7,
     "metadata": {},
     "output_type": "execute_result"
    }
   ],
   "source": [
    "df_profile_100['gender'].value_counts()"
   ]
  },
  {
   "cell_type": "code",
   "execution_count": 8,
   "id": "d97b0ddf",
   "metadata": {},
   "outputs": [
    {
     "data": {
      "text/plain": [
       "count        5.000000\n",
       "mean     67800.000000\n",
       "std      22398.660674\n",
       "min      43000.000000\n",
       "25%      56000.000000\n",
       "50%      59000.000000\n",
       "75%      82000.000000\n",
       "max      99000.000000\n",
       "Name: credit_card_limit, dtype: float64"
      ]
     },
     "execution_count": 8,
     "metadata": {},
     "output_type": "execute_result"
    }
   ],
   "source": [
    "df_profile_100['credit_card_limit'].describe()"
   ]
  },
  {
   "cell_type": "code",
   "execution_count": 9,
   "id": "9babcbf4",
   "metadata": {},
   "outputs": [],
   "source": [
    "df_profile = df_profile[df_profile['age'] <= 101]"
   ]
  },
  {
   "cell_type": "code",
   "execution_count": 10,
   "id": "ead930ea",
   "metadata": {},
   "outputs": [
    {
     "data": {
      "text/html": [
       "<div>\n",
       "<style scoped>\n",
       "    .dataframe tbody tr th:only-of-type {\n",
       "        vertical-align: middle;\n",
       "    }\n",
       "\n",
       "    .dataframe tbody tr th {\n",
       "        vertical-align: top;\n",
       "    }\n",
       "\n",
       "    .dataframe thead th {\n",
       "        text-align: right;\n",
       "    }\n",
       "</style>\n",
       "<table border=\"1\" class=\"dataframe\">\n",
       "  <thead>\n",
       "    <tr style=\"text-align: right;\">\n",
       "      <th></th>\n",
       "      <th>count</th>\n",
       "      <th>mean</th>\n",
       "      <th>std</th>\n",
       "      <th>min</th>\n",
       "      <th>25%</th>\n",
       "      <th>50%</th>\n",
       "      <th>75%</th>\n",
       "      <th>max</th>\n",
       "    </tr>\n",
       "    <tr>\n",
       "      <th>gender</th>\n",
       "      <th></th>\n",
       "      <th></th>\n",
       "      <th></th>\n",
       "      <th></th>\n",
       "      <th></th>\n",
       "      <th></th>\n",
       "      <th></th>\n",
       "      <th></th>\n",
       "    </tr>\n",
       "  </thead>\n",
       "  <tbody>\n",
       "    <tr>\n",
       "      <th>F</th>\n",
       "      <td>6129.0</td>\n",
       "      <td>57.544950</td>\n",
       "      <td>16.883315</td>\n",
       "      <td>18.0</td>\n",
       "      <td>48.0</td>\n",
       "      <td>58.0</td>\n",
       "      <td>69.0</td>\n",
       "      <td>101.0</td>\n",
       "    </tr>\n",
       "    <tr>\n",
       "      <th>M</th>\n",
       "      <td>8484.0</td>\n",
       "      <td>52.116690</td>\n",
       "      <td>17.413894</td>\n",
       "      <td>18.0</td>\n",
       "      <td>39.0</td>\n",
       "      <td>53.0</td>\n",
       "      <td>65.0</td>\n",
       "      <td>100.0</td>\n",
       "    </tr>\n",
       "    <tr>\n",
       "      <th>O</th>\n",
       "      <td>212.0</td>\n",
       "      <td>54.400943</td>\n",
       "      <td>16.244710</td>\n",
       "      <td>20.0</td>\n",
       "      <td>43.0</td>\n",
       "      <td>55.0</td>\n",
       "      <td>66.0</td>\n",
       "      <td>100.0</td>\n",
       "    </tr>\n",
       "  </tbody>\n",
       "</table>\n",
       "</div>"
      ],
      "text/plain": [
       "         count       mean        std   min   25%   50%   75%    max\n",
       "gender                                                             \n",
       "F       6129.0  57.544950  16.883315  18.0  48.0  58.0  69.0  101.0\n",
       "M       8484.0  52.116690  17.413894  18.0  39.0  53.0  65.0  100.0\n",
       "O        212.0  54.400943  16.244710  20.0  43.0  55.0  66.0  100.0"
      ]
     },
     "execution_count": 10,
     "metadata": {},
     "output_type": "execute_result"
    }
   ],
   "source": [
    "df_profile.groupby(\"gender\")[\"age\"].describe()"
   ]
  },
  {
   "cell_type": "markdown",
   "id": "1fff6a6d",
   "metadata": {},
   "source": [
    "## registered_on"
   ]
  },
  {
   "cell_type": "code",
   "execution_count": 11,
   "id": "9aab614f",
   "metadata": {},
   "outputs": [],
   "source": [
    "df_profile['registered_on'] = pd.to_datetime(df_profile['registered_on'], format='%Y%m%d')\n",
    "df_profile = df_profile.sort_values('registered_on')"
   ]
  },
  {
   "cell_type": "code",
   "execution_count": 12,
   "id": "00c062e8",
   "metadata": {},
   "outputs": [
    {
     "data": {
      "text/plain": [
       "count                            14825\n",
       "mean     2017-02-18 12:30:15.419898880\n",
       "min                2013-07-29 00:00:00\n",
       "25%                2016-05-20 00:00:00\n",
       "50%                2017-08-02 00:00:00\n",
       "75%                2017-12-30 00:00:00\n",
       "max                2018-07-26 00:00:00\n",
       "Name: registered_on, dtype: object"
      ]
     },
     "execution_count": 12,
     "metadata": {},
     "output_type": "execute_result"
    }
   ],
   "source": [
    "df_profile['registered_on'].describe()"
   ]
  },
  {
   "cell_type": "markdown",
   "id": "cbc23214",
   "metadata": {},
   "source": [
    "## gender"
   ]
  },
  {
   "cell_type": "code",
   "execution_count": 13,
   "id": "ceb214f7",
   "metadata": {},
   "outputs": [
    {
     "data": {
      "text/plain": [
       "gender\n",
       "M    8484\n",
       "F    6129\n",
       "O     212\n",
       "Name: count, dtype: int64"
      ]
     },
     "execution_count": 13,
     "metadata": {},
     "output_type": "execute_result"
    }
   ],
   "source": [
    "df_profile['gender'].value_counts()"
   ]
  },
  {
   "cell_type": "markdown",
   "id": "0cecb4ff",
   "metadata": {},
   "source": [
    "## id"
   ]
  },
  {
   "cell_type": "code",
   "execution_count": 14,
   "id": "a0fc9869",
   "metadata": {},
   "outputs": [],
   "source": [
    "df_profile['id'] = df_profile['id'].str.strip()"
   ]
  },
  {
   "cell_type": "code",
   "execution_count": 15,
   "id": "a48a7ba2",
   "metadata": {},
   "outputs": [
    {
     "data": {
      "text/html": [
       "<div>\n",
       "<style scoped>\n",
       "    .dataframe tbody tr th:only-of-type {\n",
       "        vertical-align: middle;\n",
       "    }\n",
       "\n",
       "    .dataframe tbody tr th {\n",
       "        vertical-align: top;\n",
       "    }\n",
       "\n",
       "    .dataframe thead th {\n",
       "        text-align: right;\n",
       "    }\n",
       "</style>\n",
       "<table border=\"1\" class=\"dataframe\">\n",
       "  <thead>\n",
       "    <tr style=\"text-align: right;\">\n",
       "      <th></th>\n",
       "      <th>age</th>\n",
       "      <th>registered_on</th>\n",
       "      <th>gender</th>\n",
       "      <th>id</th>\n",
       "      <th>credit_card_limit</th>\n",
       "    </tr>\n",
       "  </thead>\n",
       "  <tbody>\n",
       "  </tbody>\n",
       "</table>\n",
       "</div>"
      ],
      "text/plain": [
       "Empty DataFrame\n",
       "Columns: [age, registered_on, gender, id, credit_card_limit]\n",
       "Index: []"
      ]
     },
     "execution_count": 15,
     "metadata": {},
     "output_type": "execute_result"
    }
   ],
   "source": [
    "df_profile[df_profile['id'].isnull()]"
   ]
  },
  {
   "cell_type": "code",
   "execution_count": 16,
   "id": "49319ef0",
   "metadata": {},
   "outputs": [
    {
     "data": {
      "text/html": [
       "<div>\n",
       "<style scoped>\n",
       "    .dataframe tbody tr th:only-of-type {\n",
       "        vertical-align: middle;\n",
       "    }\n",
       "\n",
       "    .dataframe tbody tr th {\n",
       "        vertical-align: top;\n",
       "    }\n",
       "\n",
       "    .dataframe thead th {\n",
       "        text-align: right;\n",
       "    }\n",
       "</style>\n",
       "<table border=\"1\" class=\"dataframe\">\n",
       "  <thead>\n",
       "    <tr style=\"text-align: right;\">\n",
       "      <th></th>\n",
       "      <th>age</th>\n",
       "      <th>registered_on</th>\n",
       "      <th>gender</th>\n",
       "      <th>id</th>\n",
       "      <th>credit_card_limit</th>\n",
       "    </tr>\n",
       "  </thead>\n",
       "  <tbody>\n",
       "  </tbody>\n",
       "</table>\n",
       "</div>"
      ],
      "text/plain": [
       "Empty DataFrame\n",
       "Columns: [age, registered_on, gender, id, credit_card_limit]\n",
       "Index: []"
      ]
     },
     "execution_count": 16,
     "metadata": {},
     "output_type": "execute_result"
    }
   ],
   "source": [
    "df_profile[df_profile['id'] == '']"
   ]
  },
  {
   "cell_type": "markdown",
   "id": "7314ea65",
   "metadata": {},
   "source": [
    "## credit_card_limit"
   ]
  },
  {
   "cell_type": "code",
   "execution_count": 17,
   "id": "bdcc4133",
   "metadata": {},
   "outputs": [
    {
     "data": {
      "text/plain": [
       "count     14825.000000\n",
       "mean      65404.991568\n",
       "std       21598.299410\n",
       "min       30000.000000\n",
       "25%       49000.000000\n",
       "50%       64000.000000\n",
       "75%       80000.000000\n",
       "max      120000.000000\n",
       "Name: credit_card_limit, dtype: float64"
      ]
     },
     "execution_count": 17,
     "metadata": {},
     "output_type": "execute_result"
    }
   ],
   "source": [
    "df_profile['credit_card_limit'].describe()"
   ]
  },
  {
   "cell_type": "code",
   "execution_count": 18,
   "id": "429f0da8",
   "metadata": {},
   "outputs": [
    {
     "data": {
      "text/html": [
       "<div>\n",
       "<style scoped>\n",
       "    .dataframe tbody tr th:only-of-type {\n",
       "        vertical-align: middle;\n",
       "    }\n",
       "\n",
       "    .dataframe tbody tr th {\n",
       "        vertical-align: top;\n",
       "    }\n",
       "\n",
       "    .dataframe thead th {\n",
       "        text-align: right;\n",
       "    }\n",
       "</style>\n",
       "<table border=\"1\" class=\"dataframe\">\n",
       "  <thead>\n",
       "    <tr style=\"text-align: right;\">\n",
       "      <th></th>\n",
       "      <th>count</th>\n",
       "      <th>mean</th>\n",
       "      <th>std</th>\n",
       "      <th>min</th>\n",
       "      <th>25%</th>\n",
       "      <th>50%</th>\n",
       "      <th>75%</th>\n",
       "      <th>max</th>\n",
       "    </tr>\n",
       "    <tr>\n",
       "      <th>gender</th>\n",
       "      <th></th>\n",
       "      <th></th>\n",
       "      <th></th>\n",
       "      <th></th>\n",
       "      <th></th>\n",
       "      <th></th>\n",
       "      <th></th>\n",
       "      <th></th>\n",
       "    </tr>\n",
       "  </thead>\n",
       "  <tbody>\n",
       "    <tr>\n",
       "      <th>F</th>\n",
       "      <td>6129.0</td>\n",
       "      <td>71306.412139</td>\n",
       "      <td>22338.353773</td>\n",
       "      <td>30000.0</td>\n",
       "      <td>54000.0</td>\n",
       "      <td>71000.0</td>\n",
       "      <td>88000.0</td>\n",
       "      <td>120000.0</td>\n",
       "    </tr>\n",
       "    <tr>\n",
       "      <th>M</th>\n",
       "      <td>8484.0</td>\n",
       "      <td>61194.601603</td>\n",
       "      <td>20069.517615</td>\n",
       "      <td>30000.0</td>\n",
       "      <td>45000.0</td>\n",
       "      <td>59000.0</td>\n",
       "      <td>73000.0</td>\n",
       "      <td>120000.0</td>\n",
       "    </tr>\n",
       "    <tr>\n",
       "      <th>O</th>\n",
       "      <td>212.0</td>\n",
       "      <td>63287.735849</td>\n",
       "      <td>18938.594726</td>\n",
       "      <td>30000.0</td>\n",
       "      <td>51000.0</td>\n",
       "      <td>62000.0</td>\n",
       "      <td>79250.0</td>\n",
       "      <td>100000.0</td>\n",
       "    </tr>\n",
       "  </tbody>\n",
       "</table>\n",
       "</div>"
      ],
      "text/plain": [
       "         count          mean           std      min      25%      50%  \\\n",
       "gender                                                                  \n",
       "F       6129.0  71306.412139  22338.353773  30000.0  54000.0  71000.0   \n",
       "M       8484.0  61194.601603  20069.517615  30000.0  45000.0  59000.0   \n",
       "O        212.0  63287.735849  18938.594726  30000.0  51000.0  62000.0   \n",
       "\n",
       "            75%       max  \n",
       "gender                     \n",
       "F       88000.0  120000.0  \n",
       "M       73000.0  120000.0  \n",
       "O       79250.0  100000.0  "
      ]
     },
     "execution_count": 18,
     "metadata": {},
     "output_type": "execute_result"
    }
   ],
   "source": [
    "df_profile.groupby(\"gender\")[\"credit_card_limit\"].describe()"
   ]
  }
 ],
 "metadata": {
  "kernelspec": {
   "display_name": ".env",
   "language": "python",
   "name": "python3"
  },
  "language_info": {
   "codemirror_mode": {
    "name": "ipython",
    "version": 3
   },
   "file_extension": ".py",
   "mimetype": "text/x-python",
   "name": "python",
   "nbconvert_exporter": "python",
   "pygments_lexer": "ipython3",
   "version": "3.12.3"
  }
 },
 "nbformat": 4,
 "nbformat_minor": 5
}
