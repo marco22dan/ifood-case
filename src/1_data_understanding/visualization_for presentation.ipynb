{
 "cells": [
  {
   "cell_type": "code",
   "execution_count": 1,
   "id": "45ee841d",
   "metadata": {},
   "outputs": [
    {
     "name": "stderr",
     "output_type": "stream",
     "text": [
      "25/07/14 12:34:51 WARN Utils: Your hostname, MARCO-PC resolves to a loopback address: 127.0.1.1; using 10.255.255.254 instead (on interface lo)\n",
      "25/07/14 12:34:51 WARN Utils: Set SPARK_LOCAL_IP if you need to bind to another address\n",
      "Setting default log level to \"WARN\".\n",
      "To adjust logging level use sc.setLogLevel(newLevel). For SparkR, use setLogLevel(newLevel).\n",
      "25/07/14 12:34:52 WARN NativeCodeLoader: Unable to load native-hadoop library for your platform... using builtin-java classes where applicable\n"
     ]
    }
   ],
   "source": [
    "import pandas as pd\n",
    "import numpy as np\n",
    "\n",
    "import  pyspark.sql. functions as F\n",
    "import pyspark.sql.types as T\n",
    "\n",
    "from pyspark.sql import SparkSession\n",
    "from pyspark.sql.window import Window\n",
    "from sklearn.preprocessing import StandardScaler\n",
    "from sklearn.decomposition import PCA\n",
    "\n",
    "import plotly.graph_objects as go\n",
    "from plotly.subplots import make_subplots\n",
    "from plotly.colors import DEFAULT_PLOTLY_COLORS\n",
    "\n",
    "import warnings\n",
    "warnings.filterwarnings('ignore')\n",
    "pd.set_option('display.max_columns', None)\n",
    "\n",
    "spark = SparkSession.builder.appName(\"iFood Case\").master(\"local[*]\").getOrCreate()"
   ]
  },
  {
   "cell_type": "code",
   "execution_count": 2,
   "id": "9ce07f3b",
   "metadata": {},
   "outputs": [],
   "source": [
    "BASE_PATH = '/home/marco/ifood-case'\n",
    "DATA_PROCESSED_PATH = BASE_PATH + '/data/processed/'"
   ]
  },
  {
   "cell_type": "code",
   "execution_count": 3,
   "id": "a274cc04",
   "metadata": {},
   "outputs": [],
   "source": [
    "profile = spark.read.csv(DATA_PROCESSED_PATH + 'profile_processed.csv', header=True, inferSchema=True)\n",
    "offers = spark.read.csv(DATA_PROCESSED_PATH + 'offers_processed.csv', header=True, inferSchema=True)\n",
    "transactions = spark.read.csv(DATA_PROCESSED_PATH + 'event_transaction_processed.csv', header=True, inferSchema=True)\n",
    "offer_received = spark.read.csv(DATA_PROCESSED_PATH + 'event_offer_received_processed.csv', header=True, inferSchema=True)\n",
    "offer_viewed = spark.read.csv(DATA_PROCESSED_PATH + 'event_offer_viewed_processed.csv', header=True, inferSchema=True)\n",
    "offer_completed = spark.read.csv(DATA_PROCESSED_PATH + 'event_offer_completed_processed.csv', header=True, inferSchema=True)"
   ]
  },
  {
   "cell_type": "code",
   "execution_count": 4,
   "id": "873b9406",
   "metadata": {},
   "outputs": [],
   "source": [
    "df_offer_transactions_tl = (\n",
    "    transactions\n",
    "    .join(\n",
    "        offer_completed,\n",
    "        on=['account_id', 'transaction_time',],\n",
    "        how='left'\n",
    "    )\n",
    "    .withColumn('event', F.when(\n",
    "        F.col('offer_id').isNotNull(), F.lit('offer completed')).otherwise(F.lit('transaction'))\n",
    "    )\n",
    "    .select([\n",
    "        F.col('account_id'),\n",
    "        F.col('offer_id'),\n",
    "        F.col('transaction_time').alias('time'),\n",
    "        F.col('event'),\n",
    "        F.col('amount'),\n",
    "        F.col('reward')\n",
    "    ])\n",
    "    .fillna(0, subset=['amount', 'reward'])\n",
    ")\n",
    "\n",
    "df_offer_received_tl = (\n",
    "    offer_received\n",
    "    .select([\n",
    "        F.col('account_id'),\n",
    "        F.col('offer_id'),\n",
    "        F.col('received_time').alias('time'),\n",
    "        F.lit('offer received').alias('event'),\n",
    "        F.lit(0).alias('amount'),\n",
    "        F.lit(0).alias('reward')\n",
    "    ])\n",
    ")\n",
    "\n",
    "df_offer_viewed_tl = (\n",
    "    offer_viewed\n",
    "    .select([\n",
    "        F.col('account_id'),\n",
    "        F.col('offer_id'),\n",
    "        F.col('viewed_time').alias('time'),\n",
    "        F.lit('offer viewed').alias('event'),\n",
    "        F.lit(0).alias('amount'),\n",
    "        F.lit(0).alias('reward')\n",
    "    ])\n",
    ")\n",
    "\n",
    "df_timeline_features = (\n",
    "    df_offer_transactions_tl\n",
    "    .union(df_offer_received_tl)\n",
    "    .union(df_offer_viewed_tl)\n",
    "    .orderBy(['account_id', 'time'])\n",
    "    .join(\n",
    "        offers.select('offer_id', 'offer_type'),\n",
    "        on='offer_id',\n",
    "        how='left'\n",
    "    )\n",
    "    .withColumn('transactions_count', \n",
    "        (F.col('event') == 'transaction').cast(T.IntegerType())\n",
    "    )\n",
    "    .withColumn('received_bogo_count', \n",
    "        ((F.col('event') == 'offer received') & \n",
    "         (F.col('offer_type') == 'bogo')).cast(T.IntegerType())\n",
    "    )\n",
    "    .withColumn('received_discount_count', \n",
    "        ((F.col('event') == 'offer received') & \n",
    "         (F.col('offer_type') == 'discount')).cast(T.IntegerType())\n",
    "    )\n",
    "    .withColumn('received_info_count', \n",
    "        ((F.col('event') == 'offer received') & \n",
    "         (F.col('offer_type') == 'informational')).cast(T.IntegerType())\n",
    "    )\n",
    "    .withColumn('viewed_bogo_count', \n",
    "        ((F.col('event') == 'offer viewed') & \n",
    "         (F.col('offer_type') == 'bogo')).cast(T.IntegerType())\n",
    "    )\n",
    "    .withColumn('viewed_discount_count', \n",
    "        ((F.col('event') == 'offer viewed') & \n",
    "         (F.col('offer_type') == 'discount')).cast(T.IntegerType())\n",
    "    )\n",
    "    .withColumn('viewed_info_count', \n",
    "        ((F.col('event') == 'offer viewed') & \n",
    "         (F.col('offer_type') == 'informational')).cast(T.IntegerType())\n",
    "    )\n",
    "    .withColumn('completed_bogo_count', \n",
    "        ((F.col('event') == 'offer completed') & \n",
    "         (F.col('offer_type') == 'bogo')).cast(T.IntegerType())\n",
    "    )\n",
    "    .withColumn('completed_discount_count', \n",
    "        ((F.col('event') == 'offer completed') & \n",
    "         (F.col('offer_type') == 'discount')).cast(T.IntegerType())\n",
    "    )\n",
    "    .withColumn('completed_info_count', \n",
    "        ((F.col('event') == 'offer completed') & \n",
    "         (F.col('offer_type') == 'informational')).cast(T.IntegerType())\n",
    "    )\n",
    ")\n",
    "\n",
    "w = Window.partitionBy('account_id').orderBy('time').rowsBetween(Window.unboundedPreceding, Window.currentRow)\n",
    "\n",
    "df_timeline_features = (\n",
    "    df_timeline_features\n",
    "    .groupBy(['account_id', 'time']).sum()\n",
    "    .withColumn('total_amount', F.round(F.sum('sum(amount)').over(w), 2))\n",
    "    .withColumn('total_reward', F.round(F.sum('sum(reward)').over(w), 2))\n",
    "    .withColumn('total_transactions', F.sum('sum(transactions_count)').over(w))\n",
    "    .withColumn('total_received_bogo', F.sum('sum(received_bogo_count)').over(w))\n",
    "    .withColumn('total_received_discount', F.sum('sum(received_discount_count)').over(w))\n",
    "    .withColumn('total_received_info', F.sum('sum(received_info_count)').over(w))\n",
    "    .withColumn('total_viewed_bogo', F.sum('sum(viewed_bogo_count)').over(w))\n",
    "    .withColumn('total_viewed_discount', F.sum('sum(viewed_discount_count)').over(w))\n",
    "    .withColumn('total_viewed_info', F.sum('sum(viewed_info_count)').over(w))\n",
    "    .withColumn('total_completed_bogo', F.sum('sum(completed_bogo_count)').over(w))\n",
    "    .withColumn('total_completed_discount', F.sum('sum(completed_discount_count)').over(w))\n",
    "    .withColumn('total_completed_info', F.sum('sum(completed_info_count)').over(w))\n",
    ")\n",
    "\n",
    "drop_agg_cols = [col for col in df_timeline_features.columns if col.startswith('sum(')]\n",
    "df_timeline_features = df_timeline_features.drop(*drop_agg_cols)\n",
    "\n",
    "df_offer_event_features = (\n",
    "    transactions\n",
    "    .join(\n",
    "        offer_completed, \n",
    "        on=['account_id', 'transaction_time'], \n",
    "        how='left'\n",
    "    )\n",
    "    .join(\n",
    "        offer_received.drop('amount', 'reward'), \n",
    "        on=['account_id', 'offer_id'], \n",
    "        how='outer'\n",
    "    )\n",
    "    .join(\n",
    "        offers.select('offer_id', 'offer_type'),\n",
    "        on='offer_id',\n",
    "        how='left'\n",
    "    )\n",
    "    .fillna({'offer_type': 'no_offer'})\n",
    "    .withColumn('offer_consumed', ((F.col('offer_id').isNotNull()) &\n",
    "                                   (F.col('transaction_time').isNotNull())).cast(T.IntegerType()))\n",
    ")"
   ]
  },
  {
   "cell_type": "code",
   "execution_count": 5,
   "id": "a870a206",
   "metadata": {},
   "outputs": [
    {
     "name": "stderr",
     "output_type": "stream",
     "text": [
      "                                                                                \r"
     ]
    }
   ],
   "source": [
    "df_timeline = df_timeline_features.toPandas()\n",
    "df_offer_events = df_offer_event_features.toPandas()\n",
    "df_profile = profile.toPandas()\n",
    "df_offers = offers.toPandas()\n",
    "\n",
    "df_timeline = df_timeline.set_index(['account_id', 'time']).reset_index()\n",
    "df_offer_events = df_offer_events.set_index(['account_id', 'offer_id', 'transaction_time']).reset_index()\n",
    "\n",
    "df_bogo = df_offer_events[df_offer_events['offer_type'] == 'bogo']\n",
    "df_discount = df_offer_events[df_offer_events['offer_type'] == 'discount']\n",
    "df_info = df_offer_events[df_offer_events['offer_type'] == 'informational']"
   ]
  },
  {
   "cell_type": "code",
   "execution_count": 6,
   "id": "364190c0",
   "metadata": {},
   "outputs": [
    {
     "data": {
      "application/vnd.plotly.v1+json": {
       "config": {
        "plotlyServerURL": "https://plot.ly"
       },
       "data": [
        {
         "legendrank": 1,
         "marker": {
          "color": "#667DF3"
         },
         "name": "Consumidas",
         "text": [
          "61%",
          "68%",
          "0%"
         ],
         "textfont": {
          "size": 14
         },
         "type": "bar",
         "x": [
          "BOGO",
          "Desconto",
          "Informação"
         ],
         "y": [
          21550,
          24602,
          0
         ]
        },
        {
         "legendrank": 2,
         "marker": {
          "color": "#DB6F7A"
         },
         "name": "Não Consumidas",
         "text": [
          "39%",
          "32%",
          "100%"
         ],
         "textfont": {
          "size": 14
         },
         "type": "bar",
         "x": [
          "BOGO",
          "Desconto",
          "Informação"
         ],
         "y": [
          13577,
          11468,
          15235
         ]
        }
       ],
       "layout": {
        "barmode": "stack",
        "legend": {
         "orientation": "h",
         "x": 0.5,
         "xanchor": "center",
         "y": -0.1,
         "yanchor": "top"
        },
        "template": {
         "data": {
          "bar": [
           {
            "error_x": {
             "color": "#2a3f5f"
            },
            "error_y": {
             "color": "#2a3f5f"
            },
            "marker": {
             "line": {
              "color": "#E5ECF6",
              "width": 0.5
             },
             "pattern": {
              "fillmode": "overlay",
              "size": 10,
              "solidity": 0.2
             }
            },
            "type": "bar"
           }
          ],
          "barpolar": [
           {
            "marker": {
             "line": {
              "color": "#E5ECF6",
              "width": 0.5
             },
             "pattern": {
              "fillmode": "overlay",
              "size": 10,
              "solidity": 0.2
             }
            },
            "type": "barpolar"
           }
          ],
          "carpet": [
           {
            "aaxis": {
             "endlinecolor": "#2a3f5f",
             "gridcolor": "white",
             "linecolor": "white",
             "minorgridcolor": "white",
             "startlinecolor": "#2a3f5f"
            },
            "baxis": {
             "endlinecolor": "#2a3f5f",
             "gridcolor": "white",
             "linecolor": "white",
             "minorgridcolor": "white",
             "startlinecolor": "#2a3f5f"
            },
            "type": "carpet"
           }
          ],
          "choropleth": [
           {
            "colorbar": {
             "outlinewidth": 0,
             "ticks": ""
            },
            "type": "choropleth"
           }
          ],
          "contour": [
           {
            "colorbar": {
             "outlinewidth": 0,
             "ticks": ""
            },
            "colorscale": [
             [
              0,
              "#0d0887"
             ],
             [
              0.1111111111111111,
              "#46039f"
             ],
             [
              0.2222222222222222,
              "#7201a8"
             ],
             [
              0.3333333333333333,
              "#9c179e"
             ],
             [
              0.4444444444444444,
              "#bd3786"
             ],
             [
              0.5555555555555556,
              "#d8576b"
             ],
             [
              0.6666666666666666,
              "#ed7953"
             ],
             [
              0.7777777777777778,
              "#fb9f3a"
             ],
             [
              0.8888888888888888,
              "#fdca26"
             ],
             [
              1,
              "#f0f921"
             ]
            ],
            "type": "contour"
           }
          ],
          "contourcarpet": [
           {
            "colorbar": {
             "outlinewidth": 0,
             "ticks": ""
            },
            "type": "contourcarpet"
           }
          ],
          "heatmap": [
           {
            "colorbar": {
             "outlinewidth": 0,
             "ticks": ""
            },
            "colorscale": [
             [
              0,
              "#0d0887"
             ],
             [
              0.1111111111111111,
              "#46039f"
             ],
             [
              0.2222222222222222,
              "#7201a8"
             ],
             [
              0.3333333333333333,
              "#9c179e"
             ],
             [
              0.4444444444444444,
              "#bd3786"
             ],
             [
              0.5555555555555556,
              "#d8576b"
             ],
             [
              0.6666666666666666,
              "#ed7953"
             ],
             [
              0.7777777777777778,
              "#fb9f3a"
             ],
             [
              0.8888888888888888,
              "#fdca26"
             ],
             [
              1,
              "#f0f921"
             ]
            ],
            "type": "heatmap"
           }
          ],
          "histogram": [
           {
            "marker": {
             "pattern": {
              "fillmode": "overlay",
              "size": 10,
              "solidity": 0.2
             }
            },
            "type": "histogram"
           }
          ],
          "histogram2d": [
           {
            "colorbar": {
             "outlinewidth": 0,
             "ticks": ""
            },
            "colorscale": [
             [
              0,
              "#0d0887"
             ],
             [
              0.1111111111111111,
              "#46039f"
             ],
             [
              0.2222222222222222,
              "#7201a8"
             ],
             [
              0.3333333333333333,
              "#9c179e"
             ],
             [
              0.4444444444444444,
              "#bd3786"
             ],
             [
              0.5555555555555556,
              "#d8576b"
             ],
             [
              0.6666666666666666,
              "#ed7953"
             ],
             [
              0.7777777777777778,
              "#fb9f3a"
             ],
             [
              0.8888888888888888,
              "#fdca26"
             ],
             [
              1,
              "#f0f921"
             ]
            ],
            "type": "histogram2d"
           }
          ],
          "histogram2dcontour": [
           {
            "colorbar": {
             "outlinewidth": 0,
             "ticks": ""
            },
            "colorscale": [
             [
              0,
              "#0d0887"
             ],
             [
              0.1111111111111111,
              "#46039f"
             ],
             [
              0.2222222222222222,
              "#7201a8"
             ],
             [
              0.3333333333333333,
              "#9c179e"
             ],
             [
              0.4444444444444444,
              "#bd3786"
             ],
             [
              0.5555555555555556,
              "#d8576b"
             ],
             [
              0.6666666666666666,
              "#ed7953"
             ],
             [
              0.7777777777777778,
              "#fb9f3a"
             ],
             [
              0.8888888888888888,
              "#fdca26"
             ],
             [
              1,
              "#f0f921"
             ]
            ],
            "type": "histogram2dcontour"
           }
          ],
          "mesh3d": [
           {
            "colorbar": {
             "outlinewidth": 0,
             "ticks": ""
            },
            "type": "mesh3d"
           }
          ],
          "parcoords": [
           {
            "line": {
             "colorbar": {
              "outlinewidth": 0,
              "ticks": ""
             }
            },
            "type": "parcoords"
           }
          ],
          "pie": [
           {
            "automargin": true,
            "type": "pie"
           }
          ],
          "scatter": [
           {
            "fillpattern": {
             "fillmode": "overlay",
             "size": 10,
             "solidity": 0.2
            },
            "type": "scatter"
           }
          ],
          "scatter3d": [
           {
            "line": {
             "colorbar": {
              "outlinewidth": 0,
              "ticks": ""
             }
            },
            "marker": {
             "colorbar": {
              "outlinewidth": 0,
              "ticks": ""
             }
            },
            "type": "scatter3d"
           }
          ],
          "scattercarpet": [
           {
            "marker": {
             "colorbar": {
              "outlinewidth": 0,
              "ticks": ""
             }
            },
            "type": "scattercarpet"
           }
          ],
          "scattergeo": [
           {
            "marker": {
             "colorbar": {
              "outlinewidth": 0,
              "ticks": ""
             }
            },
            "type": "scattergeo"
           }
          ],
          "scattergl": [
           {
            "marker": {
             "colorbar": {
              "outlinewidth": 0,
              "ticks": ""
             }
            },
            "type": "scattergl"
           }
          ],
          "scattermap": [
           {
            "marker": {
             "colorbar": {
              "outlinewidth": 0,
              "ticks": ""
             }
            },
            "type": "scattermap"
           }
          ],
          "scattermapbox": [
           {
            "marker": {
             "colorbar": {
              "outlinewidth": 0,
              "ticks": ""
             }
            },
            "type": "scattermapbox"
           }
          ],
          "scatterpolar": [
           {
            "marker": {
             "colorbar": {
              "outlinewidth": 0,
              "ticks": ""
             }
            },
            "type": "scatterpolar"
           }
          ],
          "scatterpolargl": [
           {
            "marker": {
             "colorbar": {
              "outlinewidth": 0,
              "ticks": ""
             }
            },
            "type": "scatterpolargl"
           }
          ],
          "scatterternary": [
           {
            "marker": {
             "colorbar": {
              "outlinewidth": 0,
              "ticks": ""
             }
            },
            "type": "scatterternary"
           }
          ],
          "surface": [
           {
            "colorbar": {
             "outlinewidth": 0,
             "ticks": ""
            },
            "colorscale": [
             [
              0,
              "#0d0887"
             ],
             [
              0.1111111111111111,
              "#46039f"
             ],
             [
              0.2222222222222222,
              "#7201a8"
             ],
             [
              0.3333333333333333,
              "#9c179e"
             ],
             [
              0.4444444444444444,
              "#bd3786"
             ],
             [
              0.5555555555555556,
              "#d8576b"
             ],
             [
              0.6666666666666666,
              "#ed7953"
             ],
             [
              0.7777777777777778,
              "#fb9f3a"
             ],
             [
              0.8888888888888888,
              "#fdca26"
             ],
             [
              1,
              "#f0f921"
             ]
            ],
            "type": "surface"
           }
          ],
          "table": [
           {
            "cells": {
             "fill": {
              "color": "#EBF0F8"
             },
             "line": {
              "color": "white"
             }
            },
            "header": {
             "fill": {
              "color": "#C8D4E3"
             },
             "line": {
              "color": "white"
             }
            },
            "type": "table"
           }
          ]
         },
         "layout": {
          "annotationdefaults": {
           "arrowcolor": "#2a3f5f",
           "arrowhead": 0,
           "arrowwidth": 1
          },
          "autotypenumbers": "strict",
          "coloraxis": {
           "colorbar": {
            "outlinewidth": 0,
            "ticks": ""
           }
          },
          "colorscale": {
           "diverging": [
            [
             0,
             "#8e0152"
            ],
            [
             0.1,
             "#c51b7d"
            ],
            [
             0.2,
             "#de77ae"
            ],
            [
             0.3,
             "#f1b6da"
            ],
            [
             0.4,
             "#fde0ef"
            ],
            [
             0.5,
             "#f7f7f7"
            ],
            [
             0.6,
             "#e6f5d0"
            ],
            [
             0.7,
             "#b8e186"
            ],
            [
             0.8,
             "#7fbc41"
            ],
            [
             0.9,
             "#4d9221"
            ],
            [
             1,
             "#276419"
            ]
           ],
           "sequential": [
            [
             0,
             "#0d0887"
            ],
            [
             0.1111111111111111,
             "#46039f"
            ],
            [
             0.2222222222222222,
             "#7201a8"
            ],
            [
             0.3333333333333333,
             "#9c179e"
            ],
            [
             0.4444444444444444,
             "#bd3786"
            ],
            [
             0.5555555555555556,
             "#d8576b"
            ],
            [
             0.6666666666666666,
             "#ed7953"
            ],
            [
             0.7777777777777778,
             "#fb9f3a"
            ],
            [
             0.8888888888888888,
             "#fdca26"
            ],
            [
             1,
             "#f0f921"
            ]
           ],
           "sequentialminus": [
            [
             0,
             "#0d0887"
            ],
            [
             0.1111111111111111,
             "#46039f"
            ],
            [
             0.2222222222222222,
             "#7201a8"
            ],
            [
             0.3333333333333333,
             "#9c179e"
            ],
            [
             0.4444444444444444,
             "#bd3786"
            ],
            [
             0.5555555555555556,
             "#d8576b"
            ],
            [
             0.6666666666666666,
             "#ed7953"
            ],
            [
             0.7777777777777778,
             "#fb9f3a"
            ],
            [
             0.8888888888888888,
             "#fdca26"
            ],
            [
             1,
             "#f0f921"
            ]
           ]
          },
          "colorway": [
           "#636efa",
           "#EF553B",
           "#00cc96",
           "#ab63fa",
           "#FFA15A",
           "#19d3f3",
           "#FF6692",
           "#B6E880",
           "#FF97FF",
           "#FECB52"
          ],
          "font": {
           "color": "#2a3f5f"
          },
          "geo": {
           "bgcolor": "white",
           "lakecolor": "white",
           "landcolor": "#E5ECF6",
           "showlakes": true,
           "showland": true,
           "subunitcolor": "white"
          },
          "hoverlabel": {
           "align": "left"
          },
          "hovermode": "closest",
          "mapbox": {
           "style": "light"
          },
          "paper_bgcolor": "white",
          "plot_bgcolor": "#E5ECF6",
          "polar": {
           "angularaxis": {
            "gridcolor": "white",
            "linecolor": "white",
            "ticks": ""
           },
           "bgcolor": "#E5ECF6",
           "radialaxis": {
            "gridcolor": "white",
            "linecolor": "white",
            "ticks": ""
           }
          },
          "scene": {
           "xaxis": {
            "backgroundcolor": "#E5ECF6",
            "gridcolor": "white",
            "gridwidth": 2,
            "linecolor": "white",
            "showbackground": true,
            "ticks": "",
            "zerolinecolor": "white"
           },
           "yaxis": {
            "backgroundcolor": "#E5ECF6",
            "gridcolor": "white",
            "gridwidth": 2,
            "linecolor": "white",
            "showbackground": true,
            "ticks": "",
            "zerolinecolor": "white"
           },
           "zaxis": {
            "backgroundcolor": "#E5ECF6",
            "gridcolor": "white",
            "gridwidth": 2,
            "linecolor": "white",
            "showbackground": true,
            "ticks": "",
            "zerolinecolor": "white"
           }
          },
          "shapedefaults": {
           "line": {
            "color": "#2a3f5f"
           }
          },
          "ternary": {
           "aaxis": {
            "gridcolor": "white",
            "linecolor": "white",
            "ticks": ""
           },
           "baxis": {
            "gridcolor": "white",
            "linecolor": "white",
            "ticks": ""
           },
           "bgcolor": "#E5ECF6",
           "caxis": {
            "gridcolor": "white",
            "linecolor": "white",
            "ticks": ""
           }
          },
          "title": {
           "x": 0.05
          },
          "xaxis": {
           "automargin": true,
           "gridcolor": "white",
           "linecolor": "white",
           "ticks": "",
           "title": {
            "standoff": 15
           },
           "zerolinecolor": "white",
           "zerolinewidth": 2
          },
          "yaxis": {
           "automargin": true,
           "gridcolor": "white",
           "linecolor": "white",
           "ticks": "",
           "title": {
            "standoff": 15
           },
           "zerolinecolor": "white",
           "zerolinewidth": 2
          }
         }
        },
        "title": {
         "text": "Ofertas Recebidas vs. Proporção de Uso"
        },
        "width": 500,
        "yaxis": {
         "title": {
          "text": "Quantidade de Ofertas"
         }
        }
       }
      }
     },
     "metadata": {},
     "output_type": "display_data"
    }
   ],
   "source": [
    "total_bogo = len(df_bogo)\n",
    "total_discount = len(df_discount)\n",
    "total_info = len(df_info)\n",
    "\n",
    "consumed_bogo = df_bogo['offer_consumed'].sum()\n",
    "consumed_discount = df_discount['offer_consumed'].sum()\n",
    "consumed_info = df_info['offer_consumed'].sum()\n",
    "not_consumed_bogo = total_bogo - consumed_bogo\n",
    "not_consumed_discount = total_discount - consumed_discount\n",
    "not_consumed_info = total_info - consumed_info\n",
    "\n",
    "consumed_bogo_str = f\"{int(np.round((consumed_bogo / total_bogo) * 100, 0))}%\"\n",
    "consumed_discount_str = f\"{int(np.round((consumed_discount / total_discount) * 100, 0))}%\"\n",
    "consumed_info_str = f\"{int(np.round((consumed_info / total_info) * 100, 0))}%\"\n",
    "not_consumed_bogo_str = f\"{int(np.round((not_consumed_bogo / total_bogo) * 100, 0))}%\"\n",
    "not_consumed_discount_str = f\"{int(np.round((not_consumed_discount / total_discount) * 100, 0))}%\"\n",
    "not_consumed_info_str = f\"{int(np.round((not_consumed_info / total_info) * 100, 0))}%\"\n",
    "\n",
    "fig = go.Figure([\n",
    "    go.Bar(\n",
    "        x=['BOGO', 'Desconto', 'Informação'],\n",
    "        y=[consumed_bogo, consumed_discount, consumed_info],\n",
    "        text=[consumed_bogo_str, consumed_discount_str, consumed_info_str],\n",
    "        name='Consumidas',\n",
    "        marker_color=\"#667DF3\",\n",
    "        textfont=dict(size=14),\n",
    "        legendrank=1\n",
    "    ),\n",
    "    go.Bar(\n",
    "        x=['BOGO', 'Desconto', 'Informação'],\n",
    "        y=[not_consumed_bogo, not_consumed_discount, not_consumed_info],\n",
    "        text=[not_consumed_bogo_str, not_consumed_discount_str, not_consumed_info_str],\n",
    "        name='Não Consumidas',\n",
    "        marker_color=\"#DB6F7A\",\n",
    "        textfont=dict(size=14),\n",
    "        legendrank=2\n",
    "    )\n",
    "])\n",
    "\n",
    "fig.update_layout(\n",
    "    barmode='stack',\n",
    "    title='Ofertas Recebidas vs. Proporção de Uso',\n",
    "    yaxis=dict(title='Quantidade de Ofertas'),\n",
    "    legend=dict(\n",
    "        x=0.5,\n",
    "        xanchor='center',\n",
    "        y=-0.1,\n",
    "        yanchor='top',\n",
    "        orientation='h',\n",
    "    ),\n",
    "    width=500\n",
    ")\n",
    "\n",
    "fig.show()"
   ]
  },
  {
   "cell_type": "code",
   "execution_count": null,
   "id": "306b2815",
   "metadata": {},
   "outputs": [
    {
     "data": {
      "application/vnd.plotly.v1+json": {
       "config": {
        "plotlyServerURL": "https://plot.ly"
       },
       "data": [
        {
         "marker": {
          "color": "#667DF3"
         },
         "mode": "markers",
         "name": "Consumidas",
         "type": "scatter",
         "x": {
          "bdata": "xFzSm0g9BUCd+MRAyPvxP93jdfa2Sqi/Xd32rxHJA0AxVEMit6caQFJMtpREjOK/FkLUOA018z/vnlDgN0cLQPicvKXTzgNA1/ldP0eY7r/99NjSkzz1P+LrBSvHaPY/5Rr4mADP8r+6ojZXtXkCQK7CtuxmagpAiCmCZea/6b9LqVdWFAIXQL8wD7p2hQRAZlXoBpxAE0BDWZBtVZ7eP1PBtVldBvI/WEM1iIoV7L+TohJ2qU31PxsDG7o+r/Y/2k5fQFCH3z8YTt45Rl4BQKK5VGYju7s/c5gimwD397+j5kxe3jDFvzern4wnEOS/JqaCxHsmB0D6kT6NQsXzP5YetI80cOq/cCe/8DmOxj9MbpR+ZSruvw3H94LZkuy/VZZVu9Zd2z+cVkGbcX/tvwUxEismNgBAZBPnIjlY9T+g511j7YTjP6ZLHKlXkva/HzD3hg0L8r/Crc0IOU/Avw79YO9wquM/JpsVhm4B+L+TS8L4vCTjvxgA9XW1N/u/g/g1JzPk4r93fSwLb6b4v82OMav3MeS/Ifq/3+zB/D/CBU/NElb3P7SqQgrnZRBAlPosDG628L+XCV9RgGnrP63vDGorF+Y/Pk9uW4gw+r83yUhb0b4AwJiVyJJy/e2/U2V+QdQj+j9FDbV2oLHhv5PatRxUSfG/37acVg0UrL/dIuEXKI/5P5e3/BwBOds/4JjTf8sK3z/313ERSuX1v8Z2NRjQT+k/P8J++4z36b8OFZkPbo7xv4EtaO+xf/c/RdNufuHfrz97D51nd67uv2Zv5YcoMQRA7EVkSR7p4T/bHAkbumbTPxaN0P5XUtu/LWyDiUdnAcAAJwC9Cazuv4w7YPhrW+Q/LggFAnWiBMDr1kV/oGIBQMb7lnvSzLw/WO5gbuai/b/3vYc9cQ7Wv+gFPhqOyQZAeIK6bAlQ/T/elPi4sL4GQPEvQUoTxeO/xE6t8ivOBUAGfk2mpy3yP/xBeL63PQJA8uZrgUQ/67+JHedMVBkBwJMs/5K5Ft8/xhH5Z+rF5z/VJ9Bye1PkP8ZngqafmhRAHxnLKyl6BkD18Merh+TlvwXMnn3jm98/rel7JKRTt7/SmEhii2r8P04/yElmWQFAoaEgYT4l7D/h4co7F3ERQI4aITWe+/U/AiwLWWho/788kvxX0x8TQIJTCRM3u/6/QEnY97n20z+2DbFsOssBQDiPC0YM+AZAx3v4kZ118j/J6bk3018KQE9AEetO+fw/EYLhxGyv5b+wOLJLg/cEQAvRSsnkTwbA/TfZzLal2D8LdAEzMcMPQEyfGr74aeA//yeoTuGj+L83DN4jp17pvzbEcn/Fx+W/V1y0W7eToL/P8E7z6wXrP4Jxljgh3vW/Huh9Gv8t9b95GnOddizBv1uruYbiFf8/puBYR7xo9T8YLM2rFocCQKZhcHYlsPM/A+wAEbHexz+JVIdFAwwEwJkJb3tfYe4/bXhI0z9KrD/eIZ+ROYvtvx41qUf4O+s/uXE4dexX2L9svsbMkSH4P80c13/04+4/hS4ZLjikBEDPIlZXPUPEv2wDblGd8v6/RO15ZB4EC0AON9RbLBcDQB0JXQUeG8a/lp8mxEd8D0BJMKXdb3ngP9tCYdsIf9I/J7wXriA1AcC0nSyHJM3jv8wFKCy7YAlA7UjE8bwt6z9+G8oUBCviP1D8B+P3WAlAu20wI+LlA0Cdgz/ZIWnIvza51jjGFq8/XmYKds1D/L8hP2lVgvn0P0B8QAKKkgFASdyDoooAAcCfcw5IamftP+d0zTUrkPa/GmPBI5N3tz/F9MJfTRnwv5P2CCZ9Seo/tbxHWi/A+j8AzJ3lRpqtv4+mgm/TPsg/TQhCcabmA0DouvjOuk+zP5mLr1WiNfU/RrZCxC4g/L/H3kW8P4cJQAL0U539h7E/rc876sItxb9HTknZUP/8P/QRxC+vQfG/+zjBtnye979Bv7oQUrrzv2CkPq/KCf6/U+nS2nf9+T9ebdauOAUMQBoK7sljHRNA2ECaKhHm4L+4pZ+FQaTaP5YAUJhKFe2/5+8HWslt8b9gRjoMZyn0vwpS4A+RjOi/B95pWtS2/j9lPRsiujgDQKN+4INS+s8/XJka6ra36r8tDTn3DYvyv8XrOgWU3vE/57+3d/4M2z9/zvGwaP/aP6ueWwZRye0/cN/UndGD+L8AWX4djmHtP2BLC66SGuQ/VEkm9vM38b9ndPkae/z1v0HyBEjnuwDAGDbkFx7dAECfMDkAUMbRvwtnNoTrhQ5AIDq/+N3O5T/2EX5ymGj7P1lJ9UDJZOk/Zz4QxVk25D/ztsU/f5AHQPcgE+Z9LAVAoG2tfLkI47/S4HQsFmENQAmv8lp9nfm/Br4UhHUq9L+urhEexHgUQEGe7Gh6oO0/eOd/g8gR9T+OqoF+aMi0Pw1DAtOHQOS/WK/t8tS2AkA3aSihfoEMQIWK8Vl3Qv8/5zQQ04pTCMDenDMBssDyP0ehzaQ9NOa/9UQJORDn6j+GJpYrihrVP+DS0MDx6Pm/Iien4/S89b8IlGrkrOKzv/U0bXsfW6A/iYZVqOU52r/Xm47O+QT2P+JONrh7QPM/mwRXgF9BlT+TfrAPqGUOQBiVCb3YnAdAvOPsQKBA/78NR5DLmlfDP0Yg94hQv+q/t80I63vaBUBI3KniB0DmP74pNsVDC+U/xHRN5fh8BEA4rHJ4ty/kv8klTLlAN92/SaWKrYVPqT+fwPgIEkToP3mNSPx3G3G/ogkcbJUOoj+ivbM2uqECQKedyqQSHwNAmoXTwndGyL9keEtx5/Pkv491D9wAuva/Gu5gbTuner/12/xkUy0OQON+b06F+90/Wf3XuGi//T/RZYczcAz/PxOgawMcRu6/e9TATWrQCkAWLiEOudkHQBGdJ5nsOQhAzeG7yLHE6T9QM1NEPuPpvwQBRkAVHhhAZs/YwIWA1L/BJ74uMvT0P2fQAWz2398/X/4lAW5O1b/aH/gXN8b2Px9GQ9njMw5A0ateRLEK17910jurGhDTP6ME0RhOg/y/20cFYApV8b/F4c2dZMrVPz0iHG32yuI/5hADDC7vAcDDcGiXxBjwPxAxfMpa7gJAG6T4zKy3yj/a05TPmj3iP/3TU8TDkA1A2LemsWw38j8Gau2dgvDYPwa6jFdUZADAdcWkubnFFEAI0iYVZBbpP9YovQAYs8Q/pYWPQ2075b+/f//cPsL7v1eZzjtf0hBA9QfrgYROE0BqM302U2/RvxhMrvIFiLw/C/dBUGmmkD+y/fqUc//ov7KDMqgIvuk/BiZ/CD2Apz+8K/maLpz/v7qqJDEKYtQ/KuwRdTNOFUCUcwnP/ga9P2VDVzPSiey/ESMgCp20+D8boPKY00/yP26xkw04KhVA1al8v30EDUC4vNcmzIbov9kw7517KNY/PqsV/j04EkAaPyISSPTmP4ZCBDIyp/K/Bc3+wKVJ07+527uFw2YTQM92ykLDxgLA3Si7l3RN2T8v9JIDNJ8TQCqJkVH5V/W/QrxqZZNM9r8ZPL6rxnjyPzZimxzXa/W/0X8rJg148j8sPITbeAEdQALh5wznluQ/LVr2q/zlAEC/QdBr50DxP+JXRdWyl+k/lPdrFG3Z/z/oCOODQq3uvxjo0ainwdg/LqypZnfy/L8zHFuQFCoBwPgVQkX21fE/bEynE+WO5T+9udjcty7qP1OQ3X6alus/wUW3tmTA879tdoqP1dT/P5uftNSAS9Y/RyPI3Dxy1j9itwvNZajnP17bAntSG/g/OrhopyAV6L//oqJAIUL7Pzux7NVEJ8S/9x/Z3zp3CkDfZGA+Khjmv0edLb5YyPs/6+IsmTMB/D8PnOL7B77hP4eTYp8OPNy/W/c9xYqd5z8uBeKV1o7ov6n2M52HzuK/IIcLcuP5CUATxXnTsCXvv8Tv0D3ZOee/GKiOpYXEFUAU83qwk3QAQMLz5QK/Y50/XZGjFmOQ8j95pgmnTpH0v1o+V80eCgNAoLJDuOBA9D9ohhZTOQb3PyOjiXdapfK/a3+h/0zrkT/sQEEHjhuwvyYzWlzM6gBA6bmNwDWfBcCtxNQye1DUPxSMcF0g79W/UYKjP50e27+/ID8sanQDwDQmwXf/tfo/2rC4lFY/679juUuNJLIFQOvBhQcSa8C//xyJwc7F7L9b6fqtQdQPQGx3lGmymNe/v7b3mod3CEDLHWkT4I4OQHBsTaRDxMs/3Ztvv+zy+D9V1zJwuMcFwLc4Ore9c6G/XYl6Oa7U179pXlPTGkTrP3o8MmOuSAHAkTp88SK49T+flEq6Chf9vxjD4l/a9ee/YhxuTQoc5z9HdX3vNET8PzDZpNqJm7O/V3Ar7lfW3z+Z84KbGgoGQNGs6o6VZhJA1/p0GjcSBMB42lyoFMa9P9Gq5zqd2AJABtrhlii0DEAPY6aQcfL0v7YPiG9f8My/SY71r5XS/r97bMAM0fzTP/PCWZ82/9M/vEb+hmqN1b9yQqA+Yhn5v4P7HQXDxPE/1873h+LhE0D7+/zfDHASQCdUw7CuhMY/kV+5gUHfDUAgEMI4QCzyP3JCf+uDu+S/nQSa7DxcFUAZQdpukE72P8+PyJilVcq/+jyLavkyEEDqdDtQOwEVQGjMr8IAmsA/pCnOsW0YAEB3GIgpbVb3P0evvGBK390/vMPc25pe1r+QeoMGXFUIQMvG8BtV5ve/ZU8+vtIa/r+UIFWmA8S2v6OMVxQ6F9q/s8lsrBKe4z8xvPa1aGQHQGFTm1m6jfQ/Ne6SHl3T5L9chWoqvUH6v8uVGjoj8fG/UWIwzpPb+D8T2yDf7pD7v2aGF1NdY/m/ksgbEEQe9b91rr/l8RvxvyekBXqn1QBAWNaZxuVdAUBqKU16EXflP2YcafShNfe/A05ilJql+z+tDGxQ7TsEQPBs3uJmMPO/6P+jwo7my79sMyFmO3MIQM33IClISPA/A9KlN+0hA0C3dFwOY38FwD8l8uYb9s8/WhVcXFWx9L+5PlStpeSxvzJBY8bI/dg/O6CwTaMQA0DHtLA2bRv7Py2ZA//MewlAZ8UtMd9F4L/zwG7V37vyP6MkfjHF6+2/3IERobPL4D92NkAU3Dn0P5PecRfk9/+/G6r48zFC+T85FANc8nGgP+aRQ6o2Af8/xBBSCh4S478LPnMggyjIv8MfhNFolfu/LGNxB5J/8r/LsAGn/Az7P2gweNY6xg5AUxXsVOEpkj+RO1NdzgX2P3fu3Y2jyPK/binx8R5/FkD8s0UUY2z0v+f+dWCa6Lu/GNsSGbXp4L93Bmy94GvRP4gacmp+xMu/FqmvNN5S9j/1Kv94OWXyP130RChH4by/j4KHFEJ07T9z4Evkld4AQOB2PpNwJv4/ImkbJ4Hx9D/FMMqGTiX9v9TOyrpD3hBAO4gjhxMS5D+V170dQef4PydB1GNJcNu/gGYmdkh99j+tY5wZYPjEP1zK/dbEW/g/29n0kZOi4z+UcbkHTXcEQIpTAxCNxOQ/aKdL07wT4j9e5XmU96IIQBB3Ti3hXgBAa57bHH4g8L/7RaOJ6V3oP27Q5RIO+aU/nb4P2hRH4b840EOjsZHjv80N15AQl/O/dZY9vKKz2T8FFt9GOPX3P3TLBSIDSLc/UYXj81YVGkA8mh0xkb4EQDhkV5grF/e/e+yZylHs6z87tuMbZAr1P6HJrHoIgPu/ibETfrCSDkBytBuCzF32PxJ93zT6nv2/nBrN9M5Y7L984TE76+MFQKMXooM7q/6/QBl95Oui6r8jb8mbZ0zrP9waGyiGYvy/P4OWWX3T8r94KH/bub7kv+jSecpY1gjAB9hJDtNG0D9/2ygEFoHaP459kS/oggBApLX9NjpVsz93PR3EszPzv0u6xb246/c/siDwYDXh+b8xedaUv6XaPxRRnGy46wNAvU1pNomfAsDfAKRegdDlv9KWcjA8Qu+/0w0wFX1qBEBvYu1rzQ3uvzQmzlsdEfE/FEkwIL5n4z/UxY5waC0IQN2/lzEK4/o/E0+SPPPD97/45QuWgGwMQOgdg1ISYf4/HiV36Y+5CEB6uTDN2LW2P71nFIAbWATA3rcIik9StD+xO3pKYdzTv0BSmr/bJQHALkiVotz/67+yfLsjYPjdP8sREqwybhJA8BpXWUgd6L90uhIykpTUPyQiLJYXfda/RQs5QUgzrz+p8h4gL4kXQKZUL+tjSgbA3+D4EaXQ+z/NxH/MsXrBv6GvTQQEecC/gIBHRf7JAkD/iVMMK2j1P0OE4Pn2f9i/qBqcIewrDEDxAkTYQLoDwFIREfm1og9A3ETiZC8m6L9VMa0MBXDEP2D8DKP7efA/8Uegx3mZ179CzC+iBQkGQMvICQMv4dg/pmuAbAdg8b8xtRZklGT6v4pqbRndx7Q/cOu3qxRY5z+Feg0ge+L4P9ToxykQZ+e/1bmDsGkABECVcYvP2RPcPxb0bH6RD6k/Zy8dgnMeAkDfakpzbK3TvyEBBohd5+S/p+SaF72b5r/dNp1gLD/3P+Z2TNokTvC/H3FslqORCED3TKLSdOUCQHXMkbcZAPQ/hEKbYX1IAEBK5iZlpScBQFYtktfMNwJAKbRGbpEO0D9XVfhuSr4AQMo6ujuB0++/Pw97sXBJ9D9xxIigwt0HQGdQb76ZgQpAQnJf8QHPAkCXFMzX90zevyjIb/tn2/w/h9C52HBTwb/5H7/SDMC/P7rZ5wZF8fg/JkEISg58vb+4ONFEcCjrv6wt1KfdpQdAwaL0EnxZC0A4DjInRl0OQJw3blh3OvE//0SvwQYvzz+oDdfV3K75Pzm/Z+t9GfE/QPAJDVZb9b8XSPD1PWb0v4MkBqvRWeA/JqPh5zeqCEBrLEWCo8DxPyw3qZ/p+Po/8EJS/qMzsj+fHbreX5z6P2fGJn3jeeY/JNNsuS556b/M6p9/lYHRP8Y47HMhVd4/H41lvAe77j/ho55SgSztv+IP7D7iIRBAVXGBwILFAcDXnyOzdOLbv6BlgFQ1sum/GWXZh+44AMBLZu19IPH5P7yqmy6gzLo/egbyzVPqBEA7cxLd6z39v2cMqp6nxO8/bwafJrXKvL/F/kJmUJgIQPH7T7Y6suI/Y8zd0qNq3D/9eTRLjcfzPwBamau2EPc/xAaasQsF8b+GegBnwSYNQOiYXqH17dY/BJj7FMmP5j+jc6H7WAX6vzjk4Sf5Yea/dGxaiUYqAkADIP0C7x/Lv46aLxOjWOG/KCcRAz3Y8L+s0FhBl+Hyv8K19zLk2QVALIeINgKfBUC5Ai77Bpzpv1gp2KbiuPC/KDpl9TI9B0Ad9IYmOcj7v6IIa3UzqwBAGznyu41O8z9ZnwK/k+7qvwOyqE+y6wHAmLDeh6SK9b8Ck0oI3jr9Pxnq+tpc5vw/jz5VivIp8r8Fmq6fvtj4v30kocn2mek/0a/I5CZj7j/QmfyTRzwUQALGUJrJkc+/iQlz50ZsC0CkeRnFhErhv0kxnU6qMQRAwfTjMXRE2T/3gsuFJGD+P9FpLfeG++G/AXmGg0hJ7r/HUV3r2//gvy8nOHF+wwLAuquANA539L/STDQppMMHQOlWdmHENeY/5AKBsu3JwL8oy7vke9wPQLJ3fIP2hwFA0LNvmSTC9L9fPk+KnNr5v55GJNKwjgXApnpi5Lv+8T/cX0Qz+dTWv8yAn+5cKsI/x4a287XS9L/FtobRP8bfP3FNjShE5cg/dAiTlKqa7r/1rkw0Vj8JQOWpsTCw1t8/Fl0Js/xW1D/VK+sDETHGvwIQO5daieg/oQkHRPG45L/Xq5mIsUMJQAQWnpwJ0eW/vraNKo1s4T95AF7GG672v9fgymjN294/LBBca8jLBcAumtepVIHgP432wDemSAFAx73O2e4exb8Mc1kqYlbiP9LX+W2VqgVAaBhtScJo+L98J5EZCNr2PwP9xSU6ggRAftrYIAx9A0Ag0TMPDNXvPybDZcFF3Kw/Sy49YO6W0T+RX6IuVXjav5NBE1mtpcI/PCBurwyhA8Dqydvxlz/nv18rhoyqcfk/Gbso1yea9r9F/IfVD/rov44K4lLh0PI/tja7scZs/b8chw1WjB4LQHz/U0PEhdG/Fyi+7gMy8j/63qHSFQ/8PwihFZQVzqi/ByIg+DZ85b/tJErFJykGwGDrNrSm8AdAe3YldoeI7T9LFCrFfnr5v3zJ0FJ/0PO/22Pnkfrf5j+bPMrW91jfv0RMa4ymJeS/2fEMa94/7z9Wc18xbWkMQMELXz19ZMq/pvpiejfk/D+Mk/LeTLcDQKuU0uGvev+/jkXlL8EyBkAecxSEC9TfPwmX5x2HVAZAL95WNFzGE0DxRVuHThbSv8lfJifNl/O/udV4fcKwxb8OP+hh4KnUvwfzNJhAndg/V4joK8Ke7T8N4SVeIvPzv0KSK3WgIvQ/E5d6ge58+D/L90RztQnfP8w8GF4XPf+/S1VIZtCYuL8BYDlYD1DpPzWjWnAYLNq/uD2xP87q6T+eFA5HxXEIQBsGnhO/UtK/RnKNOoEP8r8kqM004FIAQJo/QnyBz6s/oN5Xob56+z8vRc+mmCzVv9yEtJW9RPk/IfXfga9r8r9uj/3JSzvqP21Q3eNUxAVAFTPErJh1EkD/ufgD6aPtP0L2MpnZPRhAWsGbalDm8795hBNj+kYGQOrrwv872gNAwjEAUY1l6L87/DDzPXHxvxIRSM+cJgLASsAR0Q7P4L/BpYclWBvuP13kynnKSgNA2gc4PAn0+b8ELF+JH9oCwHgkB8bTHAHAAY1VJnhvqD/iLZ5mzx8AQKIiE49bIOI//AjOPvl0CkDhx+6SykHNv5ZklYibdBNAURNGM7cwA0ChkXuGSnnVv3Yh9zw0XQBAuM49xwHT4L9WR6GW01cRQF6Zw+cYhBFA+7AIW9pPeL+kcDSvOcwFQGI4vRCfUOS/aZZ45bit+b8Jw6pH7ozcv6EHUjypjv8/55Vmp1qD978wr2x5qmcAQLbpd5LPKfK/vbboE7Dm9r/ta0GEPaToPxIv902mzwtAnoQv2uI35z/VHuzAVIrwv8ZTheSH2eW/lBKJkg6KCEDQN0Zod+sLQFn972oZbuw/zgjzmsD/8T9OhOmfP4UWQFGoaOQ7vPO/6AQkSTLO/b+CuUraW8v3PyD0WPUo9Pi/onRQQItl8z/WACfLwxXxv2xQ0s64Ivo/M7xhUka1CUCONO7IvbEOQIRStEVKUQFAHvmnEZg0+j9ibE0DmIgJQOl9myYuyt2/fdY3aBwm+b/xSVJa0Uf/P+ReuNoIquE/ipOTIBToDkBLV2Lc08v2v1Ev/nwCR7W/ot3l2Btg2j/V2bFH6Fvkv9FIhD3uivO/ww04Rte83791SI9JrdroP+9EoItRX/G/lMSOIEcYBsBUjC0xVgX4Pw62+neHpfI/TofkrK/m9j9LcEBAj9T/vwZX7kMm4QlALk2D8UI9/b8uKJL8ka8FQKp7vBA40+w/+np/IbNEA8DfgpALyt+ov2dxvVZNnQtAl4fmnmI6/T/Rc+cJOWTxv4Mn42sgt72/bMalU1dM879iIWBYHwAQQJEvh0Wb0P8/2mKnpk7UEkC9IBkC6GDiP6EWuZK1oqk/QEBK+Y9r7L88oXCMdfjSPyO9IJnyD+k/RpGoY3BRE0AOkg9/2w7uv5y3OH0htPm/0SeO/4sN+798wTek620CQHulz7OFLsm/ilrX3TGDEEB+a/ErjKnwv9XAI7+h1vc/5sKSFJnT/T8ozgps9Pz0P0XWaI10bvK/ahgKr4gQCEB6+/y3DiMPQBdBwHtz/wDApjwbSut9AEBCL0bi3p/wPwSXSECN9AHAe1DbuzS86j82OaU/gmQPQH5qMV6M4wVARVsCgHzo4D9dYHRsM0ULQO+P0wD6svi/s6xPT64D8r9TFO2Jf2fwvy0sM6hFAAZAfFF08runEEBJfIL3fWX2v2l5YprjxPG/L2w/Ye0rC0AN6W7gDZHkP6eQyF9VyOA/pAi+lAQj67+nujxFY4r2P1MlwA5CdCRAu70asZQ0A0AM3dQpiPnlv5YVM7lcGv0/pZzOVk3jAMBQuMK1M3EFQA0AAd2X5fa/7TtgpRNo9z+1tyTImILnP0djD3HHchRAYHVzyGs/5r+doYgwWOMDQBVcQT7y7tK/TZfJyipg+b9InUQukU3qP2gttWlhAwJAArbNmFVzD0Bs3TxqGPkVQPvvfziJigDAh/Am6oih47+EAt/WCub0v27geFGKwvg/nfbjz2Iitr+0jPTUUkYBwCZn8+vr7uA/RkCYOil37z+KMG628uLwv5eJ8yPAnxBAP3pmbcQ5q79a2jqMDtr5P/tn7tg18vS/+pQEzOeHFUCSfkZTDxPqP13jVGDP1uI/kdzgHX3/7L8g3z78R2X4v+1Q3bHGawZAYtXslbqa8r8sS0C3h++9PyUPfL9c5f8/XSrI3x9k5L+Dls4BpUnZvw5DUaCI2Q5AC+AwlpmhD0AEI0pOj4gLQLryi2uPffS/ToUOrw7Ky7+lO71GlgLXv5M0X+IN5eW/VEVcMazAA0AldwHt+sHuP9/1dhYvy9a/ZAKO5nu987/PFPt/enDZP1borsRUQw1ASbrmxu4w+r8u9kldFt/5v369Yh3zvgFAGV+0+4N4+j/yct7ybiYMQLMk8H512/W/ZFpN7kXZ+L+83wpAIScMQPTZk0ej8PE/m4yjS9wk8z9ct6US7jHyv52ce0LW/vO/rnv2tLckDUCifjgy4xXTv4dtf4l0V/C/bbzFWkOmCkD45LAL+NcGwOB8GRKENvk/xq+cajgcF0DELpWP7JfrPwd44gdIcMS/VGjhDPsn0T8oC6rbyreuv11Ns/oSVgVASZHisxmq4D/SpWVQM3vvPx5cHLThlvm/vrks174A0D9A1G4931z8v+z41oIYX9E/TOBMiUHUAEDFjb83Ai3ov7kXvYhXGBhA+5bA0VdM7D+M/gooUTD5vy9Wm47K8bi/5tnV9CeR8D8Mhh0voiMFQIbPjGS+Fty/TcESF1td2j+H66eldHERQDVqpAsxKvk/ACLQeA6f079LMU7D47Liv1sgY1LRP9A/31anS1f+8z/+loztwTbvv8W74CC+qwZA6FCU9c4JBkAJUnZNdAIGQD5FVIekU+e/zIUyHpFx8T9eSWlj//0BQOFNTp/EUtC/jhlz/E9Z3r/rOWWR/sfZv2HwwLhNdgJAiFMdtlqW9r8P+o3Naz0MQGKAQqaaLwJAvZqFzmXY2L9eVsMVzXARQIC2Rq8OsQRAMiliNZAD5r9o/IG4M+7wP6CzzTWWH/e/oCx+sYLe47/MtZIp+KzrvwMxBMq0OPm/DRP0ShCI9r9SGmKDhJzyP7+qQkJUgfg/F53hboHD979thPPK3y4LQK4oAU+TzgpAsGj8uCwfCkCkxT5p78EOQHPFajp2H/c/spj5dYFD+z81Gu9LpT4MQL+ohlz8evs/XVXDYLwd8b/jn/7vezECQOcK5eKh4wNA9tdAXtlX9D9AL+joLpTmvzzwUdOIKPC/sMOxfmk0uz+wIh/mijT5P8gyaut4Yvg/djtnXeO3EECFZZ1x6kMIwAbvbq9kV3U/NGqxMD/Z0r+IHRW53Lbtv9RpaWKpTQxArmF9qtuT0z8DqpA2okX4v6TNpcdqmeC/zTshCe8Iwz9+U/Ty1dL+v+EHrinFnQRA92SebC767z8N6lZLHbv7P5E/zjJwK9I/IhziT1Zd8j/8hYem+hnWPxQ56CvZqeS/E2okr0gG+r9uHNRT2Bbsv+tP49uUDfE/W3lG59ct3L/EaqHDqnL1vwuY2WbWxNi/66HYj7Ky+T8SzpZ3HOv7P3GQaHH2++i//yiX9lYXEEB3tHDpAtPiPzDumGoqJOU/vvpu6V1877+k4VTfwrXaP8WZ6kUbb/g/1KC/Nl9axb922O2PB5zkP4NWomveh+G/b/DAqcZR5D+CcGXFhL7sv3NqB+RcKsk/39nAi2YO9z/PjZ0dTvL5v4L1PCtLKfs/5oFlbf3x6j9hAuPpXLXnvy3m6HoseNC/jmhQBQ6c+j+NttiT3jwMQMFcTq3DkQRAvs8E43Nz57/WPDch3sXRv5gr9R+1ggbAv3/o+m9M/L8WVq2ojPoCQIkI6hm9F8A/2d0GvFoj7r+tNDghsBHYvzLizXb4yhBACq9mf7bhpj8hgw9Uc+MBwF5gY746UglA076GIlCP5L8w/xfi80Xmv4Bcx6mUB/g/3ryzrayS87+z/YCEloX5vytdsN9QqvO/cREBe3sb6z9NRpAWT/v0P6u/uiXHUOG/cbGmQsAR3r8Y8fwz7KkAwBlOpLV898a/2Rz46Pyj7b8u93/KZGMIQHzd2lMPxBxA5FEE6q419z9G1rvifLP9P1vE8//mjQJAWo9/OPfSDEC3vAq48TYEQEg78yxdpeq/w/VnGPC6+D9y8eN2QU4EwPxuI6l/+AHAhCinyrLNAUCTeBMg8/b1PxUJe9TVTsA/bY6+h8EEAkAQelxIwwvRP+4ARW1HWcw//PZDVA9uCkDWhJmEeenzP+8xW2Hy7u6/MqINADKQ9r9gE5cPcCT4P+phQv0rH82/cpq1RlfhEkBKWonGrAnyP8bLuJMjjhZA7K7ownW7/j9MO8Crm6Pgv9qdiLpWqgFAh/wiS3NI8z/pCxdoukrtv5LWEkemFgdASrEAnLsazD9hpUj6gDUPQLPwVHls4+o/2t3+/uLy+z+HadtDGSb/P+tYrqSNQOm/v3AXVbIZE0Cv3Eakh/sAwO3mFGmvOfo/zddXZEZTDEBFg3GQJs/0P5FP7o10DvC/GpmkSyJQ4b83j8oBGIIGwHabw/zr6PU/0yyP4HC9EUDKaom3T977vySC7oldUv0/k98wZsjA5L+/Xw/n81Lov8K4R0ie6tU/iiI88StO97/eEEr0H68BQBwjei353/Q/PZT/2yFTEUC/hxlE0esDQJ5EIz5rfQFAJYk0qrlf+D9HAIpscT7IP3OXEkM9VvY/6a9j6klaBkD5Wcx+dqnzv3ROmWUxewlAbYuSTM9ayT+NVvs4o2r3v6nDHuaGf9G/ZVeArS2h9r+y1ZCCbavSP0nvutnzdf4/s0ihLUew7D/oh/unmzH2P8ZUYw5hnJu/uUlcq9UH4T8sWjXGLkYFQJM4J5+bm6C/Wr/WaF7hyz+xVwd6ZS72v10B62KBoOW/DFNE0cK2A0BUiVwC6Gfwv1gvb8lb7ty/5tDDUZHdCECY8yy0Nl/vP+hl41YzUPW/WmKnxtHmw7+v4t1tZALbP26k7is22RJAKMBgPPoZ4j8Owamg4joFQPCa/7RfjQBA8cIIaIm7479JVgNsmxkEQE4hN/nC2/s/1Safr0gZ8D8Ie4nDFVKkv7u/qMqGkwVAEYd/vgYX1D8ovRlIIOT6P6618wJnLBBAK+L5PWxH3b8HVWz7wwPZP/A3wQ0wjPk/Yxj1EIcnEEAnliE6Y5nrvyAXOu5C/dM/RUbet60+87+mQi0wHO7lP1KCUKog5fS/TDQX9r8izT/j+iHiIP7kv75mpOr+/QhACIYHuvIlD0CmCBLMI4W7P36ePlB31c6/bNGEMJU0AEA6GlGGUHr+v/viKZt/KABA1THc+yaZ+r/tlw64iaENQOh61LzShglAKy7NvIQlub9+Md5S2R0ZQEUfZHGgavg/bHaBob1M7L/XoMkYMsXVP3SECXFrSv0/BcUm+z7h/r8wEaPekw8GQEhFj15SQwhAR9r2rD0zAcCpbygQP87+P02qFLtl1v8/gdu0F+QKFkD2i6qYM2r4P8CWbfqufvm/y/EhWTGq+j+P+l0xQBEAQLM92F8nSfI/wF1/ryK8AkBB0Y72hKv1PyquWz6lk80/ubSZmsJoxL8fsWXiLg8QQGNp54IGuRZAEtOA1SYZs7/DzGlSzNbxPxLMA4XcrQ9A61gqdcwEDEAdmiqwsQ7ZvxV2zmGs692/RWFugRIDx7+imFJU6Br1v4Ve3TvpGOk/ahLI4Sfyzb/QBu+oeaTrvzgD3VscXcs/4ru0YMab779HOMWGfh0EQC+CDzfZbru/+3F8Yu4k8L/JZORso0MLQKVRVcltavK/laTNi8Z05z+IwaHs8Mi+vz8fWe2STvI/VXogL6K9+r9B/FHn7t7YPyjobDPJzuA/5GG4k3SbAkDWl/RwBjztv2wdhiyaaN8/8NEizAmnBkCCwQu3Smryvz+vrdApZQlA6pig/HDCFkCCc0wWpGPXvwJE1NJg9RRA3OTN9srA/D/7Hhmc6rH5P464x06xpAxACY7/RgHQ1b/0A90cWC/+P3ky9/HT4QZAiQqbp9B/BkC1ktXrpUEIQBuluwSY99W/cNeTflUf/78V9Il+AyzRvzDjcqe+F/w/b5natb2t/z+wDozbUlPrv90ZTTf9xf0/CPYO1BHzGkAaGmIvxkL5Pwi3uaWMmQJA5iGm3unSzL9lMtuzC/gCwO1plX76otm/PdA0fPOZAkChNx7iOlUAQLEZEiCb9P+/TCvFOiKlAMAV48hlotf4v0RgPdZOOvM/bJ9mpewX8D+yGKUDoZ7gP6moyRp78r8/KIe5sD3B17/yl+IDQNMBwFDl2CbfF+C/w/JuMpVr/b9rkc90Eg/4v6MPSjT5AfA/taP9TiGg9T+dxQYAdPYEQI857EDYd9y//1jDGw0l2j9o/MxCZBvPP0UrLd0lUtm/N/D1D9J88L8AzR2uwUcPQBLjvpdHdwhAoFU8ei0QBEA60PtVugn5vym9SlMxc/s/xEEoKYwZ8T/G9LvZe84BQIbUb0Z3oOi/Ij8hTUpT9D/Dfv5ad9rFv92IYDuWIQVAxedpbeec8L/ZQKkpQtv6v9WoWKeqjPO/8cH6gsq28b/XYuR1OLkMQAXYEMaNmfe/uJ6AFVXh9L9c8xeaooT0P75zk3QKv/s/KVXHLUVUEkBmkJcjgjz1vz0x0h5mIdY/S0yI2LOIA0DVo6unBw4PQJ2b9B+lUQZA126RGcWKEkCpC8Kz5zDzv3GHbg5AlQdApu6pw0itwj/rFTqZ4OrpP9j5GMha6f0/6B/87u2C8L9kPvMYNScAQALQCWjVS+6//xj/azSBG0DvmWBXYuzlP8yUP6U74Oi/RKHgdDKptD89/o1aTmv6v3/O3pt3AgJArdIvjhlw47+LniPvM5X+vw3yXuh3VPG/uKFgYSQY978HlahVoAQJQDMrSO1kZvO/O3zas9uM279LZ2CqdoD7P+SzIqPUi/0/evalBxBG6b+dRSN0S2MOQKIAALC8iM+/wdQGDAv6zT9Ozu6MHKnxv2sl+7pFRwxAQhJEdmxl+b8n65Pl/fTxvxzq+1FRxwRAZduiW0qls7+t/XlcvDzdv3f14lHhVvq/phu6cPp0AcBBws9R3MPwP3RqSCGvtuK/DqaoErA6DkAzyPfaX9jQv5VNSw0TRghAs1WP00V68T9j7BZez1frv8SSGaUGlwJAjIy4ZFni3T9RX8suhE/iP81b1kszxNo/Pp4kO9HJBMC9GWWJyvHhP7R4A1/xutU/XTKnx+8rAsBjYH6YPI3lP2Vh8IYiLglAsNlsxGLb6L8I/TIV/xP0v2Uogs8Kyfq/V/xC8S/xB0Bi+Ivq6ErUP5jjPDWYzek/3+SW2a+Rsb/alTbj8A/qv2qfvsrUjP6/VmABJIpe9b8AYSF5T4rKv9zgdPc3KAhAegBgAa4RBkD7vFX8rRLqP5nc0TA3Et4/FgKB57op4L/Far9/oTnxv3UGEUVZEhBAq3XZunXg/j/Unn0RPZwRQC8nHqCHfQ1AEzMS9DOcEkAq2x+zeFD7vyedfsVsyPE/ZTOw4gqT1T+bbAW9COu5v0mZf0NZptm/wmLkplj9+79mCPp1A1byPzb9V/pAOtY/PREkUiJS/j/diSsxvUDqv6nfPva07Oe/aksTVsBI5b+Z9Ji/etz6v+iTS8MSZe4/NWbJ8eTC87/eNaUT6/oHQCgjrQVPgfo/n7aCfi+q37/bcU5AnLUCQM+6lSZG4f0/mVuTKIXT+T+AS9Y5y7PkvxoeN3565PE/sQwBqVr/AsAONEPT5G7sv2mvaI/7lPE/TNu0T4+S5T/FdPR+WmIFQI2heAytMoS/sdB3Xp/mxr/vFnUxcIX9PzgTdanHeb8/mPxeIHa6C0BUkpWQgRbjv4GuWJc8AgFA7sd/gIvH7T9yo5QQekkLwDbnw4PVXPI/uyAdt7Bz4D93SSN+14zuP8GAOAJZiPu/tZcId2h4wj/1ZwHAggTwP/tDQWH7Xg5A+8hr9UUQ5L+L63g42ZwDQI1i5NHvlMu/LE5nBifm3L+jnIv2J4r7vwdfD8aqkvA/xOEJGcJK5D9uB2KbaF70PwMpt9AEu/4/F84R1eJOFEAKue2mEoKxP3SSiFkE4fa/5Up5fjth2T/hRWQaz4vwv2EHW0ulMOO/QwKFUeaj/r/g3K817XXwP5XeZWTis+c/DpLyiMP6Uj/vc9dk3q3uv8VSISrX9ARAnGb3CccA/L9rXcuXB5L/v8evcbSX+e8/wBOITEbm478LWNJl4t7kPygAcjOvIv+/RAQQxNFxAkCtbAwrgN7Pv3HlZ3nU0tC/RlodHdwsyj+tbDgDWEoCQKabjXSAJQpAPDiINckxAUCa9KRpwHAJQJpDm2AIu/0/0Nf2u8qXtz8zvlHJeW/tP1RHQEvHVuu/hrRT7CPvDEBbtA/nyjUAQLtGxIykq9o/3/vwOcev6b87dnMTLKzzPw9Fdp9Ph9o/bUTX5t6ADkCxTkclC1bkP+IabV3m3cy/IGtzxE0zBMAWL2SI4BwDQBC6b0BDmwTAv259/i9sGkCszIy7vp3Nv0ULjfkr+tU/IrOutHP9D0BYI6C4V8rwP3BHsoMeVQVApBzoFazq+7+Er3DtoHj5v+svQl5/ZvO/j6v91WK1A8DZqXJlPl3zP6DfxEBAx/c/W7tu14e8AUBcfZMu6m6tv9pFgeoNAwtArYJ0jSNXhL8T5pIUJD/rP4WUZxNKbQlAMQuFXB27C0CTL+E4QWoNQC/NdpMqH+K/cMa13/JNqb+jdw4ouTrBv57QNk9xL5e/BRsLsDwDEUB5tIDmi7H4P5TAfNJkhBBA3xUaClB2/L8MpPwsuRTqP72HJ6rFqdK/aupdQHL97j/lqO9KLAEGQDNktbaXMfM/cxJq2+MX6b8WyYNqz07Vv5eMn1zNvMi/vowrjmcWAkD3dJuWbWgBwOj18KZ5w+E/VTi2KZvpBcCwh8DAGAc1v7VXytEuAfo/oQvjlPWs97+NbG36LFQBQHAG20X859K/+7AQuVed+795HgIivKsBwGCTj99m9ua/9NE28C1JDUBQGjkENYfQP5bH3SyiTPU/zkwMPhbikb8dTL9v4M7vv8/0/wg3eeu/CBQsgYu5779pgE9kLKnxv2zlt6bHm9A/50njOSTW27+TmBROsgTfP9reTzlJugFAi4aGKZfJAkCpV8YUhTXyv/1PrMOe2eA/58QwMe7YA0AJBjTHRpQAwFhQ4PDXvQFAWCX2oL8TBkAEIcVOUqMJQBExFoxDXue/6qGpYim7FUCkpx5Vu6rlP2mzkoBhggLApNCaf1S06T9RxwPVICPTP/dc4HsPqwHALZsNnIujAMAzL/CNMjSmv/n46+KQiMK/ajhfdgF7lz/zN6FEaVABwK7tQdsXtQFAiOecVA3g87/bcKDEoYH1P0mXuuO34/s/7l1sIxLN/b93OC0NDwDtPyAXpwsZ5/q/oEvzjHNpp7/o35su548JQCzyZMh3PLC/4L75N/8X0j/5KX+J4NrTP4tGpYKNf9k/2kcVA3PY8L+uwoahZsjvv3ZkOUsLqvC/1z590uRA8T/aamemcaf5v3UgpC0nWgLA5Wv9cvGACUDW99cQvHbjv9WfzJcQewpACtNCnlEx+r/B3LCZCcj2PxA7MFTC7/A/st2q8wR8wL/b/vQ607z5P4jn7+Z0ggZAvyPAE1VO8L/8edvjx8EDQI+zvtHIy7m/v/FUx3go3j8TDHIvza37v2mOgaTFd/O/MLZif8SJ9r/4L3MCcBTzvw2uftw0xva/yNJRn8yGxr8jB1NDeBSJPwI/sb5JsfC/O8cuOVdg+b/znQD5+wngP+38ECGyFOW/XOtjeJzS+L8vcqVfXFfxv/ISJWJoT/U/Fmq4g6aa/z80Gy0OA0jzPyEYIzsAdBZAxpXGPEd31b9HTJdfRiv5PyLMGn+sDxRAyw7gkS1+2z8PgipfVhT/Px6NpKadFec/7plmSigtB0BB9ofQ9hjrv4jiqEoYxO+/9mh6BGQX6z/DUEG0Lb7uP5T1LJdqoMy/c0ByZWtR+r9lS9vlqYDpPwHr2Pa0IO0/sjGapIWZCUAkyuZjgJfSPyaORpfwRRJANq4qZjWp+b+8TKgw/R/6P5FOmfWcoOU/6nGKfTeew788kwrtRYLLP1ttrz1GUBFAvsEW9Eya6z/WdwxsM8PsP7Ywku2B8vI/xYkKEpWI0T/9N8wYLTvyvxNmapksHd0/9DICkISe+b9gDHg5Ra4EQPjiBSZOPQZAVvfueX6k8D8b60loZC34v0N1SrGdzRFAvZpkaSqpg7+yS5hPZUn7P0iBAad8DQlAirnsjDHL97+javWCU0H/P6KKIi6UEqg/FJQ5oScm47/6ubRMq6v7Pzr+cNkU0uK/sbYqCYBECUAoPi5lknnjP2JM6cG/vc4/ETZfED2X+L91rECDqfP/P0vLTwSF6+o/aTeRLO5/CUCPr7KELd0AQJnC8QQ8Sfk/iEEFBQDX6b915ePlxjvwPxgVlrVjQ/2/+vEEZH8f9b8tlfOj3CPvv0aEVn3qhwVA8ixyuW24qD800hiGxLEXQHPdTAp51wNA74NgFuYCyT8+XUOYXO+1P//tQGtTYda/1pvVswjM6L8Y6S4Ydd/Cv8yzv6gRIPa/z35Ksu5Srr/Sa+JZs5n4v5mzNNGelNW/ByQlMh2pCUBzGydbtNH4v0gdJ5RzTPA/c+C8T8YgjD8PA2HpExD5v6jHuQm0ebO/e3PKly2l/T9WlUKKIjkAQOswlD9mVwZAeqDkCbMgBMBuTXkUFioBQHWSsksXuvC/EJYdXe1m8j/9HxpsT7H6P7xr3kL2PfG//6hZaARA2r9ycS6z0c//v3eBU4uoFBVAQHZ3JzQOqb/dU3sQq/fXv8R2LcSr8PY/1k76v1YNzr/JHzeAQRkFwNoLranlBw1ALhGgBLlfAkBCdffKxs0BQBfcVXZFixBAmPDcati5tL/u6kgZ+tL+v0PFdo6Wg+2/8EAa4ymt3j9s1OymcLEIQKSHGCbiGxJAHacRPvW0+7/3whh78ET2P5F5r9GFXxRAoEjeDGP4BEA71qvaLs8bQAxDnM+un/2/DzUV/F+p1T/rP8hvj9EAQI1aDJDYffo/UHBT0kv4+T/9ILY41WT5PyPCWbnDbvi/46E/NAYGBMDkOw82XJYDQJGtyChGE9y/UyLbi2A/5D8HKPDLH9T2P+gKXuEIs+i/SWHtFKO9/z/1MOpyQB/tv38gNeyuFgLAADmEGdIr+j/qW2ZDWtf0P8sh1v8HEAFAfouBsxAHAsCR89kexPEEQPmaxmeFecS/fu983CWAjL+/TARQiHviP8FvrlOwk+Y/RC76LKtm8j8OgaGoi6vzvz95Z+ko6fm/9wjvEKIB97/DytSw7Lf+PxDET2hAW/a/qKYYlBj15D89SZIa0swFQHfMqzvdAPi/TQ1hV8ig+L/MHNW8el7yv+mpBkti1P0/QvTB3Odx4L8MKS4/Zf+7P5ZicSW+ePC/qQZbOfxk+L/WeVwuoZj4v1BVKlWMMOm/O+IiTxB9yr9tQKnCfY/zv6ffJDCn++G/5573nMutDUCG+uj4DRDSPzQT0c44Efu/ztPwmRxA6D8X5+9byLbxP5rdLkCqXPU/6xwXYq6T4b9QUaMYAiXqv2anaAgaZue/yuepzVV+8b/x4POhgc7hvxY9IlmMCxlAvMJuvbZ59b9S6GOeiUcBQIQ831cvXwBA/bsEQpJL5z93QFLkhL4HQLSK3oiKmvs/uguozEyd9792UIwpjEbjP554iNZiO/k/codBV+xo1T/EBElkEoy0v9vG5Jnzpvo/OEgi6REj9L+2juf6LsTtv9OrSczw9PC/vWWve9Db1r95cfS2NYn9vw89B3AACAtAVYmtJw9pBECxo+1uiX/qP+4fmCV3a+e/rk69D+zMCkD+Ojc+6u74vySWZ5W91wbA4/ope+tABMDuuJ7HLGy5v8q22beGYuO/sQvEZSoP2L9agYX9MncSQJPIIwsbCsq/X2elpyzpB0DRnWZ0ngXuP2c9j3+EC/Y/bTd5Eh0K8787/1vLEtDmv5H8X6yU2+W/lWyl0mo5B0Ca8j8bHAe1P1uXXIbzJ/8/0Qn59GJu/T/zenP1xdPuv5dG3vG2c/S/XtlPpGu1EkCmhUIssH7tP/llSNlnhQNAJfWNnlRqBMC+0Y0Vy0kGQBN3uTVUbgNATQ1YMs7NmT+xiAVRU7IHwOUwsdTGwwtAHwMlogwe5r8oem8AXbz3P8w4ENqMPvM/q4yOn7Qv2r/ZzW3gQg/dPwlPrjb1jADAuGYyW7yB879I4ovAADTwv+2y1cgc8QDAPPRezbXDzT9OJHkCQvTyvw8aHfjlxAxA/RxIAIvs6r8ArNORU3UQQF7WYzT3VZi/x7P13T1a1D8UYugph9YHQG/x55tt+PU/jno+WuTTCUBCf4dhHzP5P3EbcNj1Teu/NZYKStsk4j+otZwtqmf4P5ddsIR3zAtAd1lLDUR7yr9UoBK8po7nPz84dwRgWwHA7DW+BLRC7T8HdPb3yrn8P1BjeYqk1eQ/mDZsDODYD0DERGtmRZzwvy9yp4bpGvs/rfWTD88o/j81WDmhbE3CP+Ce1tvPngLAq83ILxwOA0C4bUKLJmDxP1Qt34fM7gxAXKO7CsWl+b/qNWvw/Kf1v4r6YZoJtfG/+hmqLvWP/L8Fo8dFF+PxPxe5EcIJ6PK/Sb/DUbGO6j98pWu+DbTnv0/UcBPo8sW/5WeQMSkuC0A8Xkbmt+YBQDZyf2nafQDAS7j2gLLW779QpiL0Vtvov/NkCEOlQfS/oiWiKfmp1j9I1jxmDoABwBmqYy7+6d2/LA2z8wUxB0D7q/YfwH3XP+FpsgrR7fg/YEzdmZc28D/LbKJUZ+v9P00LkThDvvS/2ZHPKdyv/L9DnOc6OQPzPyOXzsx5HdI/ExmIkpNREUDoJrWKPfoQQN1Q6+3Fm/O/6g1qCGJR+D8E4mO1aLoAwCj7MYVCDuY/3OtN9pbzBUDUTmLBHS72v0SkuLcz9gRAMh5YSm+R8D/HNKP22IHJP8oNK/nnVOm/jnwisan/qz+mNM2mVcYIQB56uli1oJS/5Qlw/mtUDECTeLfxojDlP0Fgv8LBUPy/NB4E1xrK67+UH4X8C2H2PyWs1+9M8gRA3NgvEpVv5j9plQ6QhdEDQDDqnZhSBvo/xRrbtK1q+z/vTcjqm0Xiv8y4OUCL0A9Abk1Z3iCV9T+NhcMav2QDQIBfQ7R/6d8/nVrw9OZK9b/2ZdFiwtT5v+XcZCGaVOY/VCHfWeud07+ww+2vpGLQP6qkeLBAF/C//Hy5hpBW6T9QGKPkWUICQNIiTNEl7v2/zmtuRDkuAkAzOeydFnzBP41ZlU8d2gVAtjdL89Pa+D9DV7pbfCv3vxtuGoAKzPc/nyV0BPTV1j9x0UV7B9Plv5nYlVcs9fK/EdZeBNP49T8Vs4WrbWYCQPOcbtZeB/s/+3Lyz53fEUAh5e6dK9T4Pzi2U9Hx2qG/qKcVTktt/D/58/oV/qz6P82qhvd8/Nk/OsHDxnDB5b/Ng+NIL3QRQCzRCstWZc4/QNbosQJMIEA5czI157bSPxl334msRfG/RVrYTQiY9r8Oro6KrSrhv2+zIbfyf/4/mEYKclu/6L8WxcvrWNQGwLi9dE1RN/0/8erYL6p8/T9fEqhE4/Lkv5Ec0ZOv0fe/Lx2J3pkY/T9q4CDTOU4CQECX1+ofSglAD4i7lSHT9T/dg+5IglwOQNaqkmexGwHAKCtF6+cb5D8CKVDA6sf0PzKcT0kNcfy/aU1cqPHZ+r/Ktpmpp9//v31Q/u5D/A1AfSjItJsw6T/Pw6mF2ccHQCz0oCGN3AdAs6ztruvOHED5oe7/1IL2P13Uw2XaiwFA7R76w11e6D/ak6OoZAbzv8d2B1CN3Pi/W0FctBqt5b/PHqisUyjuPzAwQ2jbF/0/+OcXP88587/5hB1yGd3ev09lNQ3a4g1A8eNluUcAFUCwlVoYJUYBQPh2gA+K1vy/0Jid2bUDEUDuWR0z5gwOQI1WxUKYoPm/W6dse4sL9r+muNAwJw/5P0zsN+R4du2/nr18ZjqE+r+OuGFw0/z8P8jJUsfE99U/zJncCygz8D+Th5CYfggSQHoYKSamzu6/CiU8fQGnAUCxEAhxZKn1PzmbWtL3Yf6/haGBHjKD9T9EBEU+I6bhP7hk+BZ9HAFA4aCdX/Oz/j9kIf5aeGsBwLu6eqB1Sey/ulNluHJ56L+3/JSGOwrRv9M0cQyksfm/CW6RwSYc1r+QapWtWy/sv0+v7gUMntS/esTsIq1bA0DYv1t4jdbmv05GJqHx2gNAlNuP5GKrtD+unH1HBMK1v5F5+8edYcq/Hesc55wq6T8/VzDVNK4MQOLawBbCWwPAQwvTrTqaDEAblCFfmJPFP+P2viZZHPy/0fdcDbe/9r9MkdhEdefQvwJQ8x7Nmfm/py6PLWqY8z/VVlt2kZAJQFcjTJhvY+M/G98JpaAgEUC6EiFWRiv6P28U1v0C/uW/xyh1Rxd56T8C8Uk/u6wBwHmAq/lqSfe/A8hKLtjo6D8aZ4IQvsPyP69iutGs5gDA49+bYWnW/L/ZTFS5HVutP0WtVXOF1fk/7VMSchd0/D+80s6F6HK4P52sZVoQu9Y/xHYDrklFAMC+5Jo0wHXkP3MZgl4VkvO/HAxCU5V29T9nqyhQUeICQM/N9YH7l+q/IGx/EJ07A0BdXcUZlY3iv66BGfDx4P2/KUbnXl0S2L+/QMAJzu/CPxu6rag9XxBAYCZ7VhfM47/5Sf8fsMDQv2O6+StVJvS/MZexS6csAUBFBzmKVw4KQPQmr5aLMuI/M3G7xs3A8r+YqBatou0NQBUTg431z8c/R4OR1b0w+r+YUOYMY7wFQBdBxGvamNy/QefoYFdmA0ALVynzdKbzP5OqLEnvrcc/nE5OhmR9AECNWFC/Y7vdv0gHTeIIWwhAHoESNFkk/L+q+Ltw49D6PxHsN1RRu+A/ZamSPVokyz9QBiWwLK4PQM3Hq+rDRfO/eSOXM/Jh0D9eAaKKLj3zv6cnpXDX5cS/WFBe/4qIEEAhqOsrbacKQEWT6Gzgltc/jHsAF/k5EkB9E2qZxjerv1ZduhPYkeS/RnQaeAA8+T80OoZSG5gFwCBuoj14Zfk/1MDSlUcx4b9qjrzrKLsCQAEwSS3tegBAKVuUlt9wD0BipzDjffr7v7IhUghvWu4/EQLctU1u7j/+P3BVldEGQGSYG2idvhFAdS68tno36T/mkn4I+ez5v7k1mJ8mFvq/Zvbjxq1N/L+M0Yi9yaDtP79OI015ruI/uTJqojQdE0CP1VbdhIfwv50jY0DHp9m/Mc9Pqu680L/dluxllPzWP3HAGKtCSso/Wu3nMeww7T89+jTxNCoHQE0221jc3si/PuDUCBJJCUAYaSPt0YYPQKSWmg6+5fe/XYFL3Hmx1r/5wR1sldXfv9ZDNKltRfo/XvZSDRA87r+7OKFpIoT5v9qBoDMoIc4/E3Rjsu3+6z9FbWFds2rHvwjTPtJFMPg/x0QYX8rQwz/HC2ta0V70v6oTeTSQk+g/LI/Ph8AKCEALLLygXrqzv7mhBG0Het6/LcFi5+iV5r+tbOwt7YfGv6ZMfkBuFAlAf8gDlWXZCUAU/fUuw565Pyff0pS1Pg1Af8ncyk3f1b9R66ouFuTuv5slWe2xFuI/3xjP7fEP4z8rA9sEzAjYv0Hvu3WmCOu//Ev6Tr744j+iw71hZcHyvwef14wiMva/g1Fz/JFQAUCDSvBM3ODWv4QIljboGgLAWgSJZ1lRAUAm+UoXYJv/vxkTfEbqP+U/XPaL4hbWAECNMUECaLj0v202ofRSReM/hkd+QlFSCUAEg09I3TDyP3BE8rdxDABA5KSqYh67679R2FDymYAJwF7TgNXWgvW/h4cDIOr5+j+roYhePMnZv7xV2hYSzA1AfJ9uWlA/8j8pQtlFG2T3v8FJBaB+Hfm/NeMabSHFnz8Av4qQWXn8v/8ZLZH3Jfs/rbDCrgK0/D9TYsOf/Cf6P8M6milmv/G/Wy6WD9tyEEA5ONFL+1rxP6S8s5Xv6QDA1tzST7DB4D+QfYQ8A4UTQLMmdFD+z+0/isJ5HAhk9z99rwv5vkYMQBmF+ep1VQNALlmDtufG4D/XhQPxGFTgvwSUXVsgIAJAM/l8Wz+c8b9IrQ0Nk+raP6wBaNPE8RRAiyvxRSa75D8xFZpE3DMQQJW+B7BeGO4/1um9QbsV77+/Pr7kIXepvyb4O65YE8+/XqzaMs4/67/IiK3uqX/kv3iJTZpWn+m/UR4LYR3T+T+kjh8Tbn7gPy+lr7A8lsi/l0rDjgyh6793nZzZt1bjv0tdv0KRcAlA3sV3eaLs8j/QGha/pE+wv98zBmvD2/a/PIT5uRHH9j+hhi1UnwcSQBx9pPpLdeG//cNnT6uu+D/ucZ/o3Dfzv/PoREfDa+a/HlxOzsa09L89Mwo6ZivXv7bDoDvdM/G/LTC5ASdb+T/VOj0/kovmPw4qOpglFNk/N0thjiO5EED567ZlYvTYvxfkkhT0Ifs/vKNPlpYo9D8fQqZOXbHcvy7+sgcfRey/KbY0hFy4yj8xpC8cEtvSv77b61rybpe/610KdRkmBUBJyGDtaov8Pyy/8+3ICvA/DmOA5LC95z+YIqZsHUa7P0Kg7KTWsfK/9CVmb9sBAkCr5qkBn5L1PxUbnFu4VQJAKTDAWus9DUA0wZ0emxzHP/tZRXvXefK/CWpDc1l//7+//th6Gc7lv70krd3newtA89u7L0DW8L+OfhE16V6Zv3oboHp1mvW/mcpj8gK08T+EwJFok/LQPz7GSmm3NbM/l2D8gv1J6798jTFVS7YAQH0/t5ul+AdAl3x5XT/k0T+x6mzyDIbvPzbb4njQBZS/OPxciupY+j906g+LEMnsv6M6EOOlpoc/ZDieNBN6uT8pX1qM+AcPQBmzOrNB4/G/g04a5VOX/T/AWfjiEV34v645dALqc/W/V+c6oM1Gv78ZJ0qW/kkXQJrQUp6U+/g/VEXJTdUPBkC4hB+uJoPmP4gFGUsG8ME/zyfIFqgW7b8ymLPLD7r1P0nN9A3F0RlAkM0f5lhs97/J83ecFboDwJLrgZWjEgRA1vcWbiNh3r/9wq5dGywDQFBRyJ4HUea//6a4gBAtyD+0nT6HabvzP+yxxpWFO70/ktv0Lzk39T+kJPujFY7yv2IoLf+fZuq/VemCiiEQ8r+yAoqPf3Dhv1SwPKSsehdAfeEmmzmR/785LjsfYJXsP1rt6UM5/gVAjxc3OiHn978zNn0d2GwBQDGjOHBZ0+U/WG9M+5bt5z8xbbEjqzHyPy7QNGHDEAJArgl655E2+r/EZfDlYt37P0bkSMg0nhtAZ/CIDPfi+z++/hEuZuDxPx3bf/mGE+I/vaOmfvqz+T969ECAqELUv8hvog4xlOW/TtjKrP5gnL9HW+IhLnn4P6teGu0Q2uM/NAGKXooK+r/IkMPD6aHyvwB/16zp8+6/Y4wvTII0+D8NwTNaGDvaP9vA0Zg/xf4//hOsPRia9T+ozb8aRjL0v5JA3TGSYfI/7TZ3rrUV9L95VbZ9c13wP94nOmi1X/Q/LMOLV5phEEA1GOJvtDDzP/yGDaDjxfy/xuWeVf5kAcBst/b380vnP3RMWbtDvgpADBWkWDWW5b94cndJbVrov+lBcukJiek/Ilmkx29h6z+XTioxBykNQILE6tFlxAhAfqGsb7217z86gCjkCYTvvwMWeHDWysc/0+JaJutO0j9C2ksFKaP1v4qXSGXopNk/1v5gcjv7AsCWqWHmoUj5P6HrH2D6zOA/L8v7+hkhB0DBCvlSRiANQFlkmvP9ehBAykf03RaL1L/GNNHVZBy6v0iEecUcxv2/4dvdENFo9785Yu+RTI7Avw2NNJ/imAJAz3ktNfp40D+jJKE5WXrmPw+/YPqwEvE/8FMZZLIX5L9OxR4VnaPjv11dxk/P7Oc/H28qsdCZ/j+n9x0FrF/yv4KNVAAz3g1AM4XlyxWO879jD3vjiKsJQOoldg4tKuy/m0ZhAfkg4b8po8a9zzUQQKWK0U+CZ/S/+XbO5Ty5+L/vhrxgFfbnP0oA0WlQ2Pk/OC39Eg6V8T+MefY3cWQOQDxnBBdkVw1A0sYjCxQG7r/sQA8nwPrivyzSIMWaDgxARPivrCkI9b+KH2c0GMMbQDTHG11amfI/dOkrTFCl9T//e7Ey/628v4YojQDVBAJASCSI5T5G8T8dns2bD5bwv67i5ziGnvq/hHC+meo97j+BGXc6x+wDwEbWbtmUyv6/z9D4yuEcKT+AEB4H70/zv5/9ZZJbaQDAymwUwCPwCUAnFj8SMWEMQH8/TX5eXf6/esRC3ISk/r+/XeAMM0PsP7Zw0FW1kwVAevtb556Mwr8VedyOoa7nP0XncyCar/U/HFzhsyYZAkDTrTnl5krgPw1PTUsERuM/Xf+XX86V4r9SJ0X9lZ71Px79mAMTG+q/NSIfsXDW8r/6SNcRKSHvvwq92lAmSvW/EyWMQNVo0D9GlrMv+dv+PzCsf2z69fq/d3sjHI3j9T9jRg6FqOEQQAeZgrVWmvY/fv7ODoIS+z+TPgpJWIMPQI+f5kZrgeW/BkmRLkwv+D+Titdl1P/JP5UvWhU/rfO/PTxeCrWB9z8kyZECtWL9v93s0Fn9l+I/0xqyVzc447/Ew69SnAH3P+KtY5DkJgxA0/fmrBDa87+GEc4IF2nAv6stt2wqov0/6Wbona3PD0B+hgQU6HMFwEgQbtwTYOi/RdO7TfI8wr8BUe1WrjrRP+pIarUilANANgt/nONm+7+FODj7KQf4v02BS3pn7q4/36Butd7bAcBsmDQ7mN/6v3Xf7k0zixBA9oMRkuEm5b/JNXs/baXDv3umlav3avq/D2UKE1JI4r8Kch7B4Q8BQI6k3Htrq+a/zUeLET03FUBwEqsmWPQIQOBigzpEyOO/5AmTL2c6C0AcXDeWE7IAQOcyXyod7vI/3GG5l5IDCUBsaeeJsyYFwLt/1yISFeQ/PVRmv91IEkC55kKsWkfYP94OBaSnv/m/Ow5t18fM9r99QZBnbwfxv4AECRXDcQlAV36skJLU8D+jpAyAUtPQP0CPQNskr/2/IlUm6H8g47/f/XuyjJ0DwBfD49WgngDAqjct+W/l87+Vk8KLyt79P/zQTxEmsvC/ibL/xCQryr9Qq0CelFbhvw3cFQdd1Q9A2Ze/ImA3CUBUPvQpuIXkv87XhcRsF+A/0MpDff9K+r8xRa/0TbDWP9cfgqS3eeS/M4PDZMgO4b9Acu+IXm30Py0BRbjQovC/uwXf00UVAMDItk/foPsCQBJ9zpIXkd0/qRxme34c+L8NS5bWgzcNQJKgFNEG4u8/AljVuEYb7L8kCEj2I0rvPzIkis+knPk/ruTKBG+M878fpq4AWI/ev+r04Ix9juS/TaMEkr+s97+Di/Vgmj0DwDrwOYzWQxdAUX0nDY/e8D8x4jdw4BkSQN4WQ+7oEgJA6oVb0EZiBUA0czZaGrsIQFc1JymoN9a/FteGl05H6L/QaZc1KBT9PzyfiWMSsva/o1lZF2de3D/WtoDWx6jjP2UfiehOPfe/dx1XxGRu4T+iVrY6j+IEwNLyos1KmQPAPkszuYLq8D+DhxXDTsYIQHCsN9q1uPm/uletU04i+T97eQ1obgntv18WT2dFEP4/m0aP6tA57j9HOq/9S3HTv0IIyq89cwPAFSL/pvSb+b92s50z2+r4P0UhkAsL7v0/xTfDP2ce9T/WnTLvAjMAQDCNkaaOhQJAhCqGrnSh8r/myHfPLXbYPzHjE5Et+fA/zYrVknKIAsDr/nttYxTWPxHzkAoypxBA4EimOrTn97/cSbnTlIHmv993d6uM/PC/LGTSwp8iBUAVWCrVcEnZP5vgAMGL7v6/7TORqGu4CED2huhosFn2v1C6X9aOngFAQcz2q8iVyT93stnzWFrtv6eMzOQ8kwPA12Njl9NAAkCSXdKWJWgGQBG/f9vUcfw/Ewa8NWsU/D9pI29SqPMLQLGva5HMmARAqonskXxa/780bDlcpokBQJVFC1bD1QPAGgYkKfxKs7/WXJA/29mWv4pE+oQBCAlApRocUCOsr7+wlbXqbozoP0C+PqVRzf8/vJdACgxY8j9liNBpTgjZP8SEDPc3HQZAM8S6PCbpwT/EKOp0qMz8v83H1ipul/K/ndTRKSZn7D+xw2qbt0zzv44XnFG4a9i/iVE6tRTq0T+olxQ9Q0r0P3Seaz3JFPa/YNwUqxleBEC8reopIwnxP5KtQeU9Evk/rIq3EfwBB0CHyMXO2hDbv9qsGzk7PhBA4BbhhOsAAUAF7kVaQJjSP0LiIrxNDtq/YSb5mmZ65b9lWp8gWIr7v5HLUpBs7fe/jx2JHn6t7T+cbrG4sZj2P2Igw4Hq6eu/J8k19LMG579a8zF0fAfwP2Q3diclgf+/zmtaSRSw+r8qar1C0tzhP8LYm8Rf5qM/0k1J0YeE/j+QUg9qkjzlvyCcF3gw2++/5WdJcg7M/z/tyUtIcRrSv+pldvMzNQFA6EBj5R6v8T828oUHfB/3v1IhD1vGmfS/ib/h6HZ4xr/D9ybCsAPzv+R8LrnQUuS/IkbGGf6c0D+EwVWL2v33P/8KpNJAftm/vUi7yJNMAEDu2mgbxsEGQJo/GEvr2QDAz1vIUOi9AMAvRVI6SmgNQPwsSnp5rfK/53vmB0wF2r87QCaO4eABQKFjam61bwZAu6wR9fDgBEDGk5gnopQGQG59a+C+vPM/Lk1O+IJy+L9zJ/ITcTRjv3HKuOKv8eC/yap/y+yR8D8afch3E/oNQKZXWcx6dNo/f0oLGm6e7L8mjQSnGkEIQGhbbH4BH+Y/dezudWaFAMBsMVyZJUHuvwtgSZQWONm/HdsyCARXBcAWalkEba4QQDGGHWx8TgNAp/NH+AJw5z9V85IyT7UPQDgpcbxlNQ9AqSWhH+5X1j8aSmef8f7rv6CpxVHkRv4/+FNq92Z19z/M7Wy499jQv3mcEWb8HfY/KVD9Bxfj8r8txQcCPqfEP9hMj6/ixvu/tB7QUHdU/b/1mo9dYR7xvwAGOpYtiQPAArCIJfPs+79yO3vwlPn8P+Ht5VeZy/y/G/4iYmDW/781neWYqFbsP0ewFJuUJwVADtRNr5Af9r+bgTHwvNUJQGuDNLQexca/q4Ydb//WDECbSyS5Y4UFQM+mJE6QZ9g/eZtrc6eG3r/lknF002Twv140OVsFOZK/mp1+Urqv5j/er2InYD3zv7t8Nz3WmQlA9+yyuub74b+btaHnwpbiP8Sk8GUWowdAwDD+qUEMuT/XxtvhLmrrP7H+iqaE+9U/QiENqfs9vD+HFBGve8/9v2Dw07y/SOu/Etak0e3R+T+Xwu8k8lwOQEoHohV+m8m/7fd2x1vDAsAJmFXc2Q/7P1WPUe5cVsI/+AobyLPP/r9VjlVP/wHiPwg0mlVgOOm/T5Cwqqro4j9+hME/FXr5vwHblmYClvq/k1n0ZhZZ+T8BlKqALyfjP4rBkiziCAVAvTbHgGf89791WA3xec/0P7zdGL04IRhAPIPkbbVcBUAgRnGLfOTvP4goEjUIkua/VdJ4Mbhozj8aghq/yDIDQHgflrK+DgFAEtNgkSpr2b+WKBxswpelP8sFGwK0zvw/0Hl2Fl5t7L8J0N+gQ+39P2jACfZPJee/HvTtsi3Xwj+73g3gtx3Gv12S39IGaso/6VPZeF7H9L8kj4938sK7PxDWhYg1T8C/X0vL/p1rDUBU/7R78Dzkv//7e6Wb7gHAw4K8X7G56z/YC8D5cc4DQFLtNJ75uPI/c1RnwvXOAcArGy7LD9X0PwEbjf4kHvA/p+oqxrlo9L8N1OWhK/7vPyolsJ3xg/U/akCinTNwwD9EkSKaXeQFQFGKpVJ/6QpAm53YLEZ+BEBQgjH1h2EBQGz6Xjcx0QBAE8bDxOaqzr+maqcb1YD5PwnP1LAf8dc/m6r4rahQ5r+65PJQuEXrv8I+vrQqvPU/72LN2f4b0j+8bGz1c6L0P3FnFyH3dva/lSBV08eQx7/F7/KsiyPUv0SD4jlkc74/K6GO+mJv8D+iDgmzmMPzv+dYvMMDJMc/u1oAGWua9L9oRj5GAjfzv6vJjLxd3vW/6OmS4Hw57r8VkVF3jY7eP4wanDYt9Pw/nCBz8m/e6z9FHXeKqB8WQEqMYPKvjh1AbfHkwsIL27+Q5IE/oXX6vyLD3EKfvvQ/z8MRQPqlw7/+jLGIM5TvP8/6t1rUEApANwqesscN/b/R3rBcAHHfvxwM/mfkrey/rTlhomqL8795iFTiyL3mv/d+0HbOy9i/CTUqZf3f/j9UZ2Sp42rYP8wCHLreCQVA0tp1lhN1+j8B4/1P4aEHQL3M12BOuwBA9dw1ntNg+7+dQaAiXKP9P8NNomtXdwlAkY2hJHPh4b8Yw0viNXb8v+pj7q1XnwdA3MsQfYo68r+y1YYWzvjmv4CdyN85TgHAHAp/EjPADUBdrfew9bu4P24hg11roPk/A1YyIP9K0z/3l/tH1uAMQPLf7bzjtOI/wzZch54ZyL/KS8yhWjj3v+NtzFE6Y/M/5HhTkN6kDkCKgl4hjzj8PzMX3jkrAAdAm6EmCtQy/T/MxOG6YAD+v6+yPP9T9fe/vY+/PaJ397+jpvgyxH3+P4PYDPM0Gu4/B+pQDm6XDUBhnJ5bOIUIQOMUecPUIuM/6t0kgfmn7b9LciQlp9v1vxNIVP82Ndk/m4VMAEt3yD/PBJAWbmjhvyl1X3EW8eY/1djeOaUr8r8YIogjw4X9v1w75j4Jk+q/pzeK6nCMu7+JifPsfwz6v1bBDta/rQ5AgA466OwOtL98muYfnMYEQPQ+bNjzYApA9Xno6R35/j/H9ur0VpvdP6qSe1yxiPS/3G2b7JEm77+2MB9+AejoPxyPgecVpbU/87J2njcwAMCuBcKqRY/gv9NCqY8DSMk/OozGernA0z/FHe0R0ejgPwR40dVYDr4/viP9nwwzxD+MDZIy94L7Pw83yTQVsQHAnM7tDbdm3D+ibPnP7ljovxVTxZkfP+M/rMQa4Gh26z9oVjNcQ9oKQNYLojb9U/A/a/EPiFm3CUDV9hjGUT3xP+YfvCcoX/c/YKhMIaTKA0AR2Yrk7Ab7v3NUe8YvcvC/7/9O9AimF0Dpkd6/joz+P3FR6XATaeA/1W4a4il1/T/lGqAaYSL8PyQjXEar8Ok/aBffooCl8j8Jaohom0UAQHXY62eoMgNAv/78oknG+b/GnSg+7/LyP+oj3AEJjwdANbsiWrTA2T83qTH/R+b2v4+OtiiFiOM/bQd55To9HEDeiM6hur/rP7nv9XMbXPu/lgDlxh+oA8BQIlL8KmP5vx7W7L5oevS/G9WlpOSADUCY1MvSU1Hxv0VEMEKe9bG/uuUM3Ed64r/6RTOA9jLQP4aQAZI8Uts/SFb8yipV7b81bTiOTFDjvzViaXW9dvm/qZGcBZGc6L/ZuGUAqUjGvxFhX+Yw1es/714oZIRyur+DwzoAyQHXP/kopQF7su6/sTl8LXCnCMDxo7jvEe3rv4dhwzNjleS/F0vrjZzVBECBwVFr1grLvxUzoIqETMe/EPK/xNXeoL+2CT0f4LDwvxx/kl/Q4wFA5vaZTJBf8L/2cJejFK3vPzfyPTYv4QdAs26RHzL98L9jPhR09dTUP3CvYhPJ1vy/hI04MwZn6T9tHGeRyRKmv3OP694fufC/vFvdSILZ5L/xsgaVp9L0Pz01yB3iCNc/V43Tp1E9/r/qER40RQPxvyOLtgMTPgZAhz2CPvO2EEBdNAuiMYffv3DQeirM9eY/BYAG8Nt09L8/hd0JEAMCQF0GWjPN5Pc/PhONla7rCkD5J6ifcxMKQOUteKLVuvS/1u6F8U8y/z9sxxr/n3Hkvz52v906QrU/RqXajMfIfj9/UAakI9IGQBl7vYFn58c/D3TAF8IfEUCEVxS1zRH0v6I7qNgiwfY/E7D/cQzP8b+ex4HnB1MBwO33an+AHeU/UnPs6SoO6T84jOBGVifovwDi4yWAtOG/96JiXSKL679N+pc8jZABQN+ZYS9GsuW/9Owlc0Rq4D+KnTdumc8DQAYRt1OwTwpAOzPYD6kCvb9lBbRiXWUJQKJOrOijXuw/OTIe9OrkG0C7FErjH2Tjv4qt9N7X094/dQReidDm2b9IlVaDFqAQQHdQrXXg9tm/y4un3hm1BUCSm488iGXVvxNG+I/cUxFA8h8tQiLd+78lyVILT2ELQLuxIZkegv0/jS7rtSTpB8DNU8jSexPlPyjdhMiZ5/w/xcRItpzJ6r+dibP5qGgLQKSp5nW4NAZAuAUGaLWbAUD5IgjqTdX7P7KL8DF3KwtANKA8UxC43r+ffpb2h1XsP/G5HFxSXfG/pcB2F+J4qz8z0zT2uwndP+Rxu6+m8ANAINfiYp3i8D/S5h8Y3pPiPxEBYG5V6wZAwqUbwV0X67/0KVe5bLQBQBkfBqPuesQ/P5j2p3RS8T/vDqNfEIIWQIwWp+aKzNe/rv3nXkCP5r+3zaGW6b7xv4CAHH02vApAzcRV5xvunj9EPwEDFnUTQEnpQaCVnOc/MyyobX26DECw2/dqcX4DQJC5fM5KNuY/VmJk+exX8j9adQbN0kgEQJiMRNkMxOw/1uAnb95v4j80SMyJVqL0P/45G7gtdAdAJ1vapitx3D/s3Ms4kLvAvwKAo8E32s+/USUa2OGH+L+jnjnrpiLXP05n96vUUvO/lgD1e/TREkAoIu8B0LXSP4SEa4+qhOm/xkFiRYrVyz9dGq6LlQT9P4M3DTOzG+g/qg9pVowQ7L/e+lfGYif2Px4r9zPbywDAu2FAgjUpEEAUAcEC50UAQEgVBrw94vm/bBAJaHpOsT/zwy0AlZYdQL3ysAJvU+2/8WdSkNmKBEAMY9TyKHDlP8k4CoBZ3fg/I/jv91He8j9IRk5DKYv8v3t8fVMb1+0/nKX2vR1C2j/ck8e8IUf4vzVDwVuZyxtAOtCnljqZ+r/Yvx3BcPfmPw3lXCoaKNi/VWiBUBLMC0D/YJwC+9rZPxjp3vXRFeG/xq/JZbvopT+zREm05HHhv351LL92fQZAkF2a916e9z9gKts19gDkv6RLrtmbjfa/8WrCxf304b+TBTpP7i0CwGuCL7cOoOe/Ougt6DYx+z9iStgdjqEHQAo1KPlZhxBAhcV44/8x4z9XFLT8IkQEwIMZW7DhjNI/khqkMjHW/7+wsp84OFzgv7H+FHo8HMm/PAK5PlrL9T+CamTn6xD/P5rkJGsHfgHASbKH+gdg678DaC90AI8VQMgzjYdl4/q/SHVkgR0C0j+9r8DsvJTsP/da/QSxT/E/4PamuiFZ5z87l2GLORrpP4HrWFNce/m/wZ++UDn6z7/vgZDptcDhv0t6wF2VK9G/t/2upIy4+7/Bwy+hwJfZv2OZIypLcea/U63wDDQN+L84mc1HWTTvP3XFDljJT/S/F2rgSQps+T8yN96Hti37P9gVvE0rQuy/CvF+EdMj7L+QuQJRj8LtvznwxrXlWvc/l+M/JhQlAcALHQ3/P+v7P/bF/XD8gNu/m7TPB8BC6r/NV2rH2er1P5FmfluEGu0/F/TLS28o+z8b287vLID3v5CoJFYVvsw/otk6Z9fK9j/og4oL/bKwv27g1MZw3eM/aV6qP2tDA8C9ogDl/y3/P1p14vEh0+G/8Kmz+NKr7b9s0uHhb7HPP+h40j4oovE/kaeQ8BeX8D/4BowHINQEQC1sp8aTIQ1A9KXPLXbB8j+scrHTou0BQMNzrQxJrMA/cFWs9qYRE0C+u3D68on6PwmMuJgEQQlAMAylBsrs/D+x2yQ3oPLeP8p7LX6FM/M/N1wkIaW4/L/J7DoYSWD8P8uozUrpFwDAYiMA3/1Msz+J92qGkYixv5Yf46zZ6fG/Ag9Q6nX/4T8QkEJKi6voPxha52GLvfc/fr1BmdDQCEDrnBR0UV8RQBL3tKI1UOm/4EhV9uBJAMCml1nuMDD+v/x7wvtnYQ9AFHKiISRu+798lHEkuTbzvz8+N9w72hZAvq0EoOl4DUB86eiPlPj3vwX5zfhPTP0/efKu4n/o6j8ZmilLKZLYvxXl5TKtG+k/P9MQdnH++L+YvaqtmFn4vzYrnbCFSglAnd3y9rcS8L91Ns/gvREBQO5oOdmYdxRAtQeMjvn/4T9e8HRo9fD7v/TwmtNkQ/M/DP4et6nb47+6QtpQ1GuSP3cKhKfjD+K/kJL767r54r+yeDchdZoLQN1s3kz2SNG/wjEjvIZx/b+AyJK+wuLrvw+9NIKQdAPACIa3sROlGEDWrhCqj7v8P5NuDdhzYdU/SMPNxKEiBkBAJbH+wTHNP0rqOOuztfm/s5UDD+52CkCnx6O+G8/WP3fva/AZsuO/IGmR6HlI9r/ufLuafXkQQHR/asAZUgJAFTyU29o5/j+8lE5EKFgCQCYQmTpkj/s/mw5EzM5k7T9aqehPq7ftP+v26XVmFgTAGO9SsgM5/L8xe1mywYn7Pw/DmMWpfN8/gOaEy8NR479qOrU27nbuv3oKHBWSO9Y/D7e5EXb7E0DLbQEqOzjqP6SqGZ/LPPq/hjgnlggX+r/j6NLCGij4PzeTrLdFA+0/UPXp7HLF5T+bTkdV9fPxP6ihB70l7++/1m8KD4XQ4r/+gyteLYT2v+OaAKg8GMi/95pdNDSgzD9Kv7Fb/3HQPw85tRTX7/Q/PXco4S9p6z/Lk8OOM5vaPysTxmlrcAnAx0Qbt2Iu678eHkEQSWTjP4J3ZSJgOeg/n/W3KdgT47+uDDYzC3bgv57nIjCf//m/C+BFD4EnCUCfWpENeWXvv0x/HC0cUwxA9qCjQhRNkr+Fhpfvd7Ptv7HinEnsngFAmJaxHxT4BEDGiYkNcy/2v6hlKyvzTQ1A20OblFJp9T9hRrn7szIFQENIqyr6//W/i0AQP01/C0DnqMBGEarzP2j1yYLDf/G/QGi3tF37/b8zztBxRZrmP9QAWDCPkhBAy/YEaM4K1z8FYr7t0r/iP57TH9s+QtW/CwmhJTMU9r9WeVWs+ZLvv1g+WfP84+I/uv9kNvLA+7+Q0aAQRe37P3o48zET6Xm/CYFgMK6+rD9OgoctbniZvzU0ak99YuK/8Qwr6f1X4L/HlVpF9EniPxH35fqUgeE/se2ocM5G+b+KPLPJC33gv8kGpmKB/gxAVodPW2QU0T+DaXeoDu3+v/Tr1kGsKd4/WdqGDYo14r+4Cig6Fkf2P5d8Z43LYfo/8/dSTvB++z+GxSioSXvIv2dVdIiSNv2/jIz09axeEEDjY/zQiyHzP4hPVOS12gJAfuZtC9FiBUAksGpBEQkNQIbu37wMzsK/AGGZ54k7+78uwQlYBrrxv/tLM5GDHdM/F7l0q5P0C0A0i3gZVbIFwKV1bVRhWPQ/V/AYFpAlA8ANgnpTvX37v3WcpTLZcQVAkgnygFu2uT9Q3/gs4W/tv/yzQfT9wxdAlD0L7p7KAUClGBABGokMQFevrYNvsvK/h4gt+HtVEEB28rVbjg/gvyf4vdNIKv+/xtoMdOU20r+tFV5g5ywDQNDrd5wC5wJAV5soerjo/b9wT5Ewup8AQMAqzyWNDOk/h/LF0rsdDUC6Eyfn8ywQQJoEmg9s8Om/Yo0Yq2qxAkBKlfaNE2DjPwsSCahBmsA/GkYPCzy59j8uPNR2Ygbxv9NHWxGlQPq/jjs7e8XU0z81Hs4OpywMQPc1jGvEOgRAT1gdrDbF8j887Ck1d+vgPxO6AZrIhw5AhSYvVcdr9D9BlTMTcgH0PzAX2q1KxvO/tsW1UUeu3L9SsJlNmD3/v9SjZ7SkrwNA29C/aBvN4r8/n9s36y3BP3deYZlw/f4/AbuJF6qY8L+HnDt6S9r1PxSC/Zw4qANAM0C/XwSCAUBDSg3Vkeb8P2QQgdV+fwZATvuXWasH/L86dIq8F1T0P9brsjzvW+6/vwyAQwf73T/Kh3sqxvXIv5G3FcsHOMU/2lC1AMw86D+Lj6TjEvACQAxVP3/YLrO/C1AY9VdfEEBnee4i0/bzP89wKqsONfE/oZguRICP+j9C3SDmKEr/P1dWIBB3nQlABavlMvRW8z/JdI2xKMjQP+cx9GI0svU//2+PiwETxr991akySBHzv/g1LG32/eS/vmC9onU28b9GzWO7PgjhP54oOcARR8y/YA2h+YI7C0DVpm/wPoPSv4HHOI6FDABAyb3mJtg0+z9SkwPYtB8FQJsEBSLaQ+Y/NgUQM3zRBcCiPW8MPWbnvx3u75wL4Q9A2mDOC7Zl8T8fmUdB4mv6P/op/GfUVfo/eTzLUpkX+r8lJifFA2z6v3EmFBMxsQLAInWFMUpr7D/K3+cSmvf7vyTthOvwofa/BGRaSWOi+L+aGJbrSgzxv5Zxnn9BT7q/30ilUyj1BUDk+n/zOyQLQI9dUIaZIOo/oKsVvkZz7z853mQAbZ3UP1lbcAvPLRNAmXdTx4C3BUCmoDTrXkEBQMVRYOBOdeQ/7oT3HV8J578W9S7ys7HEv6O24wJO5PC/kBIesRTvCED9OVLqzGYAQH3E64UoxPq/15zk+S/N7T+mLtaSaRcCwN+8ZRR8wMK/H9E6Z0bADEBZFLlwYjHlv4j4iUtNZfC/EBAOTlrB6D8GU3AzvMnmvxdUhwVuYgDAvQHNzfRA078eO086bZ7iP8AhPQs8OfU/8CJeSPoiqr/0dKT1aPARQKCeGX/ThPi/Sn7PEsYlAcB1HRWfr6/9P9lXai4GO+Y/B3ygiy0/4D8b2rvvn2nCP1diXZPjXfE/EWC+s7jb5L8JVZ58atbkP53ziqsiSfu/h340PJKW078m9iM8wTwAwBVJAqymz/C/Rw6wOCri+b+AG4+mkGPyPzwO+1HCuvi/sb61PhvFzr9xzY6fDc4GQPDPbVJdieY/O2JtacJIAkCMrE/XYYfeP8okTExCMvE/wdU0mmPqDUDzs/YulEICwMmXxkO1wnQ/DokFvF4ZCMDTZsVhTQjPPzqn8xlPH/S/4y3nEy1Y+r/72UkMFGb6vx5df24svAFAUCCobPiB6j/hFCd2A3v7vzZj2/6+p+k/0vwPpOBU+z/n949OzyUAQMxgY0yAeEe/T/ZLbj0xAEC2CsIKQW8EQGE9D83gode/MzPDL79GwL+p0T5WpqPXv7jEAJgpI/C/haWINifb37/o87mDFvDzP+Ug4DV8V+u/BmHf2TQW9b8BCArbuILiP1MRtLMUCf0/k9BDH82D/j/hhDlmZiL5PxAD0SQlJwBALLZvTGRm5z+MgUPRmEP8PxTVHcaXTBBAewi44SCY+T+7zRquTSvwv8cFMNizSeS/VbpxqcmYBMDAh/vmyyvqv4EtWyx2Ttc/n2UbmlH8AcAcrTsOd5UTQE/TmmpvHvS/Xb8F4D7p9r+MaeDbS5z8vzjUcMA1nOi/qp/QQoI29b/APP0dok7YP6OuOqXrkt0/2W1ZCuG31r/EPFwZeW7zPxUTV1JNN/s/1BX49FxP0T9yMEULv5f8vwJ5ZcFiVANAaCkF4Mha5L8sLB9IrKT6PwX1bedTbhBAdeGvfXE21z+9ieTx/cUCQLTkWSGRavw/iq4BR2XhBEA9Dxgy9N70v9Lo1dU6ZOW/vsg8yDMJ6r9axmx1cJMHQO1dmrL0f9E/fJNHHHzf8D9ivJNNFgP0PzSIoJ4EU+o/E3dYfrTOAkC7gW+1reh4v0o9pWVagw1ALI4u6Y6g+7/4CCYtIVHyv76RZq3Ic/S/SNHFQDYoEUDAVMyypHnjP/5Ys8/s/ApAFWY9D9f8A0A+wWzq7UbPv6N1hMQWLQFAcQ8NYPcQxT9N0jnzgy7wvznOJ2cJdPC/ULrFy1U1vz/7ZnAy0BvLv9a2WiTtsA1AT22hyTN2xD8gg2O0It3ivyfAYy6zXeG/kRNM7Yru8D+0o+ZBtFAFQL8hx73b6QBAviORUb2kCkBMaOXtKpLkP6rCXLBYd/c/jTYX7T0Izr8GsG+eTsn5P/SWfxeQQOE/WdwPbRlpB0AsFQ6E2oXiP2bHIZBrZQDAVf/k8uz70L9QMwEDVAYVQCgHwZ1xjwJAG6NtrOvVB0Co4709ZK/0v9gRHJ65KwhAnfCpfkFH7T94xhpIptb3v8eKhXfNwwhAll+pqdYh278xD+IV3rDsv3v2ow5KanC/zEyKcMp27b8plfUJW9Xgv4wxgQbxk/c/ftbp9s2x+b/4iL+UFvz7P/XdSyv0+v2/0IownDqs0z8B7PkBsQzrP/aSw1axMwDAz/h4vrc7CkBh8qiSuVHkP6YZFGyAkQNAw3bn6i54C0BpDBgVBdf+P/uFELaGlNc/JrUj+FBr8z/nSuCwALsRQHARouGwYwNAbiqwPRaasT9n+BGsFWXGvwbDERLw7+U/NkXBc3Gj6D8nJ0tnReoAwJAZiQnmkvU/B5DZGp0lEUAwObSFG//zP1qIAqDAkPo/Szp024qN6j/glWBSgyS0v8onH3dHrQLAaHde4zqJ8r+VExAlRb34v3nVB1NTagRAzzEjblupA0DqrUi8GPq3P3RFPWbqhxNA9WlsJXxP7D8zGlf9Cvbrv+Jk0Ef+vPG/Mv4i2PA08T9fTJxXhHQVQApLquJRMfK/UkSAR5njBEC6hkcGHCXxP4aSFVsVruk/RNpOKcDgBcCzox0Los/pP4wBdqnnYAHA2PgFzSt1CkAIw5ICtr3Xv5EEEncLBsS/fTRNWN4P9T/e7UYrSJr4vzfDOaOb1AxAgmIiPXHJ9r80uWj4NzIGQHQV8HNHDQHA0eC5ExkJ0b+nxSPQAlvVv/ck9Q+P7Oa/ykWYmy9MAkBNYc5TZaULQFh/M02cbwZAr5n/N7b48b9SpbvSPqn8v+dMUyCg5MM/mrMhW+U35r97+HIvjnV4vwhmJ0+AuhBAQ3BGGFXd/L+zzKuhz0u9v0tpuhgn+ABAFdJ4inCd8j+FSUuMtRHhPy0pVwzsDAFAHsr06u5q5b/38kj+Inn6P8V3umd4Ig9AL+q6dmsZEUDNuCWQRzjzvz3MW4pUrfk/1kQXzrRi5z9M5Askq2Xxvz88HPjLQuW/9wXoYAaW8L+sHGAn75fyP0WHo+84iwJAhQ4zj0zu4z/27ItoRrHyv9IRmpMScA9A6Y+Q4weO4j8js6qtqwrkv/PkWMoauuA/DtfsS805/T9NSb3oxHIFwB7FRsRtb+2/yQKhLSOs9z9afSA7GOP0P+DUka2s/gTAyRneLM3O8D8akNUICffuPz1oYfgNtwHAxxUfgQaX8j9z+qZnrjjxv73oceZnU98/oHJLqczwB0BBdA9ISOAQQJV2VqALYvu/aYMseNiX6j/6jlZ6M3jSP1f21Bx7KgFALQh5GdM/1L8UvF/VRSQQQJmpagrSu8i/+QNcPmvH1j8AGFUJ19P5P+jE0Qx7hfQ/HyWUFpuSCkAxAUUKuwjxP4wNzr7H0s4/WZAhlXfZAkCj5LrLlnEAQAVlinUfxvO/P81khERn+T/DYUBuofQBwGcF8xa7oN+/HQPkT8jN5z+ryTVq+BQBwEeezWEKB/m/lxnxc7GrBEBD06rgoEIKQKYY5dLOWP4//Tnj2vby4b+fuNPdClHBP+k29vYPgtw/yEdZ/FQVEkBamW9DYOmwP5eVN0mb/+E/K3VWiCTpFECeBLxfggXSv+QSmMtG4BBA+ZqaLrev0L9F1dbuUR8RQA82Z7m8JaS/pl1FwjyeBEBdVJVUBSQKQAIeXLbiyuS/tR6oJ9qm0b/Y3yDwno0PQBpYfxoB9ew/gFc8vdSSCMB/3TDmykPZv5si/i5LXci/jFV7/BwE5L+Ct86233fov8Qlpmts8v6/3ncU5vyX9b+UcJe31cEFQKtgxPJvHhFA4/aey9wV6r9S4MdrEUzYv7xvI6TKMQJA9rP+SIeEA0C5ftyMEjcJQENab24TyQFAgPYDyKFQ/b8lJfPE4kjuP9Q/oGXvwrS/V/zdR54g4T/pIXJla/jBv+17yyAGPxBAb71RykQC7b/eTmZlpmTyPxErPOEfv90/a0ZTiHvUAEAvSH2RAMLav8USPKvmnsO/bnDldfkg/T9pglHQ6QP4Px/kQcxuXeW/jvDyg7n3pz+PRQLfbXUUQMXiQdCYK80/PBum427oAUBomad3rm3tP3ngc7EDS+I/O38MLXJ6EkBovL3fhxPnv/5eX3YERPa/PHv0CsTU77+SXi7LT7v+P6dYlqgQlvg/FyNlWjIF2D8FkGNRhnyvP95ze1lPSO2/ae/n/fg067+SykwPit3qPyjI5PqSzEc//o04S+0HBkC8mS+OlUgJQOER/cYAr+G/1abLYrP26b8QNlJqHQbTv4W1iWM2XuE/WI8Q7A/CsT9s5NWyZGnsvzXJ/66+wPg/oSCW/ECO7D+3lFgl3AL/P9uVhnnqAOq/nIvviDFPAEAspPi0EoG6Pxo2DJP5yvC/tUIQLMR15j9Iuq9Ar1gAQDQkCAb6wg5AbzKUtx4n9z+IeAfJzGn4v/2XFPJEpe2/FuLglcSwBcA+Iio+dTX8v/L9kyhpYv0/e99laD6R+b/vg/bA0hPzv7HAGfOsRKa/rftB3Luy7T86h9pCDmrzP7VWPCoKwf4/RY5UkE+xyD/Ovs3xFxbvv/ekZGygWee/39RFzu3K878YrpMHE5IZQLN/O+NgbABAap18+wldAMCE2YMxRE/yv9RPV4VHtQ5A85RTMYOxyT8VER7GGAQCQF2TKS8g/AZAQzG0X0DtEEA5FNisTkrkP4Kjw5gZmvK/9I89f4j08T/qS+XydIMBQPHQ7Jtrkes/gcA7HuCC4b/zyFwJzvjkP+fuFTYz/PC/NOF/8/WxsD9yAlqd3+r+P0KG45XZF/g/OuxeBcKQAUDs6rcy/5nlv4UBszy5Cu6/ecMkdXkRcL8X1zr+0KfuP6NlTcwskt4/1j2ptJ1x5j8EX5Rk2+vqPyRRxFSFEgNAL8dZOKfZ678MMWpl1HG1PxMgvrC1JcY/FLgkjMja8T97H+gsyHX5P41ByilkqgdAhXkqz6NA9j8I5q725dX9v8k4MtLaGd8/tfU5s5y33j/g27Rb8hLwPzkwZk2hYPG/ZxFk7pxr6T9WuifQYovlv5tEFOIr096/ERH0Cqv9AMDZkvysP+qoP6G9FhPF3+M/vTM7aWzoAkBMp6gPN7vyv9XmIwWUJPO/XN3gHy0u+j/0BZvXaoEHQFWKALjN3Pm/kpTxQNc247+3lGTtXbLKv/PLW4Jk1vk/eE4Y2nBu77/AFnLZ0WIAwJsuF/4h1dG/leeRFT7zwz+Um9SaqivzP5mwsb7kd9Q/lTjbFfIp9r9+baG/IGoRQDsJXEteUABAKmZOpVNdEUDOWEKRVokKQMwlClAVLAVALWPG6D2uBMDcafLWs7Hpv7fk2Dm9rQFAvzJAZtjJx78/iDEn1yHsP1DWEeqzoRBAhkwlazPY4z+d2bDCn8P/v7ixVTuosei/Uwl6CwTm8D/GdO//MiX3v/605yXf3AhAaceQlf013D/9TzAX8P7yP9hr6GTvjwHA0eePCWy25z9BIhMkUZD2v0z+41zL3gJAvU62T4Rp6b842kiErMjyP956Z8ln9/G/bGYO7nCT9z8dLDTWjycHQPyJ5a/f+dA/ytp4QFFkpz/P9l/UEHIUQGWQW3uBlv4/+NJnMKwG+D9NMnubIHbqv3nfL1JXSABAGU5r7jqPBkAqdDz79fcLQHjENqb/XbU/Dg/WCZqrBsCxinEme3/gP1VjxbEOjfe/C5iyhcG56D9RhddSmwkKQFKDLmobDQRAoKpYKcoys7+MYq1LtOi4P97eF0fPHPO/KVzDgWeSAEA52ANbVyziv18QvDJ3PQBAa9q0Fijx8b/fvjNBUxrmv2ESeo2HwgNAo0qkPfeo4r/ZmTpD7wkAQH4cN8aVwPU/GsdlVZ1p9r/n5LvpNcUGQBmPXRom/eu/HcYzSwBkxj9tzIVuw6TAv1FENEYTxum/j+pXdcOoAcCrsTYeQRbRv+/wSwlKqfK/D1hk37xe7794Vmw7ldgFQDjLHSudeOe/ScbMyjzq+r9AGOTVxqIAwDt1afAVSeU/FGkOmjOZ/D8FUmuQvCH0v5yTOy4vMfA/vsIO+QvEAMAXzvorcnrfPydcLYg5lQdAYOfgtL9YA8DlDWhzpUDov1Xoxrx65ua/9p3bXOejAUBDbebGInrmv7n2B66TAva/HqWCG/hV/7/wj3cBec7wv3Mf1qeuEAlAkoxiqUC42r/+tXXidZAFQGMjUwzaYvA/ODyL8d+BA0BKaGahc5kDQBocUDS/jek/eXb1pTzU+j8NahNEmuUaQFhLPoiXawRAL6SBZkP+B0BFez8uCxv9v4i9V+w3cfq/xjLZ3n7+DkD5jcedhMHhP9vjiB2f7wJAehffc8LY6z9xsktv3qX5vyLDOTnnV/m/XHqICY84BsDlYggBFFHZv0YFMRwaAAhABY1xfpj93j/hF6ElOFPVv3pXnUayIf0/2WVa0qRR/b+aKu1w8xv9Pz8ziV+Fgfu/MD7YntQSsL+chuWqOn3lP5ZaY00H+PM/WiA65aPj9j/pWzIo1LHPP6j42YFUuau/d43wiOXo4b8qZd4lScPQP5UHSUp8WuI/G4EwfBM61791bL25YrbpP0Bo9BB+tu+/5ow6bQsl57+1Y7nbAdwHQHaIcXkmsPi/OqFKyiog0L8KvTRXe333v+DVjMGxU+Y/ToNyn7EQ8L9HfJ2Ulrj4v6kyFKKSH/c/uVma4wux4L8bYD91Fu0RQNvn454pdvc/8xEKgCKVAEC4rxZxJg30vwOdUM1PCOs/1siRiC/A0D+4mKQdSabyP0cXaV1/ttI/0WOgbgQtAsDO237Et6H0P5bt4wSEqfU/GU+W+O5nUD9b+HocMIfBP7Q1MmzQoRBACVeXK5aIDUAV6hFmbEeov3HPOzgFlfk/MChsv4ExBEAKJOvGdfXnP8zEfvc3+8M/dPIDfiYx+T8LPtGLYojpv9uyG5X+xv8/MJ3Dd6QJAUBe7gpXj7Tyv/M61uc0EOK/Ktykneo/4T8XpgERm/jSv4cJ1xq0O/s/c+Is7D1s8L/JeQBT64HrP6sug3hO3fI/0fvwxj3o37+wjbAS/UnpP/3JNSJdtfO/dUcy4RHbCUCTIepGoDUBQNgM0zfpx/W/7fo6IxD/4z8+TB6e9vX/P05h4mX97P6/wC5Q4JvV87+gOFgqL8YDQC+HO9wNQ86/hvUxbawqCMCkmzFLrNb6v4OKXgMzquU//vmEpDLWBEBlHmT/WYriP6ZGELdQ0AFAGVx8IDCP2b+RXQrO61cCQPUk1C42zxBARYn3UisCA8D1rZvyhGT4v0kZOzZjmug/h73zPa87AMAGMlJL2xTzP4C7bWnh4hFAgty1BrYi7r9rYi3Z6WTqPyXUsGuyuf4/FXGElK1GEUAfsCQyio3xPxtN9gnkVuU/DuSDykl4pj8+RSoLOkL0P1mHLSX5+fW/2jSgBgDX979WS9hF+0fzv5R/2IQpTd8/Km/FEkrIA0AZ9DT1G5LHPyK0NngDS/m/pA7NpmpL6L+MzRok8SX2vwW+U/PT8Og/Jrlf4ea98D/Jt0RQGybwv7OdueGG1vK/a5/D11Pz07+lxpu3EKX+P38pGjqL1tu/zryh+ODB+T/2ZUpkmdMRQCP0q9k6AuO/exDpfttw+D/0IL0aFs72P2/YWuR84v0/2ypvoxQqDMDKNg3dR/gVQPaBQFfdtOa/zx9VKjAsFkBigvYzdoL+P9OaHgpnIgLA7IhTmW551L+r920PTOPZv0VxhgZ1wOA/SAfZZ54qE0DthsBjHQnvv0UJFc6xvANAQquH7yUD+D8r5Qlp9+TzvyJGf3h8CfM/MVyLRzfH8D8uYmrqjLPnvwnadJliFNY/c1Wcj8RV+j9TMTZ4Td/wv/+vmvm2QP+/dvkJBBMmtb/msTTKmSj2vztOaT4Yz/2/jvx3rnvc8j8L9fCpOyndP1t/4VGWovk/ALLS1EP6EEBkA9Tv85ftv37FV2/2awNAJF7anSxy/79QyJpiDCEDQB1Vdw4l/qk/cEaFAE0dB0B+ubNTANqDv68lje0zeRBAED+K/TnH4D8F9SCJyTj8v+APw4qzGPe/cfiXL5tL7j82QiZmOq0CwJYepURWx/C/Efdhchpr778Fxqvico3Tv3+m4i8vg/I/0zQ64YW39r/TQ9hHYIHfPxUPNfQdVeA/On4JSsgyBECnld/YA7z6P11YR21WuNa/K3H9z0yb0L+7ufBs8nbkv44HRDRTePG/ccSIR4jzy78Lso7ziETQvx6HTLM2D88/hNUyiLeG4j+z4lab7WXwv+R4/ehx9bg/xPvRs3/o2r+Qa/3fJuHmP7Nkvxe3YPG/yjEz3cWY8L/b+Xld2ljlv1ep4tKCiO4/vBE4X+MCAMD7+NTgRBgRQBOj1vepBe8/KG2q2CtR9r8v8YzdQejtP+nQgf7gpfe/nTlK3AgOAcDQ+Y/UYD74P160/yEaMv0/Nbo9VvZ+qr9weBiZ1hcNQGC4i9eW1vM/af9AZz1W8z+IMn3jv5buv13gBrJ7YBFALKk4AvBRBUCD/pVQyl30P5FuH5XdcAJA+mk/baqrzr8r+s1ZB7AZQPWt072hPfG/LoSCQIwjA0DCb2h2UL8KQL1U5NO4NOK/nQKdR7fN0r9tCZtUewXHv3GzSCOzt/S/e/mbbIfS9L8PuyoB+Gnbvy5sKpB3oATAHwi/6qDWAMD4aKNgh5r3v/ocES300fe/QSL4YZGL4b9p3l1OPDAOQGHF1PAGu8C/waCDOezIEUCL7uUmr6b+P8zOewyrZNk/am5fck4G9L/P5sDN6PsKQG0HqZ87ItK/yS4Zs1xwCUDIzR09PR70vwi6pNFEIfA/RuZODubp9L+VvDdxraP9P4yPkmvpXwFAI/Q9li04A0AWqP1yiksEQMcXlmFIb/Y/D/NqpPXl4D+bbGfUp4X4P71rR4UekApABWEfOBjg9z/qzos1wFvwv1VRZ9lJeA9A8j8dXYzusj9m32/pi0D4P/oPErKjAgDAbCyoBP37+D913iNHaz/rPzfbTH471v8/I0VHoby9/z/iX1sa0oADQD42qQw5iwRAaM723ar3B0By0wWsr1n7P/0p8gkQZAxAhcYgA6EwB0BP/nt2dgzKvxQl8Tkb3gHA6XOIZ39N/j8oCZWUENT6P2QRRw86dvg/l9y8p6qi/z8PqnHPpiDkPwecO6vF0PS/B3WikCBNAEBCUwpqYZbUv8goG8sToNE/PuzvNuco6z92PvFqhpXGvzcqiBxImwBAuIYs0tx3AUB/d6oWfPDcv37aujK0e/K/n2uRTZa78b81JpyZIBL+P3I91ve7Ati/17jgE9DBGkBMGiE4e8DxPzOpZifjfNm/C3xo9z/Pyr9v8kKaDjgIQNlfmz52mv+/yBqS25ROE0DmlTnDaZfyvyE0YQRum9y/HvTJb/AZAUBe6QkwZxYQQC9yAtUCM+w/IhFEQfvy7r/9f8f7SknjPxr55satv7a/yD+pXT0B7z82SXcLpXfqv0uX7nK+FOI/wY94fdQUAECJIBJ9lL3mvwj9b2tBFbY/N44vzIkr4D+M2dUQm6ETQAZlq+FPE/s/gkjrCxOD5b+oJBccYOYPQM1AQ6pm5Ps/8wEsfKbQyr/6mpu4NoX6v4R6wp/78LS/CUxlHIM5/79zUjzlNrEDQOq9dEZ5dsk/7EeJuDYY1r+Qw4uqzxUUQIlPD7uOvOk/Sik7LXSv2b/xkjdYtbP8v3CtaciWa+k/Pm3HEHpT+D9RpgpcYS/3v9xYyNyrN/Q/NNYjL40e/r9OLvlbysbkP8Q+11MkmRBAKyS0ggM8CUCHScV2XVsFQIXrLrpiQRFABXbddAe/6D93mbLly/PAv23zsljIGOq/oKIR1q2eBkBqzIXztCKsP8Xga2dnWgHAHd3pXBuA/7/gf//TxSfhPzUlE0WyFd8/TiKzNqpU+z/2/hUCe9UQQCjEmASlIum/ELaXmlxn9j8OyYQT3Df0P+Y5kAfbCvQ/9pVaTtJMA0Dz5trlxmXcvzPcbcEgsQDAXWTRlTMU8L/85o2NZ4QNQAHDNlsJHPO/oTguLPbX8b9G8JJBBcLWP5pr4BGtF+U/hUxj2Sw65L8G4npv5pcCQCzmldBGYuq/y5dmJ01X9z+x8vVEc9rVv7aI2tJiqcy/0DezWWQM8b8TWaOSAry8v4q+frtYvRhAAJgmGO4o+L/+j+3jKNXjv2auLos3jOQ/W/yLhizZ2b/i7PDO5Z2rPzk2H2HjzeQ/OxPS3WZH1b89mRvx6r3/v6RmSJnvmOg/7TWUGgCs/r9B5GI4eAngP3NRgbZ+BAdA5O7+/ge17j/o+FX+Wdvrv9l0nbXj1wHA/xPp2I5g+L9iyFHDMygIQKy1b4GEg/8/s9wzVf42/r8lOtwaSwAIQF2Yo9LcT6k/VntMY+FzBUBHd3a0+ffSP5vScBEHlhJAVphfB7kwsT/8oenqyXrbvzubsmw/XABAZ4a+gOYp0j+w4bCIIL2+v3KzJbxOCvU/ezhNK8OV/T9GavBJKJL+PyZrd5ub5ADAZVGYw5wa9z+Bs0297gkTQPkMiKutEPq/muAyjRV86j8EcSPOQAfsv/oQjQyEqg1APV6QjYAA+r/tblajsf7AP0Yj3KGfYghAR1S7e93a7z/KPY3S0O8DQItYG9OJ6OU/Wuylz/LF6b8T993jxYsAwEhdtc0qifA/U72jVNvJ6r/M/9Y7pXkHQA2WtqJZi/g/i/6PU693579m9astuTvtv4HfJeYB6Nw/As+6iItE/b/PChr7R2L7P4dkhi2hc/8/ZOA1FuSO5r+SnrjfqYPOP2c91vsO3RBAFKyG3Cqg/b9ZX4gSkjfnv/NDcrLWL9u/KLXXmkFk/z8wmfxtkDrSv1KyT1zolfc/WCB/Dh5JAsDdZCulYHL6vyH4t3IOIwLAE86f9B6H3D/2kRsrrOXoP8QUAs0hu9C//24r/ObP0j8TzgzIHmUCwMKj1dGr4wLA+3GwnTt13b+URy+QBZnrv9uHlNr63gPAPjY4gDPo5T9thFvAtFfeP2aarxj03PS/p9W9VDjj/D/KUoOiurj5P6Z5gota4NO/d+uFc96D9L9BK6mNZHsHQJCOFCIRewtAjY8EZZ7J8z/EEyyAdNAAwOqdoR8QbQHA7FvMO0TE7r/nCv8xQe4QQIHrA8ptv8U/LDRMm11/67+zF8CiZqz9P3bkbBEw6dA/zcjAvfjOsL9xZVgSfKP5P+v5PdL/p/+/BU/T1/xt8b+uG60+uigAQN7DXi8pVPa/98aE1v6q+z/1TWqZOQrxP5RBjnerTPk/oTtLq/yk7j+6zlzoZpvzv5mtjgl1wgNAwz//dKLfrL96z09OHGHsPx+je+wJY8E/w7H8mNHK+b8HPuyP4mv3vyg0cWTSy/a/nl8n+AIkAkB3dIAs5QH9v7yzXfzm7OA/WTBjkqHX6r/g1RikkuTjP3aN+TIcUgFALmA11vyj0r/ZuKZCNogJQOgUIxfgZbo/b1zrsTWVCUC3UIixtd7bP1MUkf1+//W/8EqkHOw4EUAvLmcotlL5P0DWHfTl8qS/Vf8SdbK0AkDPbY+DGXfSv+BmUHOcWr4/yuTilBGZ8j8+nRJqyXMAQJNwYN4OcsQ/DbZh0tD29D8x3jqrbiv4P3i47hobAte/sn5jkyfn1r9pzbyot/KvP4TL5sQpiwDADoaGlhk3/z+um0MaLHufv6i4PEWvSwjA6zL4K/od5D+g1PzGGLf0vwBnXze24AJA++sIl3/y3b9eSaq5GfL6v0t02kVEqfA/9P7Ih2Ng5j8O/N9eq/7yP+0RNa/R7uK/rFYfikTe9b+saS9Wnp32P2n6HHggUNi/77Sg5h8k8r+NNte8T3oEwA/V07yt4PY/DVhp8qHf6b9Ixplnm0EFQBum9qzr1wHAUS2h86BtBkCZlMqnZp71v8ilp1amfAVAvRgSDMTPzL8qCPQz3JbnP74ug67abBlAy6lxdl5u9r9uMYVvV3DyPwaEJRJKVOS/58B1V4mw37+gDIJnAloBQKLEkvA9hee/v2dSjoBhBEA44BeGPu3wP/peiYtQPfk/A2It7bOk2D+d66ipBpsGQOOnz000GwPAsM6xXjOrAUAwU4qNHaLqP9QRtwaMMQtArVCjZ4WIxj+UdL7zmYD3v7DVLrOoLPQ/tliaghTMsz+Kit/nR9nxv9rDAKaMHvG/fFZgMuA9AEDmKWOCwE/0v/mWWZgzQNs/ZjzpnBO61z/gucQl/eXgv0PSwgVLJ+m/YJPeQSUn8j/xhezFHDXzP29e2MmbyP6/GKq9P5C/BEDYhwlgSZn2v75IZok+iwlAkVPUAHCk9j97MSQAXngCwAciKLOlEgJANG+feFnT9D+NmJHHKibJvwBJ4oFIZQNAub2rHFY0BsAdAi6JNfwBQCkAAbLdruQ/hHJ1kL1r87/ZbES2EysLQLsFpmhbZ8K/a4/Fidpc6z/id8ss8GjpP0ahBlu+CP2/TchJy6U58L9dN0YFn97WP4mqq4n60A5AUjDhCb18B0BtTJ42QLn7P8c/NTTy9wlANlwdsiPS/L8htgh0z5UAQLImTtkVSs+/1pTo39f9A0BJCgFHWBsTQA10jVraIPO/yNajQ/Hm7z+aTx48zbsOQJ9lHLFXu9e/hgejJ+Q00D+mDTnMMAjsP3xVVRHUH/I/n31N34h81D8hpOpAH5YJQKoflYuuqPo/4V+XrsYd/j/qf0DudqbgP605XZu27t0/5lFOh5Xf0L9VXlBgejLgP4DjKlTT9ts/fq3L1eOqA0C3/r43218JwEYzCi0jgec/cbWmD7HR6T87pQ6euR3CvyealiVPAqG/m8SVn4PT1D+txm/Ynzmlv95jUtCGj+M/8d+4RUJy6b8Lt53T6PPdv3QoiZ2Kzt4/qwECzZ0M+r9rgEpkwh3TPx9R+sZUdfS/5NuMkuJy5T+3XFE/YLPZvxNES6rENtA/un7eMg/Szb9NLiDqgUDuPxFmAPWcpwZAaF5kAQFp9D947PRL/0XrP3jONmYprANAhKNpbtWo8L+f5hPp9Xm/v2oJ5naHBui/0QqUge4V9T+5p1Asf0L4vxf6lvdql/k/PWAQKqNbwD9vpv9BeDH5vyzf8YKKe+W/pUQoU+uN178rBHBV6SnoP6tVh7oc8ApANdsUyrEVAkAgZdNEB6rdP/WLLFQUP+C/bPRIbNleCkCFZJFfNp77P4tx4osWHN+/3KLbGr0Vs78XIxjSjRP+P0quP19CCAHA7P14myJ+4b8DjMTVa1Xrv5kXIbB43q0/P3xpOMPx9L90Avy+mvDgP2XSSF46TfU/KZPtV7RZBcBl8pLuYufoPxfksFL0eNe/S4IhHC+f8j8CtrBbA7fhv8LgT/z2FBNA0aFOmnaGA8C178Xq6E4LQHyIqnOuDNA/T2Qt3x9Q+L/4lKVvlXIAwNO405MEYPE/RGqssHl64b+A8QhhC7b4P76E1B6C+uy/2YnQT22WD0BoKzy4L3b+v4f0KEEg5APAyy2pd7+zBUCuyyG5HjTuPz8QOujCxds/D/O1sAJb2D8fCzuK5yf2vwlIV0JGGgXAkWxBc27pEUAxXeuBpJDjv/3f4vAJP8U/bU4t0Y0Y8r/jJWgSVcDJP1ag9ERSDt+/5OfuaZWPCUBl9jtiEK7av63DX6ZIGeO/OoK6azfb7b9XC7uHPLYIQJt2mGR+2Nc/ooZwVftR7z/u5z4VyZDxP1AN8KBO8vu/GjjQnnGWzz9ud5N8+kXcv2H0LUG8OdE/BdXZCW6H3j/HVnjeSbjiv1qm/ub8q/s/NWAeEMPL278GykfMqITov5/vHoIOAfC/hTtuv26eoz93CZ4lxOP/PwCoAgxrOAPAy1Neogok9j8qwqUnP9AHQD/pB/fsgfS/zbwoBLP80z99x4B1qDsAQE/uZHtsMwdA4AKQA+Intz8vQ4Xjv4b6P3oHk6q9DvW/WrFTqizd6b+UMJfMYqjxv2LnphqoiwtAw11FT2NdBUAl08/kQ1vTvwtih8Jin/q/TafRRlDF3L/2mU+gR6EBwOBIavP5b/C/hcfqVHRjCkBfhqYxNTLyP5eq63fsuug/N3zY/vcaAkCDKfStx/jnP0Bfib6lNvU/4rzorLe1+b8De85+WNfmv5b4GUFrHNM/Tj4vKeZU+b9F9fPqj5Hzv1PdSLFvqwVAIIeJefG9+z+auOTXb1Hnv2nAg9mC0QdAWMavdb/e+D+bxk2g/Z4IQJrlq6JIMfk/qrzOR94z878Zl4v/a2bpv2PTWdK2NNy/YWSfiCSn+D9c4IwRGBbxvzDmNotengVADVE+T9kqyD9w94IL7p7xP+bCOExLDtg/elrRLThV+j9p4gKdnjLlPxhXivCRaPk/GwKD+JcBBEC9YlzpKPLyP5gj6HP1hda/bVg6O20J8L8cgJnA82rzv80RoHW0Yw1AkrwewTaTyz+OOL8kDOr6Pwo8wFVVNxRAFUjyYs27/T+/RASpQw7iP6WdyNFuZ/S/8Z4BJhnrHkCdIegqNHf9P9zZP/xZpg1Ax/pAyrT0+r9KgDMNxm8IQN79JZAD5w5AIdTcICsYwL+/OAeYEq4LQAixGC7i9+u/dPOE/mJS5r972vbXG+btP3Y2g8KZuBZAF7a9ha5o7r+/xNaNhRgKQDVBv5fXZfk/48QfBty2BkDtwgu9Txbnv++JUPnU+MU/kMnukKMQ4z/7jJMl7fn8v/a7CxEidfK/5o76ImoZ7z8PLs8NZoLIv7PHAcNC4vS/on5cqp3zDkB3Pk2nPsPHP7o3upYXNQBAn876F83uAsBD1/6E4ID7v+0L4qQML/W/x+2DOGv99D94bG5k50TxPwqt2CLl9r4/v1rQz2pB0j83tgO1NZznP+PXTsp/cgDAg1UY1eeQ5L+jsqcUeTgCQAxTr1XDkOs/XGOpWdgiCECbKcSsDrjbP7tA8Nxsj+s/M4ukORqI979lUvS3+kv1P2f3P3ErxRVAYmLigu/vA0CkhQWrs4zwv9BH64/6BuK/infdn5M18z+JWp7noev1v6Taux56jvk/n+WgT9Vj8L9pRm+mHHvUPwETeBbbX90/htCwot2P9b9KEfEaQar2P1b2B5G33Pi/WaqhCYqc9r/vM2BVeur2P1oU5KRD2Ps/SCtFKRff9z9iRgpCpMKgP43Y3Ds0iRhAlKxBwXQ/5r84d5qYKB8SQJJq6cS6e+s/dYBeEkJtEEBTDVeoEoz8v2Ddq05/Kt8/oRXmPk8Z5D8wt+chJq0FQIIEn1xWUbE/OsM+P9dl7D/wNG4psY36vx5BEIR6bhtAzYQfeV/P3b9xQRAfSRf3v45qkBRo/vw/o2l7iN6K67/eWk7qj5/qPz8/z+6arRJATjj5sWSO/b9cvj84Tcv1P+oUf8jTZfM/pFzL10YLEUDhNK2V+ez8v9qt501mlfE/LqVwMx9o2z8z2xp1m3kIQIdDXJ/B7d6/hU9bNXfa+r+vKnePVJPlv9c3QdDjCOw/n+4/9XzrCEA3xrd0baUHQJeY8AUaFRNAu03rwxsg7D9qydEnB/juv/2q/NKx/ek/qma5bEMz/L9B4sVrL93zPxjdLeRVXva/CvmdTi+w5z/SMHvd04njP1e+YmUYzvY/YZ4ipUGB/z/bjxMe5SDUP1OhO1le8wRA6OsHW7AN9b9Dp0xSWSHav5/P8VR++uQ/tBS/cbNGsL91Eb8IfWb0vyLB/kKTSee/RYdTiZWIyj/wTH5xoxnjvx9Ue9U8fwlAk87Ab9QFDED2vB2FMQX9P9FCT77rmQBAZvOotDiUwj8ojWoTR2r0v/uHPW7HRv4/Bfn7pEOA+D8f7E54vngNQIJLbSPPou2/JaqnNv3+zz8faQCEoaLzP2+3+cjbOQDAWOeAn2uFuz9EP//cdR8GQMbnEqHZIfA/+X1163YBHUDAneZv4yznP3evwWT4Ze6/mL+Hj6lqBcCRHWqVQ3MRQPZ/u5LSwdy/gXFlDosJEkBJixFX9CX5P0mvEVtOVvm/vdbgHDaeAUC3c2lcjT8AQPGByGT4ouo/ZObt8lIR6r9NGyvEZMbgv4SK0JEzAxJAmckdxjdF+r8nW8JG8oHmv3R+jOolqeM/4H0HADkb0b/BhMwgsBLWv5LYKt5e9v4/eNqx+wjyAkBO/MBgnPz1P4uz2BmASe0/7v/ls13j+D81cj+98Tjxv7TAR2ap9e6/QaZIVwkA5T8F9NmFzRoUQAsxVw6WxNm/MCGlQJ8asz9Fk9+ppOHvv4BEFfyQlQHAI0xCc6kN3r9xA7Euhg/4P1dNluywD/k/UasV4RWw4D/hw099I6Hov0QFVkND4u4/MQ+AGoJg9L/7ieNxBqgCwEdnkkQu2/i/IIFrhlB9479RTGaAiH7mP3wVXxiWM82/4ifhtTbMBUD6cDy1mLn3P7+GtNLjuck/fYnVFrr51j+aK57hRufmP9qxmVi1tPA/rOqDFWgaFEBIDvJbMOEAwF7HmwA4/OQ/78f+INj6BsBQqnsbKSP4P1QxhwCJlOM/DT+RqnKtDEB5DhzWAY70vzGDyn7Oz/s/X5fPJIHv9r/osDkMAsvxvyipM0opbdS/mzUhtIB8ub/0utjeBawIQLqwi8DSsvQ/W59SqWH7DkB7w0gOQsq4v+E1lS0iC/w/uw6rFKLrAUBjGgczywbjP1Mf+zI4tN6/WgJoTl/UEEAhma9qhaERQFVVbfZ7YPe/0QP3ghwc8r8KEE2HUmj2P6mIO86KlMU/kNvjDoeB8T9NVz2e9ybivyWO/K6mFwLAtd0WtEk/8D/BUrtGPMAQQASdjablcAtAAzCRff6m2L+Hau1qqlMOQPqswnrd1QtAqroMEBEnC0Ckd8aEhysHQNxVMYN21hBAx80wgdTH9D8gEBSFdT7ZP0iMKQcBtfy/hQjcD8in1j9uJQZxX3XgP4f/KJLfI/E/H5xqow6sAEAJja1Hqe7Xv9DMruXgUgZAelU/0h3R+b8TD4/K6d3zP4on7DQ/+fo/yNBuE+5n/L8XvjhIkpT9vxBV3IK9CdI/b+aIMjeg3z+lErlQHZ/iP2e5+gUKVKO/Ts/dWPma/j/A+xk/wd0OQAuzqAGa5/A/u9I5nDUL6z+/X35j7Mv4v5fwz+SOrwlA83HuuKN0/T9ssUSWo94GQBe7CexoqPy/Q/I56AZS0j+Dmz8NEov/P7P0LcyB8wNAD56Au0q++z80tHYMzm7jv/LQurQevfS/nuyv5FVbzj+RauV8YnLoP3MM9M1Fneo/M+Mr/MRcEUDrFJ05vrMBQB4r1XJuXwDAbG+lfidZ7r/pbYcjc5L0P4c4fwa/3QFA/POIXKxm9T9zrHFJC0UEQKw1ttEtvuw/B065ZfXo7b/QVBj+hvTxP/SAuhWHxPw/vgEIzmojBkA2/F1Q6IMPQFiSoAYdFwVAe2ArMkJAt782/YwHW+IKQLEggsfF4Ka/1MqgsU13+T9ImGGBgIv0v54pGtWBpgLAx+PAl2rH5b/36jFbUtTfP13vYwjvP9y/6cNa318LAUDSGv9ym0Lhv0qJyAfqnu8/0yDU13XoxT8nCG6xLU39P1GNzuHRXQRALWWmmS1Q+D+xprrVxZYEQLnb9dAWd9K/waFcvBMqxz/GCIrDJXbkvzBiOZ7mRuW/RQ6pl3Da47+5EwUzzpjFP++1S7utL9o/FBchQ7bsAUAeE6a/OAsKQPlYGW3Yp9U/rQEw0YYF6T9csKsp+C+xPx6lx9BYoPu/Kp5wfBeiFEDQaut+PzcKQAspPT6MKNC/+Xbte+iD4D9lrMJEPb7nP9XkrIAgCe0/nx/Ruk4j2b/iyp5woDYPQIgLsrneQfq/70etsMc++r94UJfW/WgYQPqYmOd+iOQ/F3FpU+jS0j/VMeBg/vXtPzLWgBG50+i/rJRwmACyBEDB8nsc9nIFQIqrYkkegP0/WenDgD5i8781StwGw53XP3RFjXiDE+U/PE7ez89d5z+VXPvnnJjsv6QSjlH7O9m/kx477bVOBUDlRhpVWZEFQD63mdvJDNQ/DrUB66mO6r9XlgX0Qo/ovwDdIUZ6kbC/oIXkN7/k1b9gOyE9PM3wP5yFo6SKJPs/wPww3ht06b8SYjx4G9XnvywpbnMjONM/irYWXWuEzb/FE7Y1bVzgP1hps0PyjuA/JHVEdGmqFUAuiwtW8XUAQCJnZBZhXOc/hFYfKuPvAcD2yQK4HiD0vzMMrZpEfug/qP1XMmkw8j/iLgJN/az0v3JcJ/5glMA/cu8AsYCP8L9illQn15/bP2fboXzdhvg/WXF3fX48AECd36hsuAfiP7S/kotU2vc/CONpJpPj778Q0Vq85CEEQHOs6AUXsADArLIBeknYBkAdPLUoBSLxvx1An3LH3fM/vxlK9jv5CUDl5O5EG4UAQLGNCRFfFwxAcdCLe0ld/r8QtCJKjB3mP9vdBeIZYfY/BHEbSdCr4T9IfX2OPN3mv/PmyU0rsu4/TT7WiQLsEECqKAW5Pzj8vyZf2qCx4vw/76Rjlsvv7D/Wk4TMMZDrP8AqHTXlSuI/pQcQj3oO7T8ZOAnwv1jsv7mG57Eudsu/lzvrxTtvBUBREpKeHw7jv6a2jxpi4tK/Qw4Xw4O05D/7ntdFdpt7vzqAFyRuiQVA8p81VlDe+r/1Ol1wgIHbv+559QKdvf0/DE2KjkiD/L/kax9FdKP8P1ApqViVKgJAzl+mjqXmDkB9HFtgf17cP7kHhZZuNAtAqVZ69fxO+z9uGHxl3S0AwJyWo7YN49m/I+sHUCbL/r8FZK7I1BL4P/09p6LwCAFATN7cgtAU8z9hCtGGOy/zP5mW7IrcPwlA3nMuptLX+L9AtXfEB9UJQOTvrGJx+AJAT5x5HsGvBEC04TVX4jXlP4w+NotEuQhA2EzcQFky8L/soPKtHejVv+b24iJB05m/BqfFF/5gBUB4GzsbjKvuP4TvVEZiX+U/f54hRdIe4j8rfaY1ixn+v7FzWOCzCRFASoZpp8lb7r8e8YckhE39Pw1PELVA/fC/36fx36cXw79rGgKx3uzwv4PZjrU9ufY/pWnhUjnX2z/LzjhMl6z+P+FAFokLFwVAkCfwAIZBA8CJQLZr7KbJP02EmypB1OU/GRisAstS1D81jjNcsnv8v5CE020djABAJ3jmPBrm1j9x95/t/gcJQJI3dgS7D+m/HMcZ7wvw6D+8Z5iXmEL0P3+v5uSGzNC/FYWsRSmq/z/jqa8MpZIRQIXmWyRh7QZAQkXyMEbx9L/19fU9HlHRv8FNsI1YQOS/uriAxF9uAcCCCTx1Vyjyv6adqtImuAVA6GY326U46D8ZGRq/RZThv9zfb3R+n/o/FLKkwIzO6L88JKvXbmm9P2mZjSMfnO6/CYdcrZ52CECZgqYpen0KQOGjAH/XEdU/b2Ye4jfq9b8hnwUp9KfZP6pBvwtbdApA2YaZS25eBUD7UhX7mcR8v+eEAyO2Ht+/mN2VUnocAUCPhCiG413xP7ZOAgvGquG/bHmbukYA4j9ulktmpYUBwLDVqjCyBgPASPBUa7vIyT8i9tBsaCwBwGSTTdCm5vC/H3fwW3rx87/yOzCWxI4KQIRlKPC/E7s/wnHqix8S8r/lwD2zEL72v8C3GZO8wOU/RZbrbtUR5j+wRK6dilHxP51IiZ+aGdk/M4EBotKhA0CWEn504HvxvwXwPlshZ8u/6h7ZO8kJ6b/vXOElh/kBQHwVPl/TrrA/o6MBl4ZI7D/QVOL+92DvP4PBoi3lUwdABjxtZ0jV9L/fYUNjLxIHQIsYAXPYYvG/9mDgi5aL+7/Y9zXFBoD2P9w1TgzKGRNAzzwE3Ql34b9JSj/o5lbxv4fwFyGeQPc//MyJIYmiBUDjH1+9BizSP4s6dYnQFP8/GTwZjflkVj/AOYcCyh0JQPRHNDFsBwZAAeVNPM7G/L+MRBAdFP3jP0m2pVCBu+I/p59ilsK22T9ma9H6oQ77P9YgDiNSy/e/EPlujMvfBUCfPbKg4HgIQK41XOfM6vc/xjudazed/L/Mr/oEPS/lP+Rjyexd6uk/pA/nZ1N2+78ggowWA4Hovxm6baaW0+U/QRWmWW0W5L/MDY2q2yUKQOZLaK/W8/i/22D6nAfnAUDxqcjJR1/bv/bej76z2vs/WAi8J6sRA0BprRx4RX/8P5Wzfx0yPPc/qq9A8MRI9j/z6lr/WNgHQBj0K9rQJ+m/pbgKlk3I7D9+BxwCO8oBQPOJa9vu7t8/jbmx7y/q8b8m0sRBZxX9v8HXx8BL3Pg/ZLunNwWJEUD0f8eXVK8CQOeMVyHVRvE/QICc+Palo7/tujmzFd2Jv6+cfDnG1cE/WAYtPnhY/r8rhmlLk1fvv4EN9HZzPQJANaJ/5qjm8r9hXaKldpQCQKmQcRfB1uc/bzXrWPrWAsCBJCxJaBH6vyJQPKq8WuY/uKwH2VLz/b8lR+n9Yq3zvwjHVSvq0vu/76J/aHV6GEDFGir2n4n0P7LY9Za6Ifc/Oo3+hNei2z+EodeZRz7+v5daFPERFgBA8fk++g3r5T/WcKIJglwIQHqoew5pNfk/a7rRZKse5r/jDdM21anHPysWq9gXYgLAjAZEwJcC8j8d86Q7OqTDv85ALsX6/wpA0n/cKCS89D+9mvzjr3Xhv7kTzvwH3QdA50mMyTZo37+6Vw6UXtGwP+aQXsLWQPg/Onxt/Bev9L/ZSkVuygT7v0+P2s0fHAVAZuFpDpqPA8CSrgNTetkBwGb5WbZUdf4/b5Wo+KPU/D8FqP6tEoAEQLBE2xvWJPg/jDxbYpRtE0CbT1vgYv8RQFFx8ya/ffm/kpsa+xEn77/Sz5hg2+nhv89idbiemPo/ik6hrNGi6D9D3CW54gf/P53Pvrmr0PI/iSnWLs2v+D+5Yf4ZMa36P2TEsNj3U/e/21ELQHiL17/MvDx8uwrxv81P2ISm2Ne/pTIT5Tl+EECJGA5agJDtPzq6VZlozcu/Kx2Cb8n687+N5rsxsiD7P7FNg+171tw/M7G6qgeo6L9x1eAeq+rqP9N5BaT9eBVAS87aM6DFxz8x9pDuR20QQKMeM7r6z/e/6KW2ondg9T/SAQ37o/PtP9vLk6jLE5o/gHV5gajS9r+1RHfhQ7r9P0zxPM6ARPA/w9CWfPJ/EEAY2Bkwj7oJQDRy/+on2Pi/54NRCj3u3z8+pJx4b73wvyu3ZcV9ef2/Sp8gJ2oE0D+g34B81tX4P/+uS4zuyP+/KbcmEULJBUB/dl5XjI/5v1qsluq6Lda/FaUrpVQPCkDG16IjizjLP09m+FjjAvY/2dftqW4l7T+TGDTVeIrwvzrQGLKDmvM/PUT4cgsa6z9cghLNZEQEQII93YCVCvk/gqJH/I09D0BQB81z5jINQAwQbcT4IOu/EdGSQi2WDUD3zFNyBcLvv9qRZOwlCfC/mxIJh5Y66j8rze3snVsBwCKGm3eYROo/HQWR+j878T+S9JhvYELjv7xm3hdNMPI/5iH3CTvo6L9BCdjH1coKQO9hkkfDNt8/8tQYyKLx9T8mS/ItxsQIQJvQiB4sNPK/ApiKDlB06j+qyXtYZlHlP9kFhZ+aqMi/hMsuc86N+L+bZ2NuXCX4vxb+T7BCve+/yGkUMu0w9D89Sa553CrxP0362+dHlPE//SvzZ4i/1L9itc8j4RiUP0ft3QU/xwFAojhonsCZ+b+dg8+g4QL1vzlRy9WVDPS/Q6PW6tEE3T+pmmGEayL6P8cVQSeVj9y/MK3vfJ62BkDF11HlTpYLQJhWxM/QmRdAVd+J4kxw+r9DdVhUsVMLQDW39cgCufu/vz2Ijlj1AkCrN9X3Amrgv6M7jk9rKuK/G3zWPAzG1D+edlVRcmGEv3CmKMTL78C/Tmlv5MDkBUBozkCoZf7wv+20ARjITMC/4TVHA4zT4z86W/TBtyYAQHSG4nLwxwVA9NIHxbyt9z+Z8SA7QLPKvwpXYRsfF+o/XaMq97gA1z8gkabXcjjxv62Cy1XxTdC/49T1WDvJ7j+nUBZm/vTqv1Hb+fqRav2/Lwx+iNhO9D8njEtJIOnoP5/mTml7Ru+/NnaUJR5a5L+V3GjnogUDQM210QUqJg1AEHYdweqXAUBheUPCI0byP0J5OsQIlPq/P0JrdTBj9j/QIs9REa/qP3QppXZcmv+/qRxps7nxxb9Aj/+AilCxvxyVDhlW+AlAI6MlKKmH8j/Mn7x7Vg/vv/QmgJDlF++/audjotfHpj/MpIE1CNPmv4+9uLTZMfO/5NP4H4Df4r9Ip7lvVNu1P1g5bbCl//M/cT9wTsYqBkCUfroNqKXyP8gSnEQrlgVAv1GxK0F7BkCl9uGxJZzhPw8cerqC6wNAmb+gpO+vUT/hrFqTNQYJQKFqLgA/Cdq/9PtmqyF41b/ScHbUjKPoP/Bc0gCVa9m/8YXba5I957+cd7xnHQ8XQEdSOMRk4/Y/p8u87i3T9z9srvYX+uz3vzWD40Nugcs/RLhX19djDEDNd1RKQS7IvxHGLjkJs/M/G/BsWz3Q67+dBDce8HEFQDVUlphQsQFA/LJmiG25+L87We38FO79P5wi8iDC5QFA1ys/uishB0BS8qGsXFziv174KcPdLfc/BHKqafqO8D/QmxOtI2oHQI65nnUHlQHA3mqUTLXUqz+eImTXFnoDQMWndBLra+s/UwqmpL1HEkAnptjDEyUMQM+5YNrCVvW/VXZuQazo6j+ppRfayJj4P91+v5Ybxuu/fx7wvKWz9r952DOpDivdP7OcAbR/m/G/jvk2MukQ57+bNdjEY13av0Ox4XA0rP6/aUdOxj0z/z80ttOG0Br3vzUJBT2ycvu/1l9GHHiO2b8Ik9MoW0zxPyvg0rqMd5s/9DDgRIka7T9754to8nv3PzGd3X8SV9w/+zcJUcz+7z92Dm5T5vP7P1rI2umadPE/2BWqSGYd6r+88FaLeHzbP2CFwWTUxe2/eRjNquY5+7+jxh864dQCwFNhN2qLA+S/3aaRJ6rd/r9rK7+nQkT5Pxm9aRLPXgDARuRVHgw8DUBG0BHMiBrtP1X5lKiUmNS/fc6QzJwyEUARxNFh//DlP4ESw528iwRAvOqVfc2ODECPBXgJQbPXv4CULB8zAQFARId8RDNSsb8DKpUfC/PrPxEjlJ+u9PG/wR5I6ghp2L8gfZYY3A0SQIgDylfYgv0/3HtEIJBd9T8JTVn1wDMXQMTGk4v0+vK/I2uJ8Vzg9T/R1D9EZR4CwJA0J/l4Cbs/I2MyoVoa/z/vJ5mstFj7PyAHAURYEOS/EZ/6KerfAMASOkj6a5oAQBwRKQM6zw5AhLZoovIUDEDmxwuRBBYBQEcijpmq9t+/kJOB2Y+74j8iWEniozgBQPq5QM+ElADANOeNwckPBkASsWVy/pEEQFBoc1UmoA9AoepL+rRB1D+E9To/tQ/0P5cXlibFqu0/8YJ6hm2UEUAEePbMD13rvw9FjLuYcQRA60ojhQNF0b8WrQRmp8b8PzKSuXI3YfG//izbEfPN/r9R6epV6cwNQNEfYxM/QgjAgl+yoc7Z3D87FJ++ANYFQKw7YIVS1ee/0yvgnecU5T9VI/FrtO/5P92mk3U15u2/+lYXgEFe8D8yH99pg+P1v0wCo19FQ/g/wKoDyXieEEC0xWUylETmv8GkXTOI1/c/ks/k10QqAMCtgmcS2vP4vx9/+2fBzfa/KThXPJqx6j8QMUWde1/dv5UJMHL+2ABAAJWeytQK8T99JweMVtMKQCWE1JBAn9A//zWbBNN65b+WLgp0WsXrv+PeXFEII94/ulV0cMJyC0D5FsMQ0FfkP4/Dg4R4hPk/2zuidrq28786nMbU+kSyvzkRsWk+YvK/r7bio4RJyb91OOAHcDXjP4zcOlqrOw1Al+wD+cP377+6px/1usvqv5InNWDlzug/Z+ezXrKpAkAoSrQNIh7iv/86BvECM9y/xX7ABFpO9L9v1VGwT63ev3MYvxXtFAdAZwkVlpTEAMCeT9zdpR74v6fwSMWeMwRA0KayylqIzb8hgV9vvtn6v4hmhrE8pRBA5IlRuHRr6L/kyVD9wor3Pw/JIEyKm/O/2nBMomkO+D9alFn4Zf/2v1zOwXYtzxFACrKko7VZvD/knYYIxvv3PzcOzIFy2Q5AkxAhTsX697/QdQqdVCe7P78AjXNPvfY/TGvaq8PG979wc6XpwzEAQIHX2KnvTAtAXHKOpsUg8j92scRbzvDNv3daLZuTG+4/QozABTHJ+r+zfUIPasHnP+awjYmYAeo/PVYMktTT9z+PYlDcYTb4v7WQp1+1iANAaO8o0/72BUDtyDSlg4oGQK07zsuORRBA61ZjD1a9B0DLaFZHPhf6v3MkvgF79/s/Sit8BImF5r8bP3uDl3IQQPGIvwDBNuM/qo/rM6oRA8BoyxojA0zxP2X2IHJDe8C/f3ja5GHc7T9PWba865zbv8Nu3x71IQpA0aOO9DXErT8sLydBuT3jv6H1sWzP0AVA3JH7i0NbAkB/UP7nokD1v+c79WH8cK4/UsOJou+ExD8iKFDYmV/8P6Cjd0VIbgFAgRl3nztD/j/2SMf/aErgP4Q7vvk1agFAlbQqH5ie6z/OFptb9Kfrv1EOxPAamvW/LY67lLMJ9r/pn9bsjwUGQGUTfMnQq94/uC+FVL3/0b8mv/n14GnzPwkz95AZ9fa/sy/pgxCS0z9YRDa7P1Pkv27LtLxQw7u/Omxa3DTf5j8jOI920igIwAOLVt+cMw1ATkrqbsqYBUAFP9Sf8H3+P724MIbzq9E/xzFLicl7978baUw8TIjWP4IenrfZxwBAlk5u5M5b2b+WnxcLWVDMvzraQl9BUuM/QwrIX/ZA4T/nEZeou28FQJGjkgcku/S/APrZRhhcDECcO/z6/njYP9ijoLpQh9A/s/4Vu+rs2z+nX+dq2tkKQOU6HY4R3gJAIAQJA0Jt0z+Le6jTGGH5v+uMG3Y+PcW/g8AOWoYYvL9d7DZKIyIEwPE0zA+tSg1A+uc4igbk8T8HzOCJpeTVv8sgtU9wxus/OLPAn30c9z9JLXzBW7T8v554agB7sOW/AJOHJ3TB2z/JHMe0teYKQMsDOKoMktK//9iMiRHO+L+L01M3spfYv2isUhUgufs/WNMnepldqL+s5d7NlIPpv2PmTEiXDQVAJi3fRcdG7L9HY9xleMzoPwv3nVp/mgBAgD2E7Wef5T8UjGYigeUAQN0wtkkEzv0/VHllbbQGGEByCYqC1BEJQGSTqSxUHfS/00okVoEq8L/quL7klqaTP3lpMKGhdK2/Gc7tdAzQ0z9wYs9Qal//P3rFcYZfV9U/O5O/5Y2/EkC2DKApOxjvP3mq2qt3NRJAIT1Z1wnS6b/12g+ldlkDQGOGBlAVnvC/uHcSYrXO6b9FA2XghjL+PzAmNlg5Yt0/yfzS+S0D77+5t7wEAzL7v0BncwsyHQxALCMK+ZG5EUCoCzD3JGDjP7atGV1YL9Y/ldf+vsio/z9NSrUSVMzQv+fJFVM6788//+z/0p5r/z81YKOvNJDIvycK6xdYU/k/m4MGcICC1D80uhAlxwPyPxXVuwRS9ti/G6r2hzmtB0Dp7D5t9wr0Py9MbaWBQOO/nOA9VtQP7T9/vmxksOLyP6YZgCZB8uE/FifTf+IYCUAnSYR7EubBv3j6zrbGrgTAALecM/gx8D/IzxiWdsgDwD0KPCrpeMo/fO5kuke26b+Ve4El8zTYv/FqwwnapvO/Rm40vh+w3j9QGEXXnh3qPz6D9r8lMQhANlPA+3pWzj8vQdz+ov8CQGm9vyOwAwVAqPGz/eyI8j85D6ly6Nj0P86TpiCawO6/qByyX5U5D0AMsDWOkH7yv7q/uF4Nufg//dgnSj10+T8F8uGI8O/ePyK9/Sr4++i/ZXJpAN64179sd/tbKuzgvwV99icEygDAFbHsloTDAEApN3WC7QLhPy1MMwsZfwpAyFTnASRs0L9oVmiFbrgKQHMzmaOQk98/DcaB0IvvFEAyAp8hg2j3vxXFFsGLTg5APANWXx8i77+JD5kaN37kv4UoJgaQfO6/7xNcPbPYB0Dk6aHq4t8CQFtNPK53Sfs/KVv+3lW6B0AAiX5kolnzv+wse/fKjhFAjbKoBimkyr+/hbBpCE3/v9aQz63UwvI/kvuOLbNi6b/OD0gn2ozwP6TGcF7pL+G/YJzv8KnW4T9QJTOhP30QQELDyu+CcAVAJf/9wtCU8b+jVBiqe8jyvzta43NO6wJAOZhgkN/H5r+WHcuJyXHTPzDN82Mf7ec/NGgtflYi/T+oxomXoxD8v4WxCSHkz9K/KNnDLZkg+L/aSVQn0tvWP0EZmyPS3/6/keAMde6CCUCslNkQEXjmPyuq4K3nQsA/GpbSJ4NzBkAw5xfe2wr2vwV2LmKu7PK/fQ8BuvlzBUC5izJeOH4EQP6onSoN1wXA6ybnak/58T9aKqq2frYEQEeTiBoHHvw/t3NB6n8JCkDP5yTyqD3qv2+g/edc69G/hdYQb1g38T+bKKuLSx/dP3U1cG19OOE//ovQgGp34z8pwes8Iy7fv3cjk/vef/c/rLdhcICvDECNxc6uN2LXP3q5lN5hKP6/QMaaSe3vx781gRyqaFoDwA1vwxv6CNO/WtBR+VMI8L+3eEdsWr/AP76Sws3eJdC/Jcscthbj8T8glUSWao37P14hH82AuwHAFJBVCrqy4r+LWjr1HvnAv+fAkKQcGwlAReYrDNtWnz/w3FI8MVYAQN5eheNNJuS/but9/JPn9D/giiBFuNwBQOjS8ybLevs/B3q4dFch6r+UGPu9Kt25P2MEFbbpoYo/xn5eEB3u9D97UxOhsNXzP7EwCg1WrOa/VLtRc6Re6L+k2WVUlIf5v7RMpv53dvS/ORy/GEKfAMD1PzYiuJkBwORDx4gdPYc/pYdzp65oBMD9h/Rk3N38P6qFkjRd7gRATw9QVJ5cwT+dEsZUX/IDQCQ69H7BPgVAzDFwNZet8j/Q5ZPWQDUDwIpVssIvugtAgRtd0ZG6wD/TvxEtCr3Bv/ymVi8DKP0/wo6L0gv9yj+5/JjohSbwP1J16hI6sAlA06hwpBj23z/+FaPPoFnzPwEilzqxhf0/TSOvR0mP1L9AjFY1IiTQPy6VNia8ieA/MrktVQRqzj+dyNeDQS38v36eVzxfLfy/HP13OC9m47/gHE4ILMa1P215pE/C6Ny/g9ty8I0u/D8v4ROLOgXovwx2tlx8sOO/7WxQVDRKtr/YqHN2Q93qv008GuNO+Kc/PUNNF9p/gb+z7yykC1/Lv4eXgTIRdAJAhn4qFghQ6T+I3cwUJ0TxP8FXOYd0tfS/7Je9BQPRAkDRYDFOMOvTP9NhEgvxwPq/V0da2ljCE0AYP6Fhgxu+PwOOuee6sdg/ocbjzxUE8z8PtqlzK5YAQL+vNo5HWwlAn1gEH5MS1b/qxhzlkVfyPwQJvpzZBLI/tdwzX/lR1r8VJpVZawb7v4ogSVxvyvS/9ISIDtcfAMCnc0XsfR/CP1i5ajdBcLk/qfTo7B4u5j+0IKrMmlfZv82KmENJGf6/oL50PNKm5z/J9XbT/doKQNfU5ZqUFA5AeUXfwcpy9L9CHTiuDGj2v6hZORKst/U/EYxkecxVBEC6vkMKH+nuv9OdSNa3H8K/Qgd+miRD579sNrT7q7LCP1lj4JXdHu8/7cfLRiEBAUA9ZIu/wTT6PzwAhrIY1Ng/SVzQpB+k+T9Cp8cXBuYJQL1x4rO2Ucu/YiENWj2a878FmLyPPfD/P0ynQm8Ddrc/il51/gFn4b9BkHf+oHMFQNz9kG3Abe8/pqnFwZm5wj/CXYnZf1vgv0nED6GjNve/CVLSp0rTwT/6Xa2TOTvIP1OAYp+G3/U/zFwrBbRw8L+SBb3fHdkGQP52Bo3zf8A/oDIAWKg83D+6NUx/MzgIQLIdo+aB2QNADKwO4CiA8T9YPL0408Hwv0f+MIeWLew/NAEiBOtrsr+Iu3EdlR/+v6HpdVE7jwBAVnApBzarCEDGO8ZQKDbmvyKrwFJ0YvA/yca0D1Yq97/N/WNnICDzv2tPgyT1mgdA9mZexiY37L+UxdB/Uea2v/9V0brAU6y/N4aEQAGH6D/EAOqS8ekAQFCY4oawVfm/tTaXKIi2FECx2T2U4qzEv8yF+6i7jfs/5cBj54SPt7/H4N2PWdvTPzRsUkb56ro/j5cnPOoT1L+CRjGgg00JQDGghYyed+U/d/G634fd4T/fDM/dFEUMQBsoqSegP++/72UMOq3R1T8cFpibfKjzP14V81W2uvE/Mit/ltoo+j8AWfA236DtP8ugr/giz9Y//Pi5J3Qy4D/Zby1lIsgAwGXuFNQuWAVARpQl/l9v7z9CdWZemUrzv4CGGG2y5eo/gi5C1Sj39j9rKb0z2zTmP2wCWhivGQlADgy5KsrS+j9zg/2I8oIAQGudhVVYMtW/PP2Fj+R647/w8wQBo3EEQNdl14mDPv0/Rykkr+O/CUD3KAZUS4nfP7IfDGsppsy/i3d/QCo/8z9aYbzBp9L4P1r7UIQpvZQ/uC9d3zqI5j8IlvguGpryv3jgNA74NAVANgR2imq0qj/BnkV9ESLSvxuX59F73PU/OpyM5UYHBUD9CvblC4bGvypQWnFFEe+/uU+XaBI8CkA1ncOa600RQN3uFmQ7I94/IFwVVP+LAEAy7zU5IKX8P8qn4wyh5QhAmzXbTh492T93jkbV+9T7vxdbY/ne/AZAQ5WAjmOSyD//7YmLgpqvv+2P0DzJk1e/tUdWmOkz8z9Nnnef6HfnP/L6dsrlIOG/XdZczuQ2rD9/GVzdyeYRQLTC6OiM6+U/18k48ncvxz/P4uJVzvXTvylahNiBmwpARsifdMveBUD6rDhP4b3VP1XIuphWzA1AkxHz+BS4xb+vRd/GhlP+v8E9crNBvN+/PNBt5T0KCkArVjMA+gznv/af4ucptfe/I+VT9Hh3x78Lpze74yHSvxXzd31NH/o/6LmHv6DTxr/6M+wUsXnyv+53mofsjwJAoP3YhfB5/b8ltbHTRe7YP9+/bj2DIQZATI3JTG0s0j9tnGG6RsH3v9SMB8W8Lv+/Nc5kp1Ll6z+JRrWX/yXGP/n7GdIbGwNANRIbRR9otr8QecetsLAPQA0dCY0OgNQ/zZFhnesD+j9/Dx6j2nHcP8zfHYPHisM/67z2jSLm/z+xAJnPvNcIQMrbeGK1EQVA+zOgfneY9z8ungtubyHrvzsycNUYDa2//FY+QxiD+j8HzBbVrNDsvwqvPH6HLvk/frobZR1hCUBYWbfuGADkP2hMFSH0yMu/xmNRk4jA9r+wrhOgUXDyPzup73zOXfa/MMhFr1h0E0DzkvPQtmj7vz2QaMwT1eY/yv19nvSNCEDTe9xDDC3hvzYoiySQuwpAP3x+bN/iEkCYZYiv/mAJQCxryzukKQdAe9UREFv7BUBRnMX/sXL1vzbN+KO7vvY/HXuMINvehb8KFh35QIDwv19BHkV6Z+C/BmcbwkmR7L/pgs+qWevtPwZU9K4rmPg/Mo3WKO7D4T9uyC2aB5jPv67Wz44/tqs/pah1TujgBUBJqMVHqJMVQE/qj2KXG+C/EWvtU9FF4T/p/9u6OfrePy5KmRWAg/o/M9XMBWcy1j9iYJZfbHPnP9fTdWSI2v0/MYQkrxPV9L+q0Ca0rzLvv5zINzLd9vw/ouD6Y0igDkBWu+ZOG1sKwIGWzOU/O/8/OEOLjgls+T8fMgf3s5oDwG79GOZwiRFAOTseOvRiCEDsSYio3UX7PyT2eIXGwQLAjsFHlr774z9bqgek1WX+v/ILzZulSQJA7WNYNJeu2b9smUWJ4y/kv2zjLSORuvc/j2zrsdDk5z+HobLBlM72P8PwlGnfga+/c7b0TE160r9OhDtbbfb9v9J99JmNWgxAqboEOpT10r/Cvqaak/UWQEuL/2y2teC/+XxFAJ3h2T9UuhIbjY8FQJbA/eZ4wAFAxL9sekYE+D/HQYAbAF7zP5hf0vd85ey/lpRgEhbo+D+h/KFFhafev6z/jbvbIuy/Ujc2TLvg67+5SWhjY/v1P9ZSxcqGEtQ/lxKJcdwL8L87RbXAZiX1vzgycZXVEuQ/Vw9BJ6qNDECViUp/8qYNQJJzI3fTPgDA4q1+nas2AMDvIoZqMDAHQCKTyb9zEeQ/VP8yuDAW8D8VGesjHuPoPyWBxFehIfO/XyyHEsIf/z/ZZLfUn7zevzwA9uocseO/drpDqaWc67/LLuXZgN/qv7EUKhIPTglAcjLO5CpFBEBQJv3LxAz/P0rkMa/tPO4/1m3kucfK+z+l4q5z+OXWP5BNcrF+a+W/akExpqvy0j+vW4jvlbzYv9OcotY1bgBARuHjcaEACUBqnIxSB8HgP/+AR5v1qtG/o7KA6JZWwr9agcRDI0XkP7aMNqNOqPM/FfURya0HB0DEjkvub5LsP3cIx655yPa/4xMzGTBk9L9tkVdUplgJQIx0nlDV4ec/LLCo47XCsb93BSaQW/kHQKMCCG9Yxsk/L7/H+m2R5L96gwoI8eIRQBDu4ToSYABAmbSaRB4S/z/ki6Cte7r1v2TtrMnkc/A/nEffmag+zT9mMnRym9uuP9Y8gP78ZfO/veUWVXQU7T/R8lkTAnvkv68TXXIM7QJAOfB6VlFywT8aGICqnon7P4UahoIpCPa/H2rq6zpt7r/6+78JtE3MP7NVu24H3+c/EIEypVbN7z//jWoKJcQAwJNa7wun2gNAPy1rDj+e9r8WM12rf07nv1Ps9IVBR+Y/4ossV4X26j9fSNPOC0zlP93F4NRRgRBANwLsAlQG0z/jYnTLnRfQv47W9WQe4QVAnyAXv5XX1j//NhEyCC8CwFUm2iXk7vI/5pCbmZpFB0BGUhtlVLUJQBbnJlCHjQFACwCKd+ce/j9+tw3K/4QAQMwK3O3NWANAd7stY9SU5L/mSfah9FoDQBq0WWl1HuI/npcO8Z83DkCAAYYe53rAPy202Me/TfI/WFImbZwPwb+zWTn1lJn+P4UGBOHKcRBAfAYAireR/L9XSaQ2byTgP9J7Mi40yPg/kqXTBCSwBUB3if2FfGfxvxVhLH9Ad9u/ijCwNt1fAkBwo2rp9XbZPymOLpBJ/OE/mMBKNuck1T+iSo6IKQoKQE28PdG9o8w/NMGqxXAFBUB8INYfAcbwP8GS60D5kv2/szdNh88G/T/KXmT/CFcDQJIu6ODYbvS/UnE8qY/RBkAJmpzIqo7XPywJuC2qbO8/2PvAZwgk8r8J6+GkrGPKP2aMdqaFbaI/7iUCv9Rf8j8CycXhdVUHQKJEt1gwTOC/Tg1D045OBECmpG2CZWHwP50JQhAeHO6/O043lA15/j9fFMqlPRfsP3bWGf4w3ADAXkc4o5Jq7r/75BwfvTb0P7HG0a+lUPI/9K4tn4pgAkDoHQMq/x7NP2AVRLNcEw9Alx17avT+DUD6eoV8pl//P1RFU1aATAdAHlvfUic4yb/BXjes8oH0P9s6/BIIRfC/wfK42lqbDUC/di342tu9v3zaPopOW74/hZs3KDY97b+friuAvETWv/Vi+HJ+iAZAgyqGgDxUC0DIDUsRJSbhP1GdvYWOuPa/1l/K7oKzBMAvft27dpfivzKH8pTbQfk/YeMJrIldBUApF1GbHyMAwPTwTbh3iRFAxjm0qdWyD0BTt8/PU8wHQFHZpa+mcgxA6oHrtVa8BkBScHugR2gAQBeogeaUhwnAgsQNRzeZ87/R9zhGySPhv/GazPRz/vG/0OlqGDZp/7+kcG1qux7nvwbbf1Ss4g5ADo/nju50uz90OA8MxBHov6lZ43UFnf0/tdY0JXM9BMD2YLFVQrfrv3g3Afw/lw1AqDlMvFeY+D+Oh8EfpSiev2kVT6z+ydw/+tJbn0Zw7b/fzV/5IX7hP7QG7wgPDbc/o4mQevfzxr9hJtknSwrxvyoCzBsRdfE/NoBMc6CSmb+iArNy0N/xv04k8J8ARuk/aLoWFkUY17+W/HImI/zvvyt2guQxAgdAJscBQkqp2L8UK2vOHLK3PwrEh8Jd1JI/Mo79B2C18L8BqxF6ytW/P2fh4DhNC/M/qNMdbST8+T8/jafFHdblPyP9IT88vfi/JApd4ReYAUAH36SwFuDiP31clyXlk4C/FoSB25V39D/SlRjOe162P8xKak7LNdY/puVEHtO26b9m/v6zvBznP3pEMPgFMPQ/0ZZ7Uge03b/wRLfZ/Qnsv0QgU3FJUwVA+MGWNML05z8Z2cmg5w/uP2TfcvsQ19Q/jvjHJyUk8b9S+KYQnh0AwBvEQAamsby/tkRw6wRu+j9rpGdaLpjXPwcrgt+/0vE/fmD1fOJSAsD6KxUPpsoAQO7WsmmJqwHABkVVeVVC/z9ykatV103lP/z1Z37Blu8/PFePtHR1yD+h2Cy3zObKP4vDyH4Bl9u/muwiguOoCEApRj4oD5D5v3Rs9/fKjRhAfxS1NWzD+j92/cz52Tj1P/3WsizbHMO/Xz8FdEsTDEDAJJQ2a0ARQNaBTGSbD/W/yGEHJvBkEEBGjUiuAO8FQD9sAK4IOMq/LK1KTvYTCkBJbeEBpowMQMkYtuw5Zd2/tXBI3cB/5D9twIhPpHISQMJv+9q66AHANaPQhvNF1T/wB8FGNtvxv/0+SK0Ul/W/M2GS4l533z885x0dwMj4vwm0ZXX1Ldk/8Isu/5x88L90nU7qW/76P2ur9HMEO9G/ObKddTV00L+peJFaMpT5PxD3BPxsggDA7BHFt8tTAcA6tnsZxwq/P7+MA4KtNwdAKu1HaGK8mD+cZjgSmcgAQNJzfs+Q2uu/jgcAE5nV+z94M8jNdfnsv+ebT9tzJRNA0L9G3iJG8b9bzSyyF7T1v5kSZY4/nwNAAbXiv5by+L+aMXsR2XH7v/zewmEGkeU/8nqlTbH4DEDtTlZ4hJ5cvxOJmCDiDlg/6XaPM/Zlyb/R4xATKkXfP10vVoQbfxNAEXP6evto2T/kyxqsmpfMP2zLWZLiywBAW8sYVVQX3z9TKak/QtzzP4ze8Vdq9f4/A/wgbCeZ/b9IG6Ade0vnPxJ227n+xhFA0QiYPR6k6r8uCEOmj5UGQNxGzq5prOy/PN+tmKQ48L9mCppCpc/yP0hMekOGoxBAC+2p9OQcB0C/TrmjHxf8vx9VqrdtXfc/mIL6FFG18b/1BtLcvyziP5zJ42+xlvm/Ur0211+i6j+7QkL62lbGP25sqD8DJqI/y84W7GSD3T/n8WuyJoi/v0WxrXw0o+A/WTprT9zT7D9SBD76IbL4vzdzmFMps/8/MyWS/b2rA0Ao88mJXiwAwNMdIooKgMo/2tLNGDwA7r+gvcLbnXrYP2Bo7tavIQRAz72DPL0mxD/kaln6gfcAQHwc2/wDL/A/ljwRWYo79r9SZPcbTWHzP00LAxjIK/Y/pZFZZw3T3D8eMHYhumH2v15fpckcoOi/zA1SlODW5b/LVonYBOPhP9C5N06YxfC/abBOYj/FEEDyfsal1Onwv0bt+TESZAhANu7ait/K4T+b+Y0d2h23vwwha3C0qOi/Vq091HE+8j9Kqmzs+VLcPwSbq2qe0eC/A0z53vpCB0Aikhe5/SL4P4HmbWlVBeM/NrFrDZzn0z8h/hZU9snzP46lTWRgK88/xuM1oqB98z9x1+4T0Ob2v1I/eHo/edA/jaD7w+VlAEAf1IPEd/T1v0Xzc9xd9u8/DHWJZC6g9z/FKveGiegBQLIU0oaQ/QpAOg3VygGt8L/jC7j8T6X/P0PWqVt5uO0/ojaqNt3o/b/vnVsnCDMOQHwCtScGAtK/DBLZqYse5r/+WeIH1Ev6vzGlhbi8B92/5l2NxKm10T/9Ox7mcb/2vwlAydqkpgFAC/jwUdbr+z+yfRqAXAEPQJ4v4iMSYOo/6etJ0kts8L9cCIvh26XNv/JSf9w5j++/h5qvKYCu9L8W06JXft/Mv/o9IBwKP++/vnTTjIY6+L90t6GbUggCQPCKr3TwEvK/OWdJZ/cs5L+ZbqN/eQvkv4B7ooFf9fs/32F9m2TrEUBlbYJO4mnUv0LKZ1uoHPe/e8cTIn1J+D8TuzmZdvbjPxIJGVCQ0+u/4RfWUe3S+r+j1FjW1ijNvyfPqc/9+QFAi0r4amCA4r8aowGrIvMDQCiBgmaXU/q/qyt5fD570D8tIDQkLs32v9Mhizxo/PM/KUK8AUv9AUCoq9+jTNvwvzhqcWpLEK6/tEotvRPhtL//GtvCZIwAQK7LfDjXxgBA956P7n271r/ikXlppzb5P0RbAdKXqdI/KhS9HbXY6z97fUxyG/H0v+hcHpasPvk/0r6xtEpy/r8MLolchbPkP/LiIQClDPW/yDBqzTpV7D/9QF4jxh3rP+F7ZgFMnOK/uyfCMVWV9b8eBuxWP9n9v/gTREYV7fI/v1OqZnssGUA4n4NOt8MGQEIIrL5eNwRAsiy3VQ1+/z/UP7kIjR7+v1n4J8kQ9RBA5NyBK3Gx5z/JFdnfCNb/P+UhbU2fGg1AWPdDwpcbwr8XEKcbguzpP2P60gaWsvu/LRJZK6IxEUC6IyKtKKD6P1wBSaaEi/g/p4SnL9sX4D/v/9h6BeDcP0Gub3Q2WvO/FYvVmanYBMBWMv2ZHBLYvwrcpro4PQlAN/yLXXqJB0B7WNahRcAMQC+fqw6R1eA/idQodn7mCEBOrE4bWxroP3AWHVi3cxFAgEAkAG1NBEB6lTBoxgTXv0HXPMh4xeO/9V4qgNwSyj/JgrZ12PL8P2jjaWN5u/o/59xe4aO+C0DXHETOTXXdP2tLlFu2ax1AjM6fb58rnD+z2G1qdNMEwEf6xwXuNeo/Y5E/naMH4D8VCyBBROrcP/BNi4+GL8u/HiJsdlLE8z8tYq0tg/3EPwHKXUPzs+O/W2NNQuPi6z+gNPg5Gp7/PyCyt1llGvo/ZxXBDDep9b/GfbvGumvbPwxbn0TMwf2/2Z/FnbM44L/MQcyqa3DOP0G2Tqi2neE/aTPJgFin7j8Lhhpc7JnzPw1FOeXD5va/H1Y9lsTa8b8IuovkOwF9P6Wgki5Y/ee/IRr4cyJNCEAaXiKvxFLpP5HHYGapU/0/IH4UCRkr6b/OmXVIeT/6v6d4ZcG0H/s/zXAploJ/wr8eUjIcrUMBQE6GXe+Uks6/Vplxqtnh7r+ayapiOHKUP/gnrD49egJAdrMe0th98b+w/FEWx6HzP5k2xIMerqI/GgZ+jPWnwD/q90i8uvACQFyjcOGSJ7i/zy3gLmXL278fKrfEUcf1vw/CR6beNNm/VV1/ET0VEkDL3xDGgO31Py+trHIuR6K/ZdKaAWCo8j9gD1RZw7LmP38ak6fRz8Q/+0qXe2Au1T+nW0A7Ta7hP3sk09/YYvm/O5oX84oQ+L90uMh+SmwFwEQeEJ/60u+/ormUCcGi/r+qTxfBZjILQG/4Cqi1nrS/7+1NQ0By5L+FG4hGPI37vzF8LIqcvQdAd3zSKsO1vr94lMW5PhwIQPXKjPMXA9S/rzymEmSkA0CiRmifnScZQOoI+vX67wRA5ER5q33B578KPWkspBABQG75mHBS6+0/vtTynYjh8r/jucSAeA/rPzuCWkXrRtc/0gkCI0OD778S/0jPXT34Px0nwQhurOg/yNKfw7i1DUBUN9wTrzn9P2sxKzK7KNQ/vjtIzynGCEC83E4w8d4AQGIHsiwDGAxAGx08v23wpL9MPzsMVeHivxdAftLsHui/q9xv4WNqxr+2VVga243kv20kd5AU2Ok/dEWKqxcg879Db9Za5o35P9ohuQ3z5PY/EhMDqEL2+r8GlWDS0nTxP48TxpBSdOY/4oTVeR41B0DZVO4x4OUXQCLa9nNTYfS/QunJV9eL9D+5pD/PzKrYP3/yGpg+zQZAH9UBq6+D/7/prcm6/tLiP85yPiwd9glAhCb6Z5OJC0Av6RV4TDAFQE3sTTt1x58/c6RYuudL9r/B4XeXCVHzv7jsNcJX//w/yl9M5n5L5D/oSqPkCxHvv2csbnkbxt4/flS37roW/r8lHhYit+PSP5O6NlNH7eQ/VxuuI+U5CEBObvDVclgQQDwCfbpcYti/zgCzNDRIEEBu5bucnKjwv3nx+82a3Oe/nRQk+wFa7T85/vlSRkXzv7rtQAPFAPG/y9sV44J61r8unAm32TvXPwmTaZ4MCBRA4hsPLggWAkAbpN9kvw36v6GMJUsWxdC/JWBFPkbVpj8BmNfn3szzv+JfYh9FnfG/9If9G6n+vj/lE81iKjf4P6DfxzbiPvc/WUGSdtQbEEBopaODhvm0vwMR9RfyW/i/VcU4P/7K4r/+h5BFzFX4P1ROsHMa8NM/AIaRXU5uAMCnXqzEaILxP3CIvhGnM/w/a0eNzxOfCECNHCyAEQTGP4OQsMd8CgNA+XyGW2ID5j88U3exz3UBwBYBxz6gxPE/D7Oi3VVC/j/xE7Ndz+/dP7vHbUZY2QBAX93QUXhD1L9n4CftsTL9v9zfNIcYFAXArKBSD5qbEUBw2JRka2cIQEpDK+q6rvW/y0Yrvk/g8r+6uIDEX24BwBVUe+padN8/iocj4ci0+D+RgGSOTX3uv8NpQba+JOw/X7qLx3vR5L9swMB17bYJQOUuPQsVjeS/BovYzUgL2j8Jz9K15tIFQOW5/oUf5dc/DScWoVUgAMC/A05vD/bkPyWWJ3L5NP8/G60YhMqG1z//4jEt+mEFwLL0GtIflZU/wv0eMdON1r8zrwTWiTIBwH+b24kx3us/ajt0jVwM9b+0b/Kwpiznv2k3G32fYvc/O4Yt4vFr+D/schse8h7gPzpN8xDkTvq/vajEXVyE4D+6f3IrOrj0P4Mc0ZfiKvW/y9syjjCs9r+bNCkIJacEQJT4LefzEPo/Pj0S05tK+z8eUc4z+Zbuv9BTGscQzeC/NinxT8/+rT9zGQySim7iP8v+AJhyAeY/RaptB+Fq2b8DQhM2TCntP3qrRvoceRNApBI25YSd4D/jyiyJ6Yygv1wsz9o8R/g/L3G2xFBC7L/eaJLsbfadvzwPCF0m0fi/dMhTbLBa+b9jSdwoNI/xv5hJ3CHraPK/fq2vvfEs9r+yoToOApL7v3oI61MrEs2/cCh7Mv9r3r9cCfGR69TpP4IwwuWpsxJA3ddieQxE6D8IpJYjQFn4v+CbsSaKRBBAjKNZXWtvyj8/chOEAXEAQCi7GkYdKu+/gwHaMJ3m+D++9RkwfF39P2Rn7H6PGPa/HMuK1JcxAMCGLr9TH+T2P+Z1xlex4+0/msKfGc7dAUBUx9X97l/cPxnNHatM4Oy/I+UTgB7a5z8omi6bRCsQQEvD6b9Gsfc/knD1ol0pAcChDRycBusGQOmN+TJeTQFAMoeMGiX7+r+TDNTiRlgGQChGqQYYSO+/DxSxfWa437+pubJ40kr4v60O3Fq2Bf2/JQvwQkoe0D8RBmSFy+7yPzn2LSH7/vk/LZ6YUbYSBUB/rngFl1X2v2H9GpdW9f0/VjzOQtMCAkCjFnDoAwz6vxOR7M/7duY/RVvAVHNo+b+yRAicLTztP9KaSFPUk/c/bGTSXxVe7r+MZ74dEbvuv4xTXuQK2AtABn9fhK3PEkD7e19mlbbgv7oVoClYpvi/NFedoON20z95LZjEM+XlP3FSy+wvJwVAKfCDV194AsA99XIwL+D8P5F3UChK0Kk/NI+Nn01z5z/zwLQPhLsEQDepq/fJMPW/AW2eWrx8679b1sZ+XDPsvz9pGuYDkcE/zzBQfMKL4T9cTmKzawDlP6anf1FMa/G/T4MEEuBDE0BL93L1gPsAQKCeNjBSDPw/HQ06k7Jl9z8TyPIq7CwCwH2126F1quK/xic7kC3g/b8RHaxuWLv2v4ea72AC0No/lw1xqMd74b/sgtkBXlHxv7gl6Rmef/6/9hxTdJUI47/kute+5d8AQNTJ0l2/k+8/ooPPSplnDUDY3Kp01e3xP17K+NOIRgHA7dv5XHQSAUB7GMkad68KQLdr/LkJjQJA+ExbAVKM1r/loShYotkHQAQYtWtbtQRA/AqDeLEc8j/7X0D4K3Xrv7VvZdGigfU/peHw2Ztk1T8Y1sYNeg34v/1HIwDRueg/j/CFVHnA+j9zlJsLXQAQQJv2WnQm0Po/9B7Xwpge/b9UY9kGQLzxPyGgj0cdr9+/tkX1giS9BECaf1laLI+yP3pf65TITfc/jbhBDp3FFkC0+ImjNIULQJmiXK4MvwRAG/kRMtVs5T9b0Hy7pnm6v6nk/XxJovC/Y9MC/LsU2j9NWsWEDJ6wv4fzxFPAI+c/qMA2S++W6L8ZYYVKeDUDQFANNFAAXeo/aHuGu3CZ97/fwu0yc5PuP1WGk2684dU/mZ+KtQ8d5b/uBE5PchHeP8wEu3pSOv2/p+1f7er3F0A5pxOCcXoKQCu6yBq3TvW/Yx1+cCPN87/0UFA2ZikFQB7udAZb1+c/c+XzU2YxBkBjnsB1hQ7bP0/mLupM9wxAonV1MMYt/D/tJySApyYBQLB8Sn4rdgNAuq1GZsNB6r8b7opZnR8OQHV5iFn2IfM/++dyR9bS0b9T0IPmIJLXP4AN9E3nTuG/YYLWMsZeE0CHDVCpnVXTP0PQcOf+PdU/r8dIX+wX8z+QtO9EQb2nv+/RtFJf9O4/sRRyDGmsAkB00sAC8HLvv8FYGwb5k9k/vZLJrVvEC0ArFgmlYHbrP8gxd13sAPG/2mZMvhGU7j998iga5Qv1P7+U8R+b9fi/3Msd2baK9r/CUe24T2Pyv10YMDn7FOO/SoQ/P+XT9j+7Xa2IY2ABQBX6OeHS0/E/4463PHR/6794JhyUEh3xP44udgJlpQpASagH8+f3+L+dBzYgru3fP4trIdfviQtAo/TokliyAcBEsZwCulf/v8L3xw0lDhRAl9nv5WyrA0CodLfBTq3wvxhmErkSIxBAlBkAvNpKBUB5lRckqKIQQLOYhNs6Z/A/DDwVotvm7b8XVOj/0YTlvx6eO0wDkvk/TtVk20/D6r/f5QXtWJLTv6WYi6YqH+a/Zs8rzWVnAcAoguKk9ADav+M+th0NG+w/3lp+IH9u8D+Y7eEOPzjzv2kjCaBAxOu/acuATVN47D/ruvQm2939v8ABacK1WA9Agxbyjr4cEECAYfstP7L4v0nCoAJUaem/WLnT4qN6+j9tk8JTiJXoPz0UUCNag/S/NOciWgkdA0CjGx16Q+PWPwl+yS3R8/a/9b/nrvizAMCt+qGBGdT3v9EmTpUDxd2/EyoILS9C/D91W9F5wHHqP+QJZ2gPSLA/Lcsy16JaFEDwx8HPUOHpv8dnLt0IHQXAvv+i2Hup7j/h/j6AzTcIQFd7hg6WcgHAgEn3jsu34b+Bx+2WR4PIPx3dfkgjiPc/4FLYYRW/4j/rIIp2m4bqP8NHv7pmwMA/AQu455g98L9+XY8tjRAEwGI41xWdvw5A1AkQMQCrDkAnFYhCzyvnP7a891Mewvi/j8sWTUNPA8C2s7eAEaWsPzwfZZbHXOY/HHlB/Gr0wr9VR8tgFaDpP2mdNIabLAdAHvtfgvIK7z8rI6PAHwcMQNgcSSRmrf8/H2tnUHpY8z+cBqid9mrIP9DcMVEwqARAdHOH1HYA1T+OSj8MVoQGQBp61Tg9SABArHFjl5MC8r8yE+dndXDzPzfsfv1TNwXAn8U7R18k2D8TFgN8rN4AQB4jHzzvt/w/CNifMiam7b+Jp+wpjB8YQJ7hrQM7AQNA11F59hGN6L8+5fZk1xwBwOC3tQtuafg/onkV/H7gGUBRKKHhDnXYv/KcQnFc/uI/Du0A9/BYCUCVD4vRBVD7v44jZWOgMfa/3PUk5U5Ov7+nAuLR9yX4v6ibySRs2hFAPB4UA3GXvD/Cg+v9zI3APydNeRLByQlAlCfrJNMy/b//MniaYQLoPwR5++9h0wHAITapyBBU17+6p++6sNYLQBYqth7bGfy/WH3CeV4P179jg0cNZKDqP5KKunppKOC/Y6sUfELDAkAReIe/ppzzv5bI/bo64fS/BR8jFh1ED0DZIn7DoRfiv5tpk5jTiPK/ftXRBrtU+j9Rbd8Zt6z7vyerIZZ5TwxAEL1E4ivUCEAdfyD0lLf2P1myfiNC6Pc/EU061w45+T+vg2IP+en5P8JYFOpbivo/yOmpbSj18D/8iWP6fJvxv9olG0YrTRdAio+Lz5uk9r+m2xS8zFT0PwgyrImLPADAJZ6haM5SAMDWRf5YEQ2iPzjTZ0Xq1rs/S5yTqoqZ4T99ERYoJdb0vxrO1SaeZfC/Fh/M0jqxpz/85Cln6xwDwCmK9XwQxMs/pMOo7LiKA0BOvRqTEdD8P3BQmtTt4+A/c8blkeKP9b+bD4MGkDvoP4E0OHpGY/0/NAGKLGr9tT97GEZHRCmYP5CIDUvubBRAJv58jHSVy78rNXgcg8TKvzpYwirPXvu/C9JuUkYS57/xWVyXl4n9P64Bv1S4rfC/Jj57Wgf1wL+07AoFGYXFvzqgdwb6uOG/pUvOf79D8D8+xyXbr/AFQPKmw1WzAxdAaFfi3d7j+z/cuXp5nXTjP+BfvqseVfq/2TQ/rqxtEkDNnkeRyg4LQHALH9pQc+G/ZihWuwU0BcC/IVeAI8rnP2NmrD6fFbq/pKaAzavK8j/2LBifuVcEQGv6b+SACso/CTgDg+wJ/D9DeJJhI3EUQKbNoX2V6+C/ajlsYcOp9D9r0xVdJgvQv5prU6fpIhhAJWNGJSG+AUCEmpzFDw31v3N+JKTTpdW/NrYsvufh87+F3xFUJZr6P5WpU4K47dK/6kpAvRil9j88Jyb6jnwAwHB1qNeQ6vk/e9uhuahH97+LhVRTDXDzP1QcsJFlqea/5ChjeAAM4j88bRYJJcwOQJZacnMAsAbA2jREVw6AAUC9jF8r7NYFQOptmvQnNfE/0hUDlEbX8j9KI8sPgnAEQGoE3xu6Dva/aSfuAfboAUDz5XGCDLoCQJ7KJRHe+PM//W0mr/nA8D9yJ875RG3wvwLrCS44Wdm/Z+fxx3Cs0j8XHXyQq4UKQGe2gGG71tS/kRuUrzRp8r+apXrQt4TMv5SfpcghqxdA+w2ztFD+8D/Uh1wPa0DuvwwvRlqB5vA/QpI543XKCsBVswGTYNvrPyb9r5x97QdA9927DKQo2D9Y3SwHuPEEQJzAsXcc/fs/yO/ru85dAUDTp5lsE9kDQIjEBv1lyvi/clqyT4DoBkCK7JRFFP8MQN+XPAoWK/6/+lWE1BDJC0DtrFEezEUTQIjRqC6lmQNAaknr0o3n479t67QP5pDkv6RjFpisULc/MKnSlfxS+L+Rq5yt70rSv/99vXgArdi/kdmrxTluyD98NdnCMjPmv/QziJ742wHAGbsCGxrd8b9a8lPEA6v3vwqEvTwvdOu/dME6NmURAkDl5Yda1Br9P9PYiNZrtOs/KfsuQyH18z93GgA+JYnjv9fKkMMtzfM/uWkmOdlu6D/PtXgoy1j1P0IL+81ekfq/N38GsRBWDEDUgF04M7fiv2py6HY+MNO/CaUEsQhsub8l7naBjFvEv14G4To/xwDAN7LcpK7n9j8UOVd4WzH0v7fOV2ABtce/imwc6oSu6r9HDflRnr7wP4qahWD47AZAQ9mHzmUXur+b2Ma/dB3xv5R+RrvtMPO/OjKA8VuV/b/HIk+qCGYKQLeKCIiogdI/b6t3vP6k8b8arK12GRH5vw2r2SZCahVA8gDtZiER97/yq7PiOCz9P/eVQqO3mPY/ERepPnOCA0Dy8Fip4t/Pv408e/UO7ghA6uk12ZUn67+OeJqA1BTkv9y0U/CKFPa/2VgASicz37/okUWLtnXlP90hPLSa8OS/E9pKioL/0r8U4uZjb3Psv3an/FLtle8/e16z6z7147/H51KoT43YP/9oFvcFGtK/PXYloGi0A8ArDlquMekKQGEJj1sdUQ1A9NejDD/d9z8eoJuq9bjxPxkiULl4fv0/8LiCi5RNAEAKPbbkevgJQHDThJootxBAMOG7i3HMCUAhwYQBT4j7P/rZ6fhqxfQ/WNlDnc4YA0Cqj5yfECUQQJ1wy13Nz+O/D3rODopV67/IRNa3iQTiP7no56B0Z9y/bD0Wn2sF9z8fin+pL30IQNHKOiBkBMe/WEqxWXHY8j/tKg5v1h6Bv1bdAZ66COE/xLW8MkVG0T9thew0OOrSv6VOP4UvOvO/Q5ZPvJMRAMBOD4e4Z9PmP0HR2MCqD8k/Rwakq8GLEEAmf3l07K79v+P2kA2WhBFAdrBsd2v5+z9kEu2yPRnRv61cFDL19gRAvJ/SNZn3B0C9M7557mjgvwwI1osIWPC/RDfgVxyH6b9B3pVjnMjmv6x1Ye6l3ty/w7/VEuHS/L/Z5c5fM3Pgv5kW/4Q+7gRAF+xMCYor27/bU3dlzzLgv+x/UAWd7+6/yj8rI4i20j/JM9LIsVrzv5k4PBNm0wLARzwawUoH7j8FjuwmQ6jmP8tum2uTc+Q/e80MUwNb67+OSBzJ3xHrP/xSX4D6g8I/SYekNJIZBMAlmNlOqBMRQBUy5Hu1ghVAS9LnD9vv4b8YlDiYKwz2v6wp7+Rg2AJAVJkdmmhauz84fdkpMOa3P+R0mRBHj/y/YHvBY4e10T8ZXOscWuIBQCPClpHefgJAq4YLGVuLEUAjZYrqIa7cP8MvPPlUOOE/bsCftoXIB0BPz/00zSf3P9hm+oSAy/Y/2sN71kL+E0DmTHm+DbOev0y2fh6bOPs/rSD9JIOH079nOmZn4ivGPxqfqwO2kvM/kucBAovdA0DHqRTTCZb5vyMopp1oCbm/4Kckn1QaAcDPsi8sIKvyv33xHit6+q0/ukcLzw4y779szm16aGa6v61DreyQAq0/bBuqCPzi+D+z1La6sBwAQNukpII36/0/LCzdiwNA9j8seLxEyDsGQHDWuf9UOrA/LUkgnW7/AcCOsgwVVfqavyv8znsIXsc/MY25aE4fwj+EGBe7Fx/9v8nYujWhofC/qst8vk2h9T94O0PifiEMQHLG2gPcEPw/DWCadX3iGUCrpSKI/Y0GQDjHymdhMgFAqNMSlosjEUDXMR1pGN/VPy5aQwv5sfY/A/SjDx+o4j9PlIV8LSn+v1pnpY0p8BBAjJeIwIWHB0CyTXYg+Y7SPw+rAyd+zN8/aY0oBEozxj8JE7GnXfr3v2StwfETsAhAVtKcv1cm4T9AR9/mmnHev3JCR/aWZuM/72vnVhkC8T9OLUUvmUL5P72lVF/dP/Q/ANTPHL/3678vMNa5sPkQQMg7oQCFRwLAzk1+DLQg/j82n7M3ix0NQCr7UEa/NwlAitXXejNR/T8ESbaOp/vkP9CRK4lwnO6/VQS+vZmlwb9BVZSGpmHuPxeR6VC2MgBAi006BC+31L+HZVhPMxXJP4vpdaG7C9+/zoaHUgu39r9aE+x4lX0AQEOOu7dbngJAVnkwkjI5A0AmNHzRXJnsvzGfn9xRKtm/qusnZNJQAkAQmRvO6mvpv66yh+vMBpy/gqv7fnI55j/jRcrHSSXxv0IPHb0F8fy/I6RewnRN4L9R+AfprFX9Pz4uWdINhOK/JWeSEYY3+r/zh1KLZ4Xlv975K4ZBdvg/vffubiWDA8D2neAT2YjnP9wSW4B7Fes/6ebzaD4t6j8AdGz7PcIEQHH7PrxL4ABAZOIyoJOU979xLTprCwXdP2MlcA9jS9a/CbioYbEaBUAGHe2c83XgPzmHc9P+GOY/WYsMiaDVFEBAXKJae/juv1UxZF4fF8s/AOETmzQv77+nyxYo/evJv82KGCFskus/Ckxx09rXzT/p3AXjPfzwv2t1M0AaffG/PS4/KQEUx7/MFDK/VWwSQL+KSBCQ6Oc/dvBOwnc49z8FsibZKXTyvwknEqoIA/8/s2JaJX+eCEDF34h2tTzuvzZO/DorsAhAOmu3U/ix7792zTKnxHrIv17yczoSv5e/Cnsx5sdklz/j+HuanNPkv+dAeZSNLhVAiuueNbc5qj9VyJxgb3/6P65Y8FMSm6Y/Oj9+7PRi5z+5ZspSU/oGQKx88ctDm9Q/odRpqGh/+z9sO8U9oAj3v093NBZ23PM/RoUkSB7nBEDAFbRe96wAQFA7EftzHRNAk85MA1Aa6z9uF7Dc6+7uP/jQMKxKPvM/H7qUommWF0BbPn4ObsrXP24h8fMzkP+/Nxx0fDIN27+JYPtflkYMQKEr7wM9h/m/7N0hFPfm4j9Dfk9iwkv1v7oahrnZJN+/2+F1+OhBCEBspe8x4DLiP4PfssnwEvG/R5nlk97iC0Ct2BTOPmbuP5j9kFJPfPM/9kOYSZx/CkDuuPsVfbrpPx9hN9ihUQBA2rPXP02Y/z9lCGOW82fDv0fsIrm7o/w/hfzDsyCz4T9EROmRI33uP+V3DL48VhNA765A4y6d/r9B27R8h/b4P9L9c3rZBwJAoP9+XABm9b/adt89s6ehP/V2Yf3OVf4/dFKBZAC+B0BdKSqRvHD/vwwxgK3Ntpo/C/nI/CZT8T9esnvj+60FQI730bSrdwtAUUs/AfRk/j/FjmJ9ppPyvyJnHYW3lvI/0wuXZyv78j/S1We5qaYDQF3YfncXaBlAlx29KR9U5r8MvYUWhNwMQGEgIwHIwOI/0EMObDvNxj9kBz34o/jmv3XbPhLvJvk/7xTGjuGNAMCwCdu+uKDiPw2abHb9hBlArito7YQn9D8vNvDKTcITQCJQ6ZRrKgTAxcdsgZZGtr+05AqZ5Zfyv1FuY2mDitQ/0XFTqtExy79DB1Ee3nTXPx2jNRXt3wDAPeU+fmbU2b9D1PgBic7ZP7YADe9EHgBASyUIXctL2b+vvsvm1BD0P9dGVESxH/G/vhXPhx8ZoT9v7bHKC2v/P23ntgb0JxJAM35yivbRAcATaCIOvGjRPxkgMp31c+a/drWL08wM979v3fEkOMrUv+Xs4xEOZA9AI5PqkOLiA0DZiDNKOtzEv/zUPtOWEs8/xhVBNkIa97+JnDKRdW7+v2xlIiUxP/Y/D1vR3KpA4b/LUL0/WN3xv/nYNNut68E/OTI4Er4K0r8xveOtc/nmv02JFUSTlfe/qa6o1KBt/T/+o27gGs7hv8KDE6dCZOg/uUlTTJCo4D/lD8etdsb2PwUQNfYjYPy/qQsnZfFq8L90Ngh396jrv8Q2G+EdLAZAJ72qu7+Q8D+7/7EBUDnavy9M0RuHlv6/VXuQvRoy8r8JNd+xvMr7vy1F+RXOsQJABcSYgkGH0j/Z+HtTXQzqP7bPvL8T8QBAzV+fAm/k/r9HmeZGeEH3P0Qf+okKRNa/PQJrzu4LA0DM83gY8hr5P2PLhoV8/cO/o3MDUBDM9z9rEiVaLmz3v8M31RKabRRAfqiwToGi+j+0HOVGhIHlP/DQMDxtz+C/7ta7yhH3AkBCQ549ZLP0P7wn5r4Tt/E/PbIbYjR/+D+tKXB06lr2P8gR6f4xYeW/mDsdlTAk4b9O64P9dEgOQC5m5Xjlmeu/HKKAnt+Tvz8vyJ8ArbYDwC07aiFVHuk/DXCg7f5MB0C3NFKDYuDcP/ad4WCfbQFACwsT0ywj57/23lP6Ko/4P6Zw1OPSYAPAv7kTf4+OAUAr1AqCyyXxvxbcIkPYr8G/USJ7Fg6fDEC1EFtKozXjv2U1R6XjTvk/DCWBth8r97+cZzVXTN0OQFebsV2IZgFAjWri+9zq0T8stQMiSsPmv05TaRv9eQNAnkFuW7ZY/D+V8chBJi0AQM9TmwP3CNE/k9aziU8bA0DCj/ERtJ3xv4FZhf9WM9S/oXwKezAODkBUSstAV7nxP1J50fFmDAFAexFukE8X0r/MC3X9XO7tv5TFCl+Dy+k/i6qO0+UWB0Di8vbQPu8UQJBFRrP8qf0/ZyZFrhPawr+Ff82kZdnjv1FQBHREZfu/OOT8YRdBC0Cc5ZA1SErPv3tNZn7Q9/W/1kE8+v/sBkA1DEmNyLIGQFzUxCpCpt8/Y7yRKstd87//l5nC0Oj3P4u8ucc1mvi/XDpsdW5+C0CaOCcLLYXov7lw/9Ykedg/TwwTKWo987+WOaVBWvYDQJnZqjrwY+8/yzLUFzliv7+IaQV6nKABQB5ZVAl+Wr0/alCh/j9j9z9ej0VX/L7sP+hH86i2VARAKNTLvd658L8xgFTK6cXwv22orArVIPG/fUy6mGVNxj+1brcJe6zwP/X059AVbfA/WgCtuKy15D+aTQ/WqyECQA81h1RxjvU/CP3VJ6xG4D9Phc7qUU8CQAv32sBtY/w//1HJBe+N+7+U8CxymXTjv1vVuIUoPcG/IM01Utqy4T8jAfIh6cEEQEHNx1fXRMM/neg1J425wT+k566BJDYAQOncI1IeLPK/ADTXZpvTuz+eDCKCikD3Pz+lQJSOzds/uej4c3so37+8nb0ZVwLpv5g93hmwG82/y1nBRPH20L/g5TuEcrrmP64Var4RTABAhCbyWLHj5T9RDcc6fK7uP+W1AjY5v7u/GwMQMiMJ3b+FvQLJBy7SP7XQeb0nad8/k2aTrodJ4D88clXIucn1P7ItBudqLg1ATunHDuQ79D8AgWdF8XsEwOO9oC0BqwDA99VASygn2b9Ywuz0ZMwGQIoAk0TkAANAJ9/sUyGQ2r83O9Bmbs3wP96s4ThLbNs/sWRdyWwT+b+RzmjuhmTQvwoe/fP9Jto/nU5bq/zq6z+DgtkS+RHzv0VCZMnuggRArphUtD/86j8vcz8QFar0P0efPK07UMU/FpJivIxb7j+h6Qo7oCMDwKb+Moh8aA9A1HsUFFvxiD8rY7/BC/gAQBvnqf0WaPq/le128lm65b97+x2eMqrlP/k4qLpjVN2/AfhqdSTNBUC1D/uAW4HoP85iojHE0e2/fW6lIzRW9D+LMBDGFv3gv/7o2gcyS+o/nI4/w+hfAkBZTLwvjezzv1qbE5veJf0/V01zsqupAkCNNWQXjioFQFB3xp7dSwNA6WoviJFG/D8i0HlDjg72PwonVRg562I/I0S4aUcf+T85vvb7MNwBQHBytLBks+O/F9Ud840a5j8njoMWBgH0P9kcXHIkh/c/JjhYNerG5T/hW0RfxyLQvxSR5MUbZ+A/boLstWd16D/Epbf+L+f4vytMPi9kEP8/upLL6vUkqj9ErrEfDFrkv8mJ7ou4KP0/Qe5y4ghY2L9BipcnUmHnP0vbrY8uqhBAu9FR8kmd9T/PiD0YtH3yv+jCySvlUQBAPAuKQjIy7z8w3FZG9GnvPwaXfGL0p3g/AbHAymyQ5z8WJafDIhDwPyJpHUDCO++/DuaNoFS8nr/QI5u+trjqP7D9K/5F7+M/p09z7gNYAMC0iWu0IYzsPwPBNlfsvfM/bT+fK4KR8D/X9y2HM7b6v4jINxCLn/M/USk1Uknk978PwXSrNJn6P0JUry5brea/ZA8RiwIrt7/wXm7vv9sEQCUyImZlguW/uKB9I9wZ+z+nPQeelRoFQPUWjnUoxOa/1Pv4Wzor4j/xRJ8HE+W+vz7SeeJXxhZA3wit9wJt7j9bnwN9kfzSPxvHAxJJIAhAIx80j474gj9xURK9xTv/P1xDSQOc/bq/8ctBL76D4D/gqM5SFiLyv92TRhk+CtE/+dD2X6Bh9r9V+G/TJzX7vwh7PBiDpee/uXtcmc3m8D/qnsiSZQwQQKJDY/NMx+y/zTd1iOL36z9cabwwhaMaQOuS/TOWkuA/upih9e3HAEC7iP/fodD5vwxiz+hoJOQ/feEkGEf59r/mwLo1LB/1v0VlJuZLY+4/q+xqd/kd2T/D+SPifV/TP3CXm2tiwPQ/VBHVRlZh+L+42Zn9hnjov8ZzSTUzDgZAUe2G9LSOEUBV5rACkSz7P7o0WSaVcLK/9H3qqOGv6z/fGw7zd63/v7yo2z28Hvk/ZVCb5n9tAUBIVG/2/G3vv1Vsd55jx8o/OhJsRru+E0AOuM08ws/1P3ab2fkYPcw/daD18LEj9786svRQteXVPz38GFivqgDAu/JChDUsy781c9dWyJsJQJ8YDBzcpfa/YJJxQtoOEECaFw9yeIMLQG2b4p+98do/nC0g8/UM4j/IVUOqG8/hv5+/gejW498/Jdli/BrRBEAhGESsVj76v4Cr68OS/ATAK3AhSoh31L9+yEGjrkj8v0654bJ3v/C/zsRHK60OzL9o/N/tbHHgv3BB4cxhvBFA1OmoLkeH+z/RHZMoFpkAwGxWjJ270RFAB6A/F0Vg/z80byWlxMbOP/ZM0wgVNvi/KkJCwYrTGkBaD0YZOwLFP8qmIXsndAJAhfG7p01+0b+1AuKMw3f9P3am5GQDTZ2/El4M/wR87z+WQhgCK2rWv76uQ5yzWfq/zL86a4wCC0CNI+Nqjejvv2X++PfjvPG/HqNCg0mb3b+WaKEaKIn0v27c30fd8OK/uyUlyBC1+r8yhNF6+CIJQARdAgDtEIE/bv3+vTow7b81oFb+BR7Xv5d4zZLLiPQ/oBnG1WBsEkAeyzyM+sjCP+DpCw/b9+Q/12UVwOMo/D8Nnuyrptb+P24Hs8Htk/S/lTYfztk98r+Q32f3kMcGQL7rwuWXAf6/zJbLide4C0Dfm3Isw4nhv3lV2CoQLuE/mO9GF+c58b9a1RjNVX/7v1BFhPYw3gBAfY35ODeN1b99KfTrVdEHwAcVlNmDX/e/k5OK17+bBEDwhgN75N36v33Go7Z/7wLAbv3gyKRa+z/MNd0gidFmP+fKxBqt9fc/zhaGFoDK7z/xBwARRIcFwNt+PUKp9eW/Z1QRby0cCkDJrEf7vk3GP6oXz3w5z7A/OVu6zsnp8j+q4HeSq1/6Pzi1mkMzj/2/n+8Jgddhur8FtEr7WTTdP7uyJbq2qPa/sgrHdDtK9b8rrGxVRkLWP8Ong+7hW/8/woonRktX679SwueojbkBQBpSQGYs/vw/b7z7z3aTx79WAlcNfGMPQL+gjzYAc/S/YH78wtXD6j87ncE6aGsAwFIIixVZAeA/C+9cpDIH6D9erTSfb3LuP9dvzsNzeRZAmTBGD5uJ0r8bmpGhvBj6P0Oc408gdty/CXb65pdQeT+V0vff3xbhv7LTRySGFghAJbUojoEFBEBGdv2jUILPPwyyDf+0FQ9A33ihXpI1CEDQvFT75GvvP9GFFa97Qes/7ZutiYILAECAnF+XrDUSQJ1fRpgkSAHADzQ9iuu5BkDQIRrGAVfwv+nWhh1UdN8/AhLbJCA27z/nYVF9N7X0v13Tt9igw+4/DOWqTURQ978HKQ9bEoPmPxdZ27OOgvC/r7cOANBeAEBN+hXAnFX3P4XWvU6WDQZAO8JUayU93T8t8muTMlryv8qeHoFYw8g/24pJ+AWcDEAAQt75uDH3vxbxIiRh5OO/s331PrxNAEBsTzK9PnvtP1bgWuIQIOI/FGByyfLE8z8kWLbF/fXwv2Ftno350es/Eo9XEVXw+L+1/n6lJcIFQD+iynFeRdG/dUpl5RG06b87Kbmr7bUDQGR4/Gejvuu/x3Cjjnlx+D8+umDu7CICQIbDeQU8H/y/nyzZ6rU7DEAwbk/AwikJQFwEMBezxe6/KqVHl7LKBED54V71uhr7PwW/g14gBNu/DU6Bybar5j8HL1hP/HzYP0dQYtD9MhBAOH+3JFXw97+sokfNukoRQEG4Pye5HRBA2+0EzoGEBUD9R3efJSLPP9PaRrxuY/y/Lg7zClFQ5z/hAJYuG23Kv8ar+ZWzGQHA4fv09ZirBEAtrYDJCUL8v66jENSvssc/NNI2BmcL0b+uEF9A1CH7P0jcXY9stvU/HtXt7Eg5AkCPEezsIEoLQDADASJ7a/2/ayjmlrFI579Tsec46zPfv5y2I8DkpwFAQLyroxaR9L8UyoZpWNW7P+E1BCnRGg5A8Nzag3MIzD8Hn8WPETnSv0ipKyc3aeO/p1H/T86r6T8Yb8JwNPf0P7+jZuPT8fK/Cd0zCuuG1z9Tpi4IsFMAwAU4Az+Etti/Q15tD/+m1z+UF5dZWiO5PyFtzDhK1vo/1bnj61po/D/dItkoSafUP6BgomyUdwLA4DudS+SS4T+4nG8lt33zv2SyS3OJzQZAmF30W3rtEUD7qLRHm138P3dsl2BgHvA/tBFKqmgCsD91kCWaqGcQQKvGJ1GoT8y/mBHvaAsH9j+zzVg0hALLv2287gzPlxBADNGhryJVAUDiqwclfzHpv2Am35UjUuI/G+LOiwrF/r8rh5HId6gQQB9qQ0jPr9E/OwxccTAE/j8S+3/E/XTRP439RG/acgdAkhMDI0jH4b9B3vwxI54QQOfuwSNMst+/o7TDHBunBkBJHY8nhIzGPy7VHIu5tcK/PX9jIBEIFUDUkvrKAs3jv3EVFM0dNvG/eoPhaPDY+7+UIbVEWfYFQE3e5YDVQ+8/Vy2f/fRA+D/OiUx5StgQQG46vJ3oM/o/agzpyqbY8D/Ho9nR0ZnZPxgtsHAaH7o/wJbrHKvjB0AXXksImYLnv2x9wMjE+AdAnBHf+Urr7b9UdsvK6i0CQCepA1zxl96/v7k7ob2t7T+10uf47SMPQH6cLycH89a/d3RDnZdb47+9vtRXiMrXvwtXJvWJFPG/M6tCN6Ah47/Fs0oCiT3zv53VfMll0fa/PBBC0P3k+r987hxJ1nHgv921HlRWIfe/MvpHE4QBA0Dm3tf8XygAwHfWl0EJ4PQ/X7xqiMPr8r9j/nKXzCnqP3k+BD1HBMS/Qhv+FWW6C0DoYmmIDpMQQBsXNvPELwxAqoB5y7ks+T8MUdovwdbxPzEvDuQNDOQ/Pxl8w/E1wz+cYMhMdNYEQOd/6r58PNS/pa3MzQwEA0CmBOEK7BtyP8l5HESKA9o/Wzl9nWejB0A8FWZ/KNEPQOq/V4J2cgxA1gwieTEFB0DZcAUXj+X2P0G0wY69t+W/pyrwPtFG27+vJVqgULD6vwAimcDQsBlASpixEgHd4b+OY8gBBDyhP5MFcn0sNfW/JKcQdDUiDEDHpsGMsNLuvyhjKwCkofY/XEozo+OG879xnp4j7bkIQAnaYmJV7vc/wc4v0mco4z9lv84fp9vYv/f/1/DwE/S/0nAx77xh9j901bZXdh7vP2XzvIZG590/OYQVatLNBEAJao9O7oD2P+h2XNbOe/W/FRLR8/1U3T+uiZForMT8v7XUN24hUwFA6GahRUWi879Fl+DWS2r/P1xniqPAvQ1AoeC59eN19r+9eKcXF9oWQGp0rnD3XbI/lm2Er9rPAcBr5mLpySjhP63rmfgI6/Q/7n4XZizX4L+C3fgzJQH2P0dxa8xpFvC/yL3LulrxAcBlGoLRWDKgP+/6MeRcQ8M/ODyYt3UUtj8z7Ikyy7iePwWMM2x/ruC/64PP1gkzAUCmS7IoXR3ov+M8xv/GAdi/+ddYSYLi9j/6slqhomXUv7FMcdN8PQJAtChnlD/9CkAYEhvQrAjxPyfyKM0GywDAvCeMhDcu6D9DEcIklQkQQFocG5gNWP8/RGWuj6OD5z+9gdxwIrQNQIjH01k/feO/zLYHgSbSsT9DPkBBi7nhv8cefIW19/U/CaByCTYZ0b8GGqJvQAbzP3JFkArpyN8/Nv4TUC2J+j86A1nZSAbHv5rZ1Hzgfw9Aei1roRB4A0BHdhaEJWkUQPC5UvSWW+G/9MWQW/vA7b85ZmNH+0ARQNkSXBj8HPe/lTMuOHJ63j87gc8VIZTmv4eB4aKkBcG/YPTAoGHF+j8vwPrpTrrxP/Vhqd5wUdy/ot0OtKxwzD9LzQSbwAzzv10TBVhyoP0/mpxex0ENDECesG1yeG4FQIdnwlCLa9y//+UVRUNE97/EEEwyZ2rivyFO7W2Mneg/6rvbBMW7B0BaqIhwMgT3vzH9SBrDLgRA6gn5ZyWBnD+wrzJB3GPqv1hr+hIgAvi/V7hdQxce+z/BXS/j/UoQQIImwtW32u4//XBkoY8c5b9BWr2Z7Rnzv2Nc5hpukvI/1bl6Fo5LAcCy8FF2OfvVP9b/iUwD0+m/6r8Hh2LlB0BhYcT/DFDaP1fsle7O+wTAIbnL0jzWDkDipXVVnhryvyQTyrUbEQBATN3d0zV95L9evmXmTRT1PxcfVl62+eo/7VahO6xY+j/O+fRmCK4FQMkCM//jAAHAfHCatdU25D/42wfr/LT1v0c4ttYPK8Y/2K4ADRWU6D+9r/7JTFjzP00f7MHwXtC/IfSrvjRx/T9M+HWBXtNvP1jz6pWykPQ/sqwCNzq78D/wHP1ANJz2P8Nn+OETXgpAr8Wskd7p+D/T5/gGNVXhP+Yxs4+HIP0/RZzlYbI//j9qV7HM5LiVP6eBq/GkzglAw56r8drS4b95uD+6HmPiP0miYs+hP9e/IIonASHX5b+vcUr8ulsHQNGCxLh+xg5Ag58vE7aq/b9WdDqcO/wEQJjEBSXLxd2/zRGjLBTm0b/OWUe9k3acv9TwwEc5zc8/jl47jknFlb/6Rm8cpo75v0UMjt2X0NA/5kSNKq+I9L+6R98D9wYLQBuK9qN9B8q/f2OO6Dpo7j9lpTSHBK/yv6pPykLrBfQ/C/pmfd6P2T+Za301A2kSQEc4KdLBUNC/onfMpKY6EECh8MMPt8jgP5LkIFRbuQJAlyvGLQA39z/lMl5E99O/P1iXr7PcVwNAdbrSc6RrCECUQ9GA9AD+P4ChzyOyBATAtXpKQDStBEB5nrW9AUXyP5ey2ZNvwwXAWB2z1LCbEEA6CB4p5EoGQCFQWiYWTARAGNMr9R86DEDUXphvx/XLv3m7DGbLodk/iYoM4zFSqT8da7dqZSTzv4H9hQXvTfK/GKSQNdgb9b9xHMtl9RHyv4SZ1mGgHeK/bf++nIek8D+THUJ3/6z+P/kJtqNZL/K/MYYYlGlgwD8YlKthEkgCQFTBAWShee2/e2C1A2pk7b8M67JAz5YDQHwKwZelnO6/aqcp1uMy4L+EYQYmwzgEQEdGFu0eTfI/0ZAoaafI6T/3vDkgSaQIQGLBvCVbsPM/OiryEjuH8L94iBv+as/nP8JcLJGh9tC/RurFvb0X77+40ZgTsjX2v84ZjlTDkgfAWo2d5sWhAsC9qVMn7DsKQBop3EwPMPA/9I7D7YQZ5L/pIuTteDXiP3g2rsYaa+I/peemwVE3AEAMM7Nz0Tr3PxP+g9NYDPw/c1QjSAMd4T8VXHRa3KINQOkct29u0AxAGdlCQebH/7/Hqzkug1n3PzZbaLdB6+8/8s3oEmZm8L+u9fgaF9byv18neCd8Ifw/f6iRAdea/78W5rQjVTcDQOeJxRRKIOw/GIFb+HyOrb/ht9UlahoHQDzV9zWgDeA/VK88Tjgm6T88+aCD2VsBQB0+xv2U79i/5DrYdzPd4r9gxC+LGTriP+Zz+AEh5gFA59Sirt8B+T9Zii9YdZbAP452/B/r5PE/jPr24eidEEDRq8L9a6rAvzByhduzDfg//pspDYAP5j+ACrLKmDvqP4db9oXaHApAWMmdy+1NFkDBBh5Fu3/6P6kPpbBWyvI/S4eT17fg178fEIP/jp79P8k6fPMUBvi/jh9J20F8oz+dFxRJZIL1P1tCOuwn2AtArGFy+Wm7BEBhuhTZavf8vw/MtdBqPvA/uEAJF9fh979xkxodwhrqP1ry2SQbpOG/zRkrIad17b8NAAB7DECvP+900DMteew/cAnBgioM3b+s/xjSU2f6P0AO7MNPK9S/B2hTAbxB1r8a4rzhgsrkPyAdstuX0QDAF1YcKvJqEEBvB4pwXH7Vv9WjfJA/VABAVPGX/SIf8T8WiMcqhUHlv+07MZ2+gwZAJy34yhMvCkB36ltZ5EP0vxz+k4JjpQpAgz7498sZ0D+I2miptE71v4X9Xz1ditg/tU8MNkV7BEAdUTGtv1HTP5l4cafLceo/maOd9cO84L+HSTSKeATyP2062P+kmf4/3RmkL1x41z/LGXNx8Wb8v/SDg/qly/c/vanqgB8w3z8AeuW7R3znv+spuf+tC6+/QqiH3Cf8CkCJs7n7haLyPxlGWNbY7fe/8Y24I6Zm5b86cbQEBU/1v7NpqHy5FQhAtTSiKNtt1T8ZpAPEVUn7v96B3x+ylZK/cxHZ3MNiEUDFwrBhqvHyP4QzpJtB5PG/eWYYbit9BUDtGV8iwW2sv8ZxjS+rJfQ/PQE3LRM2EkDtBTQf2MARQKw5JoYQUem/unIov+mA8b8N7r11n5nYPzOVYS/wouK/tjhRQLPcAMBbWUi9sSf7v3HHoQlElfA/z/s1fbee+z/H4nj/TgfjPzj5Yki5wvI/u4OL/V5y078/+uuS6gIGQMgUcd+V6OO/jqZmWwvo8b/DVkDu1iXZv8kcRSsJdf+/5LtaI7EMAECkCRjfSkXmPxmV2aRHY9W/h0VpXHQn9j8k+b5Ek9fmv8PtEY4Kicm/Qx/ABqZFAkC2X6ggRinpv8VGq4Y1tuU/5bUG1Z0d+r9pChleS3/+P46UL01HKBJAFnVNrTyNEkDtS29HVkOOv7pNxkR9++k/e/9HrqsV2b93IfwAhLzhP1XVJt1qsRBAYe7U1MU7DUD07QDS39DkP0MyASowqLG/in5KCJmU+j88+Wl1vHL1P6AJtZmXseu/8+fpgGuyB0BE7g81/3Dmv1wiM/vSYPG/rv5S6V8tCMDPPWRsJngZQOFUov0Zxvk/a8pINsku8r/0f9QintYBwLaIE4uUAQFALLnZaCdLwz+VGwMfdzfRv5d13QK3WfW/KSjQlb6+BEBhQJ2gJpvFP78DDsXALNI/B7YjPkMx/D+DIz3A+lLuv2Nm8EG7cdo/iGRVDxHy77+Ew0czwwvyvwJqdVV6TvC/r3uVu8ka+j954N76Gknwv4RbZN9WawNA2c5vzs9E5L/TqWIoxWrTv1UhOgEEuAPAisPOUt0xoT9V/FQJiCPBP7I+TCkeVuK/S/A5hT2CEkDJgE+chekBQN6lXklSK8+/IAF/1pkOxr/AnJ3HUULSP0+bzfGDjfC/xfmm5p+d77/3SOMEMHTev9n3gHhHywFAovUcKrN+AMDnEPaA3Ej2v/kyTNMHmwFAaVjYKCCtCEB2IanhiYb5P63AWPdZi8G/fbZo4uMW8L+9AGOckwHcP7SrgfpFJOW/BpHVSzbH7z/xvu611W7tP75arDy2pgBAcqN63BoS9r9Ksm+aypHpv/7SCGZ38ABAmPnh6TUhEkD/CqsBWz/xvwcN2I1lHvC/SE6y5ow3EEA1NwDKPkUQQDbblbYXpfK/t1GqvaEs97970EsPSB75PzHobEqf9vg/+5YVRpN57D8M675Hyi39v710eFWZl/4/emh3wo0d6D/Taz7cy+vnP2iV2WOFCcW/L5d7vpLW/L9ncnIOivPjvwh1ZRjs3PI/MZ61W0UY2D/SWdpqag/0PycJtF0+D/U/fuE8yWzE0T/EWYP0rJrxP+rOjg1pRwZANxAFbD90AUD5Kv7B7G3qP/M3Lmqc5xFAxg1xwtDT+7+s4WUNvmWyv4mmwBL02vi/+pUPefflAUBvQqt3rur+vxF0QHiCzRBAMb4olWqW07+qZfcISEkIQICmIWOJJg9AZXtPIUBB4b+EIo/neIUHQEiS0XiUdfs/DYo5vSKU7j/VfOoQgswAwKCnzkdcWOm/Y4eI3crIAUDLtNLqZPcRQP5kjWHjSvo/lyZ1jfCUEEBzqx76uIS6v6sOJBHNrvS/1xAawTEwv78Q4vCisjXMPyOdhHCUWPw/I2NQVlHP3r9zhB5oFGcDwCZ9UW+UM/W/t9O/+vTDGEDuiB2OFcsCwOT2fWGE9P2/GFsrXOUO8D97DLz++Sf2v03JrFCYqgFAqfRpI46A1j8nYTdGxxT7v9X7zOZkR9G/3Ll4A55m/L+fOjDQt+nqv6g8V2VBEf8/Hy9ht79b/D+unvXVCqbwP5tUHVQoEco/LvkgxrZa2j//vVBu8VjeP95PrdorN8A/Y46WVjsJ4r+9rpwbYOoBQDWM6i/7BPM/xqfwNWkq8r8+qK5jg0r9v9ajOM0VUtU/PKIVj2KX6L8icYKEMLDiv3CVfy84RLw/KoaqiHxn8L9Jwo88OewCwAAhapeqR/o/kJSSZKnR7j/z7H5YWv3gPyb8oyj2bfi/gxkCCzn64T+qAVJRUi3pP/BkARzbHuU/WjaDCyqvDkBn3KtT2dHbv1JQL02dMbI/y/QSwoZ88T/wiH+BZkECQHixI/x8Du6/cCSH8anC8z8e6MV2AI6lPyvJ4YZ0w/4/qhG5cbY84L8JICsVoRLJv9vMtYA4yco/aYyDqH67A8BgP1bF8mYQQMtvnb1ligVAeMSORGzn+z977jk+HGX1vyrPujZC8MG/pHpPOu8FAEDw0qTUCkn1Px5+WGwIqAVArD8btSBR+b+bbcU479/Sv9CkITo+/QRA1t9LwnCc7L9+iwnDhgnXvxMuc45lTMW/ZseAdweU8r8pYrLECOf0P7b1YoMNseA/TnTg56OW/L/romb/TkX0v5X2lHk/S9w/L6JmrOfG8T9u/ZQgLg8EQI/jq/oEkP4/n0IHr4Pa1T9uR5LYG1j6v/ItgQC0whJAOCov/OxH9j/+n1bYSuUJQHnjUIrbN+Y/VsltjmbN9j+v1/BtOPLyv2Nsu0/psuU/eNIJDRue+D+161u7JenpP7rLzAQwD/E/wvqOU7DbCEDgoVa+TnnmP2/UHZ8HJvw/8K+9fC38vT+pn8npEUgHQFv2XFWqT/W/0bzaWUTl+L8ZPNDrbuDmP9FIxjrDTNm/aJ/+xiHkDkCpxY/gcmvuP5N9Y0D41g1A7iSjEc6l9T8pBBmlQJn9P1VSsccnmw5AKV0T5hbI9T+X3xQT2qDAvz25YsP6QNS/0DD7Qh+C/j/mQovmt2fMv6fHAGVwhts/AsH6rbm0AEDoRPgud5y2P9Hq+BKHU/q/3bKRhAli8z88PdJNX/3KP3C5bQGacO+/wjjnliXO779itwYBVMIIQOMU+aa1rfM/F6YJrQwv8z8vxQyJ2o3yvx0B+DhDYfu/+V+CCjD7rj+x3VW91o0AQOIW3e9h56I/LyQ2wBZ8xL8WRXO1vEEIQLcV21ZslvM/Q/Bz01oZG0A4ST65QTXfv/ZNL2FmtfC/NT5LC2jkAUAAp7NP6zPRv0tmqILKQBBAxnJXca2/67+ZRd+4O/4SQDBgZLfzd+q/PEW4dQlZ0z8MgnSQX4jlv3Xry0OiVs0/EspAhFXDBkAEqvtMAuLnv7ekUpziqQLAIYv3Vg2z1j8TBXM0piUBQB8GSXFIe/U/aZEy3cfr2L+xkquLECj3v85ZGPouyKA/r9l5Sm+A8L+LjyCJPPrPv88S9k4glQtAW6P4tSFa2z9ZrLt44BLkvxqfAlh3EfI/U/3YhSrW9T83woz342gEQFivAb0szeG/ljwQlhHhtz+IlnfyO7vjvx7LlLDNJvO/XHraQPfP2j9DyMaPLHnZv+V2w6uJq/6/UH0BI3Dgy78pBKqjEpABQNNX0bhMu/Q/HQYG4hkYD0AqpxXF+6LwP25OSCevvwRAlPU08ORp8L/7So19QIAGQOKlj3NqDfQ/Hrgew/o39L8Ku1NsUCgAwPVxheFJGOu/4usC806u5r8ZPlHbENPQP7kSbKq8Ldo/lqYPB3Dc6r/q2+0SS5ryv7kdYLSPIsQ/JlW4KAFL4z/hquP4nKDFPwIKOvOXkQ5AoC8Gi0u6AMAwGtl+BmkPQNUJhZrF//4/+mS+vX1Z8j+T6buRj5nsv0H78BcCf9U/CYHWOa0H/T+eQnsr1hr4v8AhiTpxtvu/nPoflBbV+78tXmUSDS3cP8rbpYSitQhA0xqEZwoREUD3bUEtwi/xv+Q69dmjLuM/zsG9va8NBECpL6Y/ZS3ev/7ppzokuKo/PEJxyBPdEEDu2uHXdB+yPw+6G4h6wvg/dsfhXAHlAkCB4HexznIEQLJBRPxhA84/3wpXThwj3j+X2U+ai8kFwGDe0Swd/v0/+Do3jQ79yz/l2MapcHvKv7Q3v+C2u+K/vq5QeB23979JiCe1/XzyP0cuyi0HM/I/fEdFzYY+tT/+WUMkWUn0P4CzAK6ZnP0/ypkDzpBb7z9q4LRlF4YBQOJW4qMgqfg/NIA9pESr67/f8sz6Nf/Xv4v9hufK/P6/K+4cvGFz+D+mlGgQEL75P8zQyJAwXNM/aG7/a5TC+r/7tHQdBgbwP7PCuJkcjZo/Nly3MT1nwr/iG9S0eULyP2W0AdIgjfq/l/h7IWrM1L+QrBbqM7kNQEePwEByk/U/+UeF+b8QA0BLZVXQqRTVv4knWXwRuv6//QBz3Pvv1T/XW3BbVjP7PxgMwLuqvQFANTTBrFyhGkAZbmA+lzXyv4k+I8HuNPs/CAdvoCkT6r990CV/oiT1v1lOES96qOY/S4I86Doo9b889jkLZ34CQC61H8wlJf6/xtt6jhx6BkARPD9WYr3uvwIB4CCcXw1AhvBsvr9N5r9a7L4QvXMCQChQHr8QQvW/FOk5nGj68b8HJakQY+XCPxV3Nvhh4q0/8Znh399N/T/UhhfBgC0AwOFcTumuCxBAkmm/pAvJ4r+/y1wZCyThP8f9CglHcec/Bi9jFR/qCEDRP1s/rwrQvwuNsTN+XNq/S+wzWZCF/D92XYNqr9Pnv86rsJddwAXA3F3nbdMeBUBohxYb39Hiv0I05Lt4TvM/BdRM22U/rT84ikzrDF/GP3VKdHh/GfK/8R7rAEnsBUDrOtnmxpoHQFyIjl0Z29c/4v/C5tXZ+L9IR9jWLRoCwCPH0dipzu0/BnKsdq8o8T8h9ayaNIntP8QRjemPxPW/GQEtsCWWEkB4Yf3w0wn0P/ptTHe4wdc/GnTPsHXyfL9IhoBuXvLrP1DzWrpAlgPAGZtzQTigxz9doTB+MhflP4/nq8Sr49Y/9Y/vPLnf1j8eBQU1/HfivwCRX8D+gvs/ATRSLEPI8b8Yd6eA0ITLP7clYcN769O/kyg8hYDR0j+hOJLMlR7WP62AQ94ZSP+/lHNwgKlB+T/VTbhfPH34P2+kBuVRq8k/aMzU2+c7DEB9Eb6SuQ/pP1mUWlV9twdAYoIUOdU2879wWEWnqa7cP3gTvEO1UNa/S97DQfll47/GOfKJ+0H5PxkPOHQWGfo/DB3jLsGH6L9qkM9QjdT4Py3HxHo9bvY/uyPiGYfK6r+iOr2pr2AEQGWSJz2elfW/JqXEDQGGBUDvZY8B2ybZv0xzguZlz/0/lBgNZZ+q9b9NqOhcsD/9v+JSWdNOvhBApG1SZPl2EkDWVo/2SQTvv2pw0M6AIQtAcv6Tagl27b9/t1OId1sAwK7ttVBaQxBAHPG3ie4PDECNhf4808Div99h6bW3bfy/t8rIASa6AMAatzwGVmfpP10rYNdYDwbA5efCbfni2z/BZT6JDfLgPycSjasLJOk/IdVzrAHf3b9zgsxbG0LsP1MLyJucnAVAEzN/v6jE8j8681KWOgXMP0UeLrRN2gFA0/U1/q7tBkCWrVYOVhz1v1FKJARoDMQ/Pq0CnZVz4r9LZwaI/PD2P5JQbA0eZe6/D0k9ITBR/j9ta4GbBhiuv661qhmIEO2/T5IVgCKS9D8Yt+sC8ZATQAPwWXduiAxAvk7UF77wEkBgrLba8ywQQEVGlOlcPfM/5ktI5knv/L/g4CYadlq1P9+gnGmDUP4/SqjivTFv/L9F2NnZi1LZv8bASpH5i/w/BcblnM7R4r8yqDOebSnwP48Mg+vocAZAD37Tr3TV679KuxA/i2gEQEHRfUSI8eM/0/j3pWcn9z+mzvbbdzr2v+pGqN3XeglA5HmFrfBlAUC+ixlOlzjpPzWLq9bGtPO/QdbmUeVZ9j/ilcnY4TgIwL1KR2K+PdU/2caAGCY25T9bRC/7Yk75v5+umQ51HcW/Xpg1Hp8H5j9A9PbmCK7Dv2v33lxe4PY/2fGl1Wm+878R1HXcAPLsv/KlH3jOdfo/cRHrWCzqoz+WGl/oUPPlv0cGP9AxNglAwwT/7ldv+z/w3bLaWQXcPxXw3osTlP8/d+PZIPpL878SRhMfTZb2v0zwoAMsiAlAf4SZub9r0D8us5ILCU0GQE9Aa3JmGu0/PyroES964r/68wn5fdv2P0WgQA8e++w/iet7ijD+3T8THv5xyubTP13BTiqSCeQ/xhnqHnYF578+wkmbzNiDv07F5rLE1Nu/9dM6wVsJBUC7yqgBBoH7v+uom9hF4Kq/2TcITjJ48D839RTKRb4UQJ6F/FHOdOU/wHOGMncn5b+rFxv3D6gAwFAUJl4vQwtAapael5Oj8r8Tc5+7UtP1P8r1gdhOtgPA/54G0Lh2oL++Ql+K26r2PztbGlNml+g/5rMA+Cs++z/a/GpeqCYEQLMNjNMO7uw/DlzNOeaLuz8aYNLZAYUKQEXE1DGZxs+/hlLkKS7K6L8C3nYmziHiP4ggqHeXrRpAv4/DEp3rA0DThlaW6hbhP37aIuoxGwlA5ghklwAP/78rGf0RgqzSv5sQKmQDgfY/JVVgNHlv+L/x+uEF/KMBQC4xBMDG3QLA6vreS7+L6r8W6jeQYCv6PwDMEdTmrdE/NvcML5hs3T9iSfbVKnnqv1aIDtZxabQ/YJUAJ6jS8b9n2T6mSm0DQNI/sRzHwfi/ZbK1R1QsAUC7ntNbf7TWP6+EFuyovgVABLpvAeeV4T+PInDY1jziv91Mfx1Y7AdA4q6cl/2a9L9dS3+jjm7wP65D4cNPBpu/pVx+ka8S8j97IGU3j9EJQH06oht5OAhAgG/DIMS7+D8mUw4FvIf6P6i4ZIFbDfY/VmbieQQot7/XzNw8U3bhv4zfgab8Ofe/gblILcTH078yxwCBcQnmP0kCKzpG3Ni/2UMMp+549r+y7/mtBWYKQOBQnUvNwvA/uEQWS82yoL977Q+16u7mP6j7FSbL5P4/qHHHC5e547+0n7GTCgfnvzNvW+mxof0/h+cTm+HD+j8Sq9fKTC4iQE/srV0I0OO/JbC6tcXG9L8d2QsIzynWv61LNW2rHug/VSv1/ROyAkCifYxc9Wjjv4p+LNPpnuW/ddWNPw1h1j/LShUw7c4QQNyInH2B3vO/WW2gZaxO3L9paKJ9BtkAQEmBtrA1xeQ/PlwoyeAw9b8K3YoaChcOQLeoeYA6Q8o/Ta77lsa6AUBx3RNNapnEP/YhILRUSfC/dHYqQPTRAkCh0uDavv4CwMv2RAVj4fg/uQFUYKVx8L8OWSHeIYjOv2ghHYV6cQJA4XXhQxkr0b9KRoXen/IHQGn5tB7WXcA/UyNEL9bdjT+DVd4BnfcZQMQWghHS0ve/8dCn+8rx/z+O+SdnGjPMP6IxRmB45Pq/FJETptrVAkBPB2wvxUEMQMM+zfiKpdu/lf9gEPpr5j/6tC8b+Nvxv0xHWcfazvk/NwejgFoY+D+3PzOEdUIBwJ7qxkWuJtE/eOp8fJ6P5j8tMR3z8kndPyULkEWlhfE/9fC1BoOy+L81Lr0dfXfnP7f9/UwqL9c/mrgkLqMe7L8wlXy51eEYQCftRb7czey/mcruIkUk0L97nq8sLKv0P1oQXnXcyec/vCIHm2k67r+BlAkU2XEFQADlgax3jd0/IXl7YXbfEkB4mGVJfMj7v4xmwBOQSPY/BeebJR9l+D8SPtxhZzIGQOpJOVb5qgBABsdcIm024T/qvKxSvwLvP2QLnqbnxd8/sez/ASRW9L/gGPwlnZn+P1A2OILiPu2/Phrg+dxz9j8+TKfVCdjqv9qXBuPEnAtAdMyZ57CeBEBDftCIOGf1v8D4RwuBOBNA21TP7KU+CEAYUbgImhrzP+iM96tiTbY/U01sdHAoCMCwphDGcvX1vxtaCkhl9fg/VnvhYyx7AcDBFYdIGVQIQPb0OPHoQvW/+Wq1IWhU7L/z1iC0NRf6v+AHkb246P6/UOE6NZbV9j83ibOAImLDP/Xy4h8i1/8/MSpoTEmcBEAguELhwCjrvyJ/ZtQGlAFA//q5wXOb97+eN7DDeDf9P6BzSVh+Wfg/JC73yyN/DkCue2eC95fgP/uZMLkxZcA/ITO53/IM/D+3xrHxrfj9P+geU2eVAwxAvcovxHJj6z/Igeq1mVzqv7O7dzmwKvQ/lSflpC9m+z8GtD9PbYjxv7HUtDdHhfq/TnhQHQ9/+D+h7n6K9gvIP9eySAibZQRAOfLqp/pO8z/Px3lkjsgDQG0Ryi+6j9m/TdDQBf4K8L+H/8iP420RQH5GYHjw6/C/dc4+iR2Z3T8RvbrfEP3dP0XRA+idoATA+BEiuFJ0/r/wc/ChacABwLLF6uudIBZAPcQn8N7dAMDAaNqPVQn8P09bV7MbXABAQK3pFaUR4L/H/5fhXNH3P/1WmJr3ceC/uBESfLw95b/1OYxlVhj7v9MjIYqQD+S/h5svPb3Y5T9wt35QMjQHQKpEDrdgJ+m/bVXMRi8mEkBUYOY2qgX8P4jwzuwNEBdAPxlmX/DdE0CGJs6bSUMQQBWtmS9/gsC/CuliuHP74r/FXDsD8NjTP8G6/vVoE+0//ZwPavaa8r8yr3lSbxH5P4+KsHKWxg9AY/qKdgXaEUCwq3WJXWPdPw+oGZgUNfI/qyryBlNi878KlaaVC6DzPxjwvTBQT/E/v1enFlvswD/zOnU7eHfwP4h97MnopRtAjOGHS9M69z+JRioGE/+mP9nBY7Hdm6g/rdcISrq88L/nHoa2/XkRQPQYQo1GCAhAelvtMtYAEEDTwJGZ8yn0PxQyCyPjbfc/1AyAL1Ap6r/wUJGcqMD5vyvIELN60/I/qeSzMHgz3j8z+Km3O9ncPyJSDQErWfa/KGOq1fvv9r9QkIkVDZz7P8RWauX6+fS/wRSJF3V8/r+6ENFJ7Cf4PyC9S0eApfg/VeE6wXbW3T+mRe7utCYDQGEsonALPfu/r9ZnbmpR2T8nwin3Q3HrPxo7p3v4MARAYd/0mm2fvb9LRqV/0JjrPzin4RYvP+8/KRGntDJr8r/nPAdRLNbzv81xNS+WkO4/G3qQcn8H0L+wLOLkqhXpvylh3xASm/A/oWI8klJgBEBqTu3gyeoHQElt2O88d/k/VogYRtMv278mRYzMgov5v7ebuxX05Pk/8TGxQ49N+b9N1vtgDdYRQGurccDgBuu/6uAdJ5aHFEAImHLU78HpP7vgoTUlwP4/065pZRGQ4z/SiMOGaNHnv7RPFMzmLwdAPLJPw4VLyz+kFFHWrNjSP69XpdAjIwZAiaxXzumm2b+6HRlvA0TvP6iXEUvVcNw/bxsYObcPAkClRthMqpvYP8TADylXyuq/rmCnEwYfE0Awqd0dOofpv+nCSEWxk6E/BlYn5LlvBEBhtp32HIkOQGIig39rgfI/y8lEAoWw4j+SUt2+BGf6P1KRymqKzv+/5z/Ikn9e9T95LpMr3qbBP+tFEjevZfc/ErIrjrPO2j8f9ESZO/UWQHvBjIuBw8I/bSZ1dYhXAUAUDXJ3FUmxv5ijZjDxfxFA8T7WXvt3AcCo5Uug+yHqPztd+NGxrAHA23RD/6D32T/U17SCqRQTQObrWgHGngBAZBurxl2bAEAEpwMWXE7sv0yfjhWd/wJAQM7G6vCz579o1AIKaEv/v7kgFBBfpOG/3PXFe/A0zL/0s07Rf0b2vz3p8O3aRgJAJU4US+uR479+mNCs+NCDv+mDDnpXTfe/fSjviafj/z/bbo/309DaP3DZ1PGRKfE/RBLZDBLgAEAUGFaqO+8RQG96J4A2vNO/rSvdr7Mr9L99tBMcwu/7v4J8UDE7Nsm/iYj+QJOw9z/QPzGAoVYCQAhij8/r5fG/B9Zk4pkL2L8/MH5vyfUBwICDiGp0OAZAj7TO7iMtD0D7+maEQX3RP7HBXHf2OA9AFkdKZ9Vg3r/vxsyoiPHfP5aT3s+fSre/WduUzSe0AsCtsM6a3RgAwD93YkaraPQ/JUmbPMdR4L85E/TNJLfZP82UUk9B1/O/e5z1vy2aBUAYKonol1uqv0PjsFR6U/U/dgNoMFVR0D8eVy+ua0cIQDcTw/SoXeg/4UBdcG6b1j9OAKlFf5EHQOCex776vPm/ZG5WBLviAsCHS/hDo1UFwA/9pzI4EhJAX4r1nt3E7L+MgWX4L/brv3H/A5TD5+S/02WgD+vu6z+yvU1armeSP9iLsHoTbtY/ruQvos3R4z/evXUuekoAQFvDFglj9eS/R7EwCQEV1j+coQUFVIfwP3F9eWSIof+/odtGb+Bc4j+IaRwCJY3OP8y7VHLNIfA/nJBDBJxZB0B3Ut1NTpEBQN9a7N5kNfM/0bfkQKiUyj9TnskLVkLlv7avFiFlzgLANcvn3T68CUDlCBEtis4GwGGzgymXmu4/PcfoFAkoDUC7/VwqvrnwvzQOknbwufG/MV9qr3sG7D+wMxzirhvAvwpXy6odEfm/+jP5/Lc5BUBghYsGIJMAQCTpZv/c8fk/NCe9X28sB8BHGndKNov6v8vRBEBYwfw/abUWO1uw/b/hQCpK1+AHQAo26uHHogZAOdu1e7u49z8XFd5fAg8QQA7Ab6wxN5u/OK5N5Xw/wj+2V8bRuJILQDmLQe0OKglAtB8644GjBkDT0GiWrybWv7bqpbk5Ccw/0b90g5O09r8F8wR6Yozjv0w2eJVHKgRAFuZhK6x50r+SsQbVetjYvwYi/Jkm4eg/M1eGI8cd+r//V133ir4JQBCiX35a2QNAmjq3yvFM6L8uyCFR507xPyYEtv93SwFA8GjX2qpYB0AWXMCEc5gMQJb7mkfw/82/MHmiRbwW+T8/8jBvXMLKP+7qWqVVetg/M06XAS62B0DsXbpcjukDwA1ICvMuf/6/sm85Ziiy+b/lgt1+NfvCP3ViCAlTQPM/GbhfKayY1z+O7XB+8BgFQFakuCdqV/m/D34zmj0ZEECxZeVhenPcvyIJmUyBJPY/jw7JkegMAECFlj8GlO3ivxka13WF58S/lzq/Wlys6T/IcpUXxBblP9htTZOljRRA51PXuBXU8r/wDPhxxMT0vyY/Om0Q7xxA9+32FH0X+z+1Fkprr2kAwHzqUMtZ6eM/I1Jyel3SA8C3f5kmghDZv1CngUt93/Y/oYe4ENgmwT+9QIXlSQixv1WKnkV6NAnATxStSFSrC0DVOcsuO+HLP43SK6tMs9a/TmBoB3zmD0BgUyLvlifzPwV6jAAqick/+wrXkAy/BUD59aAz37bhv2zPVNOGSf4/jjAHZKjx9L9WnNGJW63zP83R78i1OgDA2Y7ImQlF4z+pfGBgTeHPP79EYCTOQMs/gHqqqYBNq78VpSdji6voP1+eb4eqqew/s1JjZTvI/j/CCufhwGAQQH6pIlzhXAdA6wOqBU/s0r9fcNiLZ7ABQLz/xkrpYAbAQF8OhJ5r9T8DzvCndunZP3EZ+GCbl9U/aXLwIVqd+j9CV5OCQVcQQHS+zq7pBfm/tM2iZZhL77+MMBJRgZv6P7vX4+JgSvO/+TaKm0xB/z+QGXXQefPEv+ccX1nZYQhAMxeZXBXL4D9vmc6AIEH+v9ryeUlPzuG/ohyCdtiS9z9HrT890TvWv/WPoXhi9vA/zZxAPWmz8b8zWxBnOpPrP1orooJdKaE/SphOw2pqAcAoWnVrFgXtP2EmjPcyZxVA0/eg6jylA8B0RQ0HD9jjP38rh219C+m/3/DQkY8zAkAq4Fhwhw3xv2gD6sSjqA5Ah3HZdwbe7D/tFu+Kfbv1PwsjR7+PL/K/sQo6Xn3h9z+fbVjrOV3wv1Yg1+bzDwDAIPUl21Cq/D9Uj9afMc60vz8RSftnftw/b8hyWXd/yj8QHhv0KtIDwDCQN2+e+tM/z6b7oe5a47+Cub2C72YIwHUIyelRK9U/ezJWr9AH3D+22UOC0qvxvwLkCc3w6O2/8WIHA1bp9L+iMSMTZPjzv5/+rCyoWNw/u2P6wrbzCkDq+bX0D3DgP2ZbsGR5qgVAn7oQU20T5r8h5Wt27BUSQFgW0Y6pj+i/1B1uyckH+j8qYdLZ/UICwPOLQWzefQNACR3qPuxo9r9cn2KA8mP/v3O6DJGVW+q/PsLud15eDUD5HnfiZIn/P5w46bpIWPA/nChtqKkg8T87fdTy6BnmP6IE63N+n9G/gLR0MLKnEECfJXhtkCTSvy00H6f3SvO/GolG2Zubz79h2JPYKJ+pP7mpTsNKSPK/Hk5yPomE1j/6tgdXxCf3vwYbv+gQLQJAZh244rZb/r84dBIlWWD4v9ufyiPixvG/+CE46jZ+5b+9ql/GrSkDwLOsuwrV6t2/vk8ehSPx0z+xQKwRFYWqP8AvWjsFX+W/u6D4VWIeGEBBd39mwU4AwCREWwKZAsO/Z/IHqczC1D9TukXcavSXPwtSsZ3BUfM/WpOyT8NG/79MMFxlq9INQHT0wAc1FfK/v8Pjt7F82D+gy6mwveAFQGTUYhGvFxNAcdaJzTySC0CGZdl+xzD2v7Pv0lo9cdk//kFO2j689L+WOYXAbEj9P941dscDeQhAq+UrBlBVy79D2cVu7hG7v51euwfLAOO/+eT5lXMs8z8t6G/QTwvwv8lk4ccjFBNAiJKR0XK3ub+cY6LxX4zyvxiDqXh4Nvu/qEgnBQ9Z5L8T6iKZ1Lbwvx9DlwiBEAHAhaMpcBnP8L8IaLkJVa8BQM1u68oZEPw/tYzm0wTN2j/CzCHO4bTzP6SC1dDxMQjArXaxZI+S97/o48Qscx3qP1Ksv9HKOPO//B/8X0zZ7j/MF5xFEtT4v4pOTd0bDvu/I7dK2E8y5L/X2uGf9QgFwN9yKL5Y0xRAZ7DQcF5F4D8QO+4lErDDPwLOBUU4wrQ/jx/q6iFU0D9xYK3zy2vaP3QDeQXIff4/lj4l0OfJ7T+SkWP4O3/5v3yX6Kk8HPE/eqjtOunr8b9cf0ve6SfpvxTvg0nF6AdAlU7CUNqXA0DECOZmVwb5v8HwYc5gGtO/iDi5Sdju679QlkRMvZvyvx37cKeTLQPAfsQp+yl9y78JW79TtMPtPyLOR4cWEARAc7drWS4lAMDwhh9KPpAEQH7HOlFiTss/3QANHgj47D9Ljaq7+hYBwLFXyPwfrwNAGvz1YCnl+r/t+K+8vXziv8BQktlWovY/mdHgtHNM9r81FQU1x6fwv4LrGIobhQhAdZMGpnXH5b8CV21qEifsvzIjzyROiBBAz9w/yAXC6j/TdprCjL0KQA9XEsr9AfM/shgPH2NfAkDzEH/zosRqv+8V7QuDcQBA7P8T7W8EAkDXuttLvXP3v9kiTui7I+o/l3d3WME53r9T4F3C7n/iv6WhtQCTNtO/k/B0IVpZ9b9NTLxJCKv3v11KnnKAy/Y/DWymXOrfDUAb8YLb8BARQCcaH6zFA+S/gm3uR5Ic/D/amMIeVqn6PyhwnsMV/gZAvqj2lAu2CkBq4TR6H8u6P+jUMqT5fwZAzcO2Ig4757/5RXD8OEf4v8d4Q9qX8v0/heXeOcIGyL87Co9fzSrxP7H/6YYOd/C/t49FoMpdAUBD2+U9QtDev5MeAZsDIAHA+6ZTfnSO2z/h37Yfa5MDQN3RMRBkrsI/BaoFRwLAEUCfyomYY9bnP7xV2KMMOQnAzFz69tDM7j+1C6hmoVkDwCAwdw43ZwVAhbZkeQzWyT9ISeY+Z0rxPy2H0Bx+rvS/wBxLUzof4T8Sib/gfFQAwEilRcGeiwVAeLsHBdaP6D+aDFckEccHQEh56FLzXwHAyGXzPpxN8L/HRSjoN2XYPyvF7AK5wtk/A7zXHGLxAkAz1qzmzzT0P5/x8mTF1to/DGXpmiBL5j8DTZzQikLFv1hpMGC549y/GYcn4Jzy5z/ZAHlmzhfZv8rYSh/yeRZAn7tMsX9Y47/QCNyehMYMQCSAurET0wbA3zrPkQ0o2z+RI3Wdt84QQODge154qq2/Nw6+7O3097+Y0RkLYKPlP3EdUcdxZcG/m6Q1qKbQAMBpOdYSFHHivw==",
          "dtype": "f8"
         },
         "y": {
          "bdata": "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",
          "dtype": "f8"
         }
        },
        {
         "marker": {
          "color": "#DB6F7A"
         },
         "mode": "markers",
         "name": "Não Consumidas",
         "type": "scatter",
         "x": {
          "bdata": "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",
          "dtype": "f8"
         },
         "y": {
          "bdata": "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",
          "dtype": "f8"
         }
        }
       ],
       "layout": {
        "legend": {
         "orientation": "h",
         "x": 0.5,
         "xanchor": "center",
         "y": -0.1,
         "yanchor": "top"
        },
        "template": {
         "data": {
          "bar": [
           {
            "error_x": {
             "color": "#2a3f5f"
            },
            "error_y": {
             "color": "#2a3f5f"
            },
            "marker": {
             "line": {
              "color": "#E5ECF6",
              "width": 0.5
             },
             "pattern": {
              "fillmode": "overlay",
              "size": 10,
              "solidity": 0.2
             }
            },
            "type": "bar"
           }
          ],
          "barpolar": [
           {
            "marker": {
             "line": {
              "color": "#E5ECF6",
              "width": 0.5
             },
             "pattern": {
              "fillmode": "overlay",
              "size": 10,
              "solidity": 0.2
             }
            },
            "type": "barpolar"
           }
          ],
          "carpet": [
           {
            "aaxis": {
             "endlinecolor": "#2a3f5f",
             "gridcolor": "white",
             "linecolor": "white",
             "minorgridcolor": "white",
             "startlinecolor": "#2a3f5f"
            },
            "baxis": {
             "endlinecolor": "#2a3f5f",
             "gridcolor": "white",
             "linecolor": "white",
             "minorgridcolor": "white",
             "startlinecolor": "#2a3f5f"
            },
            "type": "carpet"
           }
          ],
          "choropleth": [
           {
            "colorbar": {
             "outlinewidth": 0,
             "ticks": ""
            },
            "type": "choropleth"
           }
          ],
          "contour": [
           {
            "colorbar": {
             "outlinewidth": 0,
             "ticks": ""
            },
            "colorscale": [
             [
              0,
              "#0d0887"
             ],
             [
              0.1111111111111111,
              "#46039f"
             ],
             [
              0.2222222222222222,
              "#7201a8"
             ],
             [
              0.3333333333333333,
              "#9c179e"
             ],
             [
              0.4444444444444444,
              "#bd3786"
             ],
             [
              0.5555555555555556,
              "#d8576b"
             ],
             [
              0.6666666666666666,
              "#ed7953"
             ],
             [
              0.7777777777777778,
              "#fb9f3a"
             ],
             [
              0.8888888888888888,
              "#fdca26"
             ],
             [
              1,
              "#f0f921"
             ]
            ],
            "type": "contour"
           }
          ],
          "contourcarpet": [
           {
            "colorbar": {
             "outlinewidth": 0,
             "ticks": ""
            },
            "type": "contourcarpet"
           }
          ],
          "heatmap": [
           {
            "colorbar": {
             "outlinewidth": 0,
             "ticks": ""
            },
            "colorscale": [
             [
              0,
              "#0d0887"
             ],
             [
              0.1111111111111111,
              "#46039f"
             ],
             [
              0.2222222222222222,
              "#7201a8"
             ],
             [
              0.3333333333333333,
              "#9c179e"
             ],
             [
              0.4444444444444444,
              "#bd3786"
             ],
             [
              0.5555555555555556,
              "#d8576b"
             ],
             [
              0.6666666666666666,
              "#ed7953"
             ],
             [
              0.7777777777777778,
              "#fb9f3a"
             ],
             [
              0.8888888888888888,
              "#fdca26"
             ],
             [
              1,
              "#f0f921"
             ]
            ],
            "type": "heatmap"
           }
          ],
          "histogram": [
           {
            "marker": {
             "pattern": {
              "fillmode": "overlay",
              "size": 10,
              "solidity": 0.2
             }
            },
            "type": "histogram"
           }
          ],
          "histogram2d": [
           {
            "colorbar": {
             "outlinewidth": 0,
             "ticks": ""
            },
            "colorscale": [
             [
              0,
              "#0d0887"
             ],
             [
              0.1111111111111111,
              "#46039f"
             ],
             [
              0.2222222222222222,
              "#7201a8"
             ],
             [
              0.3333333333333333,
              "#9c179e"
             ],
             [
              0.4444444444444444,
              "#bd3786"
             ],
             [
              0.5555555555555556,
              "#d8576b"
             ],
             [
              0.6666666666666666,
              "#ed7953"
             ],
             [
              0.7777777777777778,
              "#fb9f3a"
             ],
             [
              0.8888888888888888,
              "#fdca26"
             ],
             [
              1,
              "#f0f921"
             ]
            ],
            "type": "histogram2d"
           }
          ],
          "histogram2dcontour": [
           {
            "colorbar": {
             "outlinewidth": 0,
             "ticks": ""
            },
            "colorscale": [
             [
              0,
              "#0d0887"
             ],
             [
              0.1111111111111111,
              "#46039f"
             ],
             [
              0.2222222222222222,
              "#7201a8"
             ],
             [
              0.3333333333333333,
              "#9c179e"
             ],
             [
              0.4444444444444444,
              "#bd3786"
             ],
             [
              0.5555555555555556,
              "#d8576b"
             ],
             [
              0.6666666666666666,
              "#ed7953"
             ],
             [
              0.7777777777777778,
              "#fb9f3a"
             ],
             [
              0.8888888888888888,
              "#fdca26"
             ],
             [
              1,
              "#f0f921"
             ]
            ],
            "type": "histogram2dcontour"
           }
          ],
          "mesh3d": [
           {
            "colorbar": {
             "outlinewidth": 0,
             "ticks": ""
            },
            "type": "mesh3d"
           }
          ],
          "parcoords": [
           {
            "line": {
             "colorbar": {
              "outlinewidth": 0,
              "ticks": ""
             }
            },
            "type": "parcoords"
           }
          ],
          "pie": [
           {
            "automargin": true,
            "type": "pie"
           }
          ],
          "scatter": [
           {
            "fillpattern": {
             "fillmode": "overlay",
             "size": 10,
             "solidity": 0.2
            },
            "type": "scatter"
           }
          ],
          "scatter3d": [
           {
            "line": {
             "colorbar": {
              "outlinewidth": 0,
              "ticks": ""
             }
            },
            "marker": {
             "colorbar": {
              "outlinewidth": 0,
              "ticks": ""
             }
            },
            "type": "scatter3d"
           }
          ],
          "scattercarpet": [
           {
            "marker": {
             "colorbar": {
              "outlinewidth": 0,
              "ticks": ""
             }
            },
            "type": "scattercarpet"
           }
          ],
          "scattergeo": [
           {
            "marker": {
             "colorbar": {
              "outlinewidth": 0,
              "ticks": ""
             }
            },
            "type": "scattergeo"
           }
          ],
          "scattergl": [
           {
            "marker": {
             "colorbar": {
              "outlinewidth": 0,
              "ticks": ""
             }
            },
            "type": "scattergl"
           }
          ],
          "scattermap": [
           {
            "marker": {
             "colorbar": {
              "outlinewidth": 0,
              "ticks": ""
             }
            },
            "type": "scattermap"
           }
          ],
          "scattermapbox": [
           {
            "marker": {
             "colorbar": {
              "outlinewidth": 0,
              "ticks": ""
             }
            },
            "type": "scattermapbox"
           }
          ],
          "scatterpolar": [
           {
            "marker": {
             "colorbar": {
              "outlinewidth": 0,
              "ticks": ""
             }
            },
            "type": "scatterpolar"
           }
          ],
          "scatterpolargl": [
           {
            "marker": {
             "colorbar": {
              "outlinewidth": 0,
              "ticks": ""
             }
            },
            "type": "scatterpolargl"
           }
          ],
          "scatterternary": [
           {
            "marker": {
             "colorbar": {
              "outlinewidth": 0,
              "ticks": ""
             }
            },
            "type": "scatterternary"
           }
          ],
          "surface": [
           {
            "colorbar": {
             "outlinewidth": 0,
             "ticks": ""
            },
            "colorscale": [
             [
              0,
              "#0d0887"
             ],
             [
              0.1111111111111111,
              "#46039f"
             ],
             [
              0.2222222222222222,
              "#7201a8"
             ],
             [
              0.3333333333333333,
              "#9c179e"
             ],
             [
              0.4444444444444444,
              "#bd3786"
             ],
             [
              0.5555555555555556,
              "#d8576b"
             ],
             [
              0.6666666666666666,
              "#ed7953"
             ],
             [
              0.7777777777777778,
              "#fb9f3a"
             ],
             [
              0.8888888888888888,
              "#fdca26"
             ],
             [
              1,
              "#f0f921"
             ]
            ],
            "type": "surface"
           }
          ],
          "table": [
           {
            "cells": {
             "fill": {
              "color": "#EBF0F8"
             },
             "line": {
              "color": "white"
             }
            },
            "header": {
             "fill": {
              "color": "#C8D4E3"
             },
             "line": {
              "color": "white"
             }
            },
            "type": "table"
           }
          ]
         },
         "layout": {
          "annotationdefaults": {
           "arrowcolor": "#2a3f5f",
           "arrowhead": 0,
           "arrowwidth": 1
          },
          "autotypenumbers": "strict",
          "coloraxis": {
           "colorbar": {
            "outlinewidth": 0,
            "ticks": ""
           }
          },
          "colorscale": {
           "diverging": [
            [
             0,
             "#8e0152"
            ],
            [
             0.1,
             "#c51b7d"
            ],
            [
             0.2,
             "#de77ae"
            ],
            [
             0.3,
             "#f1b6da"
            ],
            [
             0.4,
             "#fde0ef"
            ],
            [
             0.5,
             "#f7f7f7"
            ],
            [
             0.6,
             "#e6f5d0"
            ],
            [
             0.7,
             "#b8e186"
            ],
            [
             0.8,
             "#7fbc41"
            ],
            [
             0.9,
             "#4d9221"
            ],
            [
             1,
             "#276419"
            ]
           ],
           "sequential": [
            [
             0,
             "#0d0887"
            ],
            [
             0.1111111111111111,
             "#46039f"
            ],
            [
             0.2222222222222222,
             "#7201a8"
            ],
            [
             0.3333333333333333,
             "#9c179e"
            ],
            [
             0.4444444444444444,
             "#bd3786"
            ],
            [
             0.5555555555555556,
             "#d8576b"
            ],
            [
             0.6666666666666666,
             "#ed7953"
            ],
            [
             0.7777777777777778,
             "#fb9f3a"
            ],
            [
             0.8888888888888888,
             "#fdca26"
            ],
            [
             1,
             "#f0f921"
            ]
           ],
           "sequentialminus": [
            [
             0,
             "#0d0887"
            ],
            [
             0.1111111111111111,
             "#46039f"
            ],
            [
             0.2222222222222222,
             "#7201a8"
            ],
            [
             0.3333333333333333,
             "#9c179e"
            ],
            [
             0.4444444444444444,
             "#bd3786"
            ],
            [
             0.5555555555555556,
             "#d8576b"
            ],
            [
             0.6666666666666666,
             "#ed7953"
            ],
            [
             0.7777777777777778,
             "#fb9f3a"
            ],
            [
             0.8888888888888888,
             "#fdca26"
            ],
            [
             1,
             "#f0f921"
            ]
           ]
          },
          "colorway": [
           "#636efa",
           "#EF553B",
           "#00cc96",
           "#ab63fa",
           "#FFA15A",
           "#19d3f3",
           "#FF6692",
           "#B6E880",
           "#FF97FF",
           "#FECB52"
          ],
          "font": {
           "color": "#2a3f5f"
          },
          "geo": {
           "bgcolor": "white",
           "lakecolor": "white",
           "landcolor": "#E5ECF6",
           "showlakes": true,
           "showland": true,
           "subunitcolor": "white"
          },
          "hoverlabel": {
           "align": "left"
          },
          "hovermode": "closest",
          "mapbox": {
           "style": "light"
          },
          "paper_bgcolor": "white",
          "plot_bgcolor": "#E5ECF6",
          "polar": {
           "angularaxis": {
            "gridcolor": "white",
            "linecolor": "white",
            "ticks": ""
           },
           "bgcolor": "#E5ECF6",
           "radialaxis": {
            "gridcolor": "white",
            "linecolor": "white",
            "ticks": ""
           }
          },
          "scene": {
           "xaxis": {
            "backgroundcolor": "#E5ECF6",
            "gridcolor": "white",
            "gridwidth": 2,
            "linecolor": "white",
            "showbackground": true,
            "ticks": "",
            "zerolinecolor": "white"
           },
           "yaxis": {
            "backgroundcolor": "#E5ECF6",
            "gridcolor": "white",
            "gridwidth": 2,
            "linecolor": "white",
            "showbackground": true,
            "ticks": "",
            "zerolinecolor": "white"
           },
           "zaxis": {
            "backgroundcolor": "#E5ECF6",
            "gridcolor": "white",
            "gridwidth": 2,
            "linecolor": "white",
            "showbackground": true,
            "ticks": "",
            "zerolinecolor": "white"
           }
          },
          "shapedefaults": {
           "line": {
            "color": "#2a3f5f"
           }
          },
          "ternary": {
           "aaxis": {
            "gridcolor": "white",
            "linecolor": "white",
            "ticks": ""
           },
           "baxis": {
            "gridcolor": "white",
            "linecolor": "white",
            "ticks": ""
           },
           "bgcolor": "#E5ECF6",
           "caxis": {
            "gridcolor": "white",
            "linecolor": "white",
            "ticks": ""
           }
          },
          "title": {
           "x": 0.05
          },
          "xaxis": {
           "automargin": true,
           "gridcolor": "white",
           "linecolor": "white",
           "ticks": "",
           "title": {
            "standoff": 15
           },
           "zerolinecolor": "white",
           "zerolinewidth": 2
          },
          "yaxis": {
           "automargin": true,
           "gridcolor": "white",
           "linecolor": "white",
           "ticks": "",
           "title": {
            "standoff": 15
           },
           "zerolinecolor": "white",
           "zerolinewidth": 2
          }
         }
        },
        "title": {
         "text": "Dispersão de Ofertas Consumidas por Usuário",
         "x": 0.5,
         "xanchor": "center",
         "y": 0.85,
         "yanchor": "top"
        },
        "width": 700
       }
      }
     },
     "metadata": {},
     "output_type": "display_data"
    }
   ],
   "source": [
    "df_offer_events_s = df_offer_events[df_offer_events['offer_type'].isin(['bogo', 'discount'])]\n",
    "df_offer_events_s = df_offer_events_s[['account_id', 'offer_id', 'offer_type', 'received_time', 'offer_consumed']]\n",
    "\n",
    "df_offer_events_s = (\n",
    "    df_offer_events_s\n",
    "    .merge(\n",
    "        df_timeline, \n",
    "        left_on=['account_id', 'received_time'],\n",
    "        right_on=['account_id', 'time'],\n",
    "        how='left'\n",
    "    )\n",
    "    .merge(\n",
    "        df_profile, \n",
    "        on=['account_id'],\n",
    "        how='left'\n",
    "    )\n",
    ")\n",
    "\n",
    "df_offer_events_s = df_offer_events_s.drop(columns=['received_time'])\n",
    "df_offer_events_s = df_offer_events_s.drop_duplicates()\n",
    "df_offer_events_g = df_offer_events_s.groupby(['account_id', 'offer_id', 'time']).sum(numeric_only=True)\n",
    "df_offer_events_g = df_offer_events_g.reset_index().sort_values(['account_id', 'time'], ascending=False)\n",
    "df_offer_events_g['order'] = df_offer_events_g.groupby('account_id').cumcount() + 1\n",
    "df_offer_events_g = df_offer_events_g[df_offer_events_g['order'] == 1].drop(columns=['order'])\n",
    "df_offer_events_g = df_offer_events_g.set_index(['account_id', 'offer_id', 'time'])\n",
    "\n",
    "X = df_offer_events_g.drop(columns=['offer_consumed'])\n",
    "y = df_offer_events_g['offer_consumed']\n",
    "scaler = StandardScaler()\n",
    "X_scaled = scaler.fit_transform(X)\n",
    "X_scaled = pd.DataFrame(X_scaled, columns=X.columns)\n",
    "\n",
    "pca = PCA(n_components=2)\n",
    "X_pca = pca.fit_transform(X_scaled)\n",
    "X_scaled['pca1'] = X_pca[:, 0]\n",
    "X_scaled['pca2'] = X_pca[:, 1]\n",
    "X_scaled['offer_consumed'] = y.values\n",
    "\n",
    "X_scaled_0 = X_scaled[X_scaled['offer_consumed'] == 0]\n",
    "X_scaled_1 = X_scaled[X_scaled['offer_consumed'] == 1]\n",
    "\n",
    "fig = go.Figure([\n",
    "    go.Scatter(\n",
    "        x=X_scaled_1['pca1'],\n",
    "        y=X_scaled_1['pca2'],\n",
    "        marker_color='#667DF3',\n",
    "        mode='markers',\n",
    "        name='Consumidas'\n",
    "    ),\n",
    "    go.Scatter(\n",
    "        x=X_scaled_0['pca1'],\n",
    "        y=X_scaled_0['pca2'],\n",
    "        marker_color='#DB6F7A',\n",
    "        mode='markers',\n",
    "        name='Não Consumidas'\n",
    "    ),\n",
    "])\n",
    "\n",
    "fig.update_layout(\n",
    "    title={\n",
    "        'text': 'Dispersão de Ofertas Consumidas por Usuário',\n",
    "        'x': 0.5,\n",
    "        'y': 0.85,\n",
    "        'xanchor': 'center',\n",
    "        'yanchor': 'top'\n",
    "    },\n",
    "    legend=dict(x=0.5, xanchor='center', y=-0.1, yanchor='top', orientation='h'),\n",
    "    width=700\n",
    ")\n",
    "\n",
    "fig.show()"
   ]
  }
 ],
 "metadata": {
  "kernelspec": {
   "display_name": ".env",
   "language": "python",
   "name": "python3"
  },
  "language_info": {
   "codemirror_mode": {
    "name": "ipython",
    "version": 3
   },
   "file_extension": ".py",
   "mimetype": "text/x-python",
   "name": "python",
   "nbconvert_exporter": "python",
   "pygments_lexer": "ipython3",
   "version": "3.12.3"
  }
 },
 "nbformat": 4,
 "nbformat_minor": 5
}
