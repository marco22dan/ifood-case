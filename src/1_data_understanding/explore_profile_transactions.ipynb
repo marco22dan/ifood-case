{
 "cells": [
  {
   "cell_type": "code",
   "execution_count": 1,
   "id": "45ee841d",
   "metadata": {},
   "outputs": [],
   "source": [
    "import pandas as pd\n",
    "import numpy as np\n",
    "\n",
    "import warnings\n",
    "warnings.filterwarnings('ignore')"
   ]
  },
  {
   "cell_type": "code",
   "execution_count": 2,
   "id": "9ce07f3b",
   "metadata": {},
   "outputs": [],
   "source": [
    "BASE_PATH = '/home/marco/ifood-case'\n",
    "DATA_RAW_PATH = BASE_PATH + '/data/raw/'"
   ]
  },
  {
   "cell_type": "markdown",
   "id": "4b9373ba",
   "metadata": {},
   "source": [
    "# profile"
   ]
  },
  {
   "cell_type": "code",
   "execution_count": 3,
   "id": "a274cc04",
   "metadata": {},
   "outputs": [],
   "source": [
    "df_profile = pd.read_json(DATA_RAW_PATH + 'profile.json')\n",
    "\n",
    "df_profile['age'] = df_profile['age'].astype(int)\n",
    "df_profile = df_profile[df_profile['age'] <= 101]\n",
    "df_profile['registered_on'] = pd.to_datetime(df_profile['registered_on'], format='%Y%m%d')\n",
    "df_profile['gender'] = df_profile['gender'].str.upper().fillna('O')\n",
    "df_profile['id'] = df_profile['id'].str.strip()\n",
    "df_profile['credit_card_limit'] = df_profile['credit_card_limit'].astype(float)\n",
    "df_profile = df_profile.rename(columns={'id': 'account_id'})"
   ]
  },
  {
   "cell_type": "markdown",
   "id": "b4d7cc10",
   "metadata": {},
   "source": [
    "# offers"
   ]
  },
  {
   "cell_type": "code",
   "execution_count": 4,
   "id": "fa57d2c3",
   "metadata": {},
   "outputs": [],
   "source": [
    "df_offers = pd.read_json(DATA_RAW_PATH + 'offers.json')\n",
    "\n",
    "df_offers['min_value'] = df_offers['min_value'].astype(float)\n",
    "df_offers['duration'] = df_offers['duration'].astype(int)\n",
    "df_offers['id'] = df_offers['id'].str.strip()\n",
    "df_offers['discount_value'] = df_offers['discount_value'].astype(float)\n",
    "\n",
    "df_offers = df_offers.rename(columns={'id': 'offer_id'})"
   ]
  },
  {
   "cell_type": "markdown",
   "id": "84abec34",
   "metadata": {},
   "source": [
    "# transactions"
   ]
  },
  {
   "cell_type": "code",
   "execution_count": 5,
   "id": "ad4de5eb",
   "metadata": {},
   "outputs": [],
   "source": [
    "df_transactions = pd.read_json(DATA_RAW_PATH + 'transactions.json')\n",
    "\n",
    "df_transactions['account_id'] = df_transactions['account_id'].str.strip()\n",
    "df_transactions['time_since_test_start'] = df_transactions['time_since_test_start'].astype(float)\n",
    "\n",
    "value_expanded = df_transactions['value'].apply(pd.Series)\n",
    "df_transactions_s = pd.concat([df_transactions.drop(columns='value'), value_expanded], axis=1)"
   ]
  },
  {
   "cell_type": "code",
   "execution_count": 6,
   "id": "b8a8e1d1",
   "metadata": {},
   "outputs": [],
   "source": [
    "df_transaction = df_transactions_s[df_transactions_s['event'] == 'transaction']\n",
    "df_offer_received = df_transactions_s[df_transactions_s['event'] == 'offer received']\n",
    "df_offer_viewed = df_transactions_s[df_transactions_s['event'] == 'offer viewed']\n",
    "df_offer_completed = df_transactions_s[df_transactions_s['event'] == 'offer completed']\n",
    "\n",
    "df_transaction = df_transaction[['account_id', 'amount', 'time_since_test_start']]\n",
    "df_offer_received = df_offer_received[['account_id', 'offer id', 'time_since_test_start']]\n",
    "df_offer_viewed = df_offer_viewed[['account_id', 'offer id', 'time_since_test_start']]\n",
    "df_offer_completed = df_offer_completed[['account_id', 'offer_id', 'reward', 'time_since_test_start']]\n",
    "\n",
    "df_offer_received = df_offer_received.rename(columns={'offer id': 'offer_id'})\n",
    "df_offer_viewed = df_offer_viewed.rename(columns={'offer id': 'offer_id'})"
   ]
  },
  {
   "cell_type": "code",
   "execution_count": 7,
   "id": "4db82439",
   "metadata": {},
   "outputs": [
    {
     "data": {
      "text/html": [
       "<div>\n",
       "<style scoped>\n",
       "    .dataframe tbody tr th:only-of-type {\n",
       "        vertical-align: middle;\n",
       "    }\n",
       "\n",
       "    .dataframe tbody tr th {\n",
       "        vertical-align: top;\n",
       "    }\n",
       "\n",
       "    .dataframe thead th {\n",
       "        text-align: right;\n",
       "    }\n",
       "</style>\n",
       "<table border=\"1\" class=\"dataframe\">\n",
       "  <thead>\n",
       "    <tr style=\"text-align: right;\">\n",
       "      <th></th>\n",
       "      <th>account_id</th>\n",
       "      <th>amount</th>\n",
       "      <th>time_since_test_start</th>\n",
       "    </tr>\n",
       "  </thead>\n",
       "  <tbody>\n",
       "    <tr>\n",
       "      <th>12654</th>\n",
       "      <td>02c083884c7d45b39cc68e1314fec56c</td>\n",
       "      <td>0.83</td>\n",
       "      <td>0.00</td>\n",
       "    </tr>\n",
       "    <tr>\n",
       "      <th>12657</th>\n",
       "      <td>9fa9ae8f57894cc9a3b8a9bbe0fc1b2f</td>\n",
       "      <td>34.56</td>\n",
       "      <td>0.00</td>\n",
       "    </tr>\n",
       "    <tr>\n",
       "      <th>12659</th>\n",
       "      <td>54890f68699049c2a04d415abc25e717</td>\n",
       "      <td>13.23</td>\n",
       "      <td>0.00</td>\n",
       "    </tr>\n",
       "    <tr>\n",
       "      <th>12670</th>\n",
       "      <td>b2f1cd155b864803ad8334cdf13c4bd2</td>\n",
       "      <td>19.51</td>\n",
       "      <td>0.00</td>\n",
       "    </tr>\n",
       "    <tr>\n",
       "      <th>12671</th>\n",
       "      <td>fe97aa22dd3e48c8b143116a8403dd52</td>\n",
       "      <td>18.97</td>\n",
       "      <td>0.00</td>\n",
       "    </tr>\n",
       "    <tr>\n",
       "      <th>...</th>\n",
       "      <td>...</td>\n",
       "      <td>...</td>\n",
       "      <td>...</td>\n",
       "    </tr>\n",
       "    <tr>\n",
       "      <th>306529</th>\n",
       "      <td>b3a1272bc9904337b331bf348c3e8c17</td>\n",
       "      <td>1.59</td>\n",
       "      <td>29.75</td>\n",
       "    </tr>\n",
       "    <tr>\n",
       "      <th>306530</th>\n",
       "      <td>68213b08d99a4ae1b0dcb72aebd9aa35</td>\n",
       "      <td>9.53</td>\n",
       "      <td>29.75</td>\n",
       "    </tr>\n",
       "    <tr>\n",
       "      <th>306531</th>\n",
       "      <td>a00058cf10334a308c68e7631c529907</td>\n",
       "      <td>3.61</td>\n",
       "      <td>29.75</td>\n",
       "    </tr>\n",
       "    <tr>\n",
       "      <th>306532</th>\n",
       "      <td>76ddbd6576844afe811f1a3c0fbb5bec</td>\n",
       "      <td>3.53</td>\n",
       "      <td>29.75</td>\n",
       "    </tr>\n",
       "    <tr>\n",
       "      <th>306533</th>\n",
       "      <td>c02b10e8752c4d8e9b73f918558531f7</td>\n",
       "      <td>4.05</td>\n",
       "      <td>29.75</td>\n",
       "    </tr>\n",
       "  </tbody>\n",
       "</table>\n",
       "<p>138953 rows × 3 columns</p>\n",
       "</div>"
      ],
      "text/plain": [
       "                              account_id  amount  time_since_test_start\n",
       "12654   02c083884c7d45b39cc68e1314fec56c    0.83                   0.00\n",
       "12657   9fa9ae8f57894cc9a3b8a9bbe0fc1b2f   34.56                   0.00\n",
       "12659   54890f68699049c2a04d415abc25e717   13.23                   0.00\n",
       "12670   b2f1cd155b864803ad8334cdf13c4bd2   19.51                   0.00\n",
       "12671   fe97aa22dd3e48c8b143116a8403dd52   18.97                   0.00\n",
       "...                                  ...     ...                    ...\n",
       "306529  b3a1272bc9904337b331bf348c3e8c17    1.59                  29.75\n",
       "306530  68213b08d99a4ae1b0dcb72aebd9aa35    9.53                  29.75\n",
       "306531  a00058cf10334a308c68e7631c529907    3.61                  29.75\n",
       "306532  76ddbd6576844afe811f1a3c0fbb5bec    3.53                  29.75\n",
       "306533  c02b10e8752c4d8e9b73f918558531f7    4.05                  29.75\n",
       "\n",
       "[138953 rows x 3 columns]"
      ]
     },
     "execution_count": 7,
     "metadata": {},
     "output_type": "execute_result"
    }
   ],
   "source": [
    "df_transaction"
   ]
  },
  {
   "cell_type": "markdown",
   "id": "d6d8877f",
   "metadata": {},
   "source": [
    "# Sample profile"
   ]
  },
  {
   "cell_type": "code",
   "execution_count": 8,
   "id": "da4dd5eb",
   "metadata": {},
   "outputs": [],
   "source": [
    "profile_id_s = '0610b486422d4921ae7d2bf64640c50b'"
   ]
  },
  {
   "cell_type": "markdown",
   "id": "883c3a36",
   "metadata": {},
   "source": [
    "## Filters"
   ]
  },
  {
   "cell_type": "code",
   "execution_count": 9,
   "id": "312a227d",
   "metadata": {},
   "outputs": [
    {
     "data": {
      "text/html": [
       "<div>\n",
       "<style scoped>\n",
       "    .dataframe tbody tr th:only-of-type {\n",
       "        vertical-align: middle;\n",
       "    }\n",
       "\n",
       "    .dataframe tbody tr th {\n",
       "        vertical-align: top;\n",
       "    }\n",
       "\n",
       "    .dataframe thead th {\n",
       "        text-align: right;\n",
       "    }\n",
       "</style>\n",
       "<table border=\"1\" class=\"dataframe\">\n",
       "  <thead>\n",
       "    <tr style=\"text-align: right;\">\n",
       "      <th></th>\n",
       "      <th>age</th>\n",
       "      <th>registered_on</th>\n",
       "      <th>gender</th>\n",
       "      <th>account_id</th>\n",
       "      <th>credit_card_limit</th>\n",
       "    </tr>\n",
       "  </thead>\n",
       "  <tbody>\n",
       "    <tr>\n",
       "      <th>1</th>\n",
       "      <td>55</td>\n",
       "      <td>2017-07-15</td>\n",
       "      <td>F</td>\n",
       "      <td>0610b486422d4921ae7d2bf64640c50b</td>\n",
       "      <td>112000.0</td>\n",
       "    </tr>\n",
       "  </tbody>\n",
       "</table>\n",
       "</div>"
      ],
      "text/plain": [
       "   age registered_on gender                        account_id  \\\n",
       "1   55    2017-07-15      F  0610b486422d4921ae7d2bf64640c50b   \n",
       "\n",
       "   credit_card_limit  \n",
       "1           112000.0  "
      ]
     },
     "execution_count": 9,
     "metadata": {},
     "output_type": "execute_result"
    }
   ],
   "source": [
    "df_profile_s = df_profile[df_profile['account_id'] == profile_id_s]\n",
    "df_profile_s"
   ]
  },
  {
   "cell_type": "code",
   "execution_count": 10,
   "id": "30cf39a3",
   "metadata": {},
   "outputs": [
    {
     "data": {
      "text/html": [
       "<div>\n",
       "<style scoped>\n",
       "    .dataframe tbody tr th:only-of-type {\n",
       "        vertical-align: middle;\n",
       "    }\n",
       "\n",
       "    .dataframe tbody tr th {\n",
       "        vertical-align: top;\n",
       "    }\n",
       "\n",
       "    .dataframe thead th {\n",
       "        text-align: right;\n",
       "    }\n",
       "</style>\n",
       "<table border=\"1\" class=\"dataframe\">\n",
       "  <thead>\n",
       "    <tr style=\"text-align: right;\">\n",
       "      <th></th>\n",
       "      <th>account_id</th>\n",
       "      <th>total_ammount</th>\n",
       "    </tr>\n",
       "  </thead>\n",
       "  <tbody>\n",
       "    <tr>\n",
       "      <th>0</th>\n",
       "      <td>0610b486422d4921ae7d2bf64640c50b</td>\n",
       "      <td>77.01</td>\n",
       "    </tr>\n",
       "  </tbody>\n",
       "</table>\n",
       "</div>"
      ],
      "text/plain": [
       "                         account_id  total_ammount\n",
       "0  0610b486422d4921ae7d2bf64640c50b          77.01"
      ]
     },
     "execution_count": 10,
     "metadata": {},
     "output_type": "execute_result"
    }
   ],
   "source": [
    "df_transaction_s = df_transaction[df_transaction['account_id'] == profile_id_s]\n",
    "df_transaction_g = df_transaction_s.groupby('account_id')['amount'].sum()\n",
    "df_transaction_g = df_transaction_g.reset_index(name='total_ammount')\n",
    "df_transaction_g"
   ]
  },
  {
   "cell_type": "code",
   "execution_count": 11,
   "id": "23cd6bf6",
   "metadata": {},
   "outputs": [
    {
     "data": {
      "text/html": [
       "<div>\n",
       "<style scoped>\n",
       "    .dataframe tbody tr th:only-of-type {\n",
       "        vertical-align: middle;\n",
       "    }\n",
       "\n",
       "    .dataframe tbody tr th {\n",
       "        vertical-align: top;\n",
       "    }\n",
       "\n",
       "    .dataframe thead th {\n",
       "        text-align: right;\n",
       "    }\n",
       "</style>\n",
       "<table border=\"1\" class=\"dataframe\">\n",
       "  <thead>\n",
       "    <tr style=\"text-align: right;\">\n",
       "      <th></th>\n",
       "      <th>account_id</th>\n",
       "      <th>offers_received</th>\n",
       "    </tr>\n",
       "  </thead>\n",
       "  <tbody>\n",
       "    <tr>\n",
       "      <th>0</th>\n",
       "      <td>0610b486422d4921ae7d2bf64640c50b</td>\n",
       "      <td>2</td>\n",
       "    </tr>\n",
       "  </tbody>\n",
       "</table>\n",
       "</div>"
      ],
      "text/plain": [
       "                         account_id  offers_received\n",
       "0  0610b486422d4921ae7d2bf64640c50b                2"
      ]
     },
     "execution_count": 11,
     "metadata": {},
     "output_type": "execute_result"
    }
   ],
   "source": [
    "df_offer_received_s = df_offer_received[df_offer_received['account_id'] == profile_id_s]\n",
    "df_offer_received_g = df_offer_received_s.groupby('account_id')['offer_id'].count()\n",
    "df_offer_received_g = df_offer_received_g.reset_index(name='offers_received')\n",
    "df_offer_received_g"
   ]
  },
  {
   "cell_type": "code",
   "execution_count": 12,
   "id": "5cb6ddff",
   "metadata": {},
   "outputs": [
    {
     "data": {
      "text/html": [
       "<div>\n",
       "<style scoped>\n",
       "    .dataframe tbody tr th:only-of-type {\n",
       "        vertical-align: middle;\n",
       "    }\n",
       "\n",
       "    .dataframe tbody tr th {\n",
       "        vertical-align: top;\n",
       "    }\n",
       "\n",
       "    .dataframe thead th {\n",
       "        text-align: right;\n",
       "    }\n",
       "</style>\n",
       "<table border=\"1\" class=\"dataframe\">\n",
       "  <thead>\n",
       "    <tr style=\"text-align: right;\">\n",
       "      <th></th>\n",
       "      <th>account_id</th>\n",
       "      <th>offers_viwed</th>\n",
       "    </tr>\n",
       "  </thead>\n",
       "  <tbody>\n",
       "  </tbody>\n",
       "</table>\n",
       "</div>"
      ],
      "text/plain": [
       "Empty DataFrame\n",
       "Columns: [account_id, offers_viwed]\n",
       "Index: []"
      ]
     },
     "execution_count": 12,
     "metadata": {},
     "output_type": "execute_result"
    }
   ],
   "source": [
    "df_offer_viewed_s = df_offer_viewed[df_offer_viewed['account_id'] == profile_id_s]\n",
    "df_offer_viewed_g = df_offer_viewed_s.groupby('account_id')['offer_id'].count()\n",
    "df_offer_viewed_g = df_offer_viewed_g.reset_index(name='offers_viwed')\n",
    "df_offer_viewed_g"
   ]
  },
  {
   "cell_type": "code",
   "execution_count": 13,
   "id": "5287e73d",
   "metadata": {},
   "outputs": [
    {
     "data": {
      "text/html": [
       "<div>\n",
       "<style scoped>\n",
       "    .dataframe tbody tr th:only-of-type {\n",
       "        vertical-align: middle;\n",
       "    }\n",
       "\n",
       "    .dataframe tbody tr th {\n",
       "        vertical-align: top;\n",
       "    }\n",
       "\n",
       "    .dataframe thead th {\n",
       "        text-align: right;\n",
       "    }\n",
       "</style>\n",
       "<table border=\"1\" class=\"dataframe\">\n",
       "  <thead>\n",
       "    <tr style=\"text-align: right;\">\n",
       "      <th></th>\n",
       "      <th>account_id</th>\n",
       "      <th>offers_completed</th>\n",
       "    </tr>\n",
       "  </thead>\n",
       "  <tbody>\n",
       "    <tr>\n",
       "      <th>0</th>\n",
       "      <td>0610b486422d4921ae7d2bf64640c50b</td>\n",
       "      <td>1</td>\n",
       "    </tr>\n",
       "  </tbody>\n",
       "</table>\n",
       "</div>"
      ],
      "text/plain": [
       "                         account_id  offers_completed\n",
       "0  0610b486422d4921ae7d2bf64640c50b                 1"
      ]
     },
     "execution_count": 13,
     "metadata": {},
     "output_type": "execute_result"
    }
   ],
   "source": [
    "df_offer_completed_s = df_offer_completed[df_offer_completed['account_id'] == profile_id_s]\n",
    "df_offer_completed_g = df_offer_completed_s.groupby('account_id')['offer_id'].count()\n",
    "df_offer_completed_g = df_offer_completed_g.reset_index(name='offers_completed')\n",
    "df_offer_completed_g"
   ]
  },
  {
   "cell_type": "markdown",
   "id": "59365e7d",
   "metadata": {},
   "source": [
    "## Merge"
   ]
  },
  {
   "cell_type": "code",
   "execution_count": 14,
   "id": "0721c442",
   "metadata": {},
   "outputs": [
    {
     "data": {
      "text/html": [
       "<div>\n",
       "<style scoped>\n",
       "    .dataframe tbody tr th:only-of-type {\n",
       "        vertical-align: middle;\n",
       "    }\n",
       "\n",
       "    .dataframe tbody tr th {\n",
       "        vertical-align: top;\n",
       "    }\n",
       "\n",
       "    .dataframe thead th {\n",
       "        text-align: right;\n",
       "    }\n",
       "</style>\n",
       "<table border=\"1\" class=\"dataframe\">\n",
       "  <thead>\n",
       "    <tr style=\"text-align: right;\">\n",
       "      <th></th>\n",
       "      <th>age</th>\n",
       "      <th>registered_on</th>\n",
       "      <th>gender</th>\n",
       "      <th>account_id</th>\n",
       "      <th>credit_card_limit</th>\n",
       "      <th>total_ammount</th>\n",
       "      <th>offers_received</th>\n",
       "      <th>offers_viwed</th>\n",
       "      <th>offers_completed</th>\n",
       "    </tr>\n",
       "  </thead>\n",
       "  <tbody>\n",
       "    <tr>\n",
       "      <th>0</th>\n",
       "      <td>55</td>\n",
       "      <td>2017-07-15</td>\n",
       "      <td>F</td>\n",
       "      <td>0610b486422d4921ae7d2bf64640c50b</td>\n",
       "      <td>112000.0</td>\n",
       "      <td>77.01</td>\n",
       "      <td>2</td>\n",
       "      <td>0.0</td>\n",
       "      <td>1</td>\n",
       "    </tr>\n",
       "  </tbody>\n",
       "</table>\n",
       "</div>"
      ],
      "text/plain": [
       "   age registered_on gender                        account_id  \\\n",
       "0   55    2017-07-15      F  0610b486422d4921ae7d2bf64640c50b   \n",
       "\n",
       "   credit_card_limit  total_ammount  offers_received  offers_viwed  \\\n",
       "0           112000.0          77.01                2           0.0   \n",
       "\n",
       "   offers_completed  \n",
       "0                 1  "
      ]
     },
     "execution_count": 14,
     "metadata": {},
     "output_type": "execute_result"
    }
   ],
   "source": [
    "df_profile_m = (\n",
    "    df_profile_s\n",
    "    .merge(\n",
    "        df_transaction_g, \n",
    "        on=['account_id'], \n",
    "        how='left'\n",
    "    )\n",
    "    .merge(\n",
    "        df_offer_received_g, \n",
    "        on=['account_id'], \n",
    "        how='left'\n",
    "    )\n",
    "    .merge(\n",
    "        df_offer_viewed_g, \n",
    "        on=['account_id'], \n",
    "        how='left'\n",
    "    )\n",
    "    .merge(\n",
    "        df_offer_completed_g, \n",
    "        on=['account_id'], \n",
    "        how='left'\n",
    "    )\n",
    "    .fillna(0)\n",
    ")\n",
    "\n",
    "df_profile_m"
   ]
  }
 ],
 "metadata": {
  "kernelspec": {
   "display_name": ".env",
   "language": "python",
   "name": "python3"
  },
  "language_info": {
   "codemirror_mode": {
    "name": "ipython",
    "version": 3
   },
   "file_extension": ".py",
   "mimetype": "text/x-python",
   "name": "python",
   "nbconvert_exporter": "python",
   "pygments_lexer": "ipython3",
   "version": "3.12.3"
  }
 },
 "nbformat": 4,
 "nbformat_minor": 5
}
